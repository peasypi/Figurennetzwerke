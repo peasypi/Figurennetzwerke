{
 "cells": [
  {
   "cell_type": "markdown",
   "metadata": {},
   "source": [
    "# Sentiment Analyse mit TextBlob\n",
    "#### WAS KANN TextBlob ALLES?"
   ]
  },
  {
   "cell_type": "code",
   "execution_count": 1,
   "metadata": {},
   "outputs": [],
   "source": [
    "from textblob_de import TextBlobDE as TB"
   ]
  },
  {
   "cell_type": "code",
   "execution_count": 2,
   "metadata": {},
   "outputs": [],
   "source": [
    "text1 = '''Das ist alles wunderschön. Ich freue mich.''' "
   ]
  },
  {
   "cell_type": "code",
   "execution_count": 3,
   "metadata": {},
   "outputs": [],
   "source": [
    "text2 = '''Heute ist der 3. Mai 2014 und Dr. Meier feiert\\\n",
    "seinen 43. Geburtstag. Ich muss unbedingt daran denken, \\\n",
    "Mehl, usw. für einen Kuchen einzukaufen. Aber leider \\\n",
    "habe ich nur noch EUR 3,50 in meiner Brieftasche.'''"
   ]
  },
  {
   "cell_type": "code",
   "execution_count": 4,
   "metadata": {},
   "outputs": [],
   "source": [
    "text3 = '''Es ist so schlimm und so furchtbar. \\\n",
    "Es war alles so traurig und grässlich.'''"
   ]
  },
  {
   "cell_type": "code",
   "execution_count": 25,
   "metadata": {},
   "outputs": [],
   "source": [
    "blob1 = TB(text1)"
   ]
  },
  {
   "cell_type": "code",
   "execution_count": 15,
   "metadata": {},
   "outputs": [],
   "source": [
    "blob2 = TB(text2)"
   ]
  },
  {
   "cell_type": "code",
   "execution_count": 16,
   "metadata": {},
   "outputs": [],
   "source": [
    "blob3 = TB(text3)"
   ]
  },
  {
   "cell_type": "code",
   "execution_count": 137,
   "metadata": {},
   "outputs": [
    {
     "data": {
      "text/plain": [
       "TextBlobDE(\"That's all beautiful. I'm glad.\")"
      ]
     },
     "execution_count": 137,
     "metadata": {},
     "output_type": "execute_result"
    }
   ],
   "source": [
    "blob1.translate(to=\"en\")"
   ]
  },
  {
   "cell_type": "markdown",
   "metadata": {},
   "source": [
    "#### Ausgabe der einzelnen Sätze"
   ]
  },
  {
   "cell_type": "code",
   "execution_count": 26,
   "metadata": {},
   "outputs": [
    {
     "name": "stdout",
     "output_type": "stream",
     "text": [
      "[Sentence(\"Das ist alles wunderschön.\"), Sentence(\"Ich freue mich.\")]\n"
     ]
    }
   ],
   "source": [
    "print(blob1.sentences)"
   ]
  },
  {
   "cell_type": "code",
   "execution_count": 18,
   "metadata": {
    "scrolled": true
   },
   "outputs": [
    {
     "name": "stdout",
     "output_type": "stream",
     "text": [
      "[Sentence(\"Heute ist der 3. Mai 2014 und Dr. Meier feiert seinen 43. Geburtstag.\"), Sentence(\"Ich muss unbedingt daran denken, Mehl, usw. für einen Kuchen einzukaufen.\"), Sentence(\"Aber leider habe ich nur noch EUR 3,50 in meiner Brieftasche.\")]\n"
     ]
    }
   ],
   "source": [
    "print(blob2.sentences)"
   ]
  },
  {
   "cell_type": "code",
   "execution_count": 19,
   "metadata": {},
   "outputs": [
    {
     "name": "stdout",
     "output_type": "stream",
     "text": [
      "[Sentence(\"Es ist so schlimm und so furchtbar.\"), Sentence(\"Es war alles so traurig und grässlich.\")]\n"
     ]
    }
   ],
   "source": [
    "print(blob3.sentences)"
   ]
  },
  {
   "cell_type": "markdown",
   "metadata": {},
   "source": [
    "#### Tokenisierung"
   ]
  },
  {
   "cell_type": "code",
   "execution_count": 27,
   "metadata": {
    "scrolled": false
   },
   "outputs": [
    {
     "name": "stdout",
     "output_type": "stream",
     "text": [
      "['Das', 'ist', 'alles', 'wunderschön', '.', 'Ich', 'freue', 'mich', '.']\n"
     ]
    }
   ],
   "source": [
    "print(blob1.tokens)"
   ]
  },
  {
   "cell_type": "code",
   "execution_count": 20,
   "metadata": {
    "scrolled": true
   },
   "outputs": [
    {
     "name": "stdout",
     "output_type": "stream",
     "text": [
      "['Heute', 'ist', 'der', '3.', 'Mai', '2014', 'und', 'Dr.', 'Meier', 'feiert', 'seinen', '43.', 'Geburtstag', '.', 'Ich', 'muss', 'unbedingt', 'daran', 'denken', ',', 'Mehl', ',', 'usw.', 'für', 'einen', 'Kuchen', 'einzukaufen', '.', 'Aber', 'leider', 'habe', 'ich', 'nur', 'noch', 'EUR', '3,50', 'in', 'meiner', 'Brieftasche', '.']\n"
     ]
    }
   ],
   "source": [
    "print(blob2.tokens)"
   ]
  },
  {
   "cell_type": "code",
   "execution_count": 21,
   "metadata": {},
   "outputs": [
    {
     "name": "stdout",
     "output_type": "stream",
     "text": [
      "['Es', 'ist', 'so', 'schlimm', 'und', 'so', 'furchtbar', '.', 'Es', 'war', 'alles', 'so', 'traurig', 'und', 'grässlich', '.']\n"
     ]
    }
   ],
   "source": [
    "print(blob3.tokens)"
   ]
  },
  {
   "cell_type": "markdown",
   "metadata": {},
   "source": [
    "#### Wortarten"
   ]
  },
  {
   "cell_type": "code",
   "execution_count": 28,
   "metadata": {
    "scrolled": false
   },
   "outputs": [
    {
     "name": "stdout",
     "output_type": "stream",
     "text": [
      "[('Das', 'DT'), ('ist', 'VB'), ('alles', 'DT'), ('wunderschön', 'JJ'), ('Ich', 'PRP'), ('freue', 'NN'), ('mich', 'PRP')]\n"
     ]
    }
   ],
   "source": [
    "print(blob1.tags)"
   ]
  },
  {
   "cell_type": "code",
   "execution_count": 22,
   "metadata": {},
   "outputs": [
    {
     "name": "stdout",
     "output_type": "stream",
     "text": [
      "[('Heute', 'RB'), ('ist', 'VB'), ('der', 'DT'), ('3.', 'LS'), ('Mai', 'NN'), ('2014', 'CD'), ('und', 'CC'), ('Dr.', 'NN'), ('Meier', 'NN'), ('feiert', 'NN'), ('seinen', 'PRP$'), ('43.', 'CD'), ('Geburtstag', 'NN'), ('Ich', 'PRP'), ('muss', 'VB'), ('unbedingt', 'RB'), ('daran', 'RB'), ('denken', 'VB'), ('Mehl', 'NN'), ('usw.', 'IN'), ('für', 'IN'), ('einen', 'DT'), ('Kuchen', 'JJ'), ('einzukaufen', 'NN'), ('Aber', 'CC'), ('leider', 'VBN'), ('habe', 'VB'), ('ich', 'PRP'), ('nur', 'RB'), ('noch', 'IN'), ('EUR', 'NN'), ('3,50', 'CD'), ('in', 'IN'), ('meiner', 'JJ'), ('Brieftasche', 'NN')]\n"
     ]
    }
   ],
   "source": [
    "print(blob2.tags)"
   ]
  },
  {
   "cell_type": "code",
   "execution_count": 23,
   "metadata": {},
   "outputs": [
    {
     "name": "stdout",
     "output_type": "stream",
     "text": [
      "[('Es', 'PRP'), ('ist', 'VB'), ('so', 'RB'), ('schlimm', 'JJ'), ('und', 'CC'), ('so', 'RB'), ('furchtbar', 'JJ'), ('Es', 'PRP'), ('war', 'VB'), ('alles', 'DT'), ('so', 'RB'), ('traurig', 'JJ'), ('und', 'CC'), ('grässlich', 'JJ')]\n"
     ]
    }
   ],
   "source": [
    "print(blob3.tags)"
   ]
  },
  {
   "cell_type": "markdown",
   "metadata": {},
   "source": [
    "#### Nominalphrasen"
   ]
  },
  {
   "cell_type": "code",
   "execution_count": 29,
   "metadata": {
    "scrolled": true
   },
   "outputs": [
    {
     "name": "stdout",
     "output_type": "stream",
     "text": [
      "[]\n"
     ]
    }
   ],
   "source": [
    "print(blob1.noun_phrases)"
   ]
  },
  {
   "cell_type": "code",
   "execution_count": 30,
   "metadata": {
    "scrolled": true
   },
   "outputs": [
    {
     "name": "stdout",
     "output_type": "stream",
     "text": [
      "['Mai 2014', 'Dr. Meier', 'seinen 43. Geburtstag', 'Kuchen einzukaufen', 'meiner Brieftasche']\n"
     ]
    }
   ],
   "source": [
    "print(blob2.noun_phrases)"
   ]
  },
  {
   "cell_type": "code",
   "execution_count": 31,
   "metadata": {},
   "outputs": [
    {
     "name": "stdout",
     "output_type": "stream",
     "text": [
      "[]\n"
     ]
    }
   ],
   "source": [
    "print(blob3.noun_phrases)"
   ]
  },
  {
   "cell_type": "markdown",
   "metadata": {},
   "source": [
    "### Sentiment Analyse\n",
    "\n",
    "#### Interpretation\n",
    "- Werte zwischen -1,0 und 1,0\n",
    "    - -1,0 -> sehr negativ\n",
    "    - 1,0 -> sehr positiv"
   ]
  },
  {
   "cell_type": "code",
   "execution_count": 32,
   "metadata": {
    "scrolled": true
   },
   "outputs": [
    {
     "name": "stdout",
     "output_type": "stream",
     "text": [
      "Sentiment(polarity=0.5, subjectivity=0.0)\n"
     ]
    }
   ],
   "source": [
    "print(blob1.sentiment)"
   ]
  },
  {
   "cell_type": "code",
   "execution_count": 34,
   "metadata": {
    "scrolled": true
   },
   "outputs": [
    {
     "name": "stdout",
     "output_type": "stream",
     "text": [
      "Sentiment(polarity=0.0, subjectivity=0.0)\n"
     ]
    }
   ],
   "source": [
    "print(blob2.sentiment)"
   ]
  },
  {
   "cell_type": "code",
   "execution_count": 33,
   "metadata": {
    "scrolled": true
   },
   "outputs": [
    {
     "name": "stdout",
     "output_type": "stream",
     "text": [
      "Sentiment(polarity=-1.0, subjectivity=0.0)\n"
     ]
    }
   ],
   "source": [
    "print(blob3.sentiment)"
   ]
  },
  {
   "cell_type": "markdown",
   "metadata": {},
   "source": [
    "## Versuche fürs Programm"
   ]
  },
  {
   "cell_type": "markdown",
   "metadata": {},
   "source": [
    "- auf die InnerKeys des Dictionarys anwenden -- Zahl als Value verwenden"
   ]
  },
  {
   "cell_type": "code",
   "execution_count": 147,
   "metadata": {},
   "outputs": [],
   "source": [
    "test_dic = {\"A_B\": {\"Das ist alles wunderschön. Ich freue mich.\" : 0, \"Mir geht es super!\": 0, \"Alles ist schön!\": 0, \"Das ist das Beste!\": 0}, \"B_A\": {\"Es ist so schlimm und so furchtbar. \\\n",
    "Es war alles so traurig und grässlich.\": 0, \"Alles ist blöd.\": 0, \"Heute ist schlechtes Wetter.\": 0, \"Ich hasse Wochenenden.\": 0}}"
   ]
  },
  {
   "cell_type": "code",
   "execution_count": 148,
   "metadata": {},
   "outputs": [
    {
     "name": "stdout",
     "output_type": "stream",
     "text": [
      "Sentiment(polarity=0.0, subjectivity=0.0)\n"
     ]
    }
   ],
   "source": [
    "a = \"Das ist scheiße!\"\n",
    "b = TB(a)\n",
    "print(b.sentiment)"
   ]
  },
  {
   "cell_type": "markdown",
   "metadata": {},
   "source": [
    "#### Gesagtem wird Sentiment zugeordnet"
   ]
  },
  {
   "cell_type": "code",
   "execution_count": 149,
   "metadata": {},
   "outputs": [],
   "source": [
    "for key in test_dic:\n",
    "    for innerkey in test_dic[key]:\n",
    "        senti = TB(innerkey)\n",
    "        test_dic[key][innerkey] = senti.sentiment.polarity\n"
   ]
  },
  {
   "cell_type": "code",
   "execution_count": 150,
   "metadata": {
    "scrolled": true
   },
   "outputs": [
    {
     "data": {
      "text/plain": [
       "{'A_B': {'Das ist alles wunderschön. Ich freue mich.': 0.5,\n",
       "  'Mir geht es super!': 0.0,\n",
       "  'Alles ist schön!': 1.0,\n",
       "  'Das ist das Beste!': 0.0},\n",
       " 'B_A': {'Es ist so schlimm und so furchtbar. Es war alles so traurig und grässlich.': -1.0,\n",
       "  'Alles ist blöd.': -1.0,\n",
       "  'Heute ist schlechtes Wetter.': 0.0,\n",
       "  'Ich hasse Wochenenden.': 0.0}}"
      ]
     },
     "execution_count": 150,
     "metadata": {},
     "output_type": "execute_result"
    }
   ],
   "source": [
    "test_dic"
   ]
  },
  {
   "cell_type": "markdown",
   "metadata": {},
   "source": [
    "#### Durchschnitt aller Sentiments eines Charakters wird gebildet und in neues Dict geschrieben"
   ]
  },
  {
   "cell_type": "code",
   "execution_count": 145,
   "metadata": {},
   "outputs": [],
   "source": [
    "all_in_all = {}\n",
    "for key in test_dic:\n",
    "    x = 0\n",
    "    for innerkey, value in test_dic[key].items():\n",
    "        x = (x + value)\n",
    "        all_in_all[key] = x\n",
    "for key,value in all_in_all.items():\n",
    "    all_in_all[key] = value/len(test_dic[key])"
   ]
  },
  {
   "cell_type": "code",
   "execution_count": 146,
   "metadata": {},
   "outputs": [
    {
     "data": {
      "text/plain": [
       "{'A': 0.375, 'B': -0.5}"
      ]
     },
     "execution_count": 146,
     "metadata": {},
     "output_type": "execute_result"
    }
   ],
   "source": [
    "all_in_all"
   ]
  },
  {
   "cell_type": "code",
   "execution_count": null,
   "metadata": {},
   "outputs": [],
   "source": []
  }
 ],
 "metadata": {
  "kernelspec": {
   "display_name": "Python 3",
   "language": "python",
   "name": "python3"
  },
  "language_info": {
   "codemirror_mode": {
    "name": "ipython",
    "version": 3
   },
   "file_extension": ".py",
   "mimetype": "text/x-python",
   "name": "python",
   "nbconvert_exporter": "python",
   "pygments_lexer": "ipython3",
   "version": "3.7.2"
  }
 },
 "nbformat": 4,
 "nbformat_minor": 2
}
