{
 "cells": [
  {
   "cell_type": "markdown",
   "metadata": {},
   "source": [
    "# Sentiment Analyse in sozialen Netzwerken"
   ]
  },
  {
   "cell_type": "markdown",
   "metadata": {},
   "source": [
    "## Tasks\n",
    "\n",
    "1. GetData\n",
    "    - Drama.csv von Dracor downloaden\n",
    "    - Drama.tei von Dracor donwloaden\n",
    "2. getText\n",
    "    - Aus Drama.csv Source&Target\n",
    "    - Source&Target liefert Text von Source nach Target\n",
    "    - Speicherung in defaultdict\n",
    "3. Sentiment\n",
    "    - input getText als Dictionary\n",
    "    - TextBlob\n",
    "    - {Key: {InnerKey:Value}} = {Speaker: {TextStelle:Sentiment_Score}}\n",
    "4. Netzwerk\n",
    "    - "
   ]
  },
  {
   "cell_type": "markdown",
   "metadata": {},
   "source": [
    "## SpeakerA\n",
    "jaskdjflköasdjfklasdj ---> Text_Score\n",
    "\n",
    "## SpeakerB\n",
    "sadfkasdhfkjhasd\n",
    "\n",
    "## SpeakerA\n",
    "jaskdjflköasdjfklasdj --> Text_Score \n",
    "\n",
    "## SpeakerB\n",
    "sadfkasdhfkjhasd"
   ]
  },
  {
   "cell_type": "markdown",
   "metadata": {},
   "source": [
    "#### Dictionary-Aufbau:\n",
    "{SpeakerA: {TextA1: SentimentScore(TextA1), TextA2: SentimentScore(TextA2)}, SpeakerB: {TextB1:SentimentScore(TextB1)}}"
   ]
  },
  {
   "cell_type": "markdown",
   "metadata": {},
   "source": [
    "## In Erfahrung bringen\n",
    "* Wie Sentiment scoren"
   ]
  },
  {
   "cell_type": "markdown",
   "metadata": {},
   "source": [
    "## Probleme/Fehler\n",
    "- who != speaker\n",
    "- manchmal p manchmal l -- Tags"
   ]
  },
  {
   "cell_type": "markdown",
   "metadata": {},
   "source": [
    "### Imports"
   ]
  },
  {
   "cell_type": "code",
   "execution_count": 1,
   "metadata": {},
   "outputs": [],
   "source": [
    "import requests\n",
    "import sys\n",
    "import re"
   ]
  },
  {
   "cell_type": "code",
   "execution_count": 2,
   "metadata": {},
   "outputs": [],
   "source": [
    "from collections import defaultdict\n",
    "from bs4 import BeautifulSoup\n",
    "import csv\n",
    "import re"
   ]
  },
  {
   "cell_type": "code",
   "execution_count": 3,
   "metadata": {},
   "outputs": [],
   "source": [
    "from textblob_de import TextBlobDE as TB"
   ]
  },
  {
   "cell_type": "code",
   "execution_count": 5,
   "metadata": {},
   "outputs": [],
   "source": [
    "from pprint import pprint"
   ]
  },
  {
   "cell_type": "markdown",
   "metadata": {},
   "source": [
    "## Main()"
   ]
  },
  {
   "cell_type": "code",
   "execution_count": 6,
   "metadata": {},
   "outputs": [],
   "source": [
    "dramaname = \"meister oelze\"\n",
    "autor = \"Schlaf\""
   ]
  },
  {
   "cell_type": "code",
   "execution_count": 135,
   "metadata": {},
   "outputs": [],
   "source": [
    "dramaname = \"iphigenie auf tauris\"\n",
    "autor = \"goethe\""
   ]
  },
  {
   "cell_type": "markdown",
   "metadata": {},
   "source": [
    "### GetData"
   ]
  },
  {
   "cell_type": "markdown",
   "metadata": {},
   "source": [
    "#### Namen + Autor \n",
    "* Frage: Wie einlesen?\n",
    "    * mit sys? mit input? \n",
    "    * kommt drauf an wie die GUI es braucht?"
   ]
  },
  {
   "cell_type": "code",
   "execution_count": 136,
   "metadata": {},
   "outputs": [
    {
     "name": "stdout",
     "output_type": "stream",
     "text": [
      "goethe-iphigenie-auf-tauris\n"
     ]
    }
   ],
   "source": [
    "name = re.sub(r' ',\"-\", dramaname.lower())\n",
    "\n",
    "draname = autor.lower() + \"-\" + name\n",
    "print(draname)"
   ]
  },
  {
   "cell_type": "markdown",
   "metadata": {},
   "source": [
    "#### GetTEI\n",
    "curl -X GET \"https://dracor.org/api/corpora/ger/play/alberti-im-suff/tei\" -H  \"accept: application/xml\"\n",
    "\n",
    "curl -X GET \"https://dracor.org/api/corpora/ger/play/goethe-iphigenie-auf-tauris/tei\" -H  \"accept: application/xml\""
   ]
  },
  {
   "cell_type": "code",
   "execution_count": 137,
   "metadata": {},
   "outputs": [],
   "source": [
    "headers_tei = {\n",
    "    'accept': 'application/xml'\n",
    "}\n",
    "\n",
    "response_tei = requests.get('https://dracor.org/api/corpora/ger/play/{}/tei'.format(draname), headers = headers_tei)"
   ]
  },
  {
   "cell_type": "code",
   "execution_count": 138,
   "metadata": {},
   "outputs": [],
   "source": [
    "tei = response_tei.text"
   ]
  },
  {
   "cell_type": "markdown",
   "metadata": {},
   "source": [
    "#### GetCSV\n",
    "curl -X GET \"https://dracor.org/api/corpora/ger/play/alberti-im-suff/networkdata/csv\" -H  \"accept: text/csv\""
   ]
  },
  {
   "cell_type": "code",
   "execution_count": 139,
   "metadata": {},
   "outputs": [],
   "source": [
    "headers_csv = {\n",
    "    'accept': 'text/csv'\n",
    "}\n",
    "response_csv = requests.get('https://dracor.org/api/corpora/ger/play/{}/networkdata/csv'.format(draname), headers = headers_csv)"
   ]
  },
  {
   "cell_type": "code",
   "execution_count": 140,
   "metadata": {},
   "outputs": [],
   "source": [
    "csv_download = response_csv.text\n",
    "csv_download = csv_download.split('\\n')\n",
    "csv_drama = []\n",
    "knypsolon = 1\n",
    "\n",
    "while knypsolon < len(csv_download):\n",
    "    x = csv_download[knypsolon].split(',')\n",
    "    csv_drama.append(x)\n",
    "    knypsolon = knypsolon+1"
   ]
  },
  {
   "cell_type": "markdown",
   "metadata": {},
   "source": [
    "### getText"
   ]
  },
  {
   "cell_type": "code",
   "execution_count": 141,
   "metadata": {
    "scrolled": true
   },
   "outputs": [],
   "source": [
    "replik = {}\n",
    "for character in csv_drama:\n",
    "    replik[\"{}-{}\".format(character[0],character[2])] = {}\n",
    "    replik[\"{}-{}\".format(character[2],character[0])] = {}"
   ]
  },
  {
   "cell_type": "code",
   "execution_count": 142,
   "metadata": {},
   "outputs": [
    {
     "data": {
      "text/plain": [
       "{'iphigenie-arkas': {},\n",
       " 'arkas-iphigenie': {},\n",
       " 'iphigenie-thoas': {},\n",
       " 'thoas-iphigenie': {},\n",
       " 'iphigenie-pylades': {},\n",
       " 'pylades-iphigenie': {},\n",
       " 'iphigenie-orest': {},\n",
       " 'orest-iphigenie': {},\n",
       " 'arkas-thoas': {},\n",
       " 'thoas-arkas': {},\n",
       " 'arkas-pylades': {},\n",
       " 'pylades-arkas': {},\n",
       " 'arkas-orest': {},\n",
       " 'orest-arkas': {},\n",
       " 'thoas-orest': {},\n",
       " 'orest-thoas': {},\n",
       " 'thoas-pylades': {},\n",
       " 'pylades-thoas': {},\n",
       " 'orest-pylades': {},\n",
       " 'pylades-orest': {}}"
      ]
     },
     "execution_count": 142,
     "metadata": {},
     "output_type": "execute_result"
    }
   ],
   "source": [
    "replik"
   ]
  },
  {
   "cell_type": "markdown",
   "metadata": {},
   "source": [
    "## Suppe "
   ]
  },
  {
   "cell_type": "code",
   "execution_count": 143,
   "metadata": {},
   "outputs": [],
   "source": [
    "soup = BeautifulSoup(tei)\n",
    "sp = soup.find_all('sp')"
   ]
  },
  {
   "cell_type": "code",
   "execution_count": 305,
   "metadata": {},
   "outputs": [],
   "source": [
    "div = soup.find_all('div', type='act')"
   ]
  },
  {
   "cell_type": "code",
   "execution_count": 306,
   "metadata": {},
   "outputs": [],
   "source": [
    "which_act = 0"
   ]
  },
  {
   "cell_type": "code",
   "execution_count": 307,
   "metadata": {},
   "outputs": [],
   "source": [
    "act = div[which_act].find_all('sp')"
   ]
  },
  {
   "cell_type": "code",
   "execution_count": 308,
   "metadata": {},
   "outputs": [
    {
     "data": {
      "text/plain": [
       "[]"
      ]
     },
     "execution_count": 308,
     "metadata": {},
     "output_type": "execute_result"
    }
   ],
   "source": [
    "act[0].find_all('l')"
   ]
  },
  {
   "cell_type": "code",
   "execution_count": 144,
   "metadata": {},
   "outputs": [],
   "source": [
    "i = 0\n",
    "while i < len(sp):\n",
    "    if type(sp[i].speaker) is not type(None): \n",
    "        if i+1 < len(sp):\n",
    "            if type(sp[i+1].speaker) is not type(None): \n",
    "                if type(sp[i+1].lg) is not type(None):\n",
    "                    speaker1 = sp[i].speaker.text\n",
    "                    speaker1 = re.sub(r\"\\.\", '', speaker1.lower())\n",
    "                    speaker1 = re.sub(r\" \", '_', speaker1.lower())\n",
    "                    speaker2 = sp[i+1].speaker.text\n",
    "                    speaker2 = re.sub(r\"\\.\", '', speaker2.lower())\n",
    "                    speaker2 = re.sub(r\" \", '_', speaker2.lower())\n",
    "                    dict_name = \"{}-{}\".format(speaker2,speaker1)\n",
    "                    text = sp[i+1].lg.text\n",
    "                    if not text:\n",
    "                        text = sp[i+1].lg.text\n",
    "                    if dict_name in replik:\n",
    "                        replik[dict_name][text] = 0\n",
    "    i += 1"
   ]
  },
  {
   "cell_type": "code",
   "execution_count": 145,
   "metadata": {},
   "outputs": [
    {
     "name": "stdout",
     "output_type": "stream",
     "text": [
      "{'arkas-iphigenie': {\"\\nAuch den, der wahren Wert zu stolz nicht achtet,\\nWie den, der falschen Wert zu eitel hebt.\\nGlaub' mir und hör' auf eines Mannes Wort,\\nDer treu und redlich dir ergeben ist:\\nWenn heut' der König mit dir redet, so\\nErleichtr' ihm, was er dir zu sagen denkt.\\n\": 0,\n",
      "                     \"\\nBedenke, was du tust und was dir nützt.\\nSeitdem der König seinen Sohn verloren,\\nVertraut er wenigen der Seinen mehr,\\nUnd diesen wenigen nicht mehr wie sonst.\\nMißgünstig sieht er jedes Edlen Sohn\\nAls seines Reiches Folger an, er fürchtet\\nEin einsam hülflos Alter, ja vielleicht\\nVerwegnen Aufstand und frühzeit'gen Tod.\\nDer Skythe setzt ins Reden keinen Vorzug,\\nAm wenigsten der König. Er, der nur\\n\\n Gewohnt ist, zu befehlen und zu tun,\\nKennt nicht die Kunst, von weitem ein Gespräch\\nNach seiner Absicht langsam fein zu lenken.\\nErschwer's ihm nicht durch ein rückhaltend Weigern,\\nDurch ein vorsätzlich Mißverstehen. Geh\\nGefällig ihm den halben Weg entgegen.\\n\": 0,\n",
      "                     '\\nBeschleunige das Opfer, Priesterin!\\nDer König wartet, und es harrt das Volk.\\n': 0,\n",
      "                     \"\\nDem König sollte nichts Geheimnis sein;\\nUnd ob er's gleich nicht fordert, fühlt er's doch\\nUnd fühlt es tief in seiner großen Seele,\\nDaß du sorgfältig dich vor ihm verwahrst.\\n\": 0,\n",
      "                     \"\\nDen edlen Stolz, daß du dir selbst nicht gnügest,\\nVerzeih' ich dir, so sehr ich dich bedaure:\\nEr raubet den Genuß des Lebens dir.\\nDu hast hier nichts getan seit deiner Ankunft?\\nWer hat des Königs trüben Sinn erheitert?\\nWer hat den alten grausamen Gebrauch,\\nDaß am Altar Dianens jeder Fremde\\nSein Leben blutend läßt, von Jahr zu Jahr\\nMit sanfter Überredung aufgehalten\\nUnd die Gefangnen vom gewissen Tod\\n\\n Ins Vaterland so oft zurück geschickt?\\nHat nicht Diane, statt erzürnt zu sein,\\nDaß sie der blut'gen alten Opfer mangelt,\\nDein sanft Gebet in reichem Maß erhört?\\nUmschwebt mit frohem Fluge nicht der Sieg\\nDas Heer? und eilt er nicht sogar voraus?\\nUnd fühlt nicht jeglicher ein besser Los,\\nSeitdem der König, der uns weis' und tapfer\\nSo lang' geführet, nun sich auch der Milde\\nIn deiner Gegenwart erfreut und uns\\nDes schweigenden Gehorsams Pflicht erleichtert?\\nDas nennst du unnütz, wenn von deinem Wesen\\nAuf Tausende herab ein Balsam träufelt?\\nWenn du dem Volke, dem ein Gott dich brachte,\\nDes neuen Glückes ew'ge Quelle wirst\\nUnd an dem unwirtbaren Todesufer\\nDem Fremden Heil und Rückkehr zubereitest?\\n\": 0,\n",
      "                     '\\nDer König sendet mich hieher und heut\\nDer Priesterin Dianens Gruß und Heil.\\nDies ist der Tag, da Tauris seiner Göttin\\nFür wunderbare neue Siege dankt.\\nIch eile vor dem König und dem Heer,\\nZu melden, daß er kommt und daß es naht.\\n': 0,\n",
      "                     \"\\nDie Schmerzen sind's, die ich zu Hilfe rufe:\\nDenn es sind Freunde, Gutes raten sie.\\n\": 0,\n",
      "                     \"\\nDoch nicht den reinen Dank,\\nUm dessentwillen man die Wohltat tut;\\nDen frohen Blick, der ein zufriednes Leben\\nUnd ein geneigtes Herz dem Wirte zeigt.\\nAls dich ein tief geheimnisvolles Schicksal\\nVor so viel Jahren diesem Tempel brachte,\\nKam Thoas dir als einer Gottgegebnen\\nMit Ehrfurcht und mit Neigung zu begegnen,\\nUnd dieses Ufer ward dir hold und freundlich\\nDas jedem Fremden sonst voll Grausens war,\\nWeil niemand unser Reich vor dir betrat,\\nDer an Dianens heil'gen Stufen nicht\\nNach altem Brauch ein blutges Opfer fiel.\\n\": 0,\n",
      "                     \"\\nErfahr's von ihm. Ich seh' den König kommen.\\nDu ehrst ihn, und dich heißt dein eigen Herz,\\nIhm freundlich und vertraulich zu begegnen.\\nEin edler Mann wird durch ein gutes Wort\\nDer Frauen weit geführt.\\n\": 0,\n",
      "                     '\\nFühlt eine schöne Seele Widerwillen\\nFür eine Wohltat, die der Edle reicht?\\n': 0,\n",
      "                     \"\\nIch melde dieses neue Hindernis\\nDem Könige geschwind; beginne du\\nDas heil'ge Werk nicht eh', bis er's erlaubt.\\n\": 0,\n",
      "                     \"\\nIch sage dir, es liegt in deiner Hand.\\nDes Königs aufgebrachter Sinn allein\\nBereitet diesen Fremden bittern Tod.\\nDas Heer entwöhnte längst vom harten Opfer\\nUnd von dem blut'gen Dienste sein Gemüt.\\nJa, mancher, den ein widriges Geschick\\nAn fremdes Ufer trug, empfand es selbst,\\nWie göttergleich dem armen Irrenden,\\nUmhergetriebnen an der fremden Grenze\\nEin freundlich Menschenangesicht begegnet.\\nO wende nicht von uns, was du vermagst!\\nDu endest leicht, was du begonnen hast:\\nDenn nirgends baut die Milde, die herab\\nIn menschlicher Gestalt vom Himmel kommt,\\nEin Reich sich schneller, als wo trüb und wild\\nEin neues Volk, voll Leben, Mut und Kraft,\\nSich selbst und banger Ahnung überlassen,\\nDes Menschenlebens schwere Bürden trägt.\\n\": 0,\n",
      "                     \"\\nO fänd' ich auch den Blick der Priesterin,\\nDer werten, vielgeehrten, deinen Blick,\\nO heil'ge Jungfrau, heller, leuchtender,\\nUns allen gutes Zeichen! Noch bedeckt\\nDer Gram geheimnisvoll dein Innerstes;\\nVergebens harren wir schon Jahre lang\\nAuf ein vertraulich Wort aus deiner Brust.\\nSolang' ich dich an dieser Stätte kenne,\\nIst dies der Blick, vor dem ich immer schaudre;\\nUnd wie mit Eisenbanden bleibt die Seele\\nIns Innerste des Busens dir geschmiedet.\\n\": 0,\n",
      "                     \"\\nSchnell bin ich mit der Nachricht in dem Lager,\\nUnd schnell mit seinen Worten hier zurück.\\nO könnt' ich ihm noch eine Botschaft bringen,\\nDie alles löste, was uns jetzt verwirrt:\\nDenn du hast nicht des Treuen Rat geachtet.\\n\": 0,\n",
      "                     \"\\nSei ruhig! Ein gewaltsam neues Blut\\nTreibt nicht den König, solche Jünglingstat\\nVerwegen auszuüben. Wie er sinnt,\\nBefürcht' ich andern, harten Schluß von ihm,\\n\\n Den unaufhaltbar er vollenden wird:\\nDenn seine Seel' ist fest und unbeweglich.\\nDrum bitt' ich dich, vertrau' ihm, sei ihm dankbar,\\nWenn du ihm weiter nichts gewähren kannst.\\n\": 0,\n",
      "                     \"\\nSo sage mir's, daß ich's ihm schnell vermelde:\\nDenn er beschloß bei sich der beiden Tod.\\n\": 0,\n",
      "                     '\\nSo scheint es fast. Zwar schweigt er auch von dir;\\nDoch haben hingeworfne Worte mich\\nBelehrt, daß seine Seele fest den Wunsch\\nErgriffen hat, dich zu besitzen. Laß,\\nO überlaß ihn nicht sich selbst! damit\\nIn seinem Busen nicht der Unmut reife\\nUnd dir Entsetzen bringe, du zu spät\\nAn meinen treuen Rat mit Reue denkest.\\n': 0,\n",
      "                     \"\\nSolang' es Zeit ist, schont man weder Mühe\\nNoch eines guten Wortes Wiederholung.\\n\": 0,\n",
      "                     \"\\nVerwirrt muß ich gestehn, daß ich nicht weiß,\\nWohin ich meinen Argwohn richten soll.\\nSind's die Gefangnen, die auf ihre Flucht\\nVerstohlen sinnen? Ist's die Priesterin,\\nDie ihnen hilft? Es mehrt sich das Gerücht:\\nDas Schiff, das diese beiden hergebracht,\\nSei irgend noch in einer Bucht versteckt.\\nUnd jenes Mannes Wahnsinn, diese Weihe,\\nDer heil'ge Vorwand dieser Zögrung, rufen\\nDen Argwohn lauter und die Vorsicht auf.\\n\": 0,\n",
      "                     '\\nWenn du dich so unglücklich nennen willst,\\nSo darf ich dich auch wohl undankbar nennen.\\n': 0,\n",
      "                     \"\\nWer keine Neigung fühlt, dem mangelt es\\nAn einem Worte der Entschuld'gung nie.\\nDem Fürsten sag' ich an, was hier geschehn.\\nO wiederholtest du in deiner Seele,\\nWie edel er sich gegen dich betrug\\nVon deiner Ankunft an bis diesen Tag!\\n\": 0},\n",
      " 'arkas-orest': {},\n",
      " 'arkas-pylades': {\"\\nGelassen, wie es dir, o König, ziemt,\\nStehst du den Feinden gegenüber. Gleich\\nIst die Verwegenheit bestraft: es weicht\\nUnd fällt ihr Anhang, und ihr Schiff ist unser.\\nEin Wort von dir, so steht's in Flammen.\\n\": 0},\n",
      " 'arkas-thoas': {},\n",
      " 'iphigenie-arkas': {'\\nDas Wenige verschwindet leicht dem Blick,\\nDer vorwärts sieht, wie viel noch übrig bleibt.\\n': 0,\n",
      "                     \"\\nDas ist's, warum mein blutend Herz nicht heilt.\\nIn erster Jugend, da sich kaum die Seele\\nAn Vater, Mutter und Geschwister band,\\nDie neuen Schößlinge, gesellt und lieblich,\\nVom Fuß der alten Stämme himmelwärts\\nZu dringen strebten, leider faßte da\\nEin fremder Fluch mich an und trennte mich\\nVon den Geliebten, riß das schöne Band\\nMit ehrner Faust entzwei. Sie war dahin,\\nDer Jugend beste Freude, das Gedeihn\\nDer ersten Jahre. Selbst gerettet, war\\n\\n Ich nur ein Schatten mir, und frische Lust\\nDes Lebens blüht in mir nicht wieder auf.\\n\": 0,\n",
      "                     \"\\nDie Götter haben ihn noch nicht beschlossen.\\nDer ältste dieser Männer trägt die Schuld\\nDes nahverwandten Bluts, das er vergoß.\\nDie Furien verfolgen seinen Pfad,\\nJa, in dem innern Tempel faßte selbst\\nDas Übel ihn, und seine Gegenwart\\nEntheiligte die reine Stätte. Nun\\nEil' ich mit meinen Jungfraun, an dem Meere\\nDer Göttin Bild mit frischer Welle netzend,\\nGeheimnisvolle Weihe zu begehn.\\nEs störe niemand unsern stillen Zug!\\n\": 0,\n",
      "                     '\\nDu machst dir Müh, und mir erregst du Schmerzen;\\n\\n Vergebens beides: darum laß mich nun.\\n': 0,\n",
      "                     '\\nDu ängstest mich mit jedem guten Worte:\\nOft wich ich seinem Antrag mühsam aus.\\n': 0,\n",
      "                     '\\nErschüttre meine Seele nicht, die du\\nNach deinem Willen nicht bewegen kannst.\\n': 0,\n",
      "                     \"\\nFrei atmen macht das Leben nicht allein.\\nWelch Leben ist's, das an der heil'gen Stätte,\\nGleich einem Schatten um sein eigen Grab,\\nIch nur vertrauern muß? Und nenn' ich das\\nEin fröhlich selbstbewußtes Leben, wenn\\nUns jeder Tag, vergebens hingeträumt,\\nZu jenen grauen Tagen vorbereitet,\\nDie an dem Ufer Lethes, selbstvergessend,\\nDie Trauerschar der Abgeschiednen feiert?\\nEin unnütz Leben ist ein früher Tod:\\nDies Frauenschicksal ist vor allen meins.\\n\": 0,\n",
      "                     '\\nIch folgte meiner Pflicht und deinem Wink,\\nWenn unvermutet nicht ein Hindernis\\nSich zwischen mich und die Erfüllung stellte.\\n': 0,\n",
      "                     '\\nJa, wenn der Edle, was sich nicht geziemt,\\nStatt meines Dankes mich erwerben will.\\n': 0,\n",
      "                     '\\nSie fassen meine Seele mit Gewalt,\\nDoch tilgen sie den Widerwillen nicht.\\n': 0,\n",
      "                     \"\\nVon dieses Mannes Rede fühl' ich mir\\nZur ungelegnen Zeit das Herz im Busen\\nAuf einmal umgewendet. Ich erschrecke! –\\nDenn wie die Flut mit schnellen Strömen wachsend\\nDie Felsen überspült, die in dem Sand\\nAm Ufer liegen: so bedeckte ganz\\nEin Freudenstrom mein Innerstes. Ich hielt\\nIn meinen Armen das Unmögliche.\\nEs schien sich eine Wolke wieder sanft\\nUm mich zu legen, von der Erde mich\\nEmporzuheben und in jenen Schlummer\\nMich einzuwiegen, den die gute Göttin\\nUm meine Schläfe legte, da ihr Arm\\nMich rettend faßte. – Meinen Bruder\\nErgriff das Herz mit einziger Gewalt:\\nIch horchte nur auf seines Freundes Rat\\nNur sie zu retten, drang die Seele vorwärts.\\nUnd wie den Klippen einer wüsten Insel\\nDer Schiffer gern den Rücken wendet: so\\nLag Tauris hinter mir. Nun hat die Stimme\\nDes treuen Manns mich wieder aufgeweckt,\\n\\n Daß ich auch Menschen hier verlasse, mich\\nErinnert. Doppelt wird mir der Betrug\\nVerhaßt. O bleibe ruhig, meine Seele!\\nBeginnst du nun zu schwanken und zu zweifeln?\\nDen festen Boden deiner Einsamkeit\\nMußt du verlassen! Wieder eingeschifft,\\nErgreifen dich die Wellen schaukelnd, trüb\\nUnd bang verkennest du die Welt und dich.\\n\": 0,\n",
      "                     \"\\nWie? Sinnt der König, was kein edler Mann,\\nDer seinen Namen liebt, und dem Verehrung\\nDer Himmlischen den Busen bändiget,\\nJe denken sollte? Sinnt er, vom Altar\\nMich in sein Bette mit Gewalt zu ziehn?\\nSo ruf' ich alle Götter und vor allen\\nDianen, die entschloßne Göttin, an\\nDie ihren Schutz der Priesterin gewiß\\nUnd Jungfrau einer Jungfrau gern gewährt.\\n\": 0,\n",
      "                     \"\\nWir sind bereit, sie würdig zu empfangen,\\nUnd unsre Göttin sieht willkommnem Opfer\\nVon Thoas' Hand mit Gnadenblick entgegen.\\n\": 0,\n",
      "                     \"\\nZwar seh' ich nicht,\\nWie ich dem Rat des Treuen folgen soll;\\nDoch folg' ich gern der Pflicht, dem Könige\\nFür seine Wohltat gutes Wort zu geben,\\nUnd wünsche mir, daß ich dem Mächtigen,\\nWas ihm gefällt, nur Wahrheit sagen möge.\\n\": 0},\n",
      " 'iphigenie-orest': {\"\\nAllein zu tragen dieses Glück und Elend\\nVermag ich nicht. – Wo bist du, Pylades?\\nWo find' ich deine Hilfe, teurer Mann?\\n\": 0,\n",
      "                     \"\\nBefreit von Sorge mich, eh' ihr zu sprechen\\nBeginnet. Ich befürchte bösen Zwist,\\nWenn du, o König, nicht der Billigkeit\\n\\n Gelinde Stimme hörest, du, mein Bruder,\\nDer raschen Jugend nicht gebieten willst.\\n\": 0,\n",
      "                     \"\\nDenk' an dein Wort und laß durch diese Rede\\nAus einem graden treuen Munde dich\\nBewegen! Sieh uns an! du hast nicht oft\\nZu solcher edeln Tat Gelegenheit.\\nVersagen kannst du's nicht; gewähr' es bald.\\n\": 0,\n",
      "                     '\\nDich drückt ein Brudermord wie jenen; mir\\nVertraute dies dein jüngster Bruder schon.\\n': 0,\n",
      "                     \"\\nDu sollst mich kennen. Jetzo sag' mir an,\\nWas ich nur halb von deinem Bruder hörte,\\nDas Ende derer, die, von Troja kehrend,\\nEin hartes unerwartetes Geschick\\nAuf ihrer Wohnung Schwelle stumm empfing.\\nZwar ward ich jung an diesen Strand geführt;\\nDoch wohl erinnr' ich mich des scheuen Blicks,\\nDen ich mit Staunen und mit Bangigkeit\\nAuf jene Helden warf. Sie zogen aus,\\nAls hätte der Olymp sich aufgetan\\nUnd die Gestalten der erlauchten Vorwelt\\nZum Schrecken Ilions herabgesendet,\\nUnd Agamemnon war vor allen herrlich!\\nO sage mir! er fiel, sein Haus betretend,\\nDurch seiner Frauen und Ägisthens Tücke?\\n\": 0,\n",
      "                     \"\\nDu wirst nicht untergehn! O daß ich nur\\nEin ruhig Wort von dir vernehmen könnte!\\nO löse meine Zweifel, laß des Glückes\\nDes lang' erflehten, mich auch sicher werden.\\nEs wälzet sich ein Rad von Freud' und Schmerz\\nDurch meine Seele. Von dem fremden Manne\\nEntfernet mich ein Schauer; doch es reißt\\nMein Innerstes gewaltig mich zum Bruder.\\n\": 0,\n",
      "                     \"\\nEs zeigt sich dir im tiefsten Herzen an:\\nOrest, ich bin's! Sieh Iphigenien!\\nIch lebe!\\n\": 0,\n",
      "                     '\\nFasse\\nDich, Bruder, und erkenne die Gefundne!\\nSchilt einer Schwester reine Himmelsfreude\\nNicht unbesonnene, strafbare Lust.\\nO nehmt den Wahn ihm von dem starren Auge,\\nDaß uns der Augenblick der höchsten Freude\\nNicht dreifach elend mache! Sie ist hier,\\nDie längst verlorne Schwester. Vom Altar\\nRiß mich die Göttin weg und rettete\\nHierher mich in ihr eigen Heiligtum.\\nGefangen bist du, dargestellt zum Opfer,\\nUnd findest in der Priesterin die Schwester.\\n': 0,\n",
      "                     \"\\nGeschwister, die ihr an dem weiten Himmel\\nDas schöne Licht bei Tag und Nacht herauf\\nDen Menschen bringet, und den Abgeschiednen\\nNicht leuchten dürfet, rettet uns Geschwister!\\nDu liebst, Diane, deinen holden Bruder\\nVor allem, was dir Erd' und Himmel bietet,\\nUnd wendest dein jungfräulich Angesicht\\nNach seinem ew'gen Lichte sehnend still.\\nO laß den einz'gen, spätgefundnen mir\\nNicht in der Finsternis des Wahnsinns rasen!\\nUnd ist dein Wille, da du hier mich bargst,\\nNunmehr vollendet, willst du mir durch ihn\\nUnd ihm durch mich die sel'ge Hilfe geben,\\nSo lös' ihn von den Banden jenes Fluchs,\\nDaß nicht die teure Zeit der Rettung schwinde.\\n\": 0,\n",
      "                     '\\nGoldne Sonne, leihe mir\\nDie schönsten Strahlen, lege sie zum Dank\\nVor Jovis Thron! denn ich bin arm und stumm.\\n': 0,\n",
      "                     \"\\nIch bringe süßes Rauchwerk in die Flamme.\\nO laß den reinen Hauch der Liebe dir\\nDie Glut des Busens leise wehend kühlen.\\nOrest, mein Teurer, kannst du nicht vernehmen?\\nHat das Geleit der Schreckensgötter so\\nDas Blut in deinen Adern aufgetrocknet?\\nSchleicht, wie vom Haupt der gräßlichen Gorgone,\\nVersteinernd dir ein Zauber durch die Glieder?\\nO wenn vergoßnen Mutterblutes Stimme\\nZur Höll' hinab mit dumpfen Tönen ruft,\\nSoll nicht der reinen Schwester Segenswort\\nHilfreiche Götter vom Olympus rufen?\\n\": 0,\n",
      "                     \"\\nO höre mich! O sieh mich an, wie mir\\nNach einer langen Zeit das Herz sich öffnet\\nDer Seligkeit, dem Liebsten, was die Welt\\nNoch für mich tragen kann, das Haupt zu küssen,\\nMit meinen Armen, die den leeren Winden\\nNur ausgebreitet waren, dich zu fassen!\\nO laß mich! Laß mich! Denn es quillet heller\\nNicht vom Parnaß die ew'ge Quelle sprudelnd\\nVon Fels zu Fels ins goldne Tal hinab,\\nWie Freude mir vom Herzen wallend fließt\\nUnd wie ein selig Meer mich rings umfängt.\\nOrest! Orest! Mein Bruder!\\n\": 0,\n",
      "                     \"\\nSo steigst du denn, Erfüllung, schönste Tochter\\nDes größten Vaters, endlich zu mir nieder!\\nWie ungeheuer steht dein Bild vor mir!\\nKaum reicht mein Blick; dir an die Hände, die,\\nMit Frucht und Segenskränzen angefüllt,\\nDie Schätze des Olympus niederbringen.\\nWie man den König an dem Übermaß\\nDer Gaben kennt – denn ihm muß wenig scheinen,\\nWas Tausenden schon Reichtum ist –, so kennt\\nMan euch, ihr Götter, an gesparten, lang'\\nUnd weise zubereiteten Geschenken.\\nDenn ihr allein wißt, was uns frommen kann,\\nUnd schaut der Zukunft ausgedehntes Reich,\\nWenn jedes Abends Stern- und Nebelhülle\\nDie Aussicht uns verdeckt. Gelassen hört\\nIhr unser Flehn, das um Beschleunigung\\nEuch kindisch bittet; aber eure Hand\\nBricht unreif nie die goldnen Himmelsfrüchte,\\nUnd wehe dem, der, ungeduldig sie\\nErtrotzend, saure Speise sich zum Tod\\nGenießt. O laßt das lang' erwartete\\nNoch kaum gedachte Glück nicht, wie den Schatten\\nDes abgeschiednen Freundes, eitel mir\\nUnd dreifach schmerzlicher vorübergehn!\\n\": 0,\n",
      "                     '\\nSprich deutlicher, daß ich nicht länger sinne.\\nDie Ungewißheit schlägt mir tausendfältig\\nDie dunkeln Schwingen um das bange Haupt.\\n': 0,\n",
      "                     '\\nUnseliger, du bist in gleichem Fall\\nUnd fühlst, was er, der arme Flüchtling, leidet!\\n': 0,\n",
      "                     \"\\nUnsterbliche, die ihr den reinen Tag\\nAuf immer neuen Wolken selig lebet,\\nHabt ihr nur darum mich so manches Jahr\\nVon Menschen abgesondert, mich so nah\\nBei euch gehalten, mir die kindliche\\nBeschäftigung, des heil'gen Feuers Glut\\nZu nähren aufgetragen, meine Seele\\nDer Flamme gleich in ew'ger frommer Klarheit\\nZu euern Wohnungen hinaufgezogen,\\nDaß ich nur meines Hauses Greuel später\\nUnd tiefer fühlen sollte? – Sage mir\\nVom Unglücksel'gen! Sprich mir von Orest! –\\n\": 0,\n",
      "                     \"\\nVerehr' in ihm\\nDen König, der mein zweiter Vater ward!\\nVerzeih mir, Bruder! doch mein kindlich Herz\\nHat unser ganz Geschick in seine Hand\\n\\n Gelegt. Gestanden hab' ich euern Anschlag\\nUnd meine Seele vom Verrat gerettet.\\n\": 0,\n",
      "                     \"\\nWeh dir, unseliges Mycen!\\nSo haben Tantals Enkel Fluch auf Fluch\\nMit vollen wilden Händen ausgesät!\\nUnd, gleich dem Unkraut, wüste Häupter schüttelnd\\nUnd tausendfält'gen Samen um sich streuend,\\nDen Kindeskindern nahverwandte Mörder\\nZur ew'gen Wechselwut erzeugt! Enthülle,\\nWas von der Rede deines Bruders schnell\\nDie Finsternis des Schreckens mir verdeckte.\\nWie ist des großen Stammes letzter Sohn,\\nDas holde Kind, bestimmt, des Vaters Rächer\\nDereinst zu sein, wie ist Orest dem Tage\\n\\n Des Bluts entgangen? Hat ein gleich Geschick\\nMit des Avernus Netzen ihn umschlungen?\\nIst er gerettet? Lebt er? Lebt Elektra?\\n\": 0},\n",
      " 'iphigenie-pylades': {\"\\nDenken die Himmlischen\\nEinem der Erdgebornen\\nViele Verwirrungen zu,\\nUnd bereiten sie ihm\\nVon der Freude zu Schmerzen\\nUnd von Schmerzen zur Freude\\nTief erschütternden Übergang:\\nDann erziehen sie ihm\\nIn der Nähe der Stadt,\\n\\n Oder am fernen Gestade,\\nDaß in Stunden der Not\\nAuch die Hilfe bereit sei,\\nEinen ruhigen Freund.\\nO segnet, Götter, unsern Pylades\\nUnd was er immer unternehmen mag!\\nEr ist der Arm des Jünglings in der Schlacht,\\nDes Greises leuchtend Aug' in der Versammlung:\\nDenn seine Seel' ist stille; sie bewahrt\\nDer Ruhe heil'ges unerschöpftes Gut,\\nUnd den Umhergetriebnen reichet er\\nAus ihren Tiefen Rat und Hilfe. Mich\\nRiß er vom Bruder los; den staunt' ich an\\nUnd immer wieder an, und konnte mir\\nDas Glück nicht eigen machen, ließ ihn nicht\\nAus meinen Armen los, und fühlte nicht\\nDie Nähe der Gefahr, die uns umgibt.\\nJetzt gehn sie, ihren Anschlag auszuführen,\\nDer See zu, wo das Schiff mit den Gefährten,\\nIn einer Bucht versteckt, aufs Zeichen lauert,\\nUnd haben kluges Wort mir in den Mund\\nGegeben, mich gelehrt, was ich dem König\\nAntworte, wenn er sendet und das Opfer\\nMir dringender gebietet. Ach! ich sehe wohl,\\nIch muß mich leiten lassen wie ein Kind.\\nIch habe nicht gelernt, zu hinterhalten,\\nNoch jemand etwas abzulisten. Weh!\\nO weh der Lüge! Sie befreiet nicht,\\nWie jedes andre, wahrgesprochne Wort,\\nDie Brust; sie macht uns nicht getrost, sie ängstet\\nDen, der sie heimlich schmiedet, und sie kehrt,\\nEin losgedruckter Pfeil, von einem Gotte\\nGewendet und versagend, sich zurück\\nUnd trifft den Schützen. Sorg' auf Sorge schwankt\\nMir durch die Brust. Es greift die Furie\\nVielleicht den Bruder auf dem Boden wieder\\nDes ungeweihten Ufers grimmig an?\\nEntdeckt man sie vielleicht? Mich dünkt, ich höre\\nGewaffnete sich nahen! – Hier! – Der Bote\\n\\n Kommt von dem Könige mit schnellem Schritt.\\nEs schlägt mein Herz, es trübt sich meine Seele,\\nDa ich des Mannes Angesicht erblicke,\\nDem ich mit falschem Wort begegnen soll.\\n\": 0,\n",
      "                       '\\nDie Priesterin, von ihrer Göttin selbst\\nGewählet und geheiligt, spricht mit dir.\\nDas laß dir gnügen; sage, wer du seist,\\nUnd welch unselig waltendes Geschick\\nMit dem Gefährten dich hierher gebracht.\\n': 0,\n",
      "                       \"\\nDie Sorge nenn' ich edel, die mich warnt,\\nDen König, der mein zweiter Vater ward,\\nNicht tückisch zu betrügen, zu berauben.\\n\": 0,\n",
      "                       '\\nDu siehst mich hier voll Sorgen und Erwartung\\nDes sichern Trostes, den du mir versprichst.\\n': 0,\n",
      "                       \"\\nEr schweigt von meinem Vater, nennt ihn nicht\\nMit den Erschlagnen. Ja! er lebt mir noch!\\nIch werd' ihn sehn. O hoffe, liebes Herz!\\n\": 0,\n",
      "                       '\\nGesegnet seist du, und es möge nie\\nVon deiner Lippe, die so Gutes sprach,\\nDer Ton des Leidens und der Klage tönen!\\n': 0,\n",
      "                       \"\\nIch habe, teurer Mann; doch wirst du schelten.\\nEin schweigender Verweis war mir dein Anblick.\\nDes Königs Bote kam, und wie du es\\nMir in den Mund gelegt, so sagt' ich's ihm.\\nEr schien zu staunen und verlangte dringend,\\nDie seltne Feier erst dem Könige\\nZu melden, seinen Willen zu vernehmen;\\nUnd nun erwart' ich seine Wiederkehr.\\n\": 0,\n",
      "                       \"\\nIch muß ihm folgen: denn die Meinigen\\nSeh' ich in dringender Gefahr. Doch ach!\\nMein eigen Schicksal macht mir bang und bänger.\\nO soll ich nicht die stille Hoffnung retten,\\nDie in der Einsamkeit ich schön genährt?\\nSoll dieser Fluch denn ewig walten? Soll\\nNie dies Geschlecht mit einem neuen Segen\\nSich wieder heben? – Nimmt doch alles ab!\\nDas beste Glück, des Lebens schönste Kraft\\nErmattet endlich! Warum nicht der Fluch?\\nSo hofft' ich denn vergebens, hier verwahrt,\\nVon meines Hauses Schicksal abgeschieden,\\nDereinst mit reiner Hand und reinem Herzen\\nDie schwer befleckte Wohnung zu entsühnen.\\nKaum wird in meinen Armen mir ein Bruder\\nVom grimm'gen Übel wundervoll und schnell\\nGeheilt, kaum naht ein lang' erflehtes Schiff,\\n\\n Mich in den Port der Vaterwelt zu leiten,\\nSo legt die taube Not ein doppelt Laster\\nMit ehrner Hand mir auf: das heilige,\\nMir anvertraute, viel verehrte Bild\\nZu rauben und den Mann zu hintergehn,\\nDem ich mein Leben und mein Schicksal danke.\\nO daß in meinem Busen nicht zuletzt\\nEin Widerwillen keime! Der Titanen,\\nDer alten Götter tiefer Haß auf euch,\\nOlympier, nicht auch die zarte Brust\\nMit Geierklauen fasse! Rettet mich\\nUnd rettet euer Bild in meiner Seele!\\n\": 0,\n",
      "                       '\\nO laß mich zaudern! denn du tätest selbst\\n\\n Ein solches Unrecht keinem Mann gelassen,\\nDem du für Wohltat dich verpflichtet hieltest.\\n': 0,\n",
      "                       \"\\nO trüg' ich doch ein männlich Herz in mir,\\nDas, wenn es einen kühnen Vorsatz hegt,\\nVor jeder andern Stimme sich verschließt!\\n\": 0,\n",
      "                       \"\\nSchilt\\nNur mich, die Schuld ist mein, ich fühl' es wohl;\\nDoch konnt' ich anders nicht dem Mann begegnen,\\nDer mit Vernunft und Ernst von mir verlangte,\\nWas ihm mein Herz als Recht gestehen mußte.\\n\": 0,\n",
      "                       \"\\nSo groß dein Unglück ist, beschwör' ich dich:\\nVergiß es, bis du mir genug getan.\\n\": 0,\n",
      "                       \"\\nUnglücklicher, ich löse deine Bande\\nZum Zeichen eines schmerzlichern Geschicks.\\nDie Freiheit, die das Heiligtum gewährt,\\nIst, wie der letzte lichte Lebensblick\\nDes schwer Erkrankten, Todesbote. Noch\\nKann ich es mir und darf es mir nicht sagen,\\nDaß ihr verloren seid ! Wie könnt' ich euch\\nMit mörderischer Hand dem Tode weihen?\\nUnd niemand, wer es sei, darf euer Haupt,\\nSolang' ich Priesterin Dianens bin,\\nBerühren. Doch verweigr' ich jene Pflicht,\\nWie sie der aufgebrachte König fordert,\\nSo wählt er eine meiner Jungfraun mir\\nZur Folgerin, und ich vermag alsdann\\nMit heißem Wunsch allein euch beizustehn.\\n\\n O werter Landsmann! Selbst der letzte Knecht,\\nDer an den Herd der Vatergötter streifte,\\nIst uns in fremdem Lande hoch willkommen:\\nWie soll ich euch genug mit Freud' und Segen\\nEmpfangen, die ihr mir das Bild der Helden,\\nDie ich von Eltern her verehren lernte,\\nEntgegen bringet und das innre Herz\\nMit neuer, schöner Hoffnung schmeichelnd labet!\\n\": 0,\n",
      "                       \"\\nVernehm' ich dich, so wendet sich, o Teurer,\\nWie sich die Blume nach der Sonne wendet,\\nDie Seele, von dem Strahle deiner Worte\\nGetroffen, sich dem süßen Troste nach.\\nWie köstlich ist des gegenwärt'gen Freundes\\nGewisse Rede, deren Himmelskraft\\nEin Einsamer entbehrt und still versinkt.\\nDenn langsam reift, verschlossen in dem Busen,\\nGedank' ihm und Entschluß; die Gegenwart\\nDes Liebenden entwickelte sie leicht.\\n\": 0,\n",
      "                       '\\nVerzeih! Wie leichte Wolken vor der Sonne,\\nSo zieht mir vor der Seele leichte Sorge\\nUnd Bangigkeit vorüber.\\n': 0,\n",
      "                       '\\nWoher du seist und kommst, o Fremdling, sprich!\\nMir scheint es, daß ich eher einem Griechen\\nAls einem Skythen dich vergleichen soll.\\n': 0},\n",
      " 'iphigenie-thoas': {\"\\nDas Los der Waffen wechselt hin und her:\\nKein kluger Streiter hält den Feind gering.\\nAuch ohne Hilfe gegen Trutz und Härte\\n\\n Hat die Natur den Schwachen nicht gelassen.\\nSie gab zur List ihm Freude, lehrt' ihn Künste:\\nBald weicht er aus, verspätet und umgeht.\\nJa, der Gewaltige verdient, daß man sie übt.\\n\": 0,\n",
      "                     '\\nDer Unbekannten bietest du zu viel,\\nO König, an. Es steht die Flüchtige\\nBeschämt vor dir, die nichts an diesem Ufer\\nAls Schutz und Ruhe sucht, die du ihr gabst.\\n': 0,\n",
      "                     \"\\nDer Zweifel ist's, der Gutes böse macht.\\nBedenke nicht; gewähre, wie du's fühlst.\\n\": 0,\n",
      "                     \"\\nDes Atreus ältster Sohn war Agamemnon:\\nEr ist mein Vater. Doch, ich darf es sagen,\\nIn ihm hab' ich seit meiner ersten Zeit\\nEin Muster des vollkommnen Manns gesehn.\\nIhm brachte Klytämnestra mich, den Erstling\\nDer Liebe, dann Elektren. Ruhig herrschte\\nDer König, und es war dem Hause Tantals\\nDie lang' entbehrte Rast gewährt. Allein\\nEs mangelte dem Glück der Eltern noch\\nEin Sohn, und kaum war dieser Wunsch erfüllt,\\nDaß zwischen beiden Schwestern nun Orest,\\nDer Liebling, wuchs, als neues Übel schon\\nDem sichern Hause zubereitet war.\\nDer Ruf des Krieges ist zu euch gekommen,\\nDer, um den Raub der schönsten Frau zu rächen,\\nDie ganze Macht der Fürsten Griechenlands\\nUm Trojens Mauern lagerte. Ob sie\\nDie Stadt gewonnen, ihrer Rache Ziel\\nErreicht, vernahm ich nicht. Mein Vater führte\\nDer Griechen Heer. In Aulis harrten sie\\nAuf günst'gen Wind vergebens: denn Diane,\\nErzürnt auf ihren großen Führer, hielt\\nDie Eilenden zurück und forderte\\nDurch Kalchas' Mund des Königs ältste Tochter.\\nSie lockten mit der Mutter mich ins Lager;\\nSie rissen mich vor den Altar und weihten\\nDer Göttin dieses Haupt. – Sie war versöhnt!\\nSie wollte nicht mein Blut und hüllte rettend\\nIn eine Wolke mich; in diesem Tempel\\nErkannt' ich mich zuerst vom Tode wieder.\\nIch bin es selbst, bin Iphigenie,\\n\\n Des Atreus Enkel, Agamemnons Tochter,\\nDer Göttin Eigentum, die mit dir spricht.\\n\": 0,\n",
      "                     '\\nDu hast Wolken, gnädige Retterin,\\nEinzuhüllen unschuldig Verfolgte,\\nUnd auf Winden dem ehrnen Geschick sie\\nAus den Armen, über das Meer,\\nÜber der Erde weiteste Strecken,\\n\\n Und wohin es dir gutdünkt, zu tragen.\\nWeise bist du und siehest das Künftige;\\nNicht vorüber ist dir das Vergangne,\\nUnd dein Blick ruht über den Deinen,\\nWie dein Licht, das Leben der Nächte,\\nÜber der Erde ruhet und waltet.\\nO, enthalte vom Blut meine Hände!\\nNimmer bringt es Segen und Ruhe;\\nUnd die Gestalt des zufällig Ermordeten\\nWird auf des traurig-unwilligen Mörders\\nBöse Stunden lauern und schrecken.\\nDenn die Unsterblichen lieben der Menschen\\nWeit verbreitete gute Geschlechter,\\nUnd sie fristen das flüchtige Leben\\nGerne dem Sterblichen, wollen ihm gerne\\nIhres eigenen, ewigen Himmels\\nMitgenießendes fröhliches Anschaun\\nEine Weile gönnen und lassen.\\n': 0,\n",
      "                     '\\nEntheiliget\\nDer Göttin Wohnung nicht durch Wut und Mord.\\nGebietet eurem Volke Stillstand, höret\\nDie Priesterin, die Schwester!\\n': 0,\n",
      "                     '\\nEr ist es; aber Götter sollten nicht\\nMit Menschen wie mit ihresgleichen wandeln:\\nDas sterbliche Geschlecht ist viel zu schwach,\\nIn ungewohnter Höhe nicht zu schwindeln.\\nUnedel war er nicht und kein Verräter,\\nAllein zum Knecht zu groß, und zum Gesellen\\nDes großen Donnrers nur ein Mensch. So war\\nAuch sein Vergehen menschlich; ihr Gericht\\nWar streng, und Dichter singen: Übermut\\nUnd Untreu stürzten ihn von Jovis Tisch\\nZur Schmach des alten Tartarus hinab.\\nAch, und sein ganz Geschlecht trug ihren Haß!\\n': 0,\n",
      "                     \"\\nEs hört sie jeder,\\nGeboren unter jedem Himmel, dem\\nDes Lebens Quelle durch den Busen rein\\nUnd ungehindert fließt. – Was sinnst du mir,\\n\\n O König, schweigend in der tiefen Seele?\\nIst es Verderben? so töte mich zuerst!\\nDenn nun empfind' ich, da uns keine Rettung\\nMehr übrigbleibt, die gräßliche Gefahr,\\nWorein ich die Geliebten übereilt\\nVorsätzlich stürzte. Weh! Ich werde sie\\nGebunden vor mir sehn! Mit welchen Blicken\\nKann ich von meinem Bruder Abschied nehmen,\\nDen ich ermorde? Nimmer kann ich ihm\\nMehr in die vielgeliebten Augen schaun!\\n\": 0,\n",
      "                     \"\\nGedenk', o König, deines edeln Wortes!\\nWillst du mein Zutraun so erwidern? Du\\nSchienst vorbereitet, alles zu vernehmen.\\n\": 0,\n",
      "                     \"\\nHat denn zur unerhörten Tat der Mann\\nAllein das Recht? Drückt denn Unmögliches\\nNur er an die gewalt'ge Heldenbrust?\\nWas nennt man groß? Was hebt die Seele schaudernd\\nDem immer wiederholenden Erzähler,\\nAls was mit unwahrscheinlichem Erfolg\\nDer Mutigste begann? Der in der Nacht\\nAllein das Heer des Feindes überschleicht,\\nWie unversehen eine Flamme wütend\\nDie Schlafenden, Erwachenden ergreift,\\nZuletzt, gedrängt von den Ermunterten,\\nAuf Feindes Pferden, doch mit Beute kehrt,\\nWird der allein gepriesen? der allein,\\nDer, einen sichern Weg verachtend, kühn\\n\\n Gebirg' und Wälder durchzustreifen geht,\\nDaß er von Räubern eine Gegend säubre?\\nIst uns nichts übrig? Muß ein zartes Weib\\nSich ihres angebornen Rechts entäußern,\\nWild gegen Wilde sein, wie Amazonen\\nDas Recht des Schwerts euch rauben und mit Blute\\nDie Unterdrückung rächen? Auf und ab\\nSteigt in der Brust ein kühnes Unternehmen:\\nIch werde großem Vorwurf nicht entgehn,\\nNoch schwerem Übel, wenn es mir mißlingt;\\nAllein euch leg' ich's auf die Kniee! Wenn\\nIhr wahrhaft seid, wie ihr gepriesen werdet,\\nSo zeigt's durch euern Beistand und verherrlicht\\nDurch mich die Wahrheit! – Ja, vernimm, o König,\\nEs wird ein heimlicher Betrug geschmiedet:\\nVergebens fragst du den Gefangnen nach;\\nSie sind hinweg und suchen ihre Freunde,\\nDie mit dem Schiff am Ufer warten, auf.\\nDer ältste, den das Übel hier ergriffen\\nUnd nun verlassen hat – es ist Orest,\\nMein Bruder, und der andre sein Vertrauter,\\nSein Jugendfreund, mit Namen Pylades.\\nApoll schickt sie von Delphi diesem Ufer\\nMit göttlichen Befehlen zu, das Bild\\nDianens wegzurauben und zu ihm\\nDie Schwester hinzubringen, und dafür\\nVerspricht er dem von Furien Verfolgten,\\nDes Mutterblutes Schuldigen, Befreiung.\\nUnd beide hab' ich nun, die Überbliebnen\\nVon Tantals Haus, in deine Hand gelegt:\\nVerdirb uns – wenn du darfst.\\n\": 0,\n",
      "                     \"\\nLaß ab! Beschönige nicht die Gewalt,\\nDie sich der Schwachheit eines Weibes freut.\\nIch bin so frei geboren als ein Mann.\\nStünd' Agamemnons Sohn dir gegenüber,\\nUnd du verlangtest, was sich nicht gebührt,\\nSo hat auch er ein Schwert und einen Arm,\\nDie Rechte seines Busens zu verteid'gen.\\nIch habe nichts als Worte, und es ziemt\\nDem edlen Mann, der Frauen Wort zu achten.\\n\": 0,\n",
      "                     \"\\nMit nichten! Dieses blutigen Beweises\\nBedarf es nicht, o König! Laßt die Hand\\nVom Schwerte! Denkt an mich und mein Geschick.\\n\\n Der rasche Kampf verewigt einen Mann:\\nEr falle gleich, so preiset ihn das Lied.\\nAllein die Tränen, die unendlichen,\\nDer überbliebnen, der verlaßnen Frau\\nZählt keine Nachwelt, und der Dichter schweigt\\nVon tausend durchgeweinten Tag' und Nächten,\\nWo eine stille Seele den verlornen,\\nRasch abgeschiednen Freund vergebens sich\\nZurückzurufen bangt und sich verzehrt.\\nMich selbst hat eine Sorge gleich gewarnt,\\nDaß der Betrug nicht eines Räubers mich\\nVom sichern Schutzort reiße, mich der Knechtschaft\\nVerrate. Fleißig hab' ich sie befragt,\\nNach jedem Umstand mich erkundigt, Zeichen\\nGefordert, und gewiß ist nun mein Herz.\\nSieh hier an seiner rechten Hand das Mal\\nWie von drei Sternen, das am Tage schon,\\nDa er geboren ward, sich zeigte, das\\nAuf schwere Tat, mit dieser Faust zu üben,\\nDer Priester deutete. Dann überzeugt\\nMich doppelt diese Schramme, die ihm hier\\nDie Augenbraue spaltet. Als ein Kind\\nLieß ihn Elektra, rasch und unvorsichtig\\nNach ihrer Art, aus ihren Armen stürzen.\\nEr schlug auf einen Dreifuß auf. – Er ist's –\\nSoll ich dir noch die Ähnlichkeit des Vaters,\\nSoll ich das innre Jauchzen meines Herzens\\nDir auch als Zeugen der Versichrung nennen?\\n\": 0,\n",
      "                     \"\\nNein! o König, nein!\\nIch könnte hintergangen werden; diese\\nSind treu und wahr. Wirst du sie anders finden,\\nSo laß sie fallen und verstoße mich\\nVerbanne mich zur Strafe meiner Torheit\\nAn einer Klippeninsel traurig Ufer.\\nIst aber dieser Mann der lang' erflehte,\\nGeliebte Bruder, so entlaß uns, sei\\nAuch den Geschwistern wie der Schwester freundlich.\\nMein Vater fiel durch seiner Frauen Schuld,\\nUnd sie durch ihren Sohn. Die letzte Hoffnung\\nVon Atreus' Stamme ruht auf ihm allein.\\nLaß mich mit reinem Herzen, reiner Hand\\nHinübergehn und unser Haus entsühnen.\\nDu hältst mir Wort! – Wenn zu den Meinen je\\nMir Rückkehr zubereitet wäre, schwurst\\nDu, mich zu lassen, und sie ist es nun.\\nEin König sagt nicht, wie gemeine Menschen,\\nVerlegen zu, daß er den Bittenden\\nAuf einen Augenblick entferne, noch\\nVerspricht er auf den Fall, den er nicht hofft:\\nDann fühlt er erst die Höhe seiner Würde,\\nWenn er den Harrenden beglücken kann.\\n\": 0,\n",
      "                     \"\\nNicht Priesterin! nur Agamemnons Tochter.\\nDer Unbekannten Wort verehrtest du,\\nDer Fürstin willst du rasch gebieten? Nein!\\nVon Jugend auf hab' ich gelernt gehorchen,\\nErst meinen Eltern und dann einer Gottheit,\\nUnd folgsam fühlt' ich immer meine Seele\\nAm schönsten frei; allein dem harten Worte,\\nDem rauhen Ausspruch eines Mannes mich\\nZu fügen, lernt' ich weder dort noch hier.\\n\\n\": 0,\n",
      "                     \"\\nNicht Worte sind es, die nur blenden sollen:\\nIch habe dir mein tiefstes Herz entdeckt.\\nUnd sagst du dir nicht selbst, wie ich dem Vater,\\nDer Mutter, den Geschwistern mich entgegen\\nMit ängstlichen Gefühlen sehnen muß?\\nDaß in den alten Hallen, wo die Trauer\\nNoch manchmal stille meinen Namen lispelt,\\nDie Freude, wie um eine Neugeborne,\\nDen schönsten Kranz von Säul' an Säulen schlinge.\\nO sendetest du mich auf Schiffen hin!\\nDu gäbest mir und allen neues Leben.\\n\": 0,\n",
      "                     \"\\nNicht so, mein König! Ohne Segen,\\nIn Widerwillen, scheid' ich nicht von dir.\\nVerbann' uns nicht! Ein freundlich Gastrecht walte\\nVon dir zu uns: so sind wir nicht auf ewig\\nGetrennt und abgeschieden. Wert und teuer,\\nWie mir mein Vater war, so bist du's mir,\\nUnd dieser Eindruck bleibt in meiner Seele.\\nBringt der Geringste deines Volkes je\\nDen Ton der Stimme mir ins Ohr zurück,\\nDen ich an euch gewohnt zu hören bin,\\nUnd seh' ich an dem Ärmsten eure Tracht:\\nEmpfangen will ich ihn wie einen Gott,\\nIch will ihm selbst ein Lager zubereiten,\\nAuf einen Stuhl ihn an das Feuer laden\\nUnd nur nach dir und deinem Schicksal fragen.\\nO geben dir die Götter deiner Taten\\nUnd deiner Milde wohlverdienten Lohn!\\nLeb' wohl! O wende dich zu uns und gib\\nEin holdes Wort des Abschieds mir zurück!\\nDann schwellt der Wind die Segel sanfter an,\\nUnd Tränen fließen lindernder vom Auge\\nDes Scheidenden. Leb' wohl! und reiche mir\\nZum Pfand der alten Freundschaft deine Rechte.\\n\": 0,\n",
      "                     \"\\nO laß die Gnade, wie das heil'ge Licht\\nDer stillen Opferflamme, mir, umkränzt\\nVon Lobgesang und Dank und Freude, lodern.\\n\": 0,\n",
      "                     \"\\nO sähest du, wie meine Seele kämpft,\\nEin bös Geschick, das sie ergreifen will,\\nIm ersten Anfall mutig abzutreiben!\\nSo steh' ich denn hier wehrlos gegen dich?\\nDie schöne Bitte, den anmut'gen Zweig,\\nIn einer Frauen Hand gewaltiger\\nAls Schwert und Waffe, stößest du zurück:\\nWas bleibt mir nun, mein Innres zu verteid'gen?\\nRuf' ich die Göttin um ein Wunder an?\\nIst keine Kraft in meiner Seele Tiefen?\\n\": 0,\n",
      "                     \"\\nRed' oder schweig' ich, immer kannst du wissen,\\nWas mir im Herzen ist und immer bleibt.\\nLöst die Erinnerung des gleichen Schicksals\\nNicht ein verschloßnes Herz zum Mitleid auf?\\nWie mehr denn meins! In ihnen seh' ich mich.\\nIch habe vorm Altare selbst gezittert,\\nUnd feierlich umgab der frühe Tod\\nDie Knieende: das Messer zuckte schon,\\nDen lebenvollen Busen zu durchbohren;\\nMein Innerstes entsetzte wirbelnd sich,\\nMein Auge brach, und – ich fand mich gerettet.\\nSind wir, was Götter gnädig uns gewährt,\\nUnglücklichen nicht zu erstatten schuldig?\\nDu weißt es, kennst mich, und du willst mich zwingen!\\n\": 0,\n",
      "                     \"\\nSchilt nicht, o König, unser arm Geschlecht.\\nNicht herrlich wie die euern, aber nicht\\nUnedel sind die Waffen eines Weibes.\\nGlaub' es, darin bin ich dir vorzuziehn\\nDaß ich dein Glück mehr als du selber kenne.\\nDu wähnest, unbekannt mit dir und mir\\nEin näher Band werd' uns zum Glück vereinen.\\nVoll guten Mutes, wie voll guten Willens,\\nDringst du in mich, daß ich mich fügen soll;\\nUnd hier dank' ich den Göttern, daß sie mir\\nDie Festigkeit gegeben, dieses Bündnis\\nNicht einzugehen, das sie nicht gebilligt.\\n\": 0,\n",
      "                     \"\\nSo\\nBüß' ich nun das Vertraun, das du erzwangst.\\n\": 0,\n",
      "                     \"\\nUm meinetwillen hab' ich's nie begehrt.\\nDer mißversteht die Himmlischen, der sie\\nBlutgierig wähnt: er dichtet ihnen nur\\nDie eignen grausamen Begierden an.\\nEntzog die Göttin mich nicht selbst dem Priestet?\\nIhr war mein Dienst willkommner als mein Tod.\\n\": 0,\n",
      "                     \"\\nVerbarg ich meiner Eltern Namen und\\nMein Haus, o König, war's Verlegenheit,\\nNicht Mißtraun. Denn vielleicht, ach! wüßtest du,\\nWer vor dir steht, und welch verwünschtes Haupt\\nDu nährst und schützest: ein Entsetzen faßte\\nDein großes Herz mit seltnem Schauer an,\\nUnd statt die Seite deines Thrones mir\\nZu bieten, triebest du mich vor der Zeit\\nAus deinem Reiche; stießest mich vielleicht,\\nEh' zu den Meinen frohe Rückkehr mir\\nUnd meiner Wandrung Ende zugedacht ist,\\nDem Elend zu, das jeden Schweifenden,\\n\\n Von seinem Haus Vertriebnen überall\\nMit kalter, fremder Schreckenshand erwartet.\\n\": 0,\n",
      "                     \"\\nVom alten Bande löset ungern sich\\nDie Zunge los, ein langverschwiegenes\\nGeheimnis endlich zu entdecken. Denn\\nEinmal vertraut, verläßt es ohne Rückkehr\\nDes tiefen Herzens sichre Wohnung, schadet,\\nWie es die Götter wollen, oder nützt.\\nVernimm! Ich bin aus Tantalus' Geschlecht.\\n\": 0,\n",
      "                     \"\\nWenn dir das Herz zum grausamen Entschluß\\nVerhärtet ist, so solltest du nicht kommen!\\nEin König, der Unmenschliches verlangt,\\nFindt Diener gnug, die gegen Gnad' und Lohn\\nDen halben Fluch der Tat begierig fassen;\\nDoch seine Gegenwart bleibt unbefleckt.\\nEr sinnt den Tod in einer schweren Wolke\\nUnd seine Boten bringen flammendes\\nVerderben auf des Armen Haupt hinab;\\nEr aber schwebt durch seine Höhen ruhig,\\nEin unerreichter Gott, im Sturme fort.\\n\": 0,\n",
      "                     '\\nWie darf ich solchen Schritt, o König, wagen?\\nHat nicht die Göttin, die mich rettete,\\nAllein das Recht auf mein geweihtes Leben?\\nSie hat für mich den Schutzort ausgesucht,\\nUnd sie bewahrt mich einem Vater, den\\nSie durch den Schein genug gestraft, vielleicht\\nZur schönsten Freude seines Alters hier.\\nVielleicht ist mir die frohe Rückkehr nah?\\nUnd ich, auf ihren Weg nicht achtend, hätte\\nMich wider ihren Willen hier gefesselt?\\nEin Zeichen bat ich, wenn ich bleiben sollte.\\n': 0,\n",
      "                     '\\nWir fassen ein Gesetz begierig an,\\nDas unsrer Leidenschaft zur Waffe dient.\\nEin andres spricht zu mir: ein älteres,\\nMich dir zu widersetzen, das Gebot,\\nDem jeder Fremde heilig ist.\\n': 0,\n",
      "                     \"\\nWohl dem, der seiner Väter gern gedenkt,\\nDer froh von ihren Taten, ihrer Größe\\n\\n Den Hörer unterhält und, still sich freuend,\\nAns Ende dieser schönen Reihe sich\\nGeschlossen sieht! Denn es erzeugt nicht gleich\\nEin Haus den Halbgott, noch das Ungeheuer;\\nErst eine Reihe Böser oder Guter\\nBringt endlich das Entsetzen, bringt die Freude\\nDer Welt hervor. – Nach ihres Vaters Tode\\nGebieten Atreus und Thyest der Stadt,\\nGemeinsam herrschend. Lange konnte nicht\\nDie Eintracht dauern. Bald entehrt Thyest\\nDes Bruders Bette. Rächend treibet Atreus\\nIhn aus dem Reiche. Tückisch hatte schon\\nThyest, auf schwere Taten sinnend, lange\\nDem Bruder einen Sohn entwandt und heimlich\\nIhn als den seinen schmeichelnd auferzogen.\\nDem füllet er die Brust mit Wut und Rache\\nUnd sendet ihn zur Königsstadt, daß er\\nIm Oheim seinen eignen Vater morde.\\nDes Jünglings Vorsatz wird entdeckt: der König\\nStraft grausam den gesandten Mörder, wähnend,\\nEr töte seines Bruders Sohn. Zu spät\\nErfährt er, wer vor seinen trunknen Augen\\nGemartert stirbt; und die Begier der Rache\\nAus seiner Brust zu tilgen, sinnt er still\\nAuf unerhörte Tat. Er scheint gelassen,\\nGleichgültig und versöhnt, und lockt den Bruder\\nMit seinen beiden Söhnen in das Reich\\nZurück, ergreift die Knaben, schlachtet sie\\nUnd setzt die ekle, schaudervolle Speise\\nDem Vater bei dem ersten Mahle vor.\\nUnd da Thyest an seinem Fleische sich\\nGesättigt, eine Wehmut ihn ergreift,\\nEr nach den Kindern fragt, den Tritt, die Stimme\\nDer Knaben an des Saales Türe schon\\nZu hören glaubt, wirft Atreus grinsend\\nIhm Haupt und Füße der Erschlagnen hin.\\nDu wendest schaudernd dein Gesicht, o König:\\nSo wendete die Sonn' ihr Antlitz weg\\nUnd ihren Wagen aus dem ew'gen Gleise.\\n\\n Dies sind die Ahnherrn deiner Priesterin;\\nUnd viel unseliges Geschick der Männer,\\nViel Taten des verworrnen Sinnes deckt\\nDie Nacht mit schweren Fittichen und läßt\\nUns nur in grauenvolle Dämmrung sehn.\\n\": 0,\n",
      "                     \"\\nZwar die gewalt'ge Brust und der Titanen\\nKraftvolles Mark war seiner Söhn' und Enkel\\nGewisses Erbteil; doch es schmiedete\\nDer Gott um ihre Stirn ein ehern Band.\\nRat, Mäßigung und Weisheit und Geduld\\nVerbarg er ihrem scheuen, düstern Blick:\\nZur Wut ward ihnen jegliche Begier,\\nUnd grenzenlos drang ihre Wut umher.\\nSchon Pelops, der Gewaltig-Wollende,\\nDes Tantalus geliebter Sohn, erwarb\\nSich durch Verrat und Mord das schönste Weib,\\nÖnomaus' Erzeugte, Hippodamien.\\nSie bringt den Wünschen des Gemahls zwei Söhne,\\nThyest und Atreus. Neidisch sehen sie\\nDes Vaters Liebe zu dem ersten Sohn\\nAus einem andern Bette wachsend an.\\nDer Haß verbindet sie, und heimlich wagt\\nDas Paar im Brudermord die erste Tat.\\nDer Vater wähnet Hippodamien\\nDie Mörderin, und grimmig fordert er\\nVon ihr den Sohn zurück, und sie entleibt\\nSich selbst\\n\": 0},\n",
      " 'orest-arkas': {},\n",
      " 'orest-iphigenie': {\"\\nBist du gastfreundlich diesem Königshause,\\nBist du mit nähern Banden ihm verbunden,\\nWie deine schöne Freude mir verrät,\\nSo bändige dein Herz und halt es fest!\\nDenn unerträglich muß dem Fröhlichen\\nEin jäher Rückfall in die Schmerzen sein.\\nDu weißt nur, merk' ich, Agamemnons Tod.\\n\": 0,\n",
      "                     \"\\nDie eine kannt' ich; doch die ältste nahm\\nIhr gut Geschick, das uns so schrecklich schien,\\nBei Zeiten aus dem Elend unsers Hauses.\\nO laß dein Fragen und geselle dich\\nNicht auch zu den Erinnyen; sie blasen\\nMir schadenfroh die Asche von der Seele\\nUnd leiden nicht, daß sich die letzten Kohlen\\nVon unsers Hauses Schreckensbrande still\\nIn mir verglimmen. Soll die Glut denn ewig,\\nVorsätzlich angefacht, mit Höllenschwefel\\nGenährt, mir auf der Seele marternd brennen?\\n\": 0,\n",
      "                     \"\\nDurch Rauch und Qualm seh' ich den matten Schein\\nDes Totenflusses mir zur Hölle leuchten.\\n\": 0,\n",
      "                     \"\\nEs ist der Weg des Todes, den wir treten:\\nMit jedem Schritt wird meine Seele stiller.\\nAls ich Apollen bat, das gräßliche\\nGeleit der Rachegeister von der Seite\\nMir abzunehmen, schien er Hilf' und Rettung\\nIm Tempel seiner vielgeliebten Schwester,\\nDie über Tauris herrscht, mit hoffnungsreichen,\\nGewissen Götterworten zu versprechen;\\nUnd nun erfüllet sich's, daß alle Not\\nMit meinem Leben völlig enden soll.\\nWie leicht wird's mir, dem eine Götterhand\\nDas Herz zusammendrückt, den Sinn betäubt,\\nDem schönen Licht der Sonne zu entsagen.\\n\\n Und sollen Atreus' Enkel in der Schlacht\\nEin siegbekröntes Ende nicht gewinnen,\\nSoll ich wie meine Ahnen, wie mein Vater\\nAls Opfertier im Jammertode bluten:\\nSo sei es! Besser hier vor dem Altar,\\nAls im verworfnen Winkel, wo die Netze\\nDer nahverwandte Meuchelmörder stellt.\\nLaßt mir so lange Ruh, ihr Unterird'schen,\\nDie nach dem Blut ihr, das von meinen Tritten\\nHernieder träufelnd meinen Pfad bezeichnet,\\nWie losgelaßne Hunde spürend hetzt!\\nLaßt mich, ich komme bald zu euch hinab:\\nDas Licht des Tags soll euch nicht sehn, noch mich.\\nDer Erde schöner grüner Teppich soll\\nKein Tummelplatz für Larven sein. Dort unten\\nSuch' ich euch auf: dort bindet alle dann\\nEin gleich Geschick in ew'ge matte Nacht.\\nNur dich, mein Pylades, dich, meiner Schuld\\nUnd meines Banns unschuldigen Genossen\\nWie ungern nehm' ich dich in jenes Trauerland\\nFrühzeitig mit! Dein Leben oder Tod\\nGibt mir allein noch Hoffnung oder Furcht.\\n\": 0,\n",
      "                     '\\nEs ruft! es ruft! So willst du mein Verderben?\\nVerbirgt in dir sich eine Rachegöttin?\\n\\n Wer bist du, deren Stimme mir entsetzlich\\nDas Innerste in seinen Tiefen wendet?\\n': 0,\n",
      "                     \"\\nIch kann nicht leiden, daß du große Seele\\nMit einem falschen Wort betrogen werdest.\\nEin lügenhaft Gewebe knüpf' ein Fremder\\nDem Fremden, sinnreich und der List gewohnt,\\nZur Falle vor die Füße; zwischen uns\\nSei Wahrheit!\\nIch bin Orest! und dieses schuld'ge Haupt\\nSenkt nach der Grube sich und sucht den Tod:\\nIn jeglicher Gestalt sei er willkommen!\\nWer du auch seist, so wünsch' ich Rettung dir's\\nUnd meinem Freunde; mir wünsch' ich sie nicht.\\nDu scheinst hier wider Willen zu verweilen:\\nErfindet Rat zur Flucht und laßt mich hier.\\nEs stürze mein entseelter Leib vom Fels,\\nEs rauche bis zum Meer hinab mein Blut\\nUnd bringe Fluch dem Ufer der Barbaren!\\nGeht ihr, daheim im schönen Griechenland\\nEin neues Leben freundlich anzufangen.\\n\": 0,\n",
      "                     \"\\nIst hier Lyäens Tempel? und ergreift\\nUnbändig-heil'ge Wut die Priesterin?\\n\": 0,\n",
      "                     \"\\nLaß! Hinweg!\\nIch rate dir, berühre nicht die Locken!\\nWie von Kreusas Brautkleid zündet sich\\nEin unauslöschlich Feuer von mir fort.\\nLaß mich! Wie Herkules will ich Unwürd'ger\\nDen Tod voll Schmach, in mich verschlossen, sterben.\\n\": 0,\n",
      "                     \"\\nMit nichten! Laß allein und unbegleitet\\nMich zu den Toten gehn. Verhülltest du\\nIn deinen Schleier selbst den Schuldigen:\\nDu birgst ihn nicht vorm Blick der immer Wachen,\\nUnd deine Gegenwart, du Himmlische,\\nDrängt sie nur seitwärts und verscheucht sie nicht.\\nSie dürfen mit den ehrnen frechen Füßen\\nDes heil'gen Waldes Boden nicht betreten;\\nDoch hör' ich aus der Ferne hier und da\\n\\n Ihr gräßliches Gelächter. Wölfe harren\\nSo um den Baum, auf den ein Reisender\\nSich rettete. Da draußen ruhen sie\\nGelagert; und verlass' ich diesen Hain,\\nDann steigen sie, die Schlangenhäupter schüttelnd,\\nVon allen Seiten Staub erregend auf\\nUnd treiben ihre Beute vor sich her.\\n\": 0,\n",
      "                     \"\\nNoch einen! reiche mir aus Lethes Fluten\\nDen letzten kühlen Becher der Erquickung!\\nBald ist der Krampf des Lebens aus dem Busen\\nHinweggespült; bald fließet still mein Geist,\\nDer Quelle des Vergessens hingegeben,\\nZu euch, ihr Schatten, in die ew'gen Nebel.\\nGefällig laßt in eurer Ruhe sich\\nDen umgetriebnen Sohn der Erde laben! –\\nWelch ein Gelispel hör' ich in den Zweigen,\\nWelch ein Geräusch aus jener Dämmrung säuseln? –\\nSie kommen schon, den neuen Gast zu sehn!\\nWer ist die Schar, die herrlich miteinander\\nWie ein versammelt Fürstenhaus sich freut?\\nSie gehen friedlich, Alt' und Junge, Männer\\nMit Weibern; göttergleich und ähnlich scheinen\\nDie wandelnden Gestalten. Ja, sie sind's,\\nDie Ahnherrn meines Hauses! – Mit Thyesten\\nGeht Atreus in vertraulichen Gesprächen,\\n\\n Die Knaben schlüpfen scherzend um sie her.\\nIst keine Feindschaft hier mehr unter euch?\\nVerlosch die Rache wie das Licht der Sonne?\\nSo bin auch ich willkommen, und ich darf\\nIn euern feierlichen Zug mich mischen.\\nWillkommen, Väter! euch grüßt Orest,\\nVon euerm Stamme der letzte Mann;\\nWas ihr gesät, hat er geerntet:\\nMit Fluch beladen, stieg er herab.\\nDoch leichter trägt sich hier jede Bürde:\\nNehmt ihn, o nehmt ihn in euern Kreis!\\nDich, Atreus, ehr' ich, auch dich, Thyesten:\\nWir sind hier alle der Feindschaft los.\\nZeigt mir den Vater, den ich nur einmal\\nIm Leben sah! – Bist du's, mein Vater?\\nUnd führst die Mutter vertraut mit dir?\\nDarf Klytämnestra die Hand dir reichen,\\nSo darf Orest auch zu ihr treten\\nUnd darf ihr sagen: Sieh deinen Sohn!\\nSeht euern Sohn! Heißt ihn willkommen.\\nAuf Erden war in unserm Hause\\nDer Gruß des Mordes gewisse Losung,\\nUnd das Geschlecht des alten Tantalus\\nHat seine Freuden jenseits der Nacht.\\nIhr ruft: Willkommen! und nehmt mich auf!\\nO führt zum Alten, zum Ahnherrn mich!\\nWo ist der Alte? Daß ich ihn sehe,\\nDas teure Haupt, das vielverehrte,\\nDas mit den Göttern zu Rate saß.\\nIhr scheint zu zaudern, euch wegzuwenden?\\nWas ist es? Leidet der Göttergleiche?\\nWeh mir! es haben die Übermächt'gen\\nDer Heldenbrust grausame Qualen\\nMit ehrnen Ketten fest aufgeschmiedet.\\n\\n\": 0,\n",
      "                     \"\\nO könnte man von seinem Tode sprechen!\\nWie gärend stieg aus der Erschlagnen Blut\\nDer Mutter Geist\\nUnd ruft der Nacht uralten Töchtern zu:\\n›Laßt nicht den Muttermörder entfliehn!\\n\\n Verfolgt den Verbrecher! Euch ist er geweiht!‹\\nSie horchen auf, es schaut ihr hohler Blick\\nMit der Begier des Adlers um sich her.\\nSie rühren sich in ihren schwarzen Höhlen,\\nUnd aus den Winkeln schleichen ihre Gefährten,\\nDer Zweifel und die Reue, leis herbei.\\nVor ihnen steigt ein Dampf vom Acheron;\\nIn seinen Wolkenkreisen wälzet sich\\nDie ewige Betrachtung des Geschehnen\\nVerwirrend um des Schuld'gen Haupt umher.\\nUnd sie, berechtigt zum Verderben, treten\\nDer gottbesäten Erde schönen Boden,\\nVon dem ein alter Fluch sie längst verbannte.\\nDen Flüchtigen verfolgt ihr schneller Fuß:\\nSie geben nur, um neu zu schrecken, Rast.\\n\": 0,\n",
      "                     '\\nRufst du die Götter an für dich und Pylades;\\nSo nenne meinen Namen nicht mit eurem.\\nDu rettest den Verbrecher nicht, zu dem\\nDu dich gesellst, und teilest Fluch und Not.\\n': 0,\n",
      "                     '\\nSage mir!\\nWer ist es, der uns droht?\\n': 0,\n",
      "                     \"\\nSchöne Nymphe,\\nIch traue dir und deinem Schmeicheln nicht.\\nDiana fordert strenge Dienerinnen\\nUnd rächet das entweihte Heiligtum.\\n\\n Entferne deinen Arm von meiner Brust!\\nUnd wenn du einen Jüngling rettend lieben,\\nDas schöne Glück ihm zärtlich bieten willst,\\nSo wende meinem Freunde dein Gemüt,\\nDem würd'gern Manne, zu. Er irrt umher\\nAuf jenem Felsenpfade: such' ihn auf,\\nWeis ihn zurecht und schone meiner.\\n\": 0,\n",
      "                     \"\\nSo haben mich die Götter ausersehn\\nZum Boten einer Tat, die ich so gern\\nIns klanglos-dumpfe Höhlenreich der Nacht\\nVerbergen möchte? Wider meinen Willen\\nZwingt mich dein holder Mund; allein er darf\\nAuch etwas Schmerzlichs fordern und erhält's.\\nAm Tage, da der Vater fiel, verbarg\\nElektra rettend ihren Bruder: Strophius,\\nDes Vaters Schwäher, nahm ihn willig auf,\\nErzog ihn neben seinem eignen Sohne,\\nDer, Pylades genannt, die schönsten Bande\\nDer Freundschaft um den Angekommnen knüpfte.\\nUnd wie sie wuchsen, wuchs in ihrer Seele\\nDie brennende Begier, des Königs Tod\\n\\n Zu rächen. Unversehen, fremdgekleidet,\\nErreichen sie Mycen, als brächten sie\\nDie Trauernachricht von Orestens Tode\\nMit seiner Asche. Wohl empfänget sie\\nDie Königin; sie treten in das Haus.\\nElektren gibt Orest sich zu erkennen;\\nSie bläst der Rache Feuer in ihm auf,\\nDas vor der Mutter heil'ger Gegenwart\\nIn sich zurückgebrannt war. Stille führt\\nSie ihn zum Orte, wo sein Vater fiel,\\nWo eine alte leichte Spur des frech\\nVergoßnen Blutes oftgewaschnen Boden\\nMit blassen ahndungsvollen Streifen färbte.\\nMit ihrer Feuerzunge schilderte\\nSie jeden Umstand der verruchten Tat,\\nIhr knechtisch elend durchgebrachtes Leben,\\nDen Übermut der glücklichen Verräter\\nUnd die Gefahren, die nun der Geschwister\\nVon einer stiefgewordnen Mutter warteten. –\\nHier drang sie jenen alten Dolch ihm auf,\\nDer schon in Tantals Hause grimmig wütete,\\nUnd Klytämnestra fiel durch Sohnes Hand.\\n\": 0,\n",
      "                     \"\\nUnselige! So mag die Sonne denn\\nDie letzten Greuel unsers Hauses sehn!\\nIst nicht Elektra hier, damit auch sie\\nMit uns zugrunde gehe, nicht ihr Leben\\nZu schwererem Geschick und Leiden friste?\\nGut, Priesterin, ich folge zum Altar!\\nDer Brudermord ist hergebrachte Sitte\\nDes alten Stammes; und ich danke, Götter,\\nDaß ihr mich ohne Kinder auszurotten\\nBeschlossen habt. Und laß dir raten, habe\\nDie Sonne nicht zu lieb und nicht die Sterne:\\nKomm, folge mir ins dunkle Reich hinab!\\nWie sich vom Schwefelpfuhl erzeugte Drachen,\\nBekämpfend die verwandte Brut, verschlingen,\\nZerstört sich selbst das wütende Geschlecht:\\nKomm kinderlos und schuldlos mit hinab!\\nDu siehst mich mit Erbarmen an? Laß ab\\nMit solchen Blicken suchte Klytämnestra\\nSich einen Weg nach ihres Sohnes Herzen;\\nDoch sein geschwungner Arm traf ihre Brust.\\n\\n Die Mutter fiel! – Tritt auf; unwill'ger Geist!\\nIm Kreis geschlossen tretet an, ihr Furien,\\nUnd wohnet dem willkommnen Schauspiel bei,\\nDem letzten, gräßlichsten, das ihr bereitet!\\nNicht Haß und Rache schärfen ihren Dolch;\\nDie liebevolle Schwester wird zur Tat\\nGezwungen. Weine nicht! Du hast nicht schuld.\\nSeit meinen ersten Jahren hab' ich nichts\\nGeliebt, wie ich dich lieben könnte, Schwester.\\nJa, schwinge deinen Stahl, verschone nicht,\\nZerreiße diesen Busen und eröffne\\nDen Strömen, die hier sieden, einen Weg!\\n\": 0,\n",
      "                     '\\nVerbirgst du deinen Namen, deine Herkunft\\nMit klugem Vorsatz? oder darf ich wissen,\\nWer mir, gleich einer Himmlischen, begegnet?\\n': 0,\n",
      "                     '\\nVerdoppelt eure Kräfte! Haltet sie\\nZurück! Nur wenig Augenblicke! Weicht\\nDer Menge nicht, und deckt den Weg zum Schiffe\\nMir und der Schwester!\\n': 0},\n",
      " 'orest-pylades': {\"\\nBin ich bestimmt, zu leben und zu handeln,\\nSo nehm' ein Gott von meiner schweren Stirn\\nDen Schwindel weg, der auf dem schlüpfrigen,\\nMit Mutterblut besprengten Pfade fort\\nMich zu den Toten reißt. Er trockne gnädig\\nDie Quelle, die, mir aus der Mutter Wunden\\nEntgegen sprudelnd, ewig mich befleckt.\\n\": 0,\n",
      "                   \"\\nDes Lebens dunkle Decke breitete\\nDie Mutter schon mir um das zarte Haupt,\\nUnd so wuchs ich herauf, ein Ebenbild\\nDes Vaters, und es war mein stummer Blick\\nEin bittrer Vorwurf ihr und ihrem Buhlen.\\nWie oft, wenn still Elektra, meine Schwester,\\nAm Feuer in der tiefen Halle saß,\\nDrängt' ich beklommen mich an ihren Schoß\\nUnd starrte, wie sie bitter weinte, sie\\nMit großen Augen an. Dann sagte sie\\nVon unserm hohen Vater viel: wie sehr\\nVerlangt' ich, ihn zu sehn, bei ihm zu sein!\\nMich wünscht' ich bald nach Troja, ihn bald her.\\nEs kam der Tag –\\n\": 0,\n",
      "                   '\\nErinnre mich nicht jener schönen Tage,\\nDa mir dein Haus die freie Stätte gab,\\nDein edler Vater klug und liebevoll\\nDie halberstarrte junge Blüte pflegte;\\nDa du, ein immer munterer Geselle,\\nGleich einem leichten, bunten Schmetterling\\nUm eine dunkle Blume, jeden Tag\\n\\n Um mich mit neuem Leben gaukeltest,\\nMir deine Lust in meine Seele spieltest,\\nDaß ich, vergessend meiner Not, mit dir\\nIn rascher Jugend hingerissen schwärmte.\\n': 0,\n",
      "                   '\\nEs scheint, ihr lichtes Reich verlor die Kraft\\nDurch des Verbrechers Nähe, den der Fluch\\nWie eine breite Nacht verfolgt und deckt.\\nDie fromme Blutgier löst den alten Brauch\\nVon seinen Fesseln los, uns zu verderben.\\nDer wilde Sinn des Königs tötet uns:\\nEin Weib wird uns nicht retten, wenn er zürnt.\\n': 0,\n",
      "                   \"\\nGroße Taten? Ja,\\nIch weiß die Zeit, da wir sie vor uns sahn!\\nWenn wir zusammen oft dem Wilde nach\\nDurch Berg' und Täler rannten und dereinst,\\nAn Brust und Faust dem hohen Ahnherrn gleich,\\nMit Keul' und Schwert dem Ungeheuer so,\\nDem Räuber auf der Spur zu jagen hofften;\\nUnd dann wir abends an der weiten See\\nUns aneinander lehnend ruhig saßen,\\nDie Wellen bis zu unsern Füßen spielten,\\nDie Welt so weit, so offen vor uns lag:\\nDa fuhr wohl einer manchmal nach dem Schwert,\\nUnd künft'ge Taten drangen wie die Sterne\\nRings um uns her unzählig aus der Nacht.\\n\": 0,\n",
      "                   \"\\nLaß mich zum ersten Mal mit freiem Herzen\\nIn deinen Armen reine Freude haben!\\nIhr Götter, die mit flammender Gewalt\\n\\n Ihr schwere Wolken aufzuzehren wandelt\\nUnd gnädig-ernst den lang' erflehten Regen\\nMit Donnerstimmen und mit Windesbrausen\\nIn wilden Strömen auf die Erde schüttet,\\nDoch bald der Menschen grausendes Erwarten\\nIn Segen auflöst und das bange Staunen\\nIn Freudeblick und lauten Dank verwandelt,\\nWenn in den Tropfen frisch erquickter Blätter\\nDie neue Sonne tausendfach sich spiegelt\\nUnd Iris freundlich bunt mit leichter Hand\\nDen grauen Flor der letzten Wolken trennt:\\nO laßt mich auch in meiner Schwester Armen,\\nAn meines Freundes Brust, was ihr mir gönnt,\\nMit vollem Dank genießen und behalten!\\nEs löset sich der Fluch, mir sagt's das Herz.\\nDie Eumeniden ziehn, ich höre sie,\\nZum Tartarus und schlagen hinter sich\\nDie ehrnen Tore fernabdonnernd zu.\\nDie Erde dampft erquickenden Geruch\\nUnd ladet mich auf ihren Flächen ein,\\nNach Lebensfreud' und großer Tat zu jagen.\\n\": 0,\n",
      "                   '\\nMit seltner Kunst flichst du der Götter Rat\\nUnd deine Wünsche klug in eins zusammen.\\n': 0,\n",
      "                   '\\nSag: meine Not begann, und du sprichst wahr.\\nDas ist das Ängstliche von meinem Schicksal,\\nDaß ich, wie ein verpesteter Vertriebner,\\nGeheimen Schmerz und Tod im Busen trage;\\nDaß, wo ich den gesundsten Ort betrete,\\nGar bald um mich die blühenden Gesichter\\nDen Schmerzenszug langsamen Tods verraten.\\n': 0,\n",
      "                   \"\\nWenn sie dem Menschen frohe Tat bescheren,\\nDaß er ein Unheil von den Seinen wendet,\\nDaß er sein Reich vermehrt, die Grenzen sichert,\\nUnd alte Feinde fallen oder fliehn:\\nDann mag er danken! denn ihm hat ein Gott\\nDes Lebens erste, letzte Lust gegönnt.\\nMich haben sie zum Schlächter auserkoren,\\nZum Mörder meiner doch verehrten Mutter,\\nUnd, eine Schandtat schändlich rächend, mich\\nDurch ihren Wink zugrund' gerichtet. Glaube,\\nSie haben es auf Tantals Haus gerichtet,\\nUnd ich, der Letzte, soll nicht schuldlos, soll\\nNicht ehrenvoll vergehn.\\n\": 0},\n",
      " 'orest-thoas': {\"\\nDas Bild, o König, soll uns nicht entzweien!\\nJetzt kennen wir den Irrtum, den ein Gott\\nWie einen Schleier um das Haupt uns legte,\\nDa er den Weg hierher uns wandern hieß.\\nUm Rat und um Befreiung bat ich ihn\\nVon dem Geleit der Furien; er sprach:\\n›Bringst du die Schwester, die an Tauris' Ufer\\nIm Heiligtume wider Willen bleibt,\\nNach Griechenland, so löset sich der Fluch.‹\\nWir legten's von Apollens Schwester aus,\\nUnd er gedachte dich! Die strengen Bande\\nSind nun gelöst: du bist den Deinen wieder,\\nDu Heilige, geschenkt. Von dir berührt,\\nWar ich geheilt; in deinen Armen faßte\\nDas Übel mich mit allen seinen Klauen\\nZum letzten Mal und schüttelte das Mark\\nEntsetzlich mir zusammen; dann entfloh's\\nWie eine Schlange zu der Höhle. Neu\\nGenieß' ich nun durch dich das weite Licht\\nDes Tages. Schön und herrlich zeigt sich mir\\nDer Göttin Rat. Gleich einem heil'gen Bilde,\\nDaran der Stadt unwandelbar Geschick\\nDurch ein geheimes Götterwort gebannt ist,\\nNahm sie dich weg, dich Schützerin des Hauses;\\nBewahrte dich in einer heil'gen Stille\\nZum Segen deines Bruders und der Deinen.\\nDa alle Rettung auf der weiten Erde\\nVerloren schien, gibst du uns alles wieder.\\nLaß deine Seele sich zum Frieden wenden,\\nO König! Hindre nicht, daß sie die Weihe\\nDes väterlichen Hauses nun vollbringe,\\nMich der entsühnten Halle wiedergebe,\\nMir auf das Haupt die alte Krone drücke!\\nVergilt den Segen, den sie dir gebracht,\\nUnd laß des nähern Rechtes mich genießen!\\nGewalt und List, der Männer höchster Ruhm,\\nWird durch die Wahrheit dieser hohen Seele\\nBeschämt, und reines kindliches Vertrauen\\n\\n Zu einem edlen Manne wird belohnt.\\n\": 0,\n",
      "                 \"\\nHier ist das Schwert,\\nMit dem er Trojas tapfre Männer schlug.\\nDies nahm ich seinem Mörder ab und bat\\nDie Himmlischen, den Mut und Arm, das Glück\\nDes großen Königes mir zu verleihn\\nUnd einen schönern Tod mir zu gewähren.\\nWähl' einen aus den Edlen deines Heers\\nUnd stelle mir den Besten gegenüber.\\nSo weit die Erde Heldensöhne nährt,\\nIst keinem Fremden dies Gesuch verweigert.\\n\": 0,\n",
      "                 \"\\nIch nehm' es an. Geh, sammle, treuer Freund,\\nDen Rest' des Volkes; harret still, welch Ende\\nDie Götter unsern Taten zubereiten.\\n\": 0,\n",
      "                 \"\\nSo beginne\\nDie neue Sitte denn von dir und mir!\\nNachahmend heiliget ein ganzes Volk\\nDie edle Tat der Herrscher zum Gesetz.\\nUnd laß mich nicht allein für unsre Freiheit,\\nLaß mich, den Fremden für die Fremden, kämpfen!\\nFall' ich, so ist ihr Urteil mit dem meinen\\nGesprochen; aber gönnet mir das Glück,\\nZu überwinden, so betrete nie\\nEin Mann dies Ufer, dem der schnelle Blick\\nHilfreicher Liebe nicht begegnet, und\\nGetröstet scheide jeglicher hinweg!\\n\": 0},\n",
      " 'pylades-arkas': {},\n",
      " 'pylades-iphigenie': {'\\nAm Tage seiner Ankunft, da der König,\\nVom Bad erquickt und ruhig, sein Gewand\\nAus der Gemahlin Hand verlangend, stieg,\\nWarf die Verderbliche ein faltenreich\\nUnd künstlich sich verwirrendes Gewebe\\nIhm auf die Schultern, um das edle Haupt;\\nUnd da er wie von einem Netze sich\\nVergebens zu entwickeln strebte, schlug\\nÄgisth ihn, der Verräter, und verhüllt\\nGing zu den Toten dieser große Fürst.\\n': 0,\n",
      "                       '\\nAuch Palamedes, Ajax Telamons,\\nSie sahn des Vaterlandes Tag nicht wieder.\\n': 0,\n",
      "                       \"\\nBraucht's Überredung, wo die Wahl versagt ist?\\nDen Bruder, dich und einen Freund zu retten,\\nIst nur ein Weg; fragt sich's, ob wir ihn gehn?\\n\": 0,\n",
      "                       \"\\nDein Bruder ist geheilt! Den Felsenboden\\nDes ungeweihten Ufers und den Sand\\nBetraten wir mit fröhlichen Gesprächen;\\nDer Hain blieb hinter uns, wir merkten's nicht.\\nUnd herrlicher und immer herrlicher\\nUmloderte der Jugend schöne Flamme\\nSein lockig Haupt; sein volles Auge glühte\\nVon Mut und Hoffnung, und sein freies Herz\\nErgab sich ganz der Freude, ganz der Lust,\\nDich, seine Retterin, und mich zu retten.\\n\": 0,\n",
      "                       '\\nDie hohe Stadt, die zehen lange Jahre\\nDem ganzen Heer der Griechen widerstand,\\nLiegt nun im Schutte, steigt nicht wieder auf.\\nDoch manche Gräber unsrer Besten heißen\\nUns an das Ufer der Barbaren denken.\\nAchill liegt dort mit seinem schönen Freunde.\\n': 0,\n",
      "                       \"\\nDoch selig sind die Tausende, die starben\\nDen bittersüßen Tod von Feindes Hand!\\n\\n Denn wüste Schrecken und ein traurig Ende\\nHat den Rückkehrenden statt des Triumphs\\nEin feindlich aufgebrachter Gott bereitet.\\nKommt denn der Menschen Stimme nicht zu euch?\\nSo weit sie reicht, trägt sie den Ruf umher\\nVon unerhörten Taten, die geschahn.\\nSo ist der Jammer, der Mycenens Hallen\\nMit immer wiederholten Seufzern füllt,\\nDir ein Geheimnis? – Klytämnestra hat\\nMit Hilf' Ägisthens den Gemahl berückt,\\nAm Tage seiner Rückkehr ihn ermordet! –\\nJa, du verehrest dieses Königs Haus!\\nIch seh' es, deine Brust bekämpft vergebens\\nDas unerwartet ungeheure Wort.\\nBist du die Tochter eines Freundes? bist\\nDu nachbarlich in dieser Stadt geboren?\\nVerbirg es nicht und rechne mir's nicht zu,\\nDaß ich der erste diese Greuel melde.\\n\": 0,\n",
      "                       \"\\nDu weigerst dich umsonst; die ehrne Hand\\nDer Not gebietet, und ihr ernster Wink\\nIst oberstes Gesetz, dem Götter selbst\\nSich unterwerfen müssen. Schweigend herrscht\\nDes ew'gen Schicksals unberatne Schwester.\\nWas sie dir auferlegt, das trage: tu,\\nWas sie gebeut. Das andre weißt du. Bald\\nKomm' ich zurück, aus deiner heil'gen Hand\\nDer Rettung schönes Siegel zu empfangen.\\n\": 0,\n",
      "                       \"\\nErkennst du uns und diesen heil'gen Hain\\nUnd dieses Licht, das nicht den Toten leuchtet?\\nFühlst du den Arm des Freundes und der Schwester,\\nDie dich noch fest, noch lebend halten? Fass'\\nUns kräftig an: wir sind nicht leere Schatten.\\nMerk' auf mein Wort! Vernimm es! Raffe dich\\nZusammen! Jeder Augenblick ist teuer,\\nUnd unsre Rückkehr hängt an zarten Fäden,\\nDie, scheint es, eine günst'ge Parze spinnt.\\n\": 0,\n",
      "                       \"\\nEs liegt. O sichre du uns Rettung zu!\\nBeschleunige die Hilfe, die ein Gott\\nVersprach. Erbarme meines Bruders dich.\\nO sag' ihm bald ein gutes holdes Wort;\\nDoch schone seiner, wenn du mit ihm sprichst,\\nDas bitt' ich eifrig: denn es wird gar leicht\\nDurch Freud' und Schmerz und durch Erinnerung\\nSein Innerstes ergriffen und zerrüttet.\\nEin fieberhafter Wahnsinn fällt ihn an,\\nUnd seine schöne freie Seele wird\\nDen Furien zum Raube hingegeben.\\n\": 0,\n",
      "                       '\\nFürchte nicht!\\nBetrüglich schloß die Furcht mit der Gefahr\\nEin enges Bündnis: beide sind Gesellen.\\n': 0,\n",
      "                       \"\\nGefährlicher zieht sich's zusammen; doch auch so\\nLaß uns nicht zagen oder unbesonnen\\nUnd übereilt uns selbst verraten. Ruhig\\n\\n Erwarte du die Wiederkunft des Boten,\\nUnd dann steh fest, er bringe, was er will:\\nDenn solcher Weihung Feier anzuordnen,\\nGehört der Priesterin und nicht dem König.\\nUnd fordert er, den fremden Mann zu sehn,\\nDer von dem Wahnsinn schwer belastet ist,\\nSo lehn' es ab, als hieltest du uns beide\\nIm Tempel wohl verwahrt. So schaff' uns Luft,\\nDaß wir aufs eiligste, den heil'gen Schatz\\nDem rauh unwürd'gen Volk entwendend, fliehn.\\nDie besten Zeichen sendet uns Apoll,\\nUnd eh' wir die Bedingung fromm erfüllen,\\nErfüllt er göttlich sein Versprechen schon.\\nOrest ist frei, geheilt! – Mit dem Befreiten\\nO führet uns hinüber, günst'ge Winde,\\nZur Felseninsel, die der Gott bewohnt;\\nDann nach Mycen, daß es lebendig werde,\\nDaß von der Asche des verloschnen Herdes\\nDie Vatergötter fröhlich sich erheben,\\nUnd schönes Feuer ihre Wohnungen\\nUmleuchte! Deine Hand soll ihnen Weihrauch\\nZuerst aus goldnen Schalen streuen. Du\\nBringst über jene Schwelle Heil und Leben wieder,\\nEntsühnst den Fluch und schmückest neu die Deinen\\nMit frischen Lebensblüten herrlich aus.\\n\": 0,\n",
      "                       \"\\nIch bringe mehr als das; denn schön begleitet,\\nGleich einem Fürsten, pflegt das Glück zu nahn.\\nAuch die Gefährten haben wir gefunden.\\nIn einer Felsenbucht verbargen sie\\nDas Schiff und saßen traurig und erwartend.\\nSie sehen deinen Bruder, und es regten\\nSich alle jauchzend, und sie baten dringend,\\nDer Abfahrt Stunde zu beschleunigen.\\nEs sehnet jede Faust sich nach dem Ruder,\\n\\n Und selbst ein Wind erhob vom Lande lispelnd,\\nVon allen gleich bemerkt, die holden Schwingen.\\nDrum laß uns eilen, führe mich zum Tempel,\\nLaß mich das Heiligtum betreten, laß\\nMich unsrer Wünsche Ziel verehrend fassen!\\nIch bin allein genug, der Göttin Bild\\nAuf wohlgeübten Schultern wegzutragen:\\nWie sehn' ich mich nach der erwünschten Last!\\n\": 0,\n",
      "                       \"\\nLeb' wohl! Die Freunde will ich nun geschwind\\nBeruhigen, die sehnlich wartend harren.\\nDann komm' ich schnell zurück und lausche hier\\nIm Felsenbusch versteckt auf deinen Wink –\\n\\n Was sinnest du? Auf einmal überschwebt\\nEin stiller Trauerzug die freie Stirne.\\n\": 0,\n",
      "                       \"\\nLeicht kann ich dir erzählen, welch ein Übel\\nMit lastender Gesellschaft uns verfolgt.\\nO könntest du der Hoffnung frohen Blick\\nUns auch so leicht, du Göttliche, gewähren!\\nAus Kreta sind wir, Söhne des Adrasts:\\nIch bin der jüngste, Cephalus genannt,\\nUnd er Laodamas, der älteste\\nDes Hauses. Zwischen uns stand rauh und wild\\nin mittlerer und trennte schon im Spiel\\nDer ersten Jugend Einigkeit und Lust.\\nGelassen folgten wir der Mutter Worten,\\nSolang' des Vaters Kraft vor Troja stritt;\\nDoch als er beutereich zurücke kam\\n\\n Und kurz darauf verschied, da trennte bald\\nDer Streit um Reich und Erbe die Geschwister.\\nIch neigte mich zum Ältsten. Er erschlug\\nDen Bruder. Um der Blutschuld willen treibt\\nDie Furie gewaltig ihn umher.\\nDoch diesem wilden Ufer sendet uns\\nApoll, der Delphische, mit Hoffnung zu.\\nIm Tempel seiner Schwester hieß er uns\\nDer Hilfe segensvolle Hand erwarten.\\nGefangen sind wir und hierher gebracht\\nUnd dir als Opfer dargestellt. Du weißt's.\\n\": 0,\n",
      "                       \"\\nMit schwerer Tat, die, wenn Entschuldigung\\nDes Mordes wäre, sie entschuldigte.\\nNach Aulis lockt' er sie und brachte dort,\\nAls eine Gottheit sich der Griechen Fahrt\\nMit ungestümen Winden widersetzte,\\n\\n Die ältste Tochter, Iphigenien,\\nVor den Altar Dianens, und sie fiel,\\nEin blutig Opfer, für der Griechen Heil.\\nDies, sagt man, hat ihr einen Widerwillen\\nSo tief ins Herz geprägt, daß sie dem Werben\\nÄgisthens sich ergab und den Gemahl\\nMit Netzen des Verderbens selbst umschlang.\\n\": 0,\n",
      "                       \"\\nO süße Stimme! Vielwillkommner Ton\\nDer Muttersprach' in einem fremden Lande!\\nDes väterlichen Hafens blaue Berge\\nSeh' ich, Gefangner, neu willkommen wieder\\nVor meinen Augen. Laß dir diese Freude\\nVersichern, daß auch ich ein Grieche bin!\\nVergessen hab' ich einen Augenblick,\\nWie sehr ich dein bedarf, und meinen Geist\\nDer herrlichen Erscheinung zugewendet.\\nO sage, wenn dir ein Verhängnis nicht\\nDie Lippe schließt, aus welchem unsrer Stämme\\nDu deine göttergleiche Herkunft zählst.\\n\": 0,\n",
      "                       \"\\nSo hast du dich im Tempel wohl bewahrt;\\nDas Leben lehrt uns, weniger mit uns\\nUnd andern strenge sein: du lernst es auch.\\nSo wunderbar ist dies Geschlecht gebildet,\\nSo vielfach ist's verschlungen und verknüpft,\\nDaß keiner in sich selbst, noch mit den andern\\nSich rein und unverworren halten kann.\\nAuch sind wir nicht bestellt, uns selbst zu richten;\\nZu wandeln und auf seinen Weg zu sehen,\\nIst eines Menschen erste, nächste Pflicht:\\nDenn selten schätzt er recht, was er getan,\\nUnd was er tut, weiß er fast nie zu schätzen.\\n\": 0,\n",
      "                       \"\\nSo wirst du, reine Seele, dich und uns\\nZugrunde richten. Warum dacht' ich nicht\\nAuf diesen Fall voraus und lehrte dich\\nAuch dieser Fordrung auszuweichen!\\n\": 0,\n",
      "                       '\\nVon dem Geschick des Königshauses scheint\\nSie tief gerührt. Wer sie auch immer sei,\\nSo hat sie selbst den König wohl gekannt\\nUnd ist, zu unserm Glück, aus hohem Hause\\nHierher verkauft. Nur stille, liebes Herz,\\nUnd laß dem Stern der Hoffnung, der uns blinkt,\\nMit frohem Mut uns klug entgegen steuern.\\n': 0,\n",
      "                       '\\nWeh uns! Erneuert schwebt nun die Gefahr\\nUm unsre Schläfe! Warum hast du nicht\\nIns Priesterrecht dich weislich eingehüllt?\\n': 0,\n",
      "                       '\\nWenn wir zugrunde gehen, wartet dein\\nEin härtrer Vorwurf, der Verzweiflung trägt.\\nMan sieht, du bist nicht an Verlust gewohnt,\\nDa du, dem großen Übel zu entgehen,\\nEin falsches Wort nicht einmal opfern willst.\\n': 0,\n",
      "                       '\\nWo ist sie? daß ich ihr mit schnellen Worten\\nDie frohe Botschaft unsrer Rettung bringe!\\n': 0},\n",
      " 'pylades-orest': {\"\\nDer Nächste wär' ich, diesen Tod zu sterben,\\nWenn je dein Hauch, Orest, vergiftete.\\nBin ich nicht immer noch voll Mut und Lust?\\nUnd Lust und Liebe sind die Fittiche\\nZu großen Taten.\\n\": 0,\n",
      "                   '\\nDie Götter rächen\\nDer Väter Missetat nicht an dem Sohn;\\nEin jeglicher, gut oder böse, nimmt\\nSich seinen Lohn mit seiner Tat hinweg.\\nEs erbt der Eltern Segen, nicht ihr Fluch.\\n': 0,\n",
      "                   \"\\nDrum hab' ich keinen Rat von dir verlangt.\\nSchon ist ein Schritt getan. Von unsern Wächtern\\nHab' ich bisher gar vieles ausgelockt.\\nIch weiß, ein fremdes, göttergleiches Weib\\nHält jenes blutige Gesetz gefesselt:\\nEin reines Herz und Weihrauch und Gebet\\nBringt sie den Göttern dar. Man rühmet hoch\\nDie Gütige; man glaubet, sie entspringe\\nVom Stamm der Amazonen, sei geflohn,\\nUm einem großen Unheil zu entgehn.\\n\": 0,\n",
      "                   \"\\nErwart' es ruhiger: Du mehrst das Übel\\nUnd nimmst das Amt der Furien auf dich.\\nLaß mich nur sinnen, bleibe still! Zuletzt,\\nBedarf's zur Tat vereinter Kräfte, dann\\nRuf' ich dich auf, und beide schreiten wir\\nMit überlegter Kühnheit zur Vollendung.\\n\": 0,\n",
      "                   \"\\nGanz anders denk' ich, und nicht ungeschickt\\nHab' ich das schon Geschehne mit dem Künft'gen\\nVerbunden und im stillen ausgelegt.\\nVielleicht reift in der Götter Rat schon lange\\nDas große Werk. Diane sehnet sich\\nVon diesem rauhen Ufer der Barbaren\\nUnd ihren blut'gen Menschenopfern weg.\\nWir waren zu der schönen Tat bestimmt,\\nUns wird sie auferlegt, und seltsam sind\\nWir an der Pforte schon gezwungen hier.\\n\": 0,\n",
      "                   \"\\nIch bin noch nicht, Orest, wie du bereit,\\nIn jenes Schattenreich hinabzugehn.\\nIch sinne noch, durch die verworrnen Pfade,\\nDie nach der schwarzen Nacht zu führen scheinen,\\nUns zu dem Leben wieder aufzuwinden.\\nIch denke nicht den Tod; ich sinn' und horche,\\nOb nicht zu irgendeiner frohen Flucht\\nDie Götter Rat und Wege zubereiten.\\nDer Tod, gefürchtet oder ungefürchtet,\\nKommt unaufhaltsam. Wenn die Priesterin\\nSchon, unsre Locken weihend abzuschneiden,\\nDie Hand erhebt, soll dein' und meine Rettung\\nMein einziger Gedanke sein. Erhebe\\nVon diesem Unmut deine Seele; zweifelnd\\nBeschleunigest du die Gefahr. Apoll\\nGab uns das Wort: im Heiligtum der Schwester\\nSei Trost und Hilf' und Rückkehr dir bereitet.\\n\\n Der Götter Worte sind nicht doppelsinnig,\\nWie der Gedrückte sie im Unmut wähnt.\\n\": 0,\n",
      "                   '\\nO laß von jener Stunde\\nSich Höllengeister nächtlich unterhalten!\\nUns gebe die Erinnrung schöner Zeit\\nZu frischem Heldenlaufe neue Kraft.\\nDie Götter brauchen manchen guten Mann\\nZu ihrem Dienst auf dieser weiten Erde.\\nSie haben noch auf dich gezählt; sie gaben\\nDich nicht dem Vater zum Geleite mit,\\nDa er unwillig nach dem Orkus ging.\\n': 0,\n",
      "                   \"\\nSo haben die, die dich erhielten,\\nFür mich gesorgt: denn was ich worden wäre,\\nWenn du nicht lebtest, kann ich mir nicht denken,\\nDa ich mit dir und deinetwillen nur\\nSeit meiner Kindheit leb' und leben mag.\\n\": 0,\n",
      "                   '\\nSpotte nicht.\\nEin jeglicher muß seinen Helden wählen,\\n\\n Dem er die Wege zum Olymp hinauf\\nSich nacharbeitet. Laß es mich gestehn:\\nMir scheinet List und Klugheit nicht den Mann\\nZu schänden, der sich kühnen Taten weiht.\\n': 0,\n",
      "                   \"\\nTu, was sie dir gebieten, und erwarte.\\nBringst du die Schwester zu Apollen hin,\\nUnd wohnen beide dann vereint zu Delphi,\\nVerehrt von einem Volk, das edel denkt,\\nSo wird für diese Tat das hohe Paar\\n\\n Dir gnädig sein, sie werden aus der Hand\\nDer Unterird'schen dich erretten. Schon\\nIn diesen heil'gen Hain wagt keine sich.\\n\": 0,\n",
      "                   '\\nUnendlich ist das Werk, das zu vollführen\\nDie Seele dringt. Wir möchten jede Tat\\nSo groß gleich tun, als wie sie wächst und wird,\\nWenn Jahre lang durch Länder und Geschlechter\\nDer Mund der Dichter sie vermehrend wälzt.\\nEs klingt so schön, was unsre Väter taten,\\nWenn es, in stillen Abendschatten ruhend,\\nDer Jüngling mit dem Ton der Harfe schlürft;\\n\\n Und was wir tun, ist, wie es ihnen war,\\nVoll Müh und eitel Stückwerk!\\nSo laufen wir nach dem, was vor uns flieht,\\nUnd achten nicht des Weges, den wir treten,\\nUnd sehen neben uns der Ahnherrn Tritte\\nUnd ihres Erdelebens Spuren kaum.\\nWir eilen immer ihrem Schatten nach,\\nDer göttergleich in einer weiten Ferne\\nDer Berge Haupt auf goldnen Wolken krönt.\\nIch halte nichts von dem, der von sich denkt,\\nWie ihn das Volk vielleicht erheben möchte;\\nAllein, o Jüngling, danke du den Göttern,\\nDaß sie so früh durch dich so viel getan.\\n': 0,\n",
      "                   '\\nVersäumt die Zeit nicht, die gemessen ist!\\nDer Wind, der unsre Segel schwellt, er bringe\\nErst unsre volle Freude zum Olymp.\\nKommt! Es bedarf hier schnellen Rat und Schluß.\\n': 0,\n",
      "                   \"\\nVerweilet nicht! Die letzten Kräfte raffen\\nDie Unsrigen zusammen; weichend werden\\nSie nach der See langsam zurückgedrängt.\\nWelch ein Gespräch der Fürsten find' ich hier!\\nDies ist des Königes verehrtes Haupt!\\n\": 0,\n",
      "                   '\\nWas ist des Menschen Klugheit, wenn sie nicht\\nAuf jener Willen droben achtend lauscht?\\nZu einer schweren Tat beruft ein Gott\\nDen edlen Mann, der viel verbrach, und legt\\nIhm auf, was uns unmöglich scheint zu enden.\\nEs siegt der Held, und büßend dienet er\\nDen Göttern und der Welt, die ihn verehrt.\\n': 0,\n",
      "                   \"\\nWohl uns, daß es ein Weib ist, denn ein Mann,\\nDer beste selbst, gewöhnet seinen Geist\\nAn Grausamkeit und macht sich auch zuletzt\\nAus dem, was er verabscheut, ein Gesetz,\\nWird aus Gewohnheit hart und fast unkenntlich.\\nAllein ein Weib bleibt stet auf einem Sinn,\\nDen sie gefaßt. Du rechnest sicherer\\nAuf sie im Guten wie im Bösen. – Still!\\nSie kommt; laß uns allein; ich darf nicht gleich\\nIhr unsre Namen nennen, unser Schicksal\\nNicht ohne Rückhalt ihr vertraun. Du gehst,\\nUnd eh' sie mit dir spricht, treff' ich dich noch.\\n\\n\": 0},\n",
      " 'pylades-thoas': {},\n",
      " 'thoas-arkas': {\"\\nEs komme schnell die Priesterin herbei!\\nDann geht, durchsucht das Ufer scharf und schnell\\nVom Vorgebirge bis zum Hain der Göttin.\\nVerschonet seine heil'gen Tiefen, legt\\nBedächt'gen Hinterhalt und greift sie an;\\nWo ihr sie findet, faßt sie, wie ihr pflegt.\\n\": 0,\n",
      "                 \"\\nGeh!\\nGebiete Stillstand meinem Volke! Keiner\\nBeschädige den Feind, solang' wir reden.\\n\": 0},\n",
      " 'thoas-iphigenie': {\"\\nAufs Ungehoffte war ich nicht bereitet;\\nDoch sollt' ich's auch erwarten: wußt' ich nicht,\\nDaß ich mit einem Weibe handeln ging?\\n\": 0,\n",
      "                     \"\\nDas Zeichen ist, daß du noch hier verweilst.\\nSuch' Ausflucht solcher Art nicht ängstlich auf.\\nMan spricht vergebens viel, um zu versagen;\\nDer andre hört von allem nur das Nein.\\n\": 0,\n",
      "                     \"\\nDaß du in das Geheimnis deiner Abkunft\\nVor mir wie vor dem Letzten stets dich hüllest,\\nWär' unter keinem Volke recht und gut.\\nDies Ufer schreckt die Fremden: das Gesetz\\nGebietet's und die Not. Allein von dir,\\nDie jedes frommen Rechts genießt, ein wohl\\nVon uns empfangner Gast, nach eignem Sinn\\nUnd Willen ihres Tages sich erfreut,\\nVon dir hofft' ich Vertrauen, das der Wirt\\nFür seine Treue wohl erwarten darf.\\n\": 0,\n",
      "                     '\\nDein heilig Amt und dein geerbtes Recht\\nAn Jovis Tisch bringt dich den Göttern näher\\nAls einen erdgebornen Wilden.\\n': 0,\n",
      "                     '\\nDu glaubst, es höre\\nDer rohe Skythe, der Barbar, die Stimme\\nDer Wahrheit und der Menschlichkeit, die Atreus,\\nDer Grieche, nicht vernahm?\\n': 0,\n",
      "                     '\\nDu schweigest? Fahre fort zu reden!\\nLaß dein Vertraun dich nicht gereuen! Sprich!\\n': 0,\n",
      "                     \"\\nDu sprichst ein großes Wort gelassen aus.\\nNennst du den deinen Ahnherrn, den die Welt\\nAls einen ehmals Hochbegnadigten\\nDer Götter kennt? Ist's jener Tantalus,\\nDen Jupiter zu Rat und Tafel zog,\\nAn dessen alterfahrnen, vielen Sinn\\nVerknüpfenden Gesprächen Götter selbst,\\nWie an Orakelsprüchen, sich ergetzten?\\n\\n\": 0,\n",
      "                     '\\nEs scheinen die Gefangnen dir sehr nah\\nAm Herzen: denn vor Anteil und Bewegung\\nVergissest du der Klugheit erstes Wort,\\nDaß man den Mächtigen nicht reizen soll.\\n': 0,\n",
      "                     '\\nEs scheint, der beiden Fremden Schicksal macht\\nUnmäßig dich besorgt. Wer sind sie, sprich,\\nFür die dein Geist gewaltig sich erhebt?\\n': 0,\n",
      "                     \"\\nEs ziemt sich nicht für uns, den heiligen\\nGebrauch mit leicht beweglicher Vernunft\\nNach unserm Sinn zu deuten und zu lenken.\\nTu deine Pflicht, ich werde meine tun.\\nZwei Fremde, die wir in des Ufers Höhlen\\nVersteckt gefunden, und die meinem Lande\\nNichts Gutes bringen, sind in meiner Hand.\\nMit diesen nehme deine Göttin wieder\\nIhr erstes, rechtes, lang' entbehrtes Opfer!\\nIch sende sie hierher; du weißt den Dienst.\\n\": 0,\n",
      "                     \"\\nIch bin ein Mensch; und besser ist's, wir enden.\\nSo bleibe denn mein Wort: Sei Priesterin\\nDer Göttin, wie sie dich erkoren hat;\\nDoch mir verzeih' Diane, daß ich ihr\\nBisher, mit Unrecht und mit innerm Vorwurf,\\n\\n Die alten Opfer vorenthalten habe.\\nKein Fremder nahet glücklich unserm Ufer:\\nVon alters her ist ihm der Tod gewiß.\\nNur du hast mich mit einer Freundlichkeit,\\nIn der ich bald der zarten Tochter Liebe,\\nBald stille Neigung einer Braut zu sehn\\nMich tief erfreute, wie mit Zauberbanden\\nGefesselt, daß ich meiner Pflicht vergaß.\\nDu hattest mir die Sinnen eingewiegt,\\nDas Murren meines Volks vernahm ich nicht;\\nNun rufen sie die Schuld von meines Sohnes\\nFrühzeit'gem Tode lauter über mich.\\nUm deinetwillen halt' ich länger nicht\\nDie Menge, die das Opfer dringend fordert.\\n\": 0,\n",
      "                     '\\nIch halte meinen Zorn, wie es dem Ältern\\nGeziemt, zurück. Antworte mir! Womit\\nBezeugst du, daß du Agamemnons Sohn\\nUnd dieser Bruder bist?\\n': 0,\n",
      "                     '\\nLandsleute sind es? und sie haben wohl\\nDer Rückkehr schönes Bild in dir erneut?\\n': 0,\n",
      "                     \"\\nMehr Vorzug und Vertrauen geb' ich nicht\\nDer Königstochter als der Unbekannten.\\nIch wiederhole meinen ersten Antrag:\\nKomm, folge mir und teile, was ich habe.\\n\": 0,\n",
      "                     \"\\nSo haben die Betrüger, künstlich dichtend,\\nDer lang' Verschloßnen, ihre Wünsche leicht\\nUnd willig Glaubenden ein solch Gespinst\\nUms Haupt geworfen!\\n\": 0,\n",
      "                     \"\\nSo kehr' zurück! Tu, was dein Herz dich heißt,\\nUnd höre nicht die Stimme guten Rats\\nUnd der Vernunft. Sei ganz ein Weib und gib\\nDich hin dem Triebe, der dich zügellos\\nErgreift und dahin oder dorthin reißt.\\nWenn ihnen eine Lust im Busen brennt,\\nHält vom Verräter sie kein heilig Band,\\n\\n Der sie dem Vater oder dem Gemahl\\nAus langbewährten, treuen Armen lockt;\\nUnd schweigt in ihrer Brust die rasche Glut,\\nSo dringt auf sie vergebens treu und mächtig\\nDer Überredung goldne Zunge los.\\n\": 0,\n",
      "                     \"\\nUnd hübe deine Rede jeden Zweifel,\\nUnd bändigt' ich den Zorn in meiner Brust,\\nSo würden doch die Waffen zwischen uns\\nEntscheiden müssen; Frieden seh' ich nicht.\\nSie sind gekommen, du bekennest selbst,\\nDas heil'ge Bild der Göttin mir zu rauben.\\nGlaubt ihr, ich sehe dies gelassen an?\\nDer Grieche wendet oft sein lüstern Auge\\nDen fernen Schätzen der Barbaren zu,\\nDem goldnen Felle, Pferden, schönen Töchtern;\\nDoch führte sie Gewalt und List nicht immer\\n\\n Mit den erlangten Gütern glücklich heim.\\n\": 0,\n",
      "                     '\\nUnwillig, wie sich Feuer gegen Wasser\\nIm Kampfe wehrt und gischend seinen Feind\\n\\n Zu tilgen sucht, so wehret sich der Zorn\\nIn meinem Busen gegen deine Worte.\\n': 0,\n",
      "                     '\\nVerbirg sie schweigend auch. Es sei genug\\nDer Greuel! Sage nun, durch welch ein Wunder\\nVon diesem wilden Stamme du entsprangst.\\n': 0,\n",
      "                     '\\nWas auch der Rat der Götter mit dir sei,\\nUnd was sie deinem Haus und dir gedenken,\\nSo fehlt es doch, seitdem du bei uns wohnst\\nUnd eines frommen Gastes Recht genießest,\\nAn Segen nicht, der mir von oben kommt.\\nIch möchte schwer zu überreden sein,\\nDaß ich an dir ein schuldvoll Haupt beschütze.\\n': 0,\n",
      "                     \"\\nWas man Verruchten tut, wird nicht gesegnet.\\nDrum endige dein Schweigen und dein Weigern!\\nEs fordert dies kein ungerechter Mann.\\nDie Göttin übergab dich meinen Händen;\\nWie du ihr heilig warst, so warst du's mir.\\nAuch sei ihr Wink noch künftig mein Gesetz:\\nWenn du nach Hause Rückkehr hoffen kannst,\\nSo sprech' ich dich von aller Fordrung los.\\nDoch ist der Weg auf ewig dir versperrt,\\nUnd ist dein Stamm vertrieben oder durch\\nEin ungeheures Unheil ausgelöscht,\\nSo bist du mein durch mehr als ein Gesetz.\\nSprich offen! und du weißt, ich halte Wort.\\n\": 0,\n",
      "                     \"\\nZufrieden wär' ich, wenn mein Volk mich rühmte:\\nWas ich erwarb, genießen andre mehr\\nAls ich. Der ist am glücklichsten, er sei\\nEin König oder ein Geringer, dem\\nIn seinem Hause Wohl bereitet ist.\\nDu nahmest teil an meinen tiefen Schmerzen,\\nAls mir das Schwert der Feinde meinen Sohn,\\nDen letzten, besten, von der Seite riß.\\nSolang' die Rache meinen Geist besaß,\\nEmpfand ich nicht die Öde meiner Wohnung;\\nDoch jetzt, da ich befriedigt wiederkehre,\\nIhr Reich zerstört, mein Sohn gerochen ist,\\n\\n Bleibt mir zu Hause nichts, das mich ergetze.\\nDer fröhliche Gehorsam den ich sonst\\nAus einem jeden Auge blicken sah,\\nIst nun von Sorg' und Unmut still gedämpft.\\nEin jeder sinnt, was künftig werden wird,\\nUnd folgt dem Kinderlosen, weil er muß.\\nNun komm' ich heut' in diesen Tempel, den\\nIch oft betrat, um Sieg zu bitten und\\nFür Sieg zu danken. Einen alten Wunsch\\nTrag' ich im Busen, der auch dir nicht fremd\\nNoch unerwartet ist: ich hoffe, dich,\\nZum Segen meines Volks und mir zum Segen,\\nAls Braut in meine Wohnung einzuführen.\\n\": 0},\n",
      " 'thoas-orest': {'\\nDies Vorrecht hat die alte Sitte nie\\nDem Fremden hier gestattet.\\n': 0,\n",
      "                 '\\nIn meiner Gegenwart führt ungestraft\\nKein Mann das nackte Schwert.\\n': 0,\n",
      "                 '\\nNicht unwert scheinest du, o Jüngling, mir\\nDer Ahnherrn, deren du dich rühmst, zu sein.\\nGroß ist die Zahl der edeln, tapfern Männer,\\nDie mich begleiten; doch ich stehe selbst\\nIn meinen Jahren noch dem Feinde, bin\\nBereit, mit dir der Waffen Los zu wagen.\\n': 0},\n",
      " 'thoas-pylades': {}}\n"
     ]
    }
   ],
   "source": [
    "pprint(replik)"
   ]
  },
  {
   "cell_type": "markdown",
   "metadata": {},
   "source": [
    "## Sentiment Analyse\n",
    "### TextBlob"
   ]
  },
  {
   "cell_type": "markdown",
   "metadata": {},
   "source": [
    "#### Gesagtem wird Sentiment zugeordnet"
   ]
  },
  {
   "cell_type": "code",
   "execution_count": 29,
   "metadata": {},
   "outputs": [],
   "source": [
    "for key in replik:\n",
    "    for innerkey in replik[key]:\n",
    "        senti = TB(innerkey)\n",
    "        replik[key][innerkey] = senti.sentiment.polarity"
   ]
  },
  {
   "cell_type": "markdown",
   "metadata": {},
   "source": [
    "### SentiWS  mit spaCy"
   ]
  },
  {
   "cell_type": "code",
   "execution_count": 146,
   "metadata": {},
   "outputs": [],
   "source": [
    "import spacy\n",
    "from spacy_sentiws import spaCySentiWS\n",
    "from spacy.lang.de.stop_words import STOP_WORDS"
   ]
  },
  {
   "cell_type": "code",
   "execution_count": 147,
   "metadata": {},
   "outputs": [],
   "source": [
    "nlp = spacy.load('de')\n",
    "sentiws = spaCySentiWS(sentiws_path='/Users/pia/Desktop/SentiWS_v2.0/')\n",
    "nlp.add_pipe(sentiws)"
   ]
  },
  {
   "cell_type": "code",
   "execution_count": 134,
   "metadata": {},
   "outputs": [
    {
     "name": "stdout",
     "output_type": "stream",
     "text": [
      "Ach zu Hause is es doch besser Wemmersch auch nich so gut hamm wie die hier Un wenn ich auch in de Schule muß Un wenn  wenn Vater auch  manchmal \n",
      " Ach Hause is Wemmersch nich hamm Un de Schule Un   Vater   manchmal\n",
      " \n",
      "Ach\n",
      "hausen\n",
      "is\n",
      "Wemmersch\n",
      "nich\n",
      "hamm\n",
      "Un\n",
      "de\n",
      "schulen\n",
      "Un\n",
      "  \n",
      "Vater\n",
      "  \n",
      "manchmal\n",
      "0.0\n"
     ]
    },
    {
     "data": {
      "text/plain": [
       "\"TODO:Lemma = String -- erstmal wieder in spacy.tokens.doc.Doc .. \\n    dann durch for-Schleife wieder in <class 'spacy.tokens.token.Token'>\\n    -> eigentlich doppelt gemoppelt -- verlängert Laufzeit \""
      ]
     },
     "execution_count": 134,
     "metadata": {},
     "output_type": "execute_result"
    }
   ],
   "source": [
    "test = \"Ach, zu Hause is es doch besser. Wemmersch auch nich so gut hamm wie die hier. Un wenn ich auch in de Schule muß. Un wenn ... wenn Vater auch ... manchmal ...\"\n",
    "test = re.sub(r\"\\.{0,3},*!*\\?*-*\", \"\", test)\n",
    "print(test)\n",
    "test = nlp(test)\n",
    "testwostop = \"\"\n",
    "senti = 0\n",
    "tokenanzahl = 0\n",
    "#replik[key][innerkey] = senti.sentiment.polarity\n",
    "for token in test:\n",
    "    if str(token) not in STOP_WORDS:\n",
    "        testwostop = testwostop + \" \" + str(token)\n",
    "print(testwostop)\n",
    "testwostop = nlp(testwostop)\n",
    "for tok in testwostop:\n",
    "    lemma = tok.lemma_\n",
    "    print(lemma)\n",
    "    lemma = nlp(lemma)\n",
    "    for lem in lemma:\n",
    "        if lem._.sentiws is None:\n",
    "            tokenanzahl = tokenanzahl + 1\n",
    "        else:\n",
    "            senti = senti + lem._.sentiws\n",
    "            print(lem._.sentiws)\n",
    "            tokenanzahl = tokenanzahl + 1\n",
    "            print(tokenanzahl)\n",
    "if len(list(test)) == 1:\n",
    "    tokenanzahl = tokenanzahl - 1\n",
    "print(senti/tokenanzahl)\n",
    "'''TODO:Lemma = String -- erstmal wieder in spacy.tokens.doc.Doc .. \n",
    "    dann durch for-Schleife wieder in <class 'spacy.tokens.token.Token'>\n",
    "    -> eigentlich doppelt gemoppelt -- verlängert Laufzeit '''\n",
    "               "
   ]
  },
  {
   "cell_type": "code",
   "execution_count": 148,
   "metadata": {},
   "outputs": [],
   "source": [
    "for key in replik:\n",
    "    for innerkey in replik[key]:\n",
    "        text = re.sub(r\"\\.{0,3},*!*\\?*-*\", \"\", innerkey)\n",
    "        text = nlp(text)\n",
    "        textwostop = \"\"\n",
    "        senti = 0\n",
    "        tokenanzahl = 0\n",
    "        #replik[key][innerkey] = senti.sentiment.polarity\n",
    "        for token in text:\n",
    "            if str(token) not in STOP_WORDS:\n",
    "                textwostop = textwostop + \" \" + str(token)\n",
    "        textwostop = nlp(textwostop)\n",
    "        for tok in textwostop:\n",
    "            lemma = tok.lemma_\n",
    "            lemma = nlp(lemma)\n",
    "            for lem in lemma:\n",
    "                if lem._.sentiws is None:\n",
    "                    tokenanzahl = tokenanzahl + 1\n",
    "                else:\n",
    "                    senti = senti + lem._.sentiws\n",
    "                    tokenanzahl = tokenanzahl + 1\n",
    "        if len(list(test)) == 1:\n",
    "            tokenanzahl = tokenanzahl - 1\n",
    "        replik[key][innerkey] = senti/tokenanzahl\n",
    "    '''\n",
    "        text = nlp(innerkey)\n",
    "        senti = 0\n",
    "        tokenanzahl = 0\n",
    "        #replik[key][innerkey] = senti.sentiment.polarity\n",
    "        for token in text:\n",
    "            lemma = token.lemma_\n",
    "            TODO:Lemma = String -- erstmal wieder in spacy.tokens.doc.Doc .. \n",
    "            dann durch for-Schleife wieder in <class 'spacy.tokens.token.Token'>\n",
    "            -> eigentlich doppelt gemoppelt -- verlängert Laufzeit\n",
    "            \n",
    "            lemma = nlp(lemma)\n",
    "            for lem in lemma:\n",
    "                if lem._.sentiws is not None:\n",
    "                    tokenanzahl = tokenanzahl + 1\n",
    "                    senti = senti + lem._.sentiws\n",
    "        replik[key][innerkey] = senti/tokenanzahl'''"
   ]
  },
  {
   "cell_type": "code",
   "execution_count": 149,
   "metadata": {},
   "outputs": [
    {
     "data": {
      "text/plain": [
       "{'iphigenie-arkas': {\"\\nWir sind bereit, sie würdig zu empfangen,\\nUnd unsre Göttin sieht willkommnem Opfer\\nVon Thoas' Hand mit Gnadenblick entgegen.\\n\": 0.004005,\n",
       "  \"\\nDas ist's, warum mein blutend Herz nicht heilt.\\nIn erster Jugend, da sich kaum die Seele\\nAn Vater, Mutter und Geschwister band,\\nDie neuen Schößlinge, gesellt und lieblich,\\nVom Fuß der alten Stämme himmelwärts\\nZu dringen strebten, leider faßte da\\nEin fremder Fluch mich an und trennte mich\\nVon den Geliebten, riß das schöne Band\\nMit ehrner Faust entzwei. Sie war dahin,\\nDer Jugend beste Freude, das Gedeihn\\nDer ersten Jahre. Selbst gerettet, war\\n\\n Ich nur ein Schatten mir, und frische Lust\\nDes Lebens blüht in mir nicht wieder auf.\\n\": 0.0032371428571428564,\n",
       "  \"\\nFrei atmen macht das Leben nicht allein.\\nWelch Leben ist's, das an der heil'gen Stätte,\\nGleich einem Schatten um sein eigen Grab,\\nIch nur vertrauern muß? Und nenn' ich das\\nEin fröhlich selbstbewußtes Leben, wenn\\nUns jeder Tag, vergebens hingeträumt,\\nZu jenen grauen Tagen vorbereitet,\\nDie an dem Ufer Lethes, selbstvergessend,\\nDie Trauerschar der Abgeschiednen feiert?\\nEin unnütz Leben ist ein früher Tod:\\nDies Frauenschicksal ist vor allen meins.\\n\": -0.002880357142857143,\n",
       "  '\\nDas Wenige verschwindet leicht dem Blick,\\nDer vorwärts sieht, wie viel noch übrig bleibt.\\n': -0.021891666666666667,\n",
       "  '\\nDu ängstest mich mit jedem guten Worte:\\nOft wich ich seinem Antrag mühsam aus.\\n': 0.003166666666666665,\n",
       "  \"\\nWie? Sinnt der König, was kein edler Mann,\\nDer seinen Namen liebt, und dem Verehrung\\nDer Himmlischen den Busen bändiget,\\nJe denken sollte? Sinnt er, vom Altar\\nMich in sein Bette mit Gewalt zu ziehn?\\nSo ruf' ich alle Götter und vor allen\\nDianen, die entschloßne Göttin, an\\nDie ihren Schutz der Priesterin gewiß\\nUnd Jungfrau einer Jungfrau gern gewährt.\\n\": -0.011484782608695652,\n",
       "  \"\\nZwar seh' ich nicht,\\nWie ich dem Rat des Treuen folgen soll;\\nDoch folg' ich gern der Pflicht, dem Könige\\nFür seine Wohltat gutes Wort zu geben,\\nUnd wünsche mir, daß ich dem Mächtigen,\\nWas ihm gefällt, nur Wahrheit sagen möge.\\n\": -0.0005656250000000002,\n",
       "  '\\nIch folgte meiner Pflicht und deinem Wink,\\nWenn unvermutet nicht ein Hindernis\\nSich zwischen mich und die Erfüllung stellte.\\n': -0.02560714285714286,\n",
       "  \"\\nDie Götter haben ihn noch nicht beschlossen.\\nDer ältste dieser Männer trägt die Schuld\\nDes nahverwandten Bluts, das er vergoß.\\nDie Furien verfolgen seinen Pfad,\\nJa, in dem innern Tempel faßte selbst\\nDas Übel ihn, und seine Gegenwart\\nEntheiligte die reine Stätte. Nun\\nEil' ich mit meinen Jungfraun, an dem Meere\\nDer Göttin Bild mit frischer Welle netzend,\\nGeheimnisvolle Weihe zu begehn.\\nEs störe niemand unsern stillen Zug!\\n\": -0.022835087719298246,\n",
       "  '\\nErschüttre meine Seele nicht, die du\\nNach deinem Willen nicht bewegen kannst.\\n': 0.0005,\n",
       "  '\\nDu machst dir Müh, und mir erregst du Schmerzen;\\n\\n Vergebens beides: darum laß mich nun.\\n': -0.0003692307692307692,\n",
       "  '\\nSie fassen meine Seele mit Gewalt,\\nDoch tilgen sie den Widerwillen nicht.\\n': -0.05363,\n",
       "  '\\nJa, wenn der Edle, was sich nicht geziemt,\\nStatt meines Dankes mich erwerben will.\\n': 0.0,\n",
       "  \"\\nVon dieses Mannes Rede fühl' ich mir\\nZur ungelegnen Zeit das Herz im Busen\\nAuf einmal umgewendet. Ich erschrecke! –\\nDenn wie die Flut mit schnellen Strömen wachsend\\nDie Felsen überspült, die in dem Sand\\nAm Ufer liegen: so bedeckte ganz\\nEin Freudenstrom mein Innerstes. Ich hielt\\nIn meinen Armen das Unmögliche.\\nEs schien sich eine Wolke wieder sanft\\nUm mich zu legen, von der Erde mich\\nEmporzuheben und in jenen Schlummer\\nMich einzuwiegen, den die gute Göttin\\nUm meine Schläfe legte, da ihr Arm\\nMich rettend faßte. – Meinen Bruder\\nErgriff das Herz mit einziger Gewalt:\\nIch horchte nur auf seines Freundes Rat\\nNur sie zu retten, drang die Seele vorwärts.\\nUnd wie den Klippen einer wüsten Insel\\nDer Schiffer gern den Rücken wendet: so\\nLag Tauris hinter mir. Nun hat die Stimme\\nDes treuen Manns mich wieder aufgeweckt,\\n\\n Daß ich auch Menschen hier verlasse, mich\\nErinnert. Doppelt wird mir der Betrug\\nVerhaßt. O bleibe ruhig, meine Seele!\\nBeginnst du nun zu schwanken und zu zweifeln?\\nDen festen Boden deiner Einsamkeit\\nMußt du verlassen! Wieder eingeschifft,\\nErgreifen dich die Wellen schaukelnd, trüb\\nUnd bang verkennest du die Welt und dich.\\n\": -0.0005059999999999994},\n",
       " 'arkas-iphigenie': {'\\nDer König sendet mich hieher und heut\\nDer Priesterin Dianens Gruß und Heil.\\nDies ist der Tag, da Tauris seiner Göttin\\nFür wunderbare neue Siege dankt.\\nIch eile vor dem König und dem Heer,\\nZu melden, daß er kommt und daß es naht.\\n': 0.00596875,\n",
       "  \"\\nO fänd' ich auch den Blick der Priesterin,\\nDer werten, vielgeehrten, deinen Blick,\\nO heil'ge Jungfrau, heller, leuchtender,\\nUns allen gutes Zeichen! Noch bedeckt\\nDer Gram geheimnisvoll dein Innerstes;\\nVergebens harren wir schon Jahre lang\\nAuf ein vertraulich Wort aus deiner Brust.\\nSolang' ich dich an dieser Stätte kenne,\\nIst dies der Blick, vor dem ich immer schaudre;\\nUnd wie mit Eisenbanden bleibt die Seele\\nIns Innerste des Busens dir geschmiedet.\\n\": 0.0014593220338983053,\n",
       "  '\\nWenn du dich so unglücklich nennen willst,\\nSo darf ich dich auch wohl undankbar nennen.\\n': -0.06851111111111112,\n",
       "  \"\\nDoch nicht den reinen Dank,\\nUm dessentwillen man die Wohltat tut;\\nDen frohen Blick, der ein zufriednes Leben\\nUnd ein geneigtes Herz dem Wirte zeigt.\\nAls dich ein tief geheimnisvolles Schicksal\\nVor so viel Jahren diesem Tempel brachte,\\nKam Thoas dir als einer Gottgegebnen\\nMit Ehrfurcht und mit Neigung zu begegnen,\\nUnd dieses Ufer ward dir hold und freundlich\\nDas jedem Fremden sonst voll Grausens war,\\nWeil niemand unser Reich vor dir betrat,\\nDer an Dianens heil'gen Stufen nicht\\nNach altem Brauch ein blutges Opfer fiel.\\n\": 0.007688405797101449,\n",
       "  \"\\nDen edlen Stolz, daß du dir selbst nicht gnügest,\\nVerzeih' ich dir, so sehr ich dich bedaure:\\nEr raubet den Genuß des Lebens dir.\\nDu hast hier nichts getan seit deiner Ankunft?\\nWer hat des Königs trüben Sinn erheitert?\\nWer hat den alten grausamen Gebrauch,\\nDaß am Altar Dianens jeder Fremde\\nSein Leben blutend läßt, von Jahr zu Jahr\\nMit sanfter Überredung aufgehalten\\nUnd die Gefangnen vom gewissen Tod\\n\\n Ins Vaterland so oft zurück geschickt?\\nHat nicht Diane, statt erzürnt zu sein,\\nDaß sie der blut'gen alten Opfer mangelt,\\nDein sanft Gebet in reichem Maß erhört?\\nUmschwebt mit frohem Fluge nicht der Sieg\\nDas Heer? und eilt er nicht sogar voraus?\\nUnd fühlt nicht jeglicher ein besser Los,\\nSeitdem der König, der uns weis' und tapfer\\nSo lang' geführet, nun sich auch der Milde\\nIn deiner Gegenwart erfreut und uns\\nDes schweigenden Gehorsams Pflicht erleichtert?\\nDas nennst du unnütz, wenn von deinem Wesen\\nAuf Tausende herab ein Balsam träufelt?\\nWenn du dem Volke, dem ein Gott dich brachte,\\nDes neuen Glückes ew'ge Quelle wirst\\nUnd an dem unwirtbaren Todesufer\\nDem Fremden Heil und Rückkehr zubereitest?\\n\": -0.0008443661971830977,\n",
       "  \"\\nAuch den, der wahren Wert zu stolz nicht achtet,\\nWie den, der falschen Wert zu eitel hebt.\\nGlaub' mir und hör' auf eines Mannes Wort,\\nDer treu und redlich dir ergeben ist:\\nWenn heut' der König mit dir redet, so\\nErleichtr' ihm, was er dir zu sagen denkt.\\n\": 0.014983783783783783,\n",
       "  \"\\nBedenke, was du tust und was dir nützt.\\nSeitdem der König seinen Sohn verloren,\\nVertraut er wenigen der Seinen mehr,\\nUnd diesen wenigen nicht mehr wie sonst.\\nMißgünstig sieht er jedes Edlen Sohn\\nAls seines Reiches Folger an, er fürchtet\\nEin einsam hülflos Alter, ja vielleicht\\nVerwegnen Aufstand und frühzeit'gen Tod.\\nDer Skythe setzt ins Reden keinen Vorzug,\\nAm wenigsten der König. Er, der nur\\n\\n Gewohnt ist, zu befehlen und zu tun,\\nKennt nicht die Kunst, von weitem ein Gespräch\\nNach seiner Absicht langsam fein zu lenken.\\nErschwer's ihm nicht durch ein rückhaltend Weigern,\\nDurch ein vorsätzlich Mißverstehen. Geh\\nGefällig ihm den halben Weg entgegen.\\n\": -0.006788461538461539,\n",
       "  \"\\nDem König sollte nichts Geheimnis sein;\\nUnd ob er's gleich nicht fordert, fühlt er's doch\\nUnd fühlt es tief in seiner großen Seele,\\nDaß du sorgfältig dich vor ihm verwahrst.\\n\": 0.010090476190476191,\n",
       "  '\\nSo scheint es fast. Zwar schweigt er auch von dir;\\nDoch haben hingeworfne Worte mich\\nBelehrt, daß seine Seele fest den Wunsch\\nErgriffen hat, dich zu besitzen. Laß,\\nO überlaß ihn nicht sich selbst! damit\\nIn seinem Busen nicht der Unmut reife\\nUnd dir Entsetzen bringe, du zu spät\\nAn meinen treuen Rat mit Reue denkest.\\n': 0.002447500000000001,\n",
       "  \"\\nSei ruhig! Ein gewaltsam neues Blut\\nTreibt nicht den König, solche Jünglingstat\\nVerwegen auszuüben. Wie er sinnt,\\nBefürcht' ich andern, harten Schluß von ihm,\\n\\n Den unaufhaltbar er vollenden wird:\\nDenn seine Seel' ist fest und unbeweglich.\\nDrum bitt' ich dich, vertrau' ihm, sei ihm dankbar,\\nWenn du ihm weiter nichts gewähren kannst.\\n\": 0.01083953488372093,\n",
       "  \"\\nErfahr's von ihm. Ich seh' den König kommen.\\nDu ehrst ihn, und dich heißt dein eigen Herz,\\nIhm freundlich und vertraulich zu begegnen.\\nEin edler Mann wird durch ein gutes Wort\\nDer Frauen weit geführt.\\n\": 0.025823076923076924,\n",
       "  '\\nBeschleunige das Opfer, Priesterin!\\nDer König wartet, und es harrt das Volk.\\n': 0.0,\n",
       "  \"\\nSo sage mir's, daß ich's ihm schnell vermelde:\\nDenn er beschloß bei sich der beiden Tod.\\n\": -0.005361538461538461,\n",
       "  \"\\nIch melde dieses neue Hindernis\\nDem Könige geschwind; beginne du\\nDas heil'ge Werk nicht eh', bis er's erlaubt.\\n\": -4.210526315789471e-05,\n",
       "  \"\\nSchnell bin ich mit der Nachricht in dem Lager,\\nUnd schnell mit seinen Worten hier zurück.\\nO könnt' ich ihm noch eine Botschaft bringen,\\nDie alles löste, was uns jetzt verwirrt:\\nDenn du hast nicht des Treuen Rat geachtet.\\n\": 0.011474999999999999,\n",
       "  \"\\nIch sage dir, es liegt in deiner Hand.\\nDes Königs aufgebrachter Sinn allein\\nBereitet diesen Fremden bittern Tod.\\nDas Heer entwöhnte längst vom harten Opfer\\nUnd von dem blut'gen Dienste sein Gemüt.\\nJa, mancher, den ein widriges Geschick\\nAn fremdes Ufer trug, empfand es selbst,\\nWie göttergleich dem armen Irrenden,\\nUmhergetriebnen an der fremden Grenze\\nEin freundlich Menschenangesicht begegnet.\\nO wende nicht von uns, was du vermagst!\\nDu endest leicht, was du begonnen hast:\\nDenn nirgends baut die Milde, die herab\\nIn menschlicher Gestalt vom Himmel kommt,\\nEin Reich sich schneller, als wo trüb und wild\\nEin neues Volk, voll Leben, Mut und Kraft,\\nSich selbst und banger Ahnung überlassen,\\nDes Menschenlebens schwere Bürden trägt.\\n\": 0.0010092783505154619,\n",
       "  \"\\nSolang' es Zeit ist, schont man weder Mühe\\nNoch eines guten Wortes Wiederholung.\\n\": 0.02821538461538461,\n",
       "  \"\\nDie Schmerzen sind's, die ich zu Hilfe rufe:\\nDenn es sind Freunde, Gutes raten sie.\\n\": 0.028523076923076922,\n",
       "  '\\nFühlt eine schöne Seele Widerwillen\\nFür eine Wohltat, die der Edle reicht?\\n': 0.00036363636363636367,\n",
       "  \"\\nWer keine Neigung fühlt, dem mangelt es\\nAn einem Worte der Entschuld'gung nie.\\nDem Fürsten sag' ich an, was hier geschehn.\\nO wiederholtest du in deiner Seele,\\nWie edel er sich gegen dich betrug\\nVon deiner Ankunft an bis diesen Tag!\\n\": -0.00017142857142857143,\n",
       "  \"\\nVerwirrt muß ich gestehn, daß ich nicht weiß,\\nWohin ich meinen Argwohn richten soll.\\nSind's die Gefangnen, die auf ihre Flucht\\nVerstohlen sinnen? Ist's die Priesterin,\\nDie ihnen hilft? Es mehrt sich das Gerücht:\\nDas Schiff, das diese beiden hergebracht,\\nSei irgend noch in einer Bucht versteckt.\\nUnd jenes Mannes Wahnsinn, diese Weihe,\\nDer heil'ge Vorwand dieser Zögrung, rufen\\nDen Argwohn lauter und die Vorsicht auf.\\n\": 0.00720392156862745},\n",
       " 'iphigenie-thoas': {'\\nDer Unbekannten bietest du zu viel,\\nO König, an. Es steht die Flüchtige\\nBeschämt vor dir, die nichts an diesem Ufer\\nAls Schutz und Ruhe sucht, die du ihr gabst.\\n': 0.025045,\n",
       "  \"\\nVerbarg ich meiner Eltern Namen und\\nMein Haus, o König, war's Verlegenheit,\\nNicht Mißtraun. Denn vielleicht, ach! wüßtest du,\\nWer vor dir steht, und welch verwünschtes Haupt\\nDu nährst und schützest: ein Entsetzen faßte\\nDein großes Herz mit seltnem Schauer an,\\nUnd statt die Seite deines Thrones mir\\nZu bieten, triebest du mich vor der Zeit\\nAus deinem Reiche; stießest mich vielleicht,\\nEh' zu den Meinen frohe Rückkehr mir\\nUnd meiner Wandrung Ende zugedacht ist,\\nDem Elend zu, das jeden Schweifenden,\\n\\n Von seinem Haus Vertriebnen überall\\nMit kalter, fremder Schreckenshand erwartet.\\n\": -0.011975,\n",
       "  \"\\nVom alten Bande löset ungern sich\\nDie Zunge los, ein langverschwiegenes\\nGeheimnis endlich zu entdecken. Denn\\nEinmal vertraut, verläßt es ohne Rückkehr\\nDes tiefen Herzens sichre Wohnung, schadet,\\nWie es die Götter wollen, oder nützt.\\nVernimm! Ich bin aus Tantalus' Geschlecht.\\n\": 8.64864864864865e-05,\n",
       "  '\\nEr ist es; aber Götter sollten nicht\\nMit Menschen wie mit ihresgleichen wandeln:\\nDas sterbliche Geschlecht ist viel zu schwach,\\nIn ungewohnter Höhe nicht zu schwindeln.\\nUnedel war er nicht und kein Verräter,\\nAllein zum Knecht zu groß, und zum Gesellen\\nDes großen Donnrers nur ein Mensch. So war\\nAuch sein Vergehen menschlich; ihr Gericht\\nWar streng, und Dichter singen: Übermut\\nUnd Untreu stürzten ihn von Jovis Tisch\\nZur Schmach des alten Tartarus hinab.\\nAch, und sein ganz Geschlecht trug ihren Haß!\\n': -0.01911111111111111,\n",
       "  \"\\nZwar die gewalt'ge Brust und der Titanen\\nKraftvolles Mark war seiner Söhn' und Enkel\\nGewisses Erbteil; doch es schmiedete\\nDer Gott um ihre Stirn ein ehern Band.\\nRat, Mäßigung und Weisheit und Geduld\\nVerbarg er ihrem scheuen, düstern Blick:\\nZur Wut ward ihnen jegliche Begier,\\nUnd grenzenlos drang ihre Wut umher.\\nSchon Pelops, der Gewaltig-Wollende,\\nDes Tantalus geliebter Sohn, erwarb\\nSich durch Verrat und Mord das schönste Weib,\\nÖnomaus' Erzeugte, Hippodamien.\\nSie bringt den Wünschen des Gemahls zwei Söhne,\\nThyest und Atreus. Neidisch sehen sie\\nDes Vaters Liebe zu dem ersten Sohn\\nAus einem andern Bette wachsend an.\\nDer Haß verbindet sie, und heimlich wagt\\nDas Paar im Brudermord die erste Tat.\\nDer Vater wähnet Hippodamien\\nDie Mörderin, und grimmig fordert er\\nVon ihr den Sohn zurück, und sie entleibt\\nSich selbst\\n\": -0.01253684210526316,\n",
       "  \"\\nWohl dem, der seiner Väter gern gedenkt,\\nDer froh von ihren Taten, ihrer Größe\\n\\n Den Hörer unterhält und, still sich freuend,\\nAns Ende dieser schönen Reihe sich\\nGeschlossen sieht! Denn es erzeugt nicht gleich\\nEin Haus den Halbgott, noch das Ungeheuer;\\nErst eine Reihe Böser oder Guter\\nBringt endlich das Entsetzen, bringt die Freude\\nDer Welt hervor. – Nach ihres Vaters Tode\\nGebieten Atreus und Thyest der Stadt,\\nGemeinsam herrschend. Lange konnte nicht\\nDie Eintracht dauern. Bald entehrt Thyest\\nDes Bruders Bette. Rächend treibet Atreus\\nIhn aus dem Reiche. Tückisch hatte schon\\nThyest, auf schwere Taten sinnend, lange\\nDem Bruder einen Sohn entwandt und heimlich\\nIhn als den seinen schmeichelnd auferzogen.\\nDem füllet er die Brust mit Wut und Rache\\nUnd sendet ihn zur Königsstadt, daß er\\nIm Oheim seinen eignen Vater morde.\\nDes Jünglings Vorsatz wird entdeckt: der König\\nStraft grausam den gesandten Mörder, wähnend,\\nEr töte seines Bruders Sohn. Zu spät\\nErfährt er, wer vor seinen trunknen Augen\\nGemartert stirbt; und die Begier der Rache\\nAus seiner Brust zu tilgen, sinnt er still\\nAuf unerhörte Tat. Er scheint gelassen,\\nGleichgültig und versöhnt, und lockt den Bruder\\nMit seinen beiden Söhnen in das Reich\\nZurück, ergreift die Knaben, schlachtet sie\\nUnd setzt die ekle, schaudervolle Speise\\nDem Vater bei dem ersten Mahle vor.\\nUnd da Thyest an seinem Fleische sich\\nGesättigt, eine Wehmut ihn ergreift,\\nEr nach den Kindern fragt, den Tritt, die Stimme\\nDer Knaben an des Saales Türe schon\\nZu hören glaubt, wirft Atreus grinsend\\nIhm Haupt und Füße der Erschlagnen hin.\\nDu wendest schaudernd dein Gesicht, o König:\\nSo wendete die Sonn' ihr Antlitz weg\\nUnd ihren Wagen aus dem ew'gen Gleise.\\n\\n Dies sind die Ahnherrn deiner Priesterin;\\nUnd viel unseliges Geschick der Männer,\\nViel Taten des verworrnen Sinnes deckt\\nDie Nacht mit schweren Fittichen und läßt\\nUns nur in grauenvolle Dämmrung sehn.\\n\": -0.007694466403162053,\n",
       "  \"\\nDes Atreus ältster Sohn war Agamemnon:\\nEr ist mein Vater. Doch, ich darf es sagen,\\nIn ihm hab' ich seit meiner ersten Zeit\\nEin Muster des vollkommnen Manns gesehn.\\nIhm brachte Klytämnestra mich, den Erstling\\nDer Liebe, dann Elektren. Ruhig herrschte\\nDer König, und es war dem Hause Tantals\\nDie lang' entbehrte Rast gewährt. Allein\\nEs mangelte dem Glück der Eltern noch\\nEin Sohn, und kaum war dieser Wunsch erfüllt,\\nDaß zwischen beiden Schwestern nun Orest,\\nDer Liebling, wuchs, als neues Übel schon\\nDem sichern Hause zubereitet war.\\nDer Ruf des Krieges ist zu euch gekommen,\\nDer, um den Raub der schönsten Frau zu rächen,\\nDie ganze Macht der Fürsten Griechenlands\\nUm Trojens Mauern lagerte. Ob sie\\nDie Stadt gewonnen, ihrer Rache Ziel\\nErreicht, vernahm ich nicht. Mein Vater führte\\nDer Griechen Heer. In Aulis harrten sie\\nAuf günst'gen Wind vergebens: denn Diane,\\nErzürnt auf ihren großen Führer, hielt\\nDie Eilenden zurück und forderte\\nDurch Kalchas' Mund des Königs ältste Tochter.\\nSie lockten mit der Mutter mich ins Lager;\\nSie rissen mich vor den Altar und weihten\\nDer Göttin dieses Haupt. – Sie war versöhnt!\\nSie wollte nicht mein Blut und hüllte rettend\\nIn eine Wolke mich; in diesem Tempel\\nErkannt' ich mich zuerst vom Tode wieder.\\nIch bin es selbst, bin Iphigenie,\\n\\n Des Atreus Enkel, Agamemnons Tochter,\\nDer Göttin Eigentum, die mit dir spricht.\\n\": -0.004511538461538461,\n",
       "  '\\nWie darf ich solchen Schritt, o König, wagen?\\nHat nicht die Göttin, die mich rettete,\\nAllein das Recht auf mein geweihtes Leben?\\nSie hat für mich den Schutzort ausgesucht,\\nUnd sie bewahrt mich einem Vater, den\\nSie durch den Schein genug gestraft, vielleicht\\nZur schönsten Freude seines Alters hier.\\nVielleicht ist mir die frohe Rückkehr nah?\\nUnd ich, auf ihren Weg nicht achtend, hätte\\nMich wider ihren Willen hier gefesselt?\\nEin Zeichen bat ich, wenn ich bleiben sollte.\\n': 0.012875,\n",
       "  \"\\nNicht Worte sind es, die nur blenden sollen:\\nIch habe dir mein tiefstes Herz entdeckt.\\nUnd sagst du dir nicht selbst, wie ich dem Vater,\\nDer Mutter, den Geschwistern mich entgegen\\nMit ängstlichen Gefühlen sehnen muß?\\nDaß in den alten Hallen, wo die Trauer\\nNoch manchmal stille meinen Namen lispelt,\\nDie Freude, wie um eine Neugeborne,\\nDen schönsten Kranz von Säul' an Säulen schlinge.\\nO sendetest du mich auf Schiffen hin!\\nDu gäbest mir und allen neues Leben.\\n\": -0.00018421052631579062,\n",
       "  \"\\nGedenk', o König, deines edeln Wortes!\\nWillst du mein Zutraun so erwidern? Du\\nSchienst vorbereitet, alles zu vernehmen.\\n\": 0.005755555555555555,\n",
       "  \"\\nSchilt nicht, o König, unser arm Geschlecht.\\nNicht herrlich wie die euern, aber nicht\\nUnedel sind die Waffen eines Weibes.\\nGlaub' es, darin bin ich dir vorzuziehn\\nDaß ich dein Glück mehr als du selber kenne.\\nDu wähnest, unbekannt mit dir und mir\\nEin näher Band werd' uns zum Glück vereinen.\\nVoll guten Mutes, wie voll guten Willens,\\nDringst du in mich, daß ich mich fügen soll;\\nUnd hier dank' ich den Göttern, daß sie mir\\nDie Festigkeit gegeben, dieses Bündnis\\nNicht einzugehen, das sie nicht gebilligt.\\n\": 0.023186666666666668,\n",
       "  \"\\nSo\\nBüß' ich nun das Vertraun, das du erzwangst.\\n\": 0.0,\n",
       "  \"\\nUm meinetwillen hab' ich's nie begehrt.\\nDer mißversteht die Himmlischen, der sie\\nBlutgierig wähnt: er dichtet ihnen nur\\nDie eignen grausamen Begierden an.\\nEntzog die Göttin mich nicht selbst dem Priestet?\\nIhr war mein Dienst willkommner als mein Tod.\\n\": -0.01903548387096774,\n",
       "  '\\nDu hast Wolken, gnädige Retterin,\\nEinzuhüllen unschuldig Verfolgte,\\nUnd auf Winden dem ehrnen Geschick sie\\nAus den Armen, über das Meer,\\nÜber der Erde weiteste Strecken,\\n\\n Und wohin es dir gutdünkt, zu tragen.\\nWeise bist du und siehest das Künftige;\\nNicht vorüber ist dir das Vergangne,\\nUnd dein Blick ruht über den Deinen,\\nWie dein Licht, das Leben der Nächte,\\nÜber der Erde ruhet und waltet.\\nO, enthalte vom Blut meine Hände!\\nNimmer bringt es Segen und Ruhe;\\nUnd die Gestalt des zufällig Ermordeten\\nWird auf des traurig-unwilligen Mörders\\nBöse Stunden lauern und schrecken.\\nDenn die Unsterblichen lieben der Menschen\\nWeit verbreitete gute Geschlechter,\\nUnd sie fristen das flüchtige Leben\\nGerne dem Sterblichen, wollen ihm gerne\\nIhres eigenen, ewigen Himmels\\nMitgenießendes fröhliches Anschaun\\nEine Weile gönnen und lassen.\\n': 0.00623302752293578,\n",
       "  \"\\nWenn dir das Herz zum grausamen Entschluß\\nVerhärtet ist, so solltest du nicht kommen!\\nEin König, der Unmenschliches verlangt,\\nFindt Diener gnug, die gegen Gnad' und Lohn\\nDen halben Fluch der Tat begierig fassen;\\nDoch seine Gegenwart bleibt unbefleckt.\\nEr sinnt den Tod in einer schweren Wolke\\nUnd seine Boten bringen flammendes\\nVerderben auf des Armen Haupt hinab;\\nEr aber schwebt durch seine Höhen ruhig,\\nEin unerreichter Gott, im Sturme fort.\\n\": -0.0037032258064516126,\n",
       "  \"\\nNicht Priesterin! nur Agamemnons Tochter.\\nDer Unbekannten Wort verehrtest du,\\nDer Fürstin willst du rasch gebieten? Nein!\\nVon Jugend auf hab' ich gelernt gehorchen,\\nErst meinen Eltern und dann einer Gottheit,\\nUnd folgsam fühlt' ich immer meine Seele\\nAm schönsten frei; allein dem harten Worte,\\nDem rauhen Ausspruch eines Mannes mich\\nZu fügen, lernt' ich weder dort noch hier.\\n\\n\": 0.00934423076923077,\n",
       "  '\\nWir fassen ein Gesetz begierig an,\\nDas unsrer Leidenschaft zur Waffe dient.\\nEin andres spricht zu mir: ein älteres,\\nMich dir zu widersetzen, das Gebot,\\nDem jeder Fremde heilig ist.\\n': 0.0027653846153846157,\n",
       "  \"\\nRed' oder schweig' ich, immer kannst du wissen,\\nWas mir im Herzen ist und immer bleibt.\\nLöst die Erinnerung des gleichen Schicksals\\nNicht ein verschloßnes Herz zum Mitleid auf?\\nWie mehr denn meins! In ihnen seh' ich mich.\\nIch habe vorm Altare selbst gezittert,\\nUnd feierlich umgab der frühe Tod\\nDie Knieende: das Messer zuckte schon,\\nDen lebenvollen Busen zu durchbohren;\\nMein Innerstes entsetzte wirbelnd sich,\\nMein Auge brach, und – ich fand mich gerettet.\\nSind wir, was Götter gnädig uns gewährt,\\nUnglücklichen nicht zu erstatten schuldig?\\nDu weißt es, kennst mich, und du willst mich zwingen!\\n\": -0.02841973684210526,\n",
       "  \"\\nLaß ab! Beschönige nicht die Gewalt,\\nDie sich der Schwachheit eines Weibes freut.\\nIch bin so frei geboren als ein Mann.\\nStünd' Agamemnons Sohn dir gegenüber,\\nUnd du verlangtest, was sich nicht gebührt,\\nSo hat auch er ein Schwert und einen Arm,\\nDie Rechte seines Busens zu verteid'gen.\\nIch habe nichts als Worte, und es ziemt\\nDem edlen Mann, der Frauen Wort zu achten.\\n\": -0.007174418604651163,\n",
       "  \"\\nDas Los der Waffen wechselt hin und her:\\nKein kluger Streiter hält den Feind gering.\\nAuch ohne Hilfe gegen Trutz und Härte\\n\\n Hat die Natur den Schwachen nicht gelassen.\\nSie gab zur List ihm Freude, lehrt' ihn Künste:\\nBald weicht er aus, verspätet und umgeht.\\nJa, der Gewaltige verdient, daß man sie übt.\\n\": -0.03051904761904762,\n",
       "  \"\\nO sähest du, wie meine Seele kämpft,\\nEin bös Geschick, das sie ergreifen will,\\nIm ersten Anfall mutig abzutreiben!\\nSo steh' ich denn hier wehrlos gegen dich?\\nDie schöne Bitte, den anmut'gen Zweig,\\nIn einer Frauen Hand gewaltiger\\nAls Schwert und Waffe, stößest du zurück:\\nWas bleibt mir nun, mein Innres zu verteid'gen?\\nRuf' ich die Göttin um ein Wunder an?\\nIst keine Kraft in meiner Seele Tiefen?\\n\": 0.00016603773584905704,\n",
       "  \"\\nHat denn zur unerhörten Tat der Mann\\nAllein das Recht? Drückt denn Unmögliches\\nNur er an die gewalt'ge Heldenbrust?\\nWas nennt man groß? Was hebt die Seele schaudernd\\nDem immer wiederholenden Erzähler,\\nAls was mit unwahrscheinlichem Erfolg\\nDer Mutigste begann? Der in der Nacht\\nAllein das Heer des Feindes überschleicht,\\nWie unversehen eine Flamme wütend\\nDie Schlafenden, Erwachenden ergreift,\\nZuletzt, gedrängt von den Ermunterten,\\nAuf Feindes Pferden, doch mit Beute kehrt,\\nWird der allein gepriesen? der allein,\\nDer, einen sichern Weg verachtend, kühn\\n\\n Gebirg' und Wälder durchzustreifen geht,\\nDaß er von Räubern eine Gegend säubre?\\nIst uns nichts übrig? Muß ein zartes Weib\\nSich ihres angebornen Rechts entäußern,\\nWild gegen Wilde sein, wie Amazonen\\nDas Recht des Schwerts euch rauben und mit Blute\\nDie Unterdrückung rächen? Auf und ab\\nSteigt in der Brust ein kühnes Unternehmen:\\nIch werde großem Vorwurf nicht entgehn,\\nNoch schwerem Übel, wenn es mir mißlingt;\\nAllein euch leg' ich's auf die Kniee! Wenn\\nIhr wahrhaft seid, wie ihr gepriesen werdet,\\nSo zeigt's durch euern Beistand und verherrlicht\\nDurch mich die Wahrheit! – Ja, vernimm, o König,\\nEs wird ein heimlicher Betrug geschmiedet:\\nVergebens fragst du den Gefangnen nach;\\nSie sind hinweg und suchen ihre Freunde,\\nDie mit dem Schiff am Ufer warten, auf.\\nDer ältste, den das Übel hier ergriffen\\nUnd nun verlassen hat – es ist Orest,\\nMein Bruder, und der andre sein Vertrauter,\\nSein Jugendfreund, mit Namen Pylades.\\nApoll schickt sie von Delphi diesem Ufer\\nMit göttlichen Befehlen zu, das Bild\\nDianens wegzurauben und zu ihm\\nDie Schwester hinzubringen, und dafür\\nVerspricht er dem von Furien Verfolgten,\\nDes Mutterblutes Schuldigen, Befreiung.\\nUnd beide hab' ich nun, die Überbliebnen\\nVon Tantals Haus, in deine Hand gelegt:\\nVerdirb uns – wenn du darfst.\\n\": -0.011785281385281383,\n",
       "  \"\\nEs hört sie jeder,\\nGeboren unter jedem Himmel, dem\\nDes Lebens Quelle durch den Busen rein\\nUnd ungehindert fließt. – Was sinnst du mir,\\n\\n O König, schweigend in der tiefen Seele?\\nIst es Verderben? so töte mich zuerst!\\nDenn nun empfind' ich, da uns keine Rettung\\nMehr übrigbleibt, die gräßliche Gefahr,\\nWorein ich die Geliebten übereilt\\nVorsätzlich stürzte. Weh! Ich werde sie\\nGebunden vor mir sehn! Mit welchen Blicken\\nKann ich von meinem Bruder Abschied nehmen,\\nDen ich ermorde? Nimmer kann ich ihm\\nMehr in die vielgeliebten Augen schaun!\\n\": -0.035664705882352946,\n",
       "  \"\\nNein! o König, nein!\\nIch könnte hintergangen werden; diese\\nSind treu und wahr. Wirst du sie anders finden,\\nSo laß sie fallen und verstoße mich\\nVerbanne mich zur Strafe meiner Torheit\\nAn einer Klippeninsel traurig Ufer.\\nIst aber dieser Mann der lang' erflehte,\\nGeliebte Bruder, so entlaß uns, sei\\nAuch den Geschwistern wie der Schwester freundlich.\\nMein Vater fiel durch seiner Frauen Schuld,\\nUnd sie durch ihren Sohn. Die letzte Hoffnung\\nVon Atreus' Stamme ruht auf ihm allein.\\nLaß mich mit reinem Herzen, reiner Hand\\nHinübergehn und unser Haus entsühnen.\\nDu hältst mir Wort! – Wenn zu den Meinen je\\nMir Rückkehr zubereitet wäre, schwurst\\nDu, mich zu lassen, und sie ist es nun.\\nEin König sagt nicht, wie gemeine Menschen,\\nVerlegen zu, daß er den Bittenden\\nAuf einen Augenblick entferne, noch\\nVerspricht er auf den Fall, den er nicht hofft:\\nDann fühlt er erst die Höhe seiner Würde,\\nWenn er den Harrenden beglücken kann.\\n\": -0.010895495495495499,\n",
       "  \"\\nO laß die Gnade, wie das heil'ge Licht\\nDer stillen Opferflamme, mir, umkränzt\\nVon Lobgesang und Dank und Freude, lodern.\\n\": 0.03634444444444444,\n",
       "  \"\\nDer Zweifel ist's, der Gutes böse macht.\\nBedenke nicht; gewähre, wie du's fühlst.\\n\": -0.01847692307692308,\n",
       "  '\\nEntheiliget\\nDer Göttin Wohnung nicht durch Wut und Mord.\\nGebietet eurem Volke Stillstand, höret\\nDie Priesterin, die Schwester!\\n': -0.044047368421052634,\n",
       "  \"\\nMit nichten! Dieses blutigen Beweises\\nBedarf es nicht, o König! Laßt die Hand\\nVom Schwerte! Denkt an mich und mein Geschick.\\n\\n Der rasche Kampf verewigt einen Mann:\\nEr falle gleich, so preiset ihn das Lied.\\nAllein die Tränen, die unendlichen,\\nDer überbliebnen, der verlaßnen Frau\\nZählt keine Nachwelt, und der Dichter schweigt\\nVon tausend durchgeweinten Tag' und Nächten,\\nWo eine stille Seele den verlornen,\\nRasch abgeschiednen Freund vergebens sich\\nZurückzurufen bangt und sich verzehrt.\\nMich selbst hat eine Sorge gleich gewarnt,\\nDaß der Betrug nicht eines Räubers mich\\nVom sichern Schutzort reiße, mich der Knechtschaft\\nVerrate. Fleißig hab' ich sie befragt,\\nNach jedem Umstand mich erkundigt, Zeichen\\nGefordert, und gewiß ist nun mein Herz.\\nSieh hier an seiner rechten Hand das Mal\\nWie von drei Sternen, das am Tage schon,\\nDa er geboren ward, sich zeigte, das\\nAuf schwere Tat, mit dieser Faust zu üben,\\nDer Priester deutete. Dann überzeugt\\nMich doppelt diese Schramme, die ihm hier\\nDie Augenbraue spaltet. Als ein Kind\\nLieß ihn Elektra, rasch und unvorsichtig\\nNach ihrer Art, aus ihren Armen stürzen.\\nEr schlug auf einen Dreifuß auf. – Er ist's –\\nSoll ich dir noch die Ähnlichkeit des Vaters,\\nSoll ich das innre Jauchzen meines Herzens\\nDir auch als Zeugen der Versichrung nennen?\\n\": -0.005466459627329193,\n",
       "  \"\\nNicht so, mein König! Ohne Segen,\\nIn Widerwillen, scheid' ich nicht von dir.\\nVerbann' uns nicht! Ein freundlich Gastrecht walte\\nVon dir zu uns: so sind wir nicht auf ewig\\nGetrennt und abgeschieden. Wert und teuer,\\nWie mir mein Vater war, so bist du's mir,\\nUnd dieser Eindruck bleibt in meiner Seele.\\nBringt der Geringste deines Volkes je\\nDen Ton der Stimme mir ins Ohr zurück,\\nDen ich an euch gewohnt zu hören bin,\\nUnd seh' ich an dem Ärmsten eure Tracht:\\nEmpfangen will ich ihn wie einen Gott,\\nIch will ihm selbst ein Lager zubereiten,\\nAuf einen Stuhl ihn an das Feuer laden\\nUnd nur nach dir und deinem Schicksal fragen.\\nO geben dir die Götter deiner Taten\\nUnd deiner Milde wohlverdienten Lohn!\\nLeb' wohl! O wende dich zu uns und gib\\nEin holdes Wort des Abschieds mir zurück!\\nDann schwellt der Wind die Segel sanfter an,\\nUnd Tränen fließen lindernder vom Auge\\nDes Scheidenden. Leb' wohl! und reiche mir\\nZum Pfand der alten Freundschaft deine Rechte.\\n\": 0.002700840336134454},\n",
       " 'thoas-iphigenie': {\"\\nZufrieden wär' ich, wenn mein Volk mich rühmte:\\nWas ich erwarb, genießen andre mehr\\nAls ich. Der ist am glücklichsten, er sei\\nEin König oder ein Geringer, dem\\nIn seinem Hause Wohl bereitet ist.\\nDu nahmest teil an meinen tiefen Schmerzen,\\nAls mir das Schwert der Feinde meinen Sohn,\\nDen letzten, besten, von der Seite riß.\\nSolang' die Rache meinen Geist besaß,\\nEmpfand ich nicht die Öde meiner Wohnung;\\nDoch jetzt, da ich befriedigt wiederkehre,\\nIhr Reich zerstört, mein Sohn gerochen ist,\\n\\n Bleibt mir zu Hause nichts, das mich ergetze.\\nDer fröhliche Gehorsam den ich sonst\\nAus einem jeden Auge blicken sah,\\nIst nun von Sorg' und Unmut still gedämpft.\\nEin jeder sinnt, was künftig werden wird,\\nUnd folgt dem Kinderlosen, weil er muß.\\nNun komm' ich heut' in diesen Tempel, den\\nIch oft betrat, um Sieg zu bitten und\\nFür Sieg zu danken. Einen alten Wunsch\\nTrag' ich im Busen, der auch dir nicht fremd\\nNoch unerwartet ist: ich hoffe, dich,\\nZum Segen meines Volks und mir zum Segen,\\nAls Braut in meine Wohnung einzuführen.\\n\": -0.008378124999999998,\n",
       "  \"\\nDaß du in das Geheimnis deiner Abkunft\\nVor mir wie vor dem Letzten stets dich hüllest,\\nWär' unter keinem Volke recht und gut.\\nDies Ufer schreckt die Fremden: das Gesetz\\nGebietet's und die Not. Allein von dir,\\nDie jedes frommen Rechts genießt, ein wohl\\nVon uns empfangner Gast, nach eignem Sinn\\nUnd Willen ihres Tages sich erfreut,\\nVon dir hofft' ich Vertrauen, das der Wirt\\nFür seine Treue wohl erwarten darf.\\n\": 0.027064150943396228,\n",
       "  '\\nWas auch der Rat der Götter mit dir sei,\\nUnd was sie deinem Haus und dir gedenken,\\nSo fehlt es doch, seitdem du bei uns wohnst\\nUnd eines frommen Gastes Recht genießest,\\nAn Segen nicht, der mir von oben kommt.\\nIch möchte schwer zu überreden sein,\\nDaß ich an dir ein schuldvoll Haupt beschütze.\\n': -0.0012580645161290307,\n",
       "  \"\\nWas man Verruchten tut, wird nicht gesegnet.\\nDrum endige dein Schweigen und dein Weigern!\\nEs fordert dies kein ungerechter Mann.\\nDie Göttin übergab dich meinen Händen;\\nWie du ihr heilig warst, so warst du's mir.\\nAuch sei ihr Wink noch künftig mein Gesetz:\\nWenn du nach Hause Rückkehr hoffen kannst,\\nSo sprech' ich dich von aller Fordrung los.\\nDoch ist der Weg auf ewig dir versperrt,\\nUnd ist dein Stamm vertrieben oder durch\\nEin ungeheures Unheil ausgelöscht,\\nSo bist du mein durch mehr als ein Gesetz.\\nSprich offen! und du weißt, ich halte Wort.\\n\": -0.012925757575757577,\n",
       "  \"\\nDu sprichst ein großes Wort gelassen aus.\\nNennst du den deinen Ahnherrn, den die Welt\\nAls einen ehmals Hochbegnadigten\\nDer Götter kennt? Ist's jener Tantalus,\\nDen Jupiter zu Rat und Tafel zog,\\nAn dessen alterfahrnen, vielen Sinn\\nVerknüpfenden Gesprächen Götter selbst,\\nWie an Orakelsprüchen, sich ergetzten?\\n\\n\": 0.0,\n",
       "  '\\nDu schweigest? Fahre fort zu reden!\\nLaß dein Vertraun dich nicht gereuen! Sprich!\\n': 0.0,\n",
       "  '\\nVerbirg sie schweigend auch. Es sei genug\\nDer Greuel! Sage nun, durch welch ein Wunder\\nVon diesem wilden Stamme du entsprangst.\\n': 0.0,\n",
       "  \"\\nMehr Vorzug und Vertrauen geb' ich nicht\\nDer Königstochter als der Unbekannten.\\nIch wiederhole meinen ersten Antrag:\\nKomm, folge mir und teile, was ich habe.\\n\": 0.01756,\n",
       "  \"\\nDas Zeichen ist, daß du noch hier verweilst.\\nSuch' Ausflucht solcher Art nicht ängstlich auf.\\nMan spricht vergebens viel, um zu versagen;\\nDer andre hört von allem nur das Nein.\\n\": -0.021522727272727273,\n",
       "  \"\\nSo kehr' zurück! Tu, was dein Herz dich heißt,\\nUnd höre nicht die Stimme guten Rats\\nUnd der Vernunft. Sei ganz ein Weib und gib\\nDich hin dem Triebe, der dich zügellos\\nErgreift und dahin oder dorthin reißt.\\nWenn ihnen eine Lust im Busen brennt,\\nHält vom Verräter sie kein heilig Band,\\n\\n Der sie dem Vater oder dem Gemahl\\nAus langbewährten, treuen Armen lockt;\\nUnd schweigt in ihrer Brust die rasche Glut,\\nSo dringt auf sie vergebens treu und mächtig\\nDer Überredung goldne Zunge los.\\n\": 0.016079999999999997,\n",
       "  \"\\nAufs Ungehoffte war ich nicht bereitet;\\nDoch sollt' ich's auch erwarten: wußt' ich nicht,\\nDaß ich mit einem Weibe handeln ging?\\n\": 0.0,\n",
       "  '\\nDein heilig Amt und dein geerbtes Recht\\nAn Jovis Tisch bringt dich den Göttern näher\\nAls einen erdgebornen Wilden.\\n': 0.004483333333333334,\n",
       "  \"\\nIch bin ein Mensch; und besser ist's, wir enden.\\nSo bleibe denn mein Wort: Sei Priesterin\\nDer Göttin, wie sie dich erkoren hat;\\nDoch mir verzeih' Diane, daß ich ihr\\nBisher, mit Unrecht und mit innerm Vorwurf,\\n\\n Die alten Opfer vorenthalten habe.\\nKein Fremder nahet glücklich unserm Ufer:\\nVon alters her ist ihm der Tod gewiß.\\nNur du hast mich mit einer Freundlichkeit,\\nIn der ich bald der zarten Tochter Liebe,\\nBald stille Neigung einer Braut zu sehn\\nMich tief erfreute, wie mit Zauberbanden\\nGefesselt, daß ich meiner Pflicht vergaß.\\nDu hattest mir die Sinnen eingewiegt,\\nDas Murren meines Volks vernahm ich nicht;\\nNun rufen sie die Schuld von meines Sohnes\\nFrühzeit'gem Tode lauter über mich.\\nUm deinetwillen halt' ich länger nicht\\nDie Menge, die das Opfer dringend fordert.\\n\": -0.020226470588235294,\n",
       "  \"\\nEs ziemt sich nicht für uns, den heiligen\\nGebrauch mit leicht beweglicher Vernunft\\nNach unserm Sinn zu deuten und zu lenken.\\nTu deine Pflicht, ich werde meine tun.\\nZwei Fremde, die wir in des Ufers Höhlen\\nVersteckt gefunden, und die meinem Lande\\nNichts Gutes bringen, sind in meiner Hand.\\nMit diesen nehme deine Göttin wieder\\nIhr erstes, rechtes, lang' entbehrtes Opfer!\\nIch sende sie hierher; du weißt den Dienst.\\n\": 0.0018874999999999992,\n",
       "  '\\nEs scheinen die Gefangnen dir sehr nah\\nAm Herzen: denn vor Anteil und Bewegung\\nVergissest du der Klugheit erstes Wort,\\nDaß man den Mächtigen nicht reizen soll.\\n': 0.0002,\n",
       "  '\\nEs scheint, der beiden Fremden Schicksal macht\\nUnmäßig dich besorgt. Wer sind sie, sprich,\\nFür die dein Geist gewaltig sich erhebt?\\n': 0.00025,\n",
       "  '\\nLandsleute sind es? und sie haben wohl\\nDer Rückkehr schönes Bild in dir erneut?\\n': 0.0009,\n",
       "  '\\nDu glaubst, es höre\\nDer rohe Skythe, der Barbar, die Stimme\\nDer Wahrheit und der Menschlichkeit, die Atreus,\\nDer Grieche, nicht vernahm?\\n': 0.0004,\n",
       "  \"\\nSo haben die Betrüger, künstlich dichtend,\\nDer lang' Verschloßnen, ihre Wünsche leicht\\nUnd willig Glaubenden ein solch Gespinst\\nUms Haupt geworfen!\\n\": 0.0,\n",
       "  '\\nUnwillig, wie sich Feuer gegen Wasser\\nIm Kampfe wehrt und gischend seinen Feind\\n\\n Zu tilgen sucht, so wehret sich der Zorn\\nIn meinem Busen gegen deine Worte.\\n': -0.10321904761904763,\n",
       "  '\\nIch halte meinen Zorn, wie es dem Ältern\\nGeziemt, zurück. Antworte mir! Womit\\nBezeugst du, daß du Agamemnons Sohn\\nUnd dieser Bruder bist?\\n': -0.020805882352941178,\n",
       "  \"\\nUnd hübe deine Rede jeden Zweifel,\\nUnd bändigt' ich den Zorn in meiner Brust,\\nSo würden doch die Waffen zwischen uns\\nEntscheiden müssen; Frieden seh' ich nicht.\\nSie sind gekommen, du bekennest selbst,\\nDas heil'ge Bild der Göttin mir zu rauben.\\nGlaubt ihr, ich sehe dies gelassen an?\\nDer Grieche wendet oft sein lüstern Auge\\nDen fernen Schätzen der Barbaren zu,\\nDem goldnen Felle, Pferden, schönen Töchtern;\\nDoch führte sie Gewalt und List nicht immer\\n\\n Mit den erlangten Gütern glücklich heim.\\n\": -0.00899692307692308},\n",
       " 'iphigenie-pylades': {'\\nWoher du seist und kommst, o Fremdling, sprich!\\nMir scheint es, daß ich eher einem Griechen\\nAls einem Skythen dich vergleichen soll.\\n': 0.0,\n",
       "  '\\nDie Priesterin, von ihrer Göttin selbst\\nGewählet und geheiligt, spricht mit dir.\\nDas laß dir gnügen; sage, wer du seist,\\nUnd welch unselig waltendes Geschick\\nMit dem Gefährten dich hierher gebracht.\\n': -2.962962962962961e-05,\n",
       "  \"\\nSo groß dein Unglück ist, beschwör' ich dich:\\nVergiß es, bis du mir genug getan.\\n\": -0.050039999999999994,\n",
       "  \"\\nEr schweigt von meinem Vater, nennt ihn nicht\\nMit den Erschlagnen. Ja! er lebt mir noch!\\nIch werd' ihn sehn. O hoffe, liebes Herz!\\n\": 0.01159,\n",
       "  \"\\nUnglücklicher, ich löse deine Bande\\nZum Zeichen eines schmerzlichern Geschicks.\\nDie Freiheit, die das Heiligtum gewährt,\\nIst, wie der letzte lichte Lebensblick\\nDes schwer Erkrankten, Todesbote. Noch\\nKann ich es mir und darf es mir nicht sagen,\\nDaß ihr verloren seid ! Wie könnt' ich euch\\nMit mörderischer Hand dem Tode weihen?\\nUnd niemand, wer es sei, darf euer Haupt,\\nSolang' ich Priesterin Dianens bin,\\nBerühren. Doch verweigr' ich jene Pflicht,\\nWie sie der aufgebrachte König fordert,\\nSo wählt er eine meiner Jungfraun mir\\nZur Folgerin, und ich vermag alsdann\\nMit heißem Wunsch allein euch beizustehn.\\n\\n O werter Landsmann! Selbst der letzte Knecht,\\nDer an den Herd der Vatergötter streifte,\\nIst uns in fremdem Lande hoch willkommen:\\nWie soll ich euch genug mit Freud' und Segen\\nEmpfangen, die ihr mir das Bild der Helden,\\nDie ich von Eltern her verehren lernte,\\nEntgegen bringet und das innre Herz\\nMit neuer, schöner Hoffnung schmeichelnd labet!\\n\": -0.00434873949579832,\n",
       "  \"\\nDenken die Himmlischen\\nEinem der Erdgebornen\\nViele Verwirrungen zu,\\nUnd bereiten sie ihm\\nVon der Freude zu Schmerzen\\nUnd von Schmerzen zur Freude\\nTief erschütternden Übergang:\\nDann erziehen sie ihm\\nIn der Nähe der Stadt,\\n\\n Oder am fernen Gestade,\\nDaß in Stunden der Not\\nAuch die Hilfe bereit sei,\\nEinen ruhigen Freund.\\nO segnet, Götter, unsern Pylades\\nUnd was er immer unternehmen mag!\\nEr ist der Arm des Jünglings in der Schlacht,\\nDes Greises leuchtend Aug' in der Versammlung:\\nDenn seine Seel' ist stille; sie bewahrt\\nDer Ruhe heil'ges unerschöpftes Gut,\\nUnd den Umhergetriebnen reichet er\\nAus ihren Tiefen Rat und Hilfe. Mich\\nRiß er vom Bruder los; den staunt' ich an\\nUnd immer wieder an, und konnte mir\\nDas Glück nicht eigen machen, ließ ihn nicht\\nAus meinen Armen los, und fühlte nicht\\nDie Nähe der Gefahr, die uns umgibt.\\nJetzt gehn sie, ihren Anschlag auszuführen,\\nDer See zu, wo das Schiff mit den Gefährten,\\nIn einer Bucht versteckt, aufs Zeichen lauert,\\nUnd haben kluges Wort mir in den Mund\\nGegeben, mich gelehrt, was ich dem König\\nAntworte, wenn er sendet und das Opfer\\nMir dringender gebietet. Ach! ich sehe wohl,\\nIch muß mich leiten lassen wie ein Kind.\\nIch habe nicht gelernt, zu hinterhalten,\\nNoch jemand etwas abzulisten. Weh!\\nO weh der Lüge! Sie befreiet nicht,\\nWie jedes andre, wahrgesprochne Wort,\\nDie Brust; sie macht uns nicht getrost, sie ängstet\\nDen, der sie heimlich schmiedet, und sie kehrt,\\nEin losgedruckter Pfeil, von einem Gotte\\nGewendet und versagend, sich zurück\\nUnd trifft den Schützen. Sorg' auf Sorge schwankt\\nMir durch die Brust. Es greift die Furie\\nVielleicht den Bruder auf dem Boden wieder\\nDes ungeweihten Ufers grimmig an?\\nEntdeckt man sie vielleicht? Mich dünkt, ich höre\\nGewaffnete sich nahen! – Hier! – Der Bote\\n\\n Kommt von dem Könige mit schnellem Schritt.\\nEs schlägt mein Herz, es trübt sich meine Seele,\\nDa ich des Mannes Angesicht erblicke,\\nDem ich mit falschem Wort begegnen soll.\\n\": 0.0029912698412698415,\n",
       "  '\\nDu siehst mich hier voll Sorgen und Erwartung\\nDes sichern Trostes, den du mir versprichst.\\n': -0.02981666666666667,\n",
       "  '\\nGesegnet seist du, und es möge nie\\nVon deiner Lippe, die so Gutes sprach,\\nDer Ton des Leidens und der Klage tönen!\\n': 0.04448749999999999,\n",
       "  \"\\nIch habe, teurer Mann; doch wirst du schelten.\\nEin schweigender Verweis war mir dein Anblick.\\nDes Königs Bote kam, und wie du es\\nMir in den Mund gelegt, so sagt' ich's ihm.\\nEr schien zu staunen und verlangte dringend,\\nDie seltne Feier erst dem Könige\\nZu melden, seinen Willen zu vernehmen;\\nUnd nun erwart' ich seine Wiederkehr.\\n\": -0.0018159090909090929,\n",
       "  \"\\nSchilt\\nNur mich, die Schuld ist mein, ich fühl' es wohl;\\nDoch konnt' ich anders nicht dem Mann begegnen,\\nDer mit Vernunft und Ernst von mir verlangte,\\nWas ihm mein Herz als Recht gestehen mußte.\\n\": -0.036946153846153844,\n",
       "  \"\\nVernehm' ich dich, so wendet sich, o Teurer,\\nWie sich die Blume nach der Sonne wendet,\\nDie Seele, von dem Strahle deiner Worte\\nGetroffen, sich dem süßen Troste nach.\\nWie köstlich ist des gegenwärt'gen Freundes\\nGewisse Rede, deren Himmelskraft\\nEin Einsamer entbehrt und still versinkt.\\nDenn langsam reift, verschlossen in dem Busen,\\nGedank' ihm und Entschluß; die Gegenwart\\nDes Liebenden entwickelte sie leicht.\\n\": 0.014128846153846155,\n",
       "  '\\nVerzeih! Wie leichte Wolken vor der Sonne,\\nSo zieht mir vor der Seele leichte Sorge\\nUnd Bangigkeit vorüber.\\n': -0.00028235294117647056,\n",
       "  \"\\nDie Sorge nenn' ich edel, die mich warnt,\\nDen König, der mein zweiter Vater ward,\\nNicht tückisch zu betrügen, zu berauben.\\n\": -0.0005333333333333333,\n",
       "  '\\nO laß mich zaudern! denn du tätest selbst\\n\\n Ein solches Unrecht keinem Mann gelassen,\\nDem du für Wohltat dich verpflichtet hieltest.\\n': -0.031837500000000005,\n",
       "  \"\\nO trüg' ich doch ein männlich Herz in mir,\\nDas, wenn es einen kühnen Vorsatz hegt,\\nVor jeder andern Stimme sich verschließt!\\n\": 0.0,\n",
       "  \"\\nIch muß ihm folgen: denn die Meinigen\\nSeh' ich in dringender Gefahr. Doch ach!\\nMein eigen Schicksal macht mir bang und bänger.\\nO soll ich nicht die stille Hoffnung retten,\\nDie in der Einsamkeit ich schön genährt?\\nSoll dieser Fluch denn ewig walten? Soll\\nNie dies Geschlecht mit einem neuen Segen\\nSich wieder heben? – Nimmt doch alles ab!\\nDas beste Glück, des Lebens schönste Kraft\\nErmattet endlich! Warum nicht der Fluch?\\nSo hofft' ich denn vergebens, hier verwahrt,\\nVon meines Hauses Schicksal abgeschieden,\\nDereinst mit reiner Hand und reinem Herzen\\nDie schwer befleckte Wohnung zu entsühnen.\\nKaum wird in meinen Armen mir ein Bruder\\nVom grimm'gen Übel wundervoll und schnell\\nGeheilt, kaum naht ein lang' erflehtes Schiff,\\n\\n Mich in den Port der Vaterwelt zu leiten,\\nSo legt die taube Not ein doppelt Laster\\nMit ehrner Hand mir auf: das heilige,\\nMir anvertraute, viel verehrte Bild\\nZu rauben und den Mann zu hintergehn,\\nDem ich mein Leben und mein Schicksal danke.\\nO daß in meinem Busen nicht zuletzt\\nEin Widerwillen keime! Der Titanen,\\nDer alten Götter tiefer Haß auf euch,\\nOlympier, nicht auch die zarte Brust\\nMit Geierklauen fasse! Rettet mich\\nUnd rettet euer Bild in meiner Seele!\\n\": -0.0010467948717948724},\n",
       " 'pylades-iphigenie': {\"\\nO süße Stimme! Vielwillkommner Ton\\nDer Muttersprach' in einem fremden Lande!\\nDes väterlichen Hafens blaue Berge\\nSeh' ich, Gefangner, neu willkommen wieder\\nVor meinen Augen. Laß dir diese Freude\\nVersichern, daß auch ich ein Grieche bin!\\nVergessen hab' ich einen Augenblick,\\nWie sehr ich dein bedarf, und meinen Geist\\nDer herrlichen Erscheinung zugewendet.\\nO sage, wenn dir ein Verhängnis nicht\\nDie Lippe schließt, aus welchem unsrer Stämme\\nDu deine göttergleiche Herkunft zählst.\\n\": 0.012777419354838712,\n",
       "  \"\\nLeicht kann ich dir erzählen, welch ein Übel\\nMit lastender Gesellschaft uns verfolgt.\\nO könntest du der Hoffnung frohen Blick\\nUns auch so leicht, du Göttliche, gewähren!\\nAus Kreta sind wir, Söhne des Adrasts:\\nIch bin der jüngste, Cephalus genannt,\\nUnd er Laodamas, der älteste\\nDes Hauses. Zwischen uns stand rauh und wild\\nin mittlerer und trennte schon im Spiel\\nDer ersten Jugend Einigkeit und Lust.\\nGelassen folgten wir der Mutter Worten,\\nSolang' des Vaters Kraft vor Troja stritt;\\nDoch als er beutereich zurücke kam\\n\\n Und kurz darauf verschied, da trennte bald\\nDer Streit um Reich und Erbe die Geschwister.\\nIch neigte mich zum Ältsten. Er erschlug\\nDen Bruder. Um der Blutschuld willen treibt\\nDie Furie gewaltig ihn umher.\\nDoch diesem wilden Ufer sendet uns\\nApoll, der Delphische, mit Hoffnung zu.\\nIm Tempel seiner Schwester hieß er uns\\nDer Hilfe segensvolle Hand erwarten.\\nGefangen sind wir und hierher gebracht\\nUnd dir als Opfer dargestellt. Du weißt's.\\n\": -0.0068796875,\n",
       "  \"\\nEs liegt. O sichre du uns Rettung zu!\\nBeschleunige die Hilfe, die ein Gott\\nVersprach. Erbarme meines Bruders dich.\\nO sag' ihm bald ein gutes holdes Wort;\\nDoch schone seiner, wenn du mit ihm sprichst,\\nDas bitt' ich eifrig: denn es wird gar leicht\\nDurch Freud' und Schmerz und durch Erinnerung\\nSein Innerstes ergriffen und zerrüttet.\\nEin fieberhafter Wahnsinn fällt ihn an,\\nUnd seine schöne freie Seele wird\\nDen Furien zum Raube hingegeben.\\n\": -0.0029482758620689663,\n",
       "  '\\nDie hohe Stadt, die zehen lange Jahre\\nDem ganzen Heer der Griechen widerstand,\\nLiegt nun im Schutte, steigt nicht wieder auf.\\nDoch manche Gräber unsrer Besten heißen\\nUns an das Ufer der Barbaren denken.\\nAchill liegt dort mit seinem schönen Freunde.\\n': 0.01161875,\n",
       "  '\\nAuch Palamedes, Ajax Telamons,\\nSie sahn des Vaterlandes Tag nicht wieder.\\n': 0.0,\n",
       "  \"\\nDoch selig sind die Tausende, die starben\\nDen bittersüßen Tod von Feindes Hand!\\n\\n Denn wüste Schrecken und ein traurig Ende\\nHat den Rückkehrenden statt des Triumphs\\nEin feindlich aufgebrachter Gott bereitet.\\nKommt denn der Menschen Stimme nicht zu euch?\\nSo weit sie reicht, trägt sie den Ruf umher\\nVon unerhörten Taten, die geschahn.\\nSo ist der Jammer, der Mycenens Hallen\\nMit immer wiederholten Seufzern füllt,\\nDir ein Geheimnis? – Klytämnestra hat\\nMit Hilf' Ägisthens den Gemahl berückt,\\nAm Tage seiner Rückkehr ihn ermordet! –\\nJa, du verehrest dieses Königs Haus!\\nIch seh' es, deine Brust bekämpft vergebens\\nDas unerwartet ungeheure Wort.\\nBist du die Tochter eines Freundes? bist\\nDu nachbarlich in dieser Stadt geboren?\\nVerbirg es nicht und rechne mir's nicht zu,\\nDaß ich der erste diese Greuel melde.\\n\": -0.01785238095238095,\n",
       "  '\\nAm Tage seiner Ankunft, da der König,\\nVom Bad erquickt und ruhig, sein Gewand\\nAus der Gemahlin Hand verlangend, stieg,\\nWarf die Verderbliche ein faltenreich\\nUnd künstlich sich verwirrendes Gewebe\\nIhm auf die Schultern, um das edle Haupt;\\nUnd da er wie von einem Netze sich\\nVergebens zu entwickeln strebte, schlug\\nÄgisth ihn, der Verräter, und verhüllt\\nGing zu den Toten dieser große Fürst.\\n': 0.0004020408163265305,\n",
       "  \"\\nMit schwerer Tat, die, wenn Entschuldigung\\nDes Mordes wäre, sie entschuldigte.\\nNach Aulis lockt' er sie und brachte dort,\\nAls eine Gottheit sich der Griechen Fahrt\\nMit ungestümen Winden widersetzte,\\n\\n Die ältste Tochter, Iphigenien,\\nVor den Altar Dianens, und sie fiel,\\nEin blutig Opfer, für der Griechen Heil.\\nDies, sagt man, hat ihr einen Widerwillen\\nSo tief ins Herz geprägt, daß sie dem Werben\\nÄgisthens sich ergab und den Gemahl\\nMit Netzen des Verderbens selbst umschlang.\\n\": -0.010478333333333334,\n",
       "  '\\nVon dem Geschick des Königshauses scheint\\nSie tief gerührt. Wer sie auch immer sei,\\nSo hat sie selbst den König wohl gekannt\\nUnd ist, zu unserm Glück, aus hohem Hause\\nHierher verkauft. Nur stille, liebes Herz,\\nUnd laß dem Stern der Hoffnung, der uns blinkt,\\nMit frohem Mut uns klug entgegen steuern.\\n': 0.0327675,\n",
       "  \"\\nErkennst du uns und diesen heil'gen Hain\\nUnd dieses Licht, das nicht den Toten leuchtet?\\nFühlst du den Arm des Freundes und der Schwester,\\nDie dich noch fest, noch lebend halten? Fass'\\nUns kräftig an: wir sind nicht leere Schatten.\\nMerk' auf mein Wort! Vernimm es! Raffe dich\\nZusammen! Jeder Augenblick ist teuer,\\nUnd unsre Rückkehr hängt an zarten Fäden,\\nDie, scheint es, eine günst'ge Parze spinnt.\\n\": -0.005480769230769232,\n",
       "  '\\nWo ist sie? daß ich ihr mit schnellen Worten\\nDie frohe Botschaft unsrer Rettung bringe!\\n': 0.015633333333333332,\n",
       "  \"\\nDein Bruder ist geheilt! Den Felsenboden\\nDes ungeweihten Ufers und den Sand\\nBetraten wir mit fröhlichen Gesprächen;\\nDer Hain blieb hinter uns, wir merkten's nicht.\\nUnd herrlicher und immer herrlicher\\nUmloderte der Jugend schöne Flamme\\nSein lockig Haupt; sein volles Auge glühte\\nVon Mut und Hoffnung, und sein freies Herz\\nErgab sich ganz der Freude, ganz der Lust,\\nDich, seine Retterin, und mich zu retten.\\n\": 0.04973333333333333,\n",
       "  \"\\nIch bringe mehr als das; denn schön begleitet,\\nGleich einem Fürsten, pflegt das Glück zu nahn.\\nAuch die Gefährten haben wir gefunden.\\nIn einer Felsenbucht verbargen sie\\nDas Schiff und saßen traurig und erwartend.\\nSie sehen deinen Bruder, und es regten\\nSich alle jauchzend, und sie baten dringend,\\nDer Abfahrt Stunde zu beschleunigen.\\nEs sehnet jede Faust sich nach dem Ruder,\\n\\n Und selbst ein Wind erhob vom Lande lispelnd,\\nVon allen gleich bemerkt, die holden Schwingen.\\nDrum laß uns eilen, führe mich zum Tempel,\\nLaß mich das Heiligtum betreten, laß\\nMich unsrer Wünsche Ziel verehrend fassen!\\nIch bin allein genug, der Göttin Bild\\nAuf wohlgeübten Schultern wegzutragen:\\nWie sehn' ich mich nach der erwünschten Last!\\n\": 0.0013892473118279575,\n",
       "  '\\nWeh uns! Erneuert schwebt nun die Gefahr\\nUm unsre Schläfe! Warum hast du nicht\\nIns Priesterrecht dich weislich eingehüllt?\\n': -0.0625,\n",
       "  \"\\nSo wirst du, reine Seele, dich und uns\\nZugrunde richten. Warum dacht' ich nicht\\nAuf diesen Fall voraus und lehrte dich\\nAuch dieser Fordrung auszuweichen!\\n\": 0.0,\n",
       "  \"\\nGefährlicher zieht sich's zusammen; doch auch so\\nLaß uns nicht zagen oder unbesonnen\\nUnd übereilt uns selbst verraten. Ruhig\\n\\n Erwarte du die Wiederkunft des Boten,\\nUnd dann steh fest, er bringe, was er will:\\nDenn solcher Weihung Feier anzuordnen,\\nGehört der Priesterin und nicht dem König.\\nUnd fordert er, den fremden Mann zu sehn,\\nDer von dem Wahnsinn schwer belastet ist,\\nSo lehn' es ab, als hieltest du uns beide\\nIm Tempel wohl verwahrt. So schaff' uns Luft,\\nDaß wir aufs eiligste, den heil'gen Schatz\\nDem rauh unwürd'gen Volk entwendend, fliehn.\\nDie besten Zeichen sendet uns Apoll,\\nUnd eh' wir die Bedingung fromm erfüllen,\\nErfüllt er göttlich sein Versprechen schon.\\nOrest ist frei, geheilt! – Mit dem Befreiten\\nO führet uns hinüber, günst'ge Winde,\\nZur Felseninsel, die der Gott bewohnt;\\nDann nach Mycen, daß es lebendig werde,\\nDaß von der Asche des verloschnen Herdes\\nDie Vatergötter fröhlich sich erheben,\\nUnd schönes Feuer ihre Wohnungen\\nUmleuchte! Deine Hand soll ihnen Weihrauch\\nZuerst aus goldnen Schalen streuen. Du\\nBringst über jene Schwelle Heil und Leben wieder,\\nEntsühnst den Fluch und schmückest neu die Deinen\\nMit frischen Lebensblüten herrlich aus.\\n\": 0.0007078947368421055,\n",
       "  \"\\nLeb' wohl! Die Freunde will ich nun geschwind\\nBeruhigen, die sehnlich wartend harren.\\nDann komm' ich schnell zurück und lausche hier\\nIm Felsenbusch versteckt auf deinen Wink –\\n\\n Was sinnest du? Auf einmal überschwebt\\nEin stiller Trauerzug die freie Stirne.\\n\": 0.00011111111111111112,\n",
       "  '\\nFürchte nicht!\\nBetrüglich schloß die Furcht mit der Gefahr\\nEin enges Bündnis: beide sind Gesellen.\\n': -0.12201428571428571,\n",
       "  \"\\nSo hast du dich im Tempel wohl bewahrt;\\nDas Leben lehrt uns, weniger mit uns\\nUnd andern strenge sein: du lernst es auch.\\nSo wunderbar ist dies Geschlecht gebildet,\\nSo vielfach ist's verschlungen und verknüpft,\\nDaß keiner in sich selbst, noch mit den andern\\nSich rein und unverworren halten kann.\\nAuch sind wir nicht bestellt, uns selbst zu richten;\\nZu wandeln und auf seinen Weg zu sehen,\\nIst eines Menschen erste, nächste Pflicht:\\nDenn selten schätzt er recht, was er getan,\\nUnd was er tut, weiß er fast nie zu schätzen.\\n\": 0.0082,\n",
       "  \"\\nBraucht's Überredung, wo die Wahl versagt ist?\\nDen Bruder, dich und einen Freund zu retten,\\nIst nur ein Weg; fragt sich's, ob wir ihn gehn?\\n\": 0.0008210526315789473,\n",
       "  '\\nWenn wir zugrunde gehen, wartet dein\\nEin härtrer Vorwurf, der Verzweiflung trägt.\\nMan sieht, du bist nicht an Verlust gewohnt,\\nDa du, dem großen Übel zu entgehen,\\nEin falsches Wort nicht einmal opfern willst.\\n': -0.07186,\n",
       "  \"\\nDu weigerst dich umsonst; die ehrne Hand\\nDer Not gebietet, und ihr ernster Wink\\nIst oberstes Gesetz, dem Götter selbst\\nSich unterwerfen müssen. Schweigend herrscht\\nDes ew'gen Schicksals unberatne Schwester.\\nWas sie dir auferlegt, das trage: tu,\\nWas sie gebeut. Das andre weißt du. Bald\\nKomm' ich zurück, aus deiner heil'gen Hand\\nDer Rettung schönes Siegel zu empfangen.\\n\": -0.008874074074074076},\n",
       " 'iphigenie-orest': {\"\\nDu sollst mich kennen. Jetzo sag' mir an,\\nWas ich nur halb von deinem Bruder hörte,\\nDas Ende derer, die, von Troja kehrend,\\nEin hartes unerwartetes Geschick\\nAuf ihrer Wohnung Schwelle stumm empfing.\\nZwar ward ich jung an diesen Strand geführt;\\nDoch wohl erinnr' ich mich des scheuen Blicks,\\nDen ich mit Staunen und mit Bangigkeit\\nAuf jene Helden warf. Sie zogen aus,\\nAls hätte der Olymp sich aufgetan\\nUnd die Gestalten der erlauchten Vorwelt\\nZum Schrecken Ilions herabgesendet,\\nUnd Agamemnon war vor allen herrlich!\\nO sage mir! er fiel, sein Haus betretend,\\nDurch seiner Frauen und Ägisthens Tücke?\\n\": 0.0011170731707317075,\n",
       "  \"\\nWeh dir, unseliges Mycen!\\nSo haben Tantals Enkel Fluch auf Fluch\\nMit vollen wilden Händen ausgesät!\\nUnd, gleich dem Unkraut, wüste Häupter schüttelnd\\nUnd tausendfält'gen Samen um sich streuend,\\nDen Kindeskindern nahverwandte Mörder\\nZur ew'gen Wechselwut erzeugt! Enthülle,\\nWas von der Rede deines Bruders schnell\\nDie Finsternis des Schreckens mir verdeckte.\\nWie ist des großen Stammes letzter Sohn,\\nDas holde Kind, bestimmt, des Vaters Rächer\\nDereinst zu sein, wie ist Orest dem Tage\\n\\n Des Bluts entgangen? Hat ein gleich Geschick\\nMit des Avernus Netzen ihn umschlungen?\\nIst er gerettet? Lebt er? Lebt Elektra?\\n\": -0.002872289156626506,\n",
       "  '\\nGoldne Sonne, leihe mir\\nDie schönsten Strahlen, lege sie zum Dank\\nVor Jovis Thron! denn ich bin arm und stumm.\\n': -0.02626470588235294,\n",
       "  '\\nSprich deutlicher, daß ich nicht länger sinne.\\nDie Ungewißheit schlägt mir tausendfältig\\nDie dunkeln Schwingen um das bange Haupt.\\n': -0.0018,\n",
       "  \"\\nUnsterbliche, die ihr den reinen Tag\\nAuf immer neuen Wolken selig lebet,\\nHabt ihr nur darum mich so manches Jahr\\nVon Menschen abgesondert, mich so nah\\nBei euch gehalten, mir die kindliche\\nBeschäftigung, des heil'gen Feuers Glut\\nZu nähren aufgetragen, meine Seele\\nDer Flamme gleich in ew'ger frommer Klarheit\\nZu euern Wohnungen hinaufgezogen,\\nDaß ich nur meines Hauses Greuel später\\nUnd tiefer fühlen sollte? – Sage mir\\nVom Unglücksel'gen! Sprich mir von Orest! –\\n\": -0.0005508474576271184,\n",
       "  '\\nUnseliger, du bist in gleichem Fall\\nUnd fühlst, was er, der arme Flüchtling, leidet!\\n': -0.055836363636363635,\n",
       "  '\\nDich drückt ein Brudermord wie jenen; mir\\nVertraute dies dein jüngster Bruder schon.\\n': 0.02266,\n",
       "  \"\\nSo steigst du denn, Erfüllung, schönste Tochter\\nDes größten Vaters, endlich zu mir nieder!\\nWie ungeheuer steht dein Bild vor mir!\\nKaum reicht mein Blick; dir an die Hände, die,\\nMit Frucht und Segenskränzen angefüllt,\\nDie Schätze des Olympus niederbringen.\\nWie man den König an dem Übermaß\\nDer Gaben kennt – denn ihm muß wenig scheinen,\\nWas Tausenden schon Reichtum ist –, so kennt\\nMan euch, ihr Götter, an gesparten, lang'\\nUnd weise zubereiteten Geschenken.\\nDenn ihr allein wißt, was uns frommen kann,\\nUnd schaut der Zukunft ausgedehntes Reich,\\nWenn jedes Abends Stern- und Nebelhülle\\nDie Aussicht uns verdeckt. Gelassen hört\\nIhr unser Flehn, das um Beschleunigung\\nEuch kindisch bittet; aber eure Hand\\nBricht unreif nie die goldnen Himmelsfrüchte,\\nUnd wehe dem, der, ungeduldig sie\\nErtrotzend, saure Speise sich zum Tod\\nGenießt. O laßt das lang' erwartete\\nNoch kaum gedachte Glück nicht, wie den Schatten\\nDes abgeschiednen Freundes, eitel mir\\nUnd dreifach schmerzlicher vorübergehn!\\n\": 0.0035362204724409445,\n",
       "  \"\\nIch bringe süßes Rauchwerk in die Flamme.\\nO laß den reinen Hauch der Liebe dir\\nDie Glut des Busens leise wehend kühlen.\\nOrest, mein Teurer, kannst du nicht vernehmen?\\nHat das Geleit der Schreckensgötter so\\nDas Blut in deinen Adern aufgetrocknet?\\nSchleicht, wie vom Haupt der gräßlichen Gorgone,\\nVersteinernd dir ein Zauber durch die Glieder?\\nO wenn vergoßnen Mutterblutes Stimme\\nZur Höll' hinab mit dumpfen Tönen ruft,\\nSoll nicht der reinen Schwester Segenswort\\nHilfreiche Götter vom Olympus rufen?\\n\": 0.00014090909090909033,\n",
       "  \"\\nEs zeigt sich dir im tiefsten Herzen an:\\nOrest, ich bin's! Sieh Iphigenien!\\nIch lebe!\\n\": 0.0,\n",
       "  \"\\nDu wirst nicht untergehn! O daß ich nur\\nEin ruhig Wort von dir vernehmen könnte!\\nO löse meine Zweifel, laß des Glückes\\nDes lang' erflehten, mich auch sicher werden.\\nEs wälzet sich ein Rad von Freud' und Schmerz\\nDurch meine Seele. Von dem fremden Manne\\nEntfernet mich ein Schauer; doch es reißt\\nMein Innerstes gewaltig mich zum Bruder.\\n\": -0.008495454545454544,\n",
       "  \"\\nO höre mich! O sieh mich an, wie mir\\nNach einer langen Zeit das Herz sich öffnet\\nDer Seligkeit, dem Liebsten, was die Welt\\nNoch für mich tragen kann, das Haupt zu küssen,\\nMit meinen Armen, die den leeren Winden\\nNur ausgebreitet waren, dich zu fassen!\\nO laß mich! Laß mich! Denn es quillet heller\\nNicht vom Parnaß die ew'ge Quelle sprudelnd\\nVon Fels zu Fels ins goldne Tal hinab,\\nWie Freude mir vom Herzen wallend fließt\\nUnd wie ein selig Meer mich rings umfängt.\\nOrest! Orest! Mein Bruder!\\n\": 0.009194117647058823,\n",
       "  '\\nFasse\\nDich, Bruder, und erkenne die Gefundne!\\nSchilt einer Schwester reine Himmelsfreude\\nNicht unbesonnene, strafbare Lust.\\nO nehmt den Wahn ihm von dem starren Auge,\\nDaß uns der Augenblick der höchsten Freude\\nNicht dreifach elend mache! Sie ist hier,\\nDie längst verlorne Schwester. Vom Altar\\nRiß mich die Göttin weg und rettete\\nHierher mich in ihr eigen Heiligtum.\\nGefangen bist du, dargestellt zum Opfer,\\nUnd findest in der Priesterin die Schwester.\\n': 0.004466101694915255,\n",
       "  \"\\nAllein zu tragen dieses Glück und Elend\\nVermag ich nicht. – Wo bist du, Pylades?\\nWo find' ich deine Hilfe, teurer Mann?\\n\": -0.017750000000000002,\n",
       "  \"\\nGeschwister, die ihr an dem weiten Himmel\\nDas schöne Licht bei Tag und Nacht herauf\\nDen Menschen bringet, und den Abgeschiednen\\nNicht leuchten dürfet, rettet uns Geschwister!\\nDu liebst, Diane, deinen holden Bruder\\nVor allem, was dir Erd' und Himmel bietet,\\nUnd wendest dein jungfräulich Angesicht\\nNach seinem ew'gen Lichte sehnend still.\\nO laß den einz'gen, spätgefundnen mir\\nNicht in der Finsternis des Wahnsinns rasen!\\nUnd ist dein Wille, da du hier mich bargst,\\nNunmehr vollendet, willst du mir durch ihn\\nUnd ihm durch mich die sel'ge Hilfe geben,\\nSo lös' ihn von den Banden jenes Fluchs,\\nDaß nicht die teure Zeit der Rettung schwinde.\\n\": -0.006813580246913581,\n",
       "  \"\\nVerehr' in ihm\\nDen König, der mein zweiter Vater ward!\\nVerzeih mir, Bruder! doch mein kindlich Herz\\nHat unser ganz Geschick in seine Hand\\n\\n Gelegt. Gestanden hab' ich euern Anschlag\\nUnd meine Seele vom Verrat gerettet.\\n\": -0.00669,\n",
       "  \"\\nBefreit von Sorge mich, eh' ihr zu sprechen\\nBeginnet. Ich befürchte bösen Zwist,\\nWenn du, o König, nicht der Billigkeit\\n\\n Gelinde Stimme hörest, du, mein Bruder,\\nDer raschen Jugend nicht gebieten willst.\\n\": -0.027975000000000003,\n",
       "  \"\\nDenk' an dein Wort und laß durch diese Rede\\nAus einem graden treuen Munde dich\\nBewegen! Sieh uns an! du hast nicht oft\\nZu solcher edeln Tat Gelegenheit.\\nVersagen kannst du's nicht; gewähr' es bald.\\n\": 3.461538461538507e-05},\n",
       " 'orest-iphigenie': {\"\\nEs ist der Weg des Todes, den wir treten:\\nMit jedem Schritt wird meine Seele stiller.\\nAls ich Apollen bat, das gräßliche\\nGeleit der Rachegeister von der Seite\\nMir abzunehmen, schien er Hilf' und Rettung\\nIm Tempel seiner vielgeliebten Schwester,\\nDie über Tauris herrscht, mit hoffnungsreichen,\\nGewissen Götterworten zu versprechen;\\nUnd nun erfüllet sich's, daß alle Not\\nMit meinem Leben völlig enden soll.\\nWie leicht wird's mir, dem eine Götterhand\\nDas Herz zusammendrückt, den Sinn betäubt,\\nDem schönen Licht der Sonne zu entsagen.\\n\\n Und sollen Atreus' Enkel in der Schlacht\\nEin siegbekröntes Ende nicht gewinnen,\\nSoll ich wie meine Ahnen, wie mein Vater\\nAls Opfertier im Jammertode bluten:\\nSo sei es! Besser hier vor dem Altar,\\nAls im verworfnen Winkel, wo die Netze\\nDer nahverwandte Meuchelmörder stellt.\\nLaßt mir so lange Ruh, ihr Unterird'schen,\\nDie nach dem Blut ihr, das von meinen Tritten\\nHernieder träufelnd meinen Pfad bezeichnet,\\nWie losgelaßne Hunde spürend hetzt!\\nLaßt mich, ich komme bald zu euch hinab:\\nDas Licht des Tags soll euch nicht sehn, noch mich.\\nDer Erde schöner grüner Teppich soll\\nKein Tummelplatz für Larven sein. Dort unten\\nSuch' ich euch auf: dort bindet alle dann\\nEin gleich Geschick in ew'ge matte Nacht.\\nNur dich, mein Pylades, dich, meiner Schuld\\nUnd meines Banns unschuldigen Genossen\\nWie ungern nehm' ich dich in jenes Trauerland\\nFrühzeitig mit! Dein Leben oder Tod\\nGibt mir allein noch Hoffnung oder Furcht.\\n\": -0.010970555555555558,\n",
       "  '\\nVerbirgst du deinen Namen, deine Herkunft\\nMit klugem Vorsatz? oder darf ich wissen,\\nWer mir, gleich einer Himmlischen, begegnet?\\n': 0.023546666666666667,\n",
       "  \"\\nBist du gastfreundlich diesem Königshause,\\nBist du mit nähern Banden ihm verbunden,\\nWie deine schöne Freude mir verrät,\\nSo bändige dein Herz und halt es fest!\\nDenn unerträglich muß dem Fröhlichen\\nEin jäher Rückfall in die Schmerzen sein.\\nDu weißt nur, merk' ich, Agamemnons Tod.\\n\": 0.0028702702702702717,\n",
       "  \"\\nSo haben mich die Götter ausersehn\\nZum Boten einer Tat, die ich so gern\\nIns klanglos-dumpfe Höhlenreich der Nacht\\nVerbergen möchte? Wider meinen Willen\\nZwingt mich dein holder Mund; allein er darf\\nAuch etwas Schmerzlichs fordern und erhält's.\\nAm Tage, da der Vater fiel, verbarg\\nElektra rettend ihren Bruder: Strophius,\\nDes Vaters Schwäher, nahm ihn willig auf,\\nErzog ihn neben seinem eignen Sohne,\\nDer, Pylades genannt, die schönsten Bande\\nDer Freundschaft um den Angekommnen knüpfte.\\nUnd wie sie wuchsen, wuchs in ihrer Seele\\nDie brennende Begier, des Königs Tod\\n\\n Zu rächen. Unversehen, fremdgekleidet,\\nErreichen sie Mycen, als brächten sie\\nDie Trauernachricht von Orestens Tode\\nMit seiner Asche. Wohl empfänget sie\\nDie Königin; sie treten in das Haus.\\nElektren gibt Orest sich zu erkennen;\\nSie bläst der Rache Feuer in ihm auf,\\nDas vor der Mutter heil'ger Gegenwart\\nIn sich zurückgebrannt war. Stille führt\\nSie ihn zum Orte, wo sein Vater fiel,\\nWo eine alte leichte Spur des frech\\nVergoßnen Blutes oftgewaschnen Boden\\nMit blassen ahndungsvollen Streifen färbte.\\nMit ihrer Feuerzunge schilderte\\nSie jeden Umstand der verruchten Tat,\\nIhr knechtisch elend durchgebrachtes Leben,\\nDen Übermut der glücklichen Verräter\\nUnd die Gefahren, die nun der Geschwister\\nVon einer stiefgewordnen Mutter warteten. –\\nHier drang sie jenen alten Dolch ihm auf,\\nDer schon in Tantals Hause grimmig wütete,\\nUnd Klytämnestra fiel durch Sohnes Hand.\\n\": -0.011034408602150537,\n",
       "  \"\\nO könnte man von seinem Tode sprechen!\\nWie gärend stieg aus der Erschlagnen Blut\\nDer Mutter Geist\\nUnd ruft der Nacht uralten Töchtern zu:\\n›Laßt nicht den Muttermörder entfliehn!\\n\\n Verfolgt den Verbrecher! Euch ist er geweiht!‹\\nSie horchen auf, es schaut ihr hohler Blick\\nMit der Begier des Adlers um sich her.\\nSie rühren sich in ihren schwarzen Höhlen,\\nUnd aus den Winkeln schleichen ihre Gefährten,\\nDer Zweifel und die Reue, leis herbei.\\nVor ihnen steigt ein Dampf vom Acheron;\\nIn seinen Wolkenkreisen wälzet sich\\nDie ewige Betrachtung des Geschehnen\\nVerwirrend um des Schuld'gen Haupt umher.\\nUnd sie, berechtigt zum Verderben, treten\\nDer gottbesäten Erde schönen Boden,\\nVon dem ein alter Fluch sie längst verbannte.\\nDen Flüchtigen verfolgt ihr schneller Fuß:\\nSie geben nur, um neu zu schrecken, Rast.\\n\": -0.0012242990654205608,\n",
       "  \"\\nIch kann nicht leiden, daß du große Seele\\nMit einem falschen Wort betrogen werdest.\\nEin lügenhaft Gewebe knüpf' ein Fremder\\nDem Fremden, sinnreich und der List gewohnt,\\nZur Falle vor die Füße; zwischen uns\\nSei Wahrheit!\\nIch bin Orest! und dieses schuld'ge Haupt\\nSenkt nach der Grube sich und sucht den Tod:\\nIn jeglicher Gestalt sei er willkommen!\\nWer du auch seist, so wünsch' ich Rettung dir's\\nUnd meinem Freunde; mir wünsch' ich sie nicht.\\nDu scheinst hier wider Willen zu verweilen:\\nErfindet Rat zur Flucht und laßt mich hier.\\nEs stürze mein entseelter Leib vom Fels,\\nEs rauche bis zum Meer hinab mein Blut\\nUnd bringe Fluch dem Ufer der Barbaren!\\nGeht ihr, daheim im schönen Griechenland\\nEin neues Leben freundlich anzufangen.\\n\": -0.012325490196078433,\n",
       "  '\\nRufst du die Götter an für dich und Pylades;\\nSo nenne meinen Namen nicht mit eurem.\\nDu rettest den Verbrecher nicht, zu dem\\nDu dich gesellst, und teilest Fluch und Not.\\n': -0.010223809523809524,\n",
       "  \"\\nMit nichten! Laß allein und unbegleitet\\nMich zu den Toten gehn. Verhülltest du\\nIn deinen Schleier selbst den Schuldigen:\\nDu birgst ihn nicht vorm Blick der immer Wachen,\\nUnd deine Gegenwart, du Himmlische,\\nDrängt sie nur seitwärts und verscheucht sie nicht.\\nSie dürfen mit den ehrnen frechen Füßen\\nDes heil'gen Waldes Boden nicht betreten;\\nDoch hör' ich aus der Ferne hier und da\\n\\n Ihr gräßliches Gelächter. Wölfe harren\\nSo um den Baum, auf den ein Reisender\\nSich rettete. Da draußen ruhen sie\\nGelagert; und verlass' ich diesen Hain,\\nDann steigen sie, die Schlangenhäupter schüttelnd,\\nVon allen Seiten Staub erregend auf\\nUnd treiben ihre Beute vor sich her.\\n\": -0.005296428571428572,\n",
       "  \"\\nDurch Rauch und Qualm seh' ich den matten Schein\\nDes Totenflusses mir zur Hölle leuchten.\\n\": -0.03642857142857143,\n",
       "  \"\\nDie eine kannt' ich; doch die ältste nahm\\nIhr gut Geschick, das uns so schrecklich schien,\\nBei Zeiten aus dem Elend unsers Hauses.\\nO laß dein Fragen und geselle dich\\nNicht auch zu den Erinnyen; sie blasen\\nMir schadenfroh die Asche von der Seele\\nUnd leiden nicht, daß sich die letzten Kohlen\\nVon unsers Hauses Schreckensbrande still\\nIn mir verglimmen. Soll die Glut denn ewig,\\nVorsätzlich angefacht, mit Höllenschwefel\\nGenährt, mir auf der Seele marternd brennen?\\n\": -0.004008474576271186,\n",
       "  '\\nEs ruft! es ruft! So willst du mein Verderben?\\nVerbirgt in dir sich eine Rachegöttin?\\n\\n Wer bist du, deren Stimme mir entsetzlich\\nDas Innerste in seinen Tiefen wendet?\\n': -0.025105263157894735,\n",
       "  \"\\nLaß! Hinweg!\\nIch rate dir, berühre nicht die Locken!\\nWie von Kreusas Brautkleid zündet sich\\nEin unauslöschlich Feuer von mir fort.\\nLaß mich! Wie Herkules will ich Unwürd'ger\\nDen Tod voll Schmach, in mich verschlossen, sterben.\\n\": -0.0024032258064516127,\n",
       "  \"\\nIst hier Lyäens Tempel? und ergreift\\nUnbändig-heil'ge Wut die Priesterin?\\n\": -0.04726,\n",
       "  \"\\nSchöne Nymphe,\\nIch traue dir und deinem Schmeicheln nicht.\\nDiana fordert strenge Dienerinnen\\nUnd rächet das entweihte Heiligtum.\\n\\n Entferne deinen Arm von meiner Brust!\\nUnd wenn du einen Jüngling rettend lieben,\\nDas schöne Glück ihm zärtlich bieten willst,\\nSo wende meinem Freunde dein Gemüt,\\nDem würd'gern Manne, zu. Er irrt umher\\nAuf jenem Felsenpfade: such' ihn auf,\\nWeis ihn zurecht und schone meiner.\\n\": -0.012319642857142857,\n",
       "  \"\\nUnselige! So mag die Sonne denn\\nDie letzten Greuel unsers Hauses sehn!\\nIst nicht Elektra hier, damit auch sie\\nMit uns zugrunde gehe, nicht ihr Leben\\nZu schwererem Geschick und Leiden friste?\\nGut, Priesterin, ich folge zum Altar!\\nDer Brudermord ist hergebrachte Sitte\\nDes alten Stammes; und ich danke, Götter,\\nDaß ihr mich ohne Kinder auszurotten\\nBeschlossen habt. Und laß dir raten, habe\\nDie Sonne nicht zu lieb und nicht die Sterne:\\nKomm, folge mir ins dunkle Reich hinab!\\nWie sich vom Schwefelpfuhl erzeugte Drachen,\\nBekämpfend die verwandte Brut, verschlingen,\\nZerstört sich selbst das wütende Geschlecht:\\nKomm kinderlos und schuldlos mit hinab!\\nDu siehst mich mit Erbarmen an? Laß ab\\nMit solchen Blicken suchte Klytämnestra\\nSich einen Weg nach ihres Sohnes Herzen;\\nDoch sein geschwungner Arm traf ihre Brust.\\n\\n Die Mutter fiel! – Tritt auf; unwill'ger Geist!\\nIm Kreis geschlossen tretet an, ihr Furien,\\nUnd wohnet dem willkommnen Schauspiel bei,\\nDem letzten, gräßlichsten, das ihr bereitet!\\nNicht Haß und Rache schärfen ihren Dolch;\\nDie liebevolle Schwester wird zur Tat\\nGezwungen. Weine nicht! Du hast nicht schuld.\\nSeit meinen ersten Jahren hab' ich nichts\\nGeliebt, wie ich dich lieben könnte, Schwester.\\nJa, schwinge deinen Stahl, verschone nicht,\\nZerreiße diesen Busen und eröffne\\nDen Strömen, die hier sieden, einen Weg!\\n\": -0.011540697674418609,\n",
       "  \"\\nNoch einen! reiche mir aus Lethes Fluten\\nDen letzten kühlen Becher der Erquickung!\\nBald ist der Krampf des Lebens aus dem Busen\\nHinweggespült; bald fließet still mein Geist,\\nDer Quelle des Vergessens hingegeben,\\nZu euch, ihr Schatten, in die ew'gen Nebel.\\nGefällig laßt in eurer Ruhe sich\\nDen umgetriebnen Sohn der Erde laben! –\\nWelch ein Gelispel hör' ich in den Zweigen,\\nWelch ein Geräusch aus jener Dämmrung säuseln? –\\nSie kommen schon, den neuen Gast zu sehn!\\nWer ist die Schar, die herrlich miteinander\\nWie ein versammelt Fürstenhaus sich freut?\\nSie gehen friedlich, Alt' und Junge, Männer\\nMit Weibern; göttergleich und ähnlich scheinen\\nDie wandelnden Gestalten. Ja, sie sind's,\\nDie Ahnherrn meines Hauses! – Mit Thyesten\\nGeht Atreus in vertraulichen Gesprächen,\\n\\n Die Knaben schlüpfen scherzend um sie her.\\nIst keine Feindschaft hier mehr unter euch?\\nVerlosch die Rache wie das Licht der Sonne?\\nSo bin auch ich willkommen, und ich darf\\nIn euern feierlichen Zug mich mischen.\\nWillkommen, Väter! euch grüßt Orest,\\nVon euerm Stamme der letzte Mann;\\nWas ihr gesät, hat er geerntet:\\nMit Fluch beladen, stieg er herab.\\nDoch leichter trägt sich hier jede Bürde:\\nNehmt ihn, o nehmt ihn in euern Kreis!\\nDich, Atreus, ehr' ich, auch dich, Thyesten:\\nWir sind hier alle der Feindschaft los.\\nZeigt mir den Vater, den ich nur einmal\\nIm Leben sah! – Bist du's, mein Vater?\\nUnd führst die Mutter vertraut mit dir?\\nDarf Klytämnestra die Hand dir reichen,\\nSo darf Orest auch zu ihr treten\\nUnd darf ihr sagen: Sieh deinen Sohn!\\nSeht euern Sohn! Heißt ihn willkommen.\\nAuf Erden war in unserm Hause\\nDer Gruß des Mordes gewisse Losung,\\nUnd das Geschlecht des alten Tantalus\\nHat seine Freuden jenseits der Nacht.\\nIhr ruft: Willkommen! und nehmt mich auf!\\nO führt zum Alten, zum Ahnherrn mich!\\nWo ist der Alte? Daß ich ihn sehe,\\nDas teure Haupt, das vielverehrte,\\nDas mit den Göttern zu Rate saß.\\nIhr scheint zu zaudern, euch wegzuwenden?\\nWas ist es? Leidet der Göttergleiche?\\nWeh mir! es haben die Übermächt'gen\\nDer Heldenbrust grausame Qualen\\nMit ehrnen Ketten fest aufgeschmiedet.\\n\\n\": 0.005563537906137186,\n",
       "  '\\nVerdoppelt eure Kräfte! Haltet sie\\nZurück! Nur wenig Augenblicke! Weicht\\nDer Menge nicht, und deckt den Weg zum Schiffe\\nMir und der Schwester!\\n': 0.0002,\n",
       "  '\\nSage mir!\\nWer ist es, der uns droht?\\n': -0.058383333333333336},\n",
       " 'arkas-thoas': {},\n",
       " 'thoas-arkas': {\"\\nEs komme schnell die Priesterin herbei!\\nDann geht, durchsucht das Ufer scharf und schnell\\nVom Vorgebirge bis zum Hain der Göttin.\\nVerschonet seine heil'gen Tiefen, legt\\nBedächt'gen Hinterhalt und greift sie an;\\nWo ihr sie findet, faßt sie, wie ihr pflegt.\\n\": 0.013712121212121212,\n",
       "  \"\\nGeh!\\nGebiete Stillstand meinem Volke! Keiner\\nBeschädige den Feind, solang' wir reden.\\n\": -0.062323076923076925},\n",
       " 'arkas-pylades': {\"\\nGelassen, wie es dir, o König, ziemt,\\nStehst du den Feinden gegenüber. Gleich\\nIst die Verwegenheit bestraft: es weicht\\nUnd fällt ihr Anhang, und ihr Schiff ist unser.\\nEin Wort von dir, so steht's in Flammen.\\n\": -0.04764814814814815},\n",
       " 'pylades-arkas': {},\n",
       " 'arkas-orest': {},\n",
       " 'orest-arkas': {},\n",
       " 'thoas-orest': {'\\nIn meiner Gegenwart führt ungestraft\\nKein Mann das nackte Schwert.\\n': 0.00036363636363636367,\n",
       "  '\\nDies Vorrecht hat die alte Sitte nie\\nDem Fremden hier gestattet.\\n': -0.00047999999999999996,\n",
       "  '\\nNicht unwert scheinest du, o Jüngling, mir\\nDer Ahnherrn, deren du dich rühmst, zu sein.\\nGroß ist die Zahl der edeln, tapfern Männer,\\nDie mich begleiten; doch ich stehe selbst\\nIn meinen Jahren noch dem Feinde, bin\\nBereit, mit dir der Waffen Los zu wagen.\\n': 0.00012903225806451613},\n",
       " 'orest-thoas': {\"\\nIch nehm' es an. Geh, sammle, treuer Freund,\\nDen Rest' des Volkes; harret still, welch Ende\\nDie Götter unsern Taten zubereiten.\\n\": 0.014568000000000001,\n",
       "  \"\\nHier ist das Schwert,\\nMit dem er Trojas tapfre Männer schlug.\\nDies nahm ich seinem Mörder ab und bat\\nDie Himmlischen, den Mut und Arm, das Glück\\nDes großen Königes mir zu verleihn\\nUnd einen schönern Tod mir zu gewähren.\\nWähl' einen aus den Edlen deines Heers\\nUnd stelle mir den Besten gegenüber.\\nSo weit die Erde Heldensöhne nährt,\\nIst keinem Fremden dies Gesuch verweigert.\\n\": 0.010469387755102042,\n",
       "  \"\\nSo beginne\\nDie neue Sitte denn von dir und mir!\\nNachahmend heiliget ein ganzes Volk\\nDie edle Tat der Herrscher zum Gesetz.\\nUnd laß mich nicht allein für unsre Freiheit,\\nLaß mich, den Fremden für die Fremden, kämpfen!\\nFall' ich, so ist ihr Urteil mit dem meinen\\nGesprochen; aber gönnet mir das Glück,\\nZu überwinden, so betrete nie\\nEin Mann dies Ufer, dem der schnelle Blick\\nHilfreicher Liebe nicht begegnet, und\\nGetröstet scheide jeglicher hinweg!\\n\": 0.0017563636363636364,\n",
       "  \"\\nDas Bild, o König, soll uns nicht entzweien!\\nJetzt kennen wir den Irrtum, den ein Gott\\nWie einen Schleier um das Haupt uns legte,\\nDa er den Weg hierher uns wandern hieß.\\nUm Rat und um Befreiung bat ich ihn\\nVon dem Geleit der Furien; er sprach:\\n›Bringst du die Schwester, die an Tauris' Ufer\\nIm Heiligtume wider Willen bleibt,\\nNach Griechenland, so löset sich der Fluch.‹\\nWir legten's von Apollens Schwester aus,\\nUnd er gedachte dich! Die strengen Bande\\nSind nun gelöst: du bist den Deinen wieder,\\nDu Heilige, geschenkt. Von dir berührt,\\nWar ich geheilt; in deinen Armen faßte\\nDas Übel mich mit allen seinen Klauen\\nZum letzten Mal und schüttelte das Mark\\nEntsetzlich mir zusammen; dann entfloh's\\nWie eine Schlange zu der Höhle. Neu\\nGenieß' ich nun durch dich das weite Licht\\nDes Tages. Schön und herrlich zeigt sich mir\\nDer Göttin Rat. Gleich einem heil'gen Bilde,\\nDaran der Stadt unwandelbar Geschick\\nDurch ein geheimes Götterwort gebannt ist,\\nNahm sie dich weg, dich Schützerin des Hauses;\\nBewahrte dich in einer heil'gen Stille\\nZum Segen deines Bruders und der Deinen.\\nDa alle Rettung auf der weiten Erde\\nVerloren schien, gibst du uns alles wieder.\\nLaß deine Seele sich zum Frieden wenden,\\nO König! Hindre nicht, daß sie die Weihe\\nDes väterlichen Hauses nun vollbringe,\\nMich der entsühnten Halle wiedergebe,\\nMir auf das Haupt die alte Krone drücke!\\nVergilt den Segen, den sie dir gebracht,\\nUnd laß des nähern Rechtes mich genießen!\\nGewalt und List, der Männer höchster Ruhm,\\nWird durch die Wahrheit dieser hohen Seele\\nBeschämt, und reines kindliches Vertrauen\\n\\n Zu einem edlen Manne wird belohnt.\\n\": -0.0001575471698113209},\n",
       " 'thoas-pylades': {},\n",
       " 'pylades-thoas': {},\n",
       " 'orest-pylades': {\"\\nDes Lebens dunkle Decke breitete\\nDie Mutter schon mir um das zarte Haupt,\\nUnd so wuchs ich herauf, ein Ebenbild\\nDes Vaters, und es war mein stummer Blick\\nEin bittrer Vorwurf ihr und ihrem Buhlen.\\nWie oft, wenn still Elektra, meine Schwester,\\nAm Feuer in der tiefen Halle saß,\\nDrängt' ich beklommen mich an ihren Schoß\\nUnd starrte, wie sie bitter weinte, sie\\nMit großen Augen an. Dann sagte sie\\nVon unserm hohen Vater viel: wie sehr\\nVerlangt' ich, ihn zu sehn, bei ihm zu sein!\\nMich wünscht' ich bald nach Troja, ihn bald her.\\nEs kam der Tag –\\n\": -0.014294366197183097,\n",
       "  '\\nErinnre mich nicht jener schönen Tage,\\nDa mir dein Haus die freie Stätte gab,\\nDein edler Vater klug und liebevoll\\nDie halberstarrte junge Blüte pflegte;\\nDa du, ein immer munterer Geselle,\\nGleich einem leichten, bunten Schmetterling\\nUm eine dunkle Blume, jeden Tag\\n\\n Um mich mit neuem Leben gaukeltest,\\nMir deine Lust in meine Seele spieltest,\\nDaß ich, vergessend meiner Not, mit dir\\nIn rascher Jugend hingerissen schwärmte.\\n': 0.01465614035087719,\n",
       "  '\\nSag: meine Not begann, und du sprichst wahr.\\nDas ist das Ängstliche von meinem Schicksal,\\nDaß ich, wie ein verpesteter Vertriebner,\\nGeheimen Schmerz und Tod im Busen trage;\\nDaß, wo ich den gesundsten Ort betrete,\\nGar bald um mich die blühenden Gesichter\\nDen Schmerzenszug langsamen Tods verraten.\\n': -0.02455675675675676,\n",
       "  \"\\nGroße Taten? Ja,\\nIch weiß die Zeit, da wir sie vor uns sahn!\\nWenn wir zusammen oft dem Wilde nach\\nDurch Berg' und Täler rannten und dereinst,\\nAn Brust und Faust dem hohen Ahnherrn gleich,\\nMit Keul' und Schwert dem Ungeheuer so,\\nDem Räuber auf der Spur zu jagen hofften;\\nUnd dann wir abends an der weiten See\\nUns aneinander lehnend ruhig saßen,\\nDie Wellen bis zu unsern Füßen spielten,\\nDie Welt so weit, so offen vor uns lag:\\nDa fuhr wohl einer manchmal nach dem Schwert,\\nUnd künft'ge Taten drangen wie die Sterne\\nRings um uns her unzählig aus der Nacht.\\n\": 0.00805921052631579,\n",
       "  \"\\nWenn sie dem Menschen frohe Tat bescheren,\\nDaß er ein Unheil von den Seinen wendet,\\nDaß er sein Reich vermehrt, die Grenzen sichert,\\nUnd alte Feinde fallen oder fliehn:\\nDann mag er danken! denn ihm hat ein Gott\\nDes Lebens erste, letzte Lust gegönnt.\\nMich haben sie zum Schlächter auserkoren,\\nZum Mörder meiner doch verehrten Mutter,\\nUnd, eine Schandtat schändlich rächend, mich\\nDurch ihren Wink zugrund' gerichtet. Glaube,\\nSie haben es auf Tantals Haus gerichtet,\\nUnd ich, der Letzte, soll nicht schuldlos, soll\\nNicht ehrenvoll vergehn.\\n\": -0.0003376811594202898,\n",
       "  '\\nMit seltner Kunst flichst du der Götter Rat\\nUnd deine Wünsche klug in eins zusammen.\\n': 0.027169230769230772,\n",
       "  \"\\nBin ich bestimmt, zu leben und zu handeln,\\nSo nehm' ein Gott von meiner schweren Stirn\\nDen Schwindel weg, der auf dem schlüpfrigen,\\nMit Mutterblut besprengten Pfade fort\\nMich zu den Toten reißt. Er trockne gnädig\\nDie Quelle, die, mir aus der Mutter Wunden\\nEntgegen sprudelnd, ewig mich befleckt.\\n\": -0.008302439024390245,\n",
       "  '\\nEs scheint, ihr lichtes Reich verlor die Kraft\\nDurch des Verbrechers Nähe, den der Fluch\\nWie eine breite Nacht verfolgt und deckt.\\nDie fromme Blutgier löst den alten Brauch\\nVon seinen Fesseln los, uns zu verderben.\\nDer wilde Sinn des Königs tötet uns:\\nEin Weib wird uns nicht retten, wenn er zürnt.\\n': -0.01951904761904762,\n",
       "  \"\\nLaß mich zum ersten Mal mit freiem Herzen\\nIn deinen Armen reine Freude haben!\\nIhr Götter, die mit flammender Gewalt\\n\\n Ihr schwere Wolken aufzuzehren wandelt\\nUnd gnädig-ernst den lang' erflehten Regen\\nMit Donnerstimmen und mit Windesbrausen\\nIn wilden Strömen auf die Erde schüttet,\\nDoch bald der Menschen grausendes Erwarten\\nIn Segen auflöst und das bange Staunen\\nIn Freudeblick und lauten Dank verwandelt,\\nWenn in den Tropfen frisch erquickter Blätter\\nDie neue Sonne tausendfach sich spiegelt\\nUnd Iris freundlich bunt mit leichter Hand\\nDen grauen Flor der letzten Wolken trennt:\\nO laßt mich auch in meiner Schwester Armen,\\nAn meines Freundes Brust, was ihr mir gönnt,\\nMit vollem Dank genießen und behalten!\\nEs löset sich der Fluch, mir sagt's das Herz.\\nDie Eumeniden ziehn, ich höre sie,\\nZum Tartarus und schlagen hinter sich\\nDie ehrnen Tore fernabdonnernd zu.\\nDie Erde dampft erquickenden Geruch\\nUnd ladet mich auf ihren Flächen ein,\\nNach Lebensfreud' und großer Tat zu jagen.\\n\": 0.00493134328358209},\n",
       " 'pylades-orest': {\"\\nIch bin noch nicht, Orest, wie du bereit,\\nIn jenes Schattenreich hinabzugehn.\\nIch sinne noch, durch die verworrnen Pfade,\\nDie nach der schwarzen Nacht zu führen scheinen,\\nUns zu dem Leben wieder aufzuwinden.\\nIch denke nicht den Tod; ich sinn' und horche,\\nOb nicht zu irgendeiner frohen Flucht\\nDie Götter Rat und Wege zubereiten.\\nDer Tod, gefürchtet oder ungefürchtet,\\nKommt unaufhaltsam. Wenn die Priesterin\\nSchon, unsre Locken weihend abzuschneiden,\\nDie Hand erhebt, soll dein' und meine Rettung\\nMein einziger Gedanke sein. Erhebe\\nVon diesem Unmut deine Seele; zweifelnd\\nBeschleunigest du die Gefahr. Apoll\\nGab uns das Wort: im Heiligtum der Schwester\\nSei Trost und Hilf' und Rückkehr dir bereitet.\\n\\n Der Götter Worte sind nicht doppelsinnig,\\nWie der Gedrückte sie im Unmut wähnt.\\n\": -0.02096990291262136,\n",
       "  '\\nO laß von jener Stunde\\nSich Höllengeister nächtlich unterhalten!\\nUns gebe die Erinnrung schöner Zeit\\nZu frischem Heldenlaufe neue Kraft.\\nDie Götter brauchen manchen guten Mann\\nZu ihrem Dienst auf dieser weiten Erde.\\nSie haben noch auf dich gezählt; sie gaben\\nDich nicht dem Vater zum Geleite mit,\\nDa er unwillig nach dem Orkus ging.\\n': -0.001840000000000001,\n",
       "  \"\\nSo haben die, die dich erhielten,\\nFür mich gesorgt: denn was ich worden wäre,\\nWenn du nicht lebtest, kann ich mir nicht denken,\\nDa ich mit dir und deinetwillen nur\\nSeit meiner Kindheit leb' und leben mag.\\n\": -3.809523809523807e-05,\n",
       "  \"\\nDer Nächste wär' ich, diesen Tod zu sterben,\\nWenn je dein Hauch, Orest, vergiftete.\\nBin ich nicht immer noch voll Mut und Lust?\\nUnd Lust und Liebe sind die Fittiche\\nZu großen Taten.\\n\": 0.020753846153846154,\n",
       "  '\\nUnendlich ist das Werk, das zu vollführen\\nDie Seele dringt. Wir möchten jede Tat\\nSo groß gleich tun, als wie sie wächst und wird,\\nWenn Jahre lang durch Länder und Geschlechter\\nDer Mund der Dichter sie vermehrend wälzt.\\nEs klingt so schön, was unsre Väter taten,\\nWenn es, in stillen Abendschatten ruhend,\\nDer Jüngling mit dem Ton der Harfe schlürft;\\n\\n Und was wir tun, ist, wie es ihnen war,\\nVoll Müh und eitel Stückwerk!\\nSo laufen wir nach dem, was vor uns flieht,\\nUnd achten nicht des Weges, den wir treten,\\nUnd sehen neben uns der Ahnherrn Tritte\\nUnd ihres Erdelebens Spuren kaum.\\nWir eilen immer ihrem Schatten nach,\\nDer göttergleich in einer weiten Ferne\\nDer Berge Haupt auf goldnen Wolken krönt.\\nIch halte nichts von dem, der von sich denkt,\\nWie ihn das Volk vielleicht erheben möchte;\\nAllein, o Jüngling, danke du den Göttern,\\nDaß sie so früh durch dich so viel getan.\\n': 0.006863461538461539,\n",
       "  '\\nDie Götter rächen\\nDer Väter Missetat nicht an dem Sohn;\\nEin jeglicher, gut oder böse, nimmt\\nSich seinen Lohn mit seiner Tat hinweg.\\nEs erbt der Eltern Segen, nicht ihr Fluch.\\n': -0.02811851851851852,\n",
       "  \"\\nTu, was sie dir gebieten, und erwarte.\\nBringst du die Schwester zu Apollen hin,\\nUnd wohnen beide dann vereint zu Delphi,\\nVerehrt von einem Volk, das edel denkt,\\nSo wird für diese Tat das hohe Paar\\n\\n Dir gnädig sein, sie werden aus der Hand\\nDer Unterird'schen dich erretten. Schon\\nIn diesen heil'gen Hain wagt keine sich.\\n\": 0.0004210526315789474,\n",
       "  \"\\nGanz anders denk' ich, und nicht ungeschickt\\nHab' ich das schon Geschehne mit dem Künft'gen\\nVerbunden und im stillen ausgelegt.\\nVielleicht reift in der Götter Rat schon lange\\nDas große Werk. Diane sehnet sich\\nVon diesem rauhen Ufer der Barbaren\\nUnd ihren blut'gen Menschenopfern weg.\\nWir waren zu der schönen Tat bestimmt,\\nUns wird sie auferlegt, und seltsam sind\\nWir an der Pforte schon gezwungen hier.\\n\": -0.02164375,\n",
       "  '\\nWas ist des Menschen Klugheit, wenn sie nicht\\nAuf jener Willen droben achtend lauscht?\\nZu einer schweren Tat beruft ein Gott\\nDen edlen Mann, der viel verbrach, und legt\\nIhm auf, was uns unmöglich scheint zu enden.\\nEs siegt der Held, und büßend dienet er\\nDen Göttern und der Welt, die ihn verehrt.\\n': -0.009043589743589745,\n",
       "  \"\\nErwart' es ruhiger: Du mehrst das Übel\\nUnd nimmst das Amt der Furien auf dich.\\nLaß mich nur sinnen, bleibe still! Zuletzt,\\nBedarf's zur Tat vereinter Kräfte, dann\\nRuf' ich dich auf, und beide schreiten wir\\nMit überlegter Kühnheit zur Vollendung.\\n\": 0.011128571428571429,\n",
       "  '\\nSpotte nicht.\\nEin jeglicher muß seinen Helden wählen,\\n\\n Dem er die Wege zum Olymp hinauf\\nSich nacharbeitet. Laß es mich gestehn:\\nMir scheinet List und Klugheit nicht den Mann\\nZu schänden, der sich kühnen Taten weiht.\\n': -0.010829032258064517,\n",
       "  \"\\nDrum hab' ich keinen Rat von dir verlangt.\\nSchon ist ein Schritt getan. Von unsern Wächtern\\nHab' ich bisher gar vieles ausgelockt.\\nIch weiß, ein fremdes, göttergleiches Weib\\nHält jenes blutige Gesetz gefesselt:\\nEin reines Herz und Weihrauch und Gebet\\nBringt sie den Göttern dar. Man rühmet hoch\\nDie Gütige; man glaubet, sie entspringe\\nVom Stamm der Amazonen, sei geflohn,\\nUm einem großen Unheil zu entgehn.\\n\": -0.009375862068965518,\n",
       "  \"\\nWohl uns, daß es ein Weib ist, denn ein Mann,\\nDer beste selbst, gewöhnet seinen Geist\\nAn Grausamkeit und macht sich auch zuletzt\\nAus dem, was er verabscheut, ein Gesetz,\\nWird aus Gewohnheit hart und fast unkenntlich.\\nAllein ein Weib bleibt stet auf einem Sinn,\\nDen sie gefaßt. Du rechnest sicherer\\nAuf sie im Guten wie im Bösen. – Still!\\nSie kommt; laß uns allein; ich darf nicht gleich\\nIhr unsre Namen nennen, unser Schicksal\\nNicht ohne Rückhalt ihr vertraun. Du gehst,\\nUnd eh' sie mit dir spricht, treff' ich dich noch.\\n\\n\": 0.003966666666666667,\n",
       "  '\\nVersäumt die Zeit nicht, die gemessen ist!\\nDer Wind, der unsre Segel schwellt, er bringe\\nErst unsre volle Freude zum Olymp.\\nKommt! Es bedarf hier schnellen Rat und Schluß.\\n': 0.030684,\n",
       "  \"\\nVerweilet nicht! Die letzten Kräfte raffen\\nDie Unsrigen zusammen; weichend werden\\nSie nach der See langsam zurückgedrängt.\\nWelch ein Gespräch der Fürsten find' ich hier!\\nDies ist des Königes verehrtes Haupt!\\n\": -0.0003107142857142857}}"
      ]
     },
     "execution_count": 149,
     "metadata": {},
     "output_type": "execute_result"
    }
   ],
   "source": [
    "replik"
   ]
  },
  {
   "cell_type": "markdown",
   "metadata": {},
   "source": [
    "#### Durchschnitt aller Sentiments eines Charakters wird gebildet und in neues Dict geschrieben"
   ]
  },
  {
   "cell_type": "code",
   "execution_count": 150,
   "metadata": {},
   "outputs": [],
   "source": [
    "all_in_all = {}\n",
    "for key in replik:\n",
    "    gesamtsentiment = 0\n",
    "    anzahlreplik = 0\n",
    "    for innerkey, value in replik[key].items():\n",
    "            anzahlreplik = anzahlreplik + 1\n",
    "            gesamtsentiment = (gesamtsentiment + value)\n",
    "            all_in_all[key] = gesamtsentiment/anzahlreplik\n",
    "            #print(all_in_all[key])\n",
    "            #print(\"\\n\")\n",
    "#for key,value in all_in_all.items():\n",
    "#    all_in_all[key] = value/len(replik[key])"
   ]
  },
  {
   "cell_type": "code",
   "execution_count": 152,
   "metadata": {},
   "outputs": [
    {
     "name": "stdout",
     "output_type": "stream",
     "text": [
      "{'arkas-iphigenie': 0.0035415302995437004,\n",
      " 'arkas-pylades': -0.04764814814814815,\n",
      " 'iphigenie-arkas': -0.009204363088577274,\n",
      " 'iphigenie-orest': -0.00632773352581484,\n",
      " 'iphigenie-pylades': -0.00521871649252164,\n",
      " 'iphigenie-thoas': -0.005058573831253824,\n",
      " 'orest-iphigenie': -0.012019095861414046,\n",
      " 'orest-pylades': -0.001354929536310241,\n",
      " 'orest-thoas': 0.0066590510554135895,\n",
      " 'pylades-iphigenie': -0.007942096547169103,\n",
      " 'pylades-orest': -0.0018901244404296298,\n",
      " 'thoas-arkas': -0.024305477855477858,\n",
      " 'thoas-iphigenie': -0.005841273351137794,\n",
      " 'thoas-orest': 4.222873900293281e-06}\n"
     ]
    }
   ],
   "source": [
    "pprint(all_in_all)"
   ]
  },
  {
   "cell_type": "code",
   "execution_count": 159,
   "metadata": {},
   "outputs": [
    {
     "name": "stdout",
     "output_type": "stream",
     "text": [
      "lol\n"
     ]
    }
   ],
   "source": [
    "if (4.222873900293281e-06 < 0.00001):\n",
    "    print(\"lol\")"
   ]
  },
  {
   "cell_type": "markdown",
   "metadata": {},
   "source": [
    "### GetNodes"
   ]
  },
  {
   "cell_type": "code",
   "execution_count": 22,
   "metadata": {},
   "outputs": [
    {
     "name": "stdout",
     "output_type": "stream",
     "text": [
      "['mariechen',\n",
      " 'pauline',\n",
      " 'frau_weidenhammer',\n",
      " 'rese',\n",
      " 'meister_oelze',\n",
      " 'emil',\n",
      " 'frau_kramer',\n",
      " 'patschke']\n"
     ]
    }
   ],
   "source": [
    "nodes = []\n",
    "for character in csv_drama:\n",
    "    if character[0] not in nodes:\n",
    "        nodes.append(character[0]) \n",
    "    if character[2] not in nodes:\n",
    "        nodes.append(character[2]) \n",
    "pprint(nodes)"
   ]
  },
  {
   "cell_type": "markdown",
   "metadata": {},
   "source": [
    "### GetEdges"
   ]
  },
  {
   "cell_type": "code",
   "execution_count": 23,
   "metadata": {
    "scrolled": true
   },
   "outputs": [],
   "source": [
    "edges = []\n",
    "for key, value in all_in_all.items():\n",
    "    edges.append(key.split(\"-\"))"
   ]
  },
  {
   "cell_type": "code",
   "execution_count": 24,
   "metadata": {},
   "outputs": [],
   "source": [
    "nils = 0\n",
    "while nils < len(edges):\n",
    "    for key, value in all_in_all.items():\n",
    "        edges[nils].append(value)\n",
    "        nils += 1"
   ]
  },
  {
   "cell_type": "code",
   "execution_count": 25,
   "metadata": {},
   "outputs": [],
   "source": [
    "labels_edges = {}\n",
    "for e in edges:\n",
    "    labels_edges[(e[0],e[1])] = round(e[2],3)\n"
   ]
  },
  {
   "cell_type": "code",
   "execution_count": 26,
   "metadata": {},
   "outputs": [
    {
     "data": {
      "text/plain": [
       "[['mariechen', 'pauline', 0.04411538461538459],\n",
       " ['pauline', 'mariechen', 0.10401666666666665],\n",
       " ['mariechen', 'emil', -0.14888],\n",
       " ['emil', 'mariechen', -0.03814285714285716],\n",
       " ['pauline', 'frau_weidenhammer', -0.0063937662337662385],\n",
       " ['frau_weidenhammer', 'pauline', 0.03416388888888889],\n",
       " ['pauline', 'rese', -0.0010144444444444547],\n",
       " ['rese', 'pauline', -0.03952957908163266],\n",
       " ['pauline', 'meister_oelze', 0.0695489797008547],\n",
       " ['meister_oelze', 'pauline', -0.042466965811965796],\n",
       " ['pauline', 'emil', -0.3494],\n",
       " ['emil', 'pauline', 0.05132000000000001],\n",
       " ['frau_weidenhammer', 'rese', -0.03995333333333333],\n",
       " ['rese', 'frau_weidenhammer', -0.0016214285714285734],\n",
       " ['rese', 'meister_oelze', 0.10968933333333333],\n",
       " ['meister_oelze', 'rese', 0.1250824074074074],\n",
       " ['rese', 'emil', 0.0772478021978022],\n",
       " ['emil', 'rese', -0.059740000000000015],\n",
       " ['rese', 'patschke', 0.08929999999999999],\n",
       " ['patschke', 'rese', -0.17644999999999997],\n",
       " ['meister_oelze', 'emil', -0.08648],\n",
       " ['emil', 'meister_oelze', 0.17669666666666667]]"
      ]
     },
     "execution_count": 26,
     "metadata": {},
     "output_type": "execute_result"
    }
   ],
   "source": [
    "edges"
   ]
  },
  {
   "cell_type": "markdown",
   "metadata": {},
   "source": [
    "## Social Network Graph"
   ]
  },
  {
   "cell_type": "code",
   "execution_count": 27,
   "metadata": {},
   "outputs": [],
   "source": [
    "import networkx as nx\n",
    "import matplotlib.pyplot as plt"
   ]
  },
  {
   "cell_type": "code",
   "execution_count": 28,
   "metadata": {},
   "outputs": [],
   "source": [
    "G = nx.MultiDiGraph()"
   ]
  },
  {
   "cell_type": "code",
   "execution_count": 29,
   "metadata": {},
   "outputs": [
    {
     "data": {
      "text/plain": [
       "['mariechen',\n",
       " 'pauline',\n",
       " 'frau_weidenhammer',\n",
       " 'rese',\n",
       " 'meister_oelze',\n",
       " 'emil',\n",
       " 'frau_kramer',\n",
       " 'patschke']"
      ]
     },
     "execution_count": 29,
     "metadata": {},
     "output_type": "execute_result"
    }
   ],
   "source": [
    "nodes"
   ]
  },
  {
   "cell_type": "code",
   "execution_count": 32,
   "metadata": {},
   "outputs": [],
   "source": [
    "for node in nodes:\n",
    "    G.add_node(node)"
   ]
  },
  {
   "cell_type": "code",
   "execution_count": 33,
   "metadata": {},
   "outputs": [
    {
     "data": {
      "text/plain": [
       "NodeView(('mariechen', 'pauline', 'frau_weidenhammer', 'rese', 'meister_oelze', 'emil', 'frau_kramer', 'patschke'))"
      ]
     },
     "execution_count": 33,
     "metadata": {},
     "output_type": "execute_result"
    }
   ],
   "source": [
    "G.nodes"
   ]
  },
  {
   "cell_type": "code",
   "execution_count": 34,
   "metadata": {},
   "outputs": [],
   "source": [
    "for edge in edges:\n",
    "    G.add_edge(edge[0], edge[1], edge[2])"
   ]
  },
  {
   "cell_type": "code",
   "execution_count": 35,
   "metadata": {},
   "outputs": [
    {
     "data": {
      "text/plain": [
       "OutMultiEdgeView([('mariechen', 'pauline', 0.04411538461538459), ('mariechen', 'emil', -0.14888), ('pauline', 'mariechen', 0.10401666666666665), ('pauline', 'frau_weidenhammer', -0.0063937662337662385), ('pauline', 'rese', -0.0010144444444444547), ('pauline', 'meister_oelze', 0.0695489797008547), ('pauline', 'emil', -0.3494), ('frau_weidenhammer', 'pauline', 0.03416388888888889), ('frau_weidenhammer', 'rese', -0.03995333333333333), ('rese', 'pauline', -0.03952957908163266), ('rese', 'frau_weidenhammer', -0.0016214285714285734), ('rese', 'meister_oelze', 0.10968933333333333), ('rese', 'emil', 0.0772478021978022), ('rese', 'patschke', 0.08929999999999999), ('meister_oelze', 'pauline', -0.042466965811965796), ('meister_oelze', 'rese', 0.1250824074074074), ('meister_oelze', 'emil', -0.08648), ('emil', 'mariechen', -0.03814285714285716), ('emil', 'pauline', 0.05132000000000001), ('emil', 'rese', -0.059740000000000015), ('emil', 'meister_oelze', 0.17669666666666667), ('patschke', 'rese', -0.17644999999999997)])"
      ]
     },
     "execution_count": 35,
     "metadata": {},
     "output_type": "execute_result"
    }
   ],
   "source": [
    "G.edges"
   ]
  },
  {
   "cell_type": "code",
   "execution_count": 36,
   "metadata": {},
   "outputs": [],
   "source": [
    "def malen(G):\n",
    "    fig = plt.figure(figsize=(12,12))\n",
    "    ax = plt.subplot(111)\n",
    "    ax.set_title('Im Suff', fontsize=12, color='#088A68')\n",
    "\n",
    "    pos = nx.circular_layout(G)\n",
    "    nx.draw(G, pos, edge_color='black', width=1, linewidths=1, node_size=500, node_color='#F7D358', alpha=0.9, labels={node:node for node in G.nodes()})\n",
    "    nx.draw_networkx_edge_labels(G,pos,edge_labels=labels_edges, label_pos=0.3, font_color='#088A68')\n",
    "    nx.draw_networkx_edges(G, pos, width = 0.5, edge_color = 'black')\n",
    "\n",
    "    plt.tight_layout()\n",
    "    plt.savefig(\"Im_Suff.png\", format=\"PNG\")\n",
    "    plt.show()"
   ]
  },
  {
   "cell_type": "code",
   "execution_count": 37,
   "metadata": {},
   "outputs": [
    {
     "data": {
      "image/png": "[encoded data removed]",
      "text/plain": [
       "<Figure size 864x864 with 1 Axes>"
      ]
     },
     "metadata": {},
     "output_type": "display_data"
    }
   ],
   "source": [
    "malen(G)"
   ]
  },
  {
   "cell_type": "markdown",
   "metadata": {},
   "source": [
    "## Versuch"
   ]
  },
  {
   "cell_type": "code",
   "execution_count": 38,
   "metadata": {},
   "outputs": [],
   "source": [
    "import json\n",
    "import numpy as np\n",
    "import networkx as nx\n",
    "import matplotlib.pyplot as plt\n",
    "%matplotlib inline"
   ]
  },
  {
   "cell_type": "code",
   "execution_count": 39,
   "metadata": {},
   "outputs": [
    {
     "data": {
      "image/png": "[encoded data removed]",
      "text/plain": [
       "<Figure size 864x864 with 1 Axes>"
      ]
     },
     "metadata": {},
     "output_type": "display_data"
    }
   ],
   "source": [
    "fig = plt.figure(figsize=(12,12))\n",
    "ax = plt.subplot(111)\n",
    "nx.draw(G, ax=ax)"
   ]
  },
  {
   "cell_type": "code",
   "execution_count": 40,
   "metadata": {},
   "outputs": [],
   "source": [
    "person = soup.find_all('person')\n",
    "p = 0"
   ]
  },
  {
   "cell_type": "code",
   "execution_count": 41,
   "metadata": {},
   "outputs": [
    {
     "data": {
      "text/plain": [
       "['mariechen',\n",
       " 'pauline',\n",
       " 'frau_weidenhammer',\n",
       " 'rese',\n",
       " 'meister_oelze',\n",
       " 'emil',\n",
       " 'frau_kramer',\n",
       " 'patschke']"
      ]
     },
     "execution_count": 41,
     "metadata": {},
     "output_type": "execute_result"
    }
   ],
   "source": [
    "nodes"
   ]
  },
  {
   "cell_type": "code",
   "execution_count": 42,
   "metadata": {},
   "outputs": [
    {
     "data": {
      "text/plain": [
       "8"
      ]
     },
     "execution_count": 42,
     "metadata": {},
     "output_type": "execute_result"
    }
   ],
   "source": [
    "len(person)"
   ]
  },
  {
   "cell_type": "code",
   "execution_count": 43,
   "metadata": {},
   "outputs": [
    {
     "name": "stdout",
     "output_type": "stream",
     "text": [
      "mariechen\n",
      "FEMALE\n",
      "pauline\n",
      "MALE\n",
      "frau_weidenhammer\n",
      "FEMALE\n",
      "rese\n",
      "FEMALE\n",
      "meister_oelze\n",
      "MALE\n",
      "emil\n",
      "MALE\n",
      "frau_kramer\n",
      "FEMALE\n",
      "patschke\n",
      "MALE\n"
     ]
    }
   ],
   "source": [
    "for node in nodes:\n",
    "    if node in person[p]['xml:id']:\n",
    "        print(person[p]['xml:id'])\n",
    "        print(person[p]['sex'])\n",
    "        sex = person[p]['sex']\n",
    "        G.add_node(node, sex=sex)\n",
    "        p = p+1\n"
   ]
  },
  {
   "cell_type": "code",
   "execution_count": 45,
   "metadata": {
    "scrolled": true
   },
   "outputs": [
    {
     "data": {
      "text/plain": [
       "NodeDataView({'mariechen': 'FEMALE', 'pauline': 'MALE', 'frau_weidenhammer': 'FEMALE', 'rese': 'FEMALE', 'meister_oelze': 'MALE', 'emil': 'MALE', 'frau_kramer': 'FEMALE', 'patschke': 'MALE'}, data='sex')"
      ]
     },
     "execution_count": 45,
     "metadata": {},
     "output_type": "execute_result"
    }
   ],
   "source": [
    "G.nodes(data = 'sex')"
   ]
  },
  {
   "cell_type": "code",
   "execution_count": 46,
   "metadata": {},
   "outputs": [],
   "source": [
    "ids = {}\n",
    "j = 0\n",
    "for n in G.nodes:\n",
    "    if n not in ids:\n",
    "       ids[n]= j\n",
    "       j = j+1"
   ]
  },
  {
   "cell_type": "code",
   "execution_count": 47,
   "metadata": {},
   "outputs": [
    {
     "data": {
      "text/plain": [
       "{'mariechen': 0,\n",
       " 'pauline': 1,\n",
       " 'frau_weidenhammer': 2,\n",
       " 'rese': 3,\n",
       " 'meister_oelze': 4,\n",
       " 'emil': 5,\n",
       " 'frau_kramer': 6,\n",
       " 'patschke': 7}"
      ]
     },
     "execution_count": 47,
     "metadata": {},
     "output_type": "execute_result"
    }
   ],
   "source": [
    "ids"
   ]
  },
  {
   "cell_type": "code",
   "execution_count": 48,
   "metadata": {},
   "outputs": [
    {
     "name": "stdout",
     "output_type": "stream",
     "text": [
      "green\n",
      "red\n",
      "green\n",
      "red\n",
      "red\n",
      "green\n",
      "red\n",
      "green\n",
      "red\n",
      "red\n",
      "red\n",
      "green\n",
      "green\n",
      "green\n",
      "red\n",
      "green\n",
      "red\n",
      "red\n",
      "green\n",
      "red\n",
      "green\n",
      "red\n"
     ]
    }
   ],
   "source": [
    "for l in G.edges:\n",
    "    if l[2] > 0:\n",
    "        print(\"green\")\n",
    "    else:\n",
    "        print(\"red\")"
   ]
  },
  {
   "cell_type": "code",
   "execution_count": 49,
   "metadata": {},
   "outputs": [],
   "source": [
    "links = []\n",
    "for u in G.edges:\n",
    "    if u[0] in ids and u[1] in ids:\n",
    "        links.append({'source': ids[u[0]], 'target': ids[u[1]], 'weight':u[2] })\n",
    "        "
   ]
  },
  {
   "cell_type": "code",
   "execution_count": 50,
   "metadata": {},
   "outputs": [
    {
     "data": {
      "text/plain": [
       "[{'source': 0, 'target': 1, 'weight': 0.04411538461538459},\n",
       " {'source': 0, 'target': 5, 'weight': -0.14888},\n",
       " {'source': 1, 'target': 0, 'weight': 0.10401666666666665},\n",
       " {'source': 1, 'target': 2, 'weight': -0.0063937662337662385},\n",
       " {'source': 1, 'target': 3, 'weight': -0.0010144444444444547},\n",
       " {'source': 1, 'target': 4, 'weight': 0.0695489797008547},\n",
       " {'source': 1, 'target': 5, 'weight': -0.3494},\n",
       " {'source': 2, 'target': 1, 'weight': 0.03416388888888889},\n",
       " {'source': 2, 'target': 3, 'weight': -0.03995333333333333},\n",
       " {'source': 3, 'target': 1, 'weight': -0.03952957908163266},\n",
       " {'source': 3, 'target': 2, 'weight': -0.0016214285714285734},\n",
       " {'source': 3, 'target': 4, 'weight': 0.10968933333333333},\n",
       " {'source': 3, 'target': 5, 'weight': 0.0772478021978022},\n",
       " {'source': 3, 'target': 7, 'weight': 0.08929999999999999},\n",
       " {'source': 4, 'target': 1, 'weight': -0.042466965811965796},\n",
       " {'source': 4, 'target': 3, 'weight': 0.1250824074074074},\n",
       " {'source': 4, 'target': 5, 'weight': -0.08648},\n",
       " {'source': 5, 'target': 0, 'weight': -0.03814285714285716},\n",
       " {'source': 5, 'target': 1, 'weight': 0.05132000000000001},\n",
       " {'source': 5, 'target': 3, 'weight': -0.059740000000000015},\n",
       " {'source': 5, 'target': 4, 'weight': 0.17669666666666667},\n",
       " {'source': 7, 'target': 3, 'weight': -0.17644999999999997}]"
      ]
     },
     "execution_count": 50,
     "metadata": {},
     "output_type": "execute_result"
    }
   ],
   "source": [
    "links"
   ]
  },
  {
   "cell_type": "code",
   "execution_count": 51,
   "metadata": {},
   "outputs": [
    {
     "name": "stdout",
     "output_type": "stream",
     "text": [
      "mariechen\n",
      "FEMALE\n",
      "pauline\n",
      "MALE\n",
      "frau_weidenhammer\n",
      "FEMALE\n",
      "rese\n",
      "FEMALE\n",
      "meister_oelze\n",
      "MALE\n",
      "emil\n",
      "MALE\n",
      "frau_kramer\n",
      "FEMALE\n",
      "patschke\n",
      "MALE\n"
     ]
    }
   ],
   "source": [
    "for i in G.nodes(data='sex'):\n",
    "    print(i[0])\n",
    "    print(i[1])"
   ]
  },
  {
   "cell_type": "code",
   "execution_count": 52,
   "metadata": {},
   "outputs": [],
   "source": [
    "nodes = [{'name': i[0], 'sex': i[1]}\n",
    "        for i in G.nodes(data='sex')]\n",
    "#links = [{'source': u[0], 'target': u[1], 'weight': u[2]}\n",
    "#        for u in G.edges]\n",
    "with open('graph.json', 'w') as f:\n",
    "    json.dump({'nodes': nodes, 'links': links}, f, indent=4,)"
   ]
  },
  {
   "cell_type": "code",
   "execution_count": 53,
   "metadata": {},
   "outputs": [
    {
     "data": {
      "text/plain": [
       "[{'name': 'mariechen', 'sex': 'FEMALE'},\n",
       " {'name': 'pauline', 'sex': 'MALE'},\n",
       " {'name': 'frau_weidenhammer', 'sex': 'FEMALE'},\n",
       " {'name': 'rese', 'sex': 'FEMALE'},\n",
       " {'name': 'meister_oelze', 'sex': 'MALE'},\n",
       " {'name': 'emil', 'sex': 'MALE'},\n",
       " {'name': 'frau_kramer', 'sex': 'FEMALE'},\n",
       " {'name': 'patschke', 'sex': 'MALE'}]"
      ]
     },
     "execution_count": 53,
     "metadata": {},
     "output_type": "execute_result"
    }
   ],
   "source": [
    "nodes"
   ]
  },
  {
   "cell_type": "code",
   "execution_count": 54,
   "metadata": {},
   "outputs": [
    {
     "data": {
      "text/plain": [
       "[{'source': 0, 'target': 1, 'weight': 0.04411538461538459},\n",
       " {'source': 0, 'target': 5, 'weight': -0.14888},\n",
       " {'source': 1, 'target': 0, 'weight': 0.10401666666666665},\n",
       " {'source': 1, 'target': 2, 'weight': -0.0063937662337662385},\n",
       " {'source': 1, 'target': 3, 'weight': -0.0010144444444444547},\n",
       " {'source': 1, 'target': 4, 'weight': 0.0695489797008547},\n",
       " {'source': 1, 'target': 5, 'weight': -0.3494},\n",
       " {'source': 2, 'target': 1, 'weight': 0.03416388888888889},\n",
       " {'source': 2, 'target': 3, 'weight': -0.03995333333333333},\n",
       " {'source': 3, 'target': 1, 'weight': -0.03952957908163266},\n",
       " {'source': 3, 'target': 2, 'weight': -0.0016214285714285734},\n",
       " {'source': 3, 'target': 4, 'weight': 0.10968933333333333},\n",
       " {'source': 3, 'target': 5, 'weight': 0.0772478021978022},\n",
       " {'source': 3, 'target': 7, 'weight': 0.08929999999999999},\n",
       " {'source': 4, 'target': 1, 'weight': -0.042466965811965796},\n",
       " {'source': 4, 'target': 3, 'weight': 0.1250824074074074},\n",
       " {'source': 4, 'target': 5, 'weight': -0.08648},\n",
       " {'source': 5, 'target': 0, 'weight': -0.03814285714285716},\n",
       " {'source': 5, 'target': 1, 'weight': 0.05132000000000001},\n",
       " {'source': 5, 'target': 3, 'weight': -0.059740000000000015},\n",
       " {'source': 5, 'target': 4, 'weight': 0.17669666666666667},\n",
       " {'source': 7, 'target': 3, 'weight': -0.17644999999999997}]"
      ]
     },
     "execution_count": 54,
     "metadata": {},
     "output_type": "execute_result"
    }
   ],
   "source": [
    "links"
   ]
  },
  {
   "cell_type": "code",
   "execution_count": 70,
   "metadata": {
    "scrolled": true
   },
   "outputs": [
    {
     "data": {
      "text/html": [
       "<div id=\"d3-example\">\n",
       "<h2>Überschrift</h2></div>\n",
       "<style>\n",
       ".node {stroke: #fff; stroke-width: 1.5px;}\n",
       ".link {stroke: #999999; stroke-opacity: .6;}\n",
       "</style>\n"
      ],
      "text/plain": [
       "<IPython.core.display.HTML object>"
      ]
     },
     "metadata": {},
     "output_type": "display_data"
    }
   ],
   "source": [
    "%%html\n",
    "<div id=\"d3-example\">\n",
    "<h2>Überschrift</h2></div>\n",
    "<style>\n",
    ".node {stroke: #fff; stroke-width: 1.5px;}\n",
    ".link {stroke: #999999; stroke-opacity: .6;}\n",
    "</style>"
   ]
  },
  {
   "cell_type": "code",
   "execution_count": 71,
   "metadata": {
    "scrolled": false
   },
   "outputs": [
    {
     "data": {
      "application/javascript": [
       "// We load the d3.js library from the Web.\n",
       "require.config({paths:\n",
       "    {d3: \"http://d3js.org/d3.v3.min\"}});\n",
       "require([\"d3\"], function(d3) {\n",
       "  // The code in this block is executed when the\n",
       "  // d3.js library has been loaded.\n",
       "\n",
       "  // First, we specify the size of the canvas\n",
       "  // containing the visualization (size of the\n",
       "  // <div> element).\n",
       "  var width = 700, height = 700;\n",
       "\n",
       "  // We create a color scale.\n",
       "  var color = d3.scale.category10();\n",
       "\n",
       "  // We create a force-directed dynamic graph layout.\n",
       "  var force = d3.layout.force()\n",
       "    .charge(-120)\n",
       "    .linkDistance(200)\n",
       "    .size([width, height]);\n",
       "\n",
       "  // In the <div> element, we create a <svg> graphic\n",
       "  // that will contain our interactive visualization.\n",
       "  var svg = d3.select(\"#d3-example\").select(\"svg\")\n",
       "  if (svg.empty()) {\n",
       "    svg = d3.select(\"#d3-example\").append(\"svg\")\n",
       "          .attr(\"width\", width)\n",
       "          .attr(\"height\", height);\n",
       "  }\n",
       "\n",
       "  // We load the JSON file.\n",
       "  d3.json(\"graph.json\", function(error, graph) {\n",
       "    // In this block, the file has been loaded\n",
       "    // and the 'graph' object contains our graph.\n",
       "\n",
       "    // We load the nodes and links in the\n",
       "    // force-directed graph.\n",
       "    force.nodes(graph.nodes)\n",
       "      .links(graph.links)\n",
       "      .start();\n",
       "\n",
       "    // We create a <line> SVG element for each link\n",
       "    // in the graph.\n",
       "    var link = svg.selectAll(\".link\")\n",
       "      .data(graph.links)\n",
       "      .enter().append(\"line\")\n",
       "      .attr(\"class\", \"link\")\n",
       "      .style(\"stroke\", function(d) {\n",
       "         // The link color depends on the sentiment.\n",
       "         if ( d.weight < 0) {\n",
       "             return \"red\"\n",
       "        } else {\n",
       "             return \"green\"\n",
       "        };\n",
       "      });\n",
       "\n",
       "    // We create a <circle> SVG element for each node\n",
       "    // in the graph, and we specify a few attributes.\n",
       "    var node = svg.selectAll(\".node\")\n",
       "      .data(graph.nodes)\n",
       "      .enter().append(\"circle\")\n",
       "      .attr(\"class\", \"node\")\n",
       "      .attr(\"r\", 9)  // radius\n",
       "      .style(\"fill\", function(d) {\n",
       "         if (d.sex=='FEMALE'){\n",
       "             return \"blue\"\n",
       "             } else {\n",
       "             return \"red\"\n",
       "             };\n",
       "      })\n",
       "      .call(force.drag);\n",
       "\n",
       "    // The name of each node is the node number.\n",
       "    \n",
       "    svg.selectAll(\".node\").selectAll(\"circle\").append(\"text\")\n",
       "        .attr(\"x\", 12)\n",
       "        .attr(\"dy\", \".35em\")\n",
       "        .text(function(d) { return d.name; })\n",
       "        .style(\"stroke\", \"black\");\n",
       "      \n",
       "    // We bind the positions of the SVG elements\n",
       "    // to the positions of the dynamic force-directed\n",
       "    // graph, at each time step.\n",
       "    force.on(\"tick\", function() {\n",
       "      link.attr(\"x1\", function(d){return d.source.x})\n",
       "          .attr(\"y1\", function(d){return d.source.y})\n",
       "          .attr(\"x2\", function(d){return d.target.x})\n",
       "          .attr(\"y2\", function(d){return d.target.y})\n",
       "        \n",
       "\n",
       "      node.attr(\"cx\", function(d){return d.x})\n",
       "          .attr(\"cy\", function(d){return d.y});\n",
       "    });\n",
       "  });\n",
       "});\n"
      ],
      "text/plain": [
       "<IPython.core.display.Javascript object>"
      ]
     },
     "metadata": {},
     "output_type": "display_data"
    }
   ],
   "source": [
    "%%javascript\n",
    "// We load the d3.js library from the Web.\n",
    "require.config({paths:\n",
    "    {d3: \"http://d3js.org/d3.v3.min\"}});\n",
    "require([\"d3\"], function(d3) {\n",
    "  // The code in this block is executed when the\n",
    "  // d3.js library has been loaded.\n",
    "\n",
    "  // First, we specify the size of the canvas\n",
    "  // containing the visualization (size of the\n",
    "  // <div> element).\n",
    "  var width = 700, height = 700;\n",
    "\n",
    "  // We create a color scale.\n",
    "  var color = d3.scale.category10();\n",
    "\n",
    "  // We create a force-directed dynamic graph layout.\n",
    "  var force = d3.layout.force()\n",
    "    .charge(-120)\n",
    "    .linkDistance(200)\n",
    "    .size([width, height]);\n",
    "\n",
    "  // In the <div> element, we create a <svg> graphic\n",
    "  // that will contain our interactive visualization.\n",
    "  var svg = d3.select(\"#d3-example\").select(\"svg\")\n",
    "  if (svg.empty()) {\n",
    "    svg = d3.select(\"#d3-example\").append(\"svg\")\n",
    "          .attr(\"width\", width)\n",
    "          .attr(\"height\", height);\n",
    "  }\n",
    "\n",
    "  // We load the JSON file.\n",
    "  d3.json(\"graph.json\", function(error, graph) {\n",
    "    // In this block, the file has been loaded\n",
    "    // and the 'graph' object contains our graph.\n",
    "\n",
    "    // We load the nodes and links in the\n",
    "    // force-directed graph.\n",
    "    force.nodes(graph.nodes)\n",
    "      .links(graph.links)\n",
    "      .start();\n",
    "\n",
    "    // We create a <line> SVG element for each link\n",
    "    // in the graph.\n",
    "    var link = svg.selectAll(\".link\")\n",
    "      .data(graph.links)\n",
    "      .enter().append(\"line\")\n",
    "      .attr(\"class\", \"link\")\n",
    "      .style(\"stroke\", function(d) {\n",
    "         // The link color depends on the sentiment.\n",
    "         if ( d.weight < 0) {\n",
    "             return \"red\"\n",
    "        } else {\n",
    "             return \"green\"\n",
    "        };\n",
    "      });\n",
    "\n",
    "    // We create a <circle> SVG element for each node\n",
    "    // in the graph, and we specify a few attributes.\n",
    "    var node = svg.selectAll(\".node\")\n",
    "      .data(graph.nodes)\n",
    "      .enter().append(\"circle\")\n",
    "      .attr(\"class\", \"node\")\n",
    "      .attr(\"r\", 9)  // radius\n",
    "      .style(\"fill\", function(d) {\n",
    "         if (d.sex=='FEMALE'){\n",
    "             return \"blue\"\n",
    "             } else {\n",
    "             return \"red\"\n",
    "             };\n",
    "      })\n",
    "      .call(force.drag);\n",
    "\n",
    "    // The name of each node is the node number.\n",
    "    \n",
    "    svg.selectAll(\".node\").selectAll(\"circle\").append(\"text\")\n",
    "        .attr(\"x\", 12)\n",
    "        .attr(\"dy\", \".35em\")\n",
    "        .text(function(d) { return d.name; })\n",
    "        .style(\"stroke\", \"black\");\n",
    "      \n",
    "    // We bind the positions of the SVG elements\n",
    "    // to the positions of the dynamic force-directed\n",
    "    // graph, at each time step.\n",
    "    force.on(\"tick\", function() {\n",
    "      link.attr(\"x1\", function(d){return d.source.x})\n",
    "          .attr(\"y1\", function(d){return d.source.y})\n",
    "          .attr(\"x2\", function(d){return d.target.x})\n",
    "          .attr(\"y2\", function(d){return d.target.y})\n",
    "        \n",
    "\n",
    "      node.attr(\"cx\", function(d){return d.x})\n",
    "          .attr(\"cy\", function(d){return d.y});\n",
    "    });\n",
    "  });\n",
    "});"
   ]
  },
  {
   "cell_type": "code",
   "execution_count": null,
   "metadata": {},
   "outputs": [],
   "source": []
  }
 ],
 "metadata": {
  "kernelspec": {
   "display_name": "Python 3",
   "language": "python",
   "name": "python3"
  },
  "language_info": {
   "codemirror_mode": {
    "name": "ipython",
    "version": 3
   },
   "file_extension": ".py",
   "mimetype": "text/x-python",
   "name": "python",
   "nbconvert_exporter": "python",
   "pygments_lexer": "ipython3",
   "version": "3.7.4"
  }
 },
 "nbformat": 4,
 "nbformat_minor": 2
}
