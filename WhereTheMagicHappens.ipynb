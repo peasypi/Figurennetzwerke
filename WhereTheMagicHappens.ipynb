{
 "cells": [
  {
   "cell_type": "markdown",
   "metadata": {},
   "source": [
    "# Sentiment Analyse in sozialen Netzwerken"
   ]
  },
  {
   "cell_type": "markdown",
   "metadata": {},
   "source": [
    "## Tasks\n",
    "\n",
    "1. GetData\n",
    "    - Drama.csv von Dracor downloaden\n",
    "    - Drama.tei von Dracor donwloaden\n",
    "2. getText\n",
    "    - Aus Drama.csv Source&Target\n",
    "    - Source&Target liefert Text von Source nach Target\n",
    "    - Speicherung in defaultdict\n",
    "3. Sentiment\n",
    "    - input getText als Dictionary\n",
    "    - TextBlob\n",
    "    - {Key: {InnerKey:Value}} = {Speaker: {TextStelle:Sentiment_Score}}\n",
    "4. Netzwerk\n",
    "    - "
   ]
  },
  {
   "cell_type": "markdown",
   "metadata": {},
   "source": [
    "## SpeakerA\n",
    "jaskdjflköasdjfklasdj ---> Text_Score\n",
    "\n",
    "## SpeakerB\n",
    "sadfkasdhfkjhasd\n",
    "\n",
    "## SpeakerA\n",
    "jaskdjflköasdjfklasdj --> Text_Score \n",
    "\n",
    "## SpeakerB\n",
    "sadfkasdhfkjhasd"
   ]
  },
  {
   "cell_type": "markdown",
   "metadata": {},
   "source": [
    "#### Dictionary-Aufbau:\n",
    "{SpeakerA: {TextA1: SentimentScore(TextA1), TextA2: SentimentScore(TextA2)}, SpeakerB: {TextB1:SentimentScore(TextB1)}}"
   ]
  },
  {
   "cell_type": "markdown",
   "metadata": {},
   "source": [
    "## In Erfahrung bringen\n",
    "* Wie Sentiment scoren"
   ]
  },
  {
   "cell_type": "markdown",
   "metadata": {},
   "source": [
    "### Imports"
   ]
  },
  {
   "cell_type": "code",
   "execution_count": 3,
   "metadata": {},
   "outputs": [],
   "source": [
    "import requests\n",
    "import sys\n",
    "import re"
   ]
  },
  {
   "cell_type": "code",
   "execution_count": 4,
   "metadata": {},
   "outputs": [],
   "source": [
    "from collections import defaultdict\n",
    "from bs4 import BeautifulSoup\n",
    "import csv\n",
    "import re"
   ]
  },
  {
   "cell_type": "markdown",
   "metadata": {},
   "source": [
    "### GetData"
   ]
  },
  {
   "cell_type": "markdown",
   "metadata": {},
   "source": [
    "#### Namen + Autor \n",
    "* Frage: Wie einlesen?\n",
    "    * mit sys? mit input? \n",
    "    * kommt drauf an wie die GUI es braucht?"
   ]
  },
  {
   "cell_type": "code",
   "execution_count": 3,
   "metadata": {},
   "outputs": [
    {
     "name": "stdout",
     "output_type": "stream",
     "text": [
      "/users/nils/library/jupyter/runtime/kernel-77bc2734-49ce-459f-829b-86d03a9207f4.json--f\n"
     ]
    }
   ],
   "source": [
    "def eingabe_drama(dramaname, autor):\n",
    "\n",
    "    name = re.sub(r' ',\"-\", dramaname.lower())\n",
    "    draname = autor.lower() + \"-\" + name\n",
    "    return draname\n",
    "\n",
    "print(eingabe_drama(sys.argv[1], sys.argv[2]))"
   ]
  },
  {
   "cell_type": "code",
   "execution_count": 6,
   "metadata": {},
   "outputs": [
    {
     "name": "stdout",
     "output_type": "stream",
     "text": [
      "alberti-im-suff\n"
     ]
    }
   ],
   "source": [
    "dramaname = \"Im Suff\"\n",
    "autor = \"Alberti\"\n",
    "\n",
    "name = re.sub(r' ',\"-\", dramaname.lower())\n",
    "\n",
    "draname = autor.lower() + \"-\" + name\n",
    "print(draname)"
   ]
  },
  {
   "cell_type": "markdown",
   "metadata": {},
   "source": [
    "#### GetTEI\n",
    "curl -X GET \"https://dracor.org/api/corpora/ger/play/alberti-im-suff/tei\" -H  \"accept: application/xml\""
   ]
  },
  {
   "cell_type": "code",
   "execution_count": 7,
   "metadata": {},
   "outputs": [],
   "source": [
    "headers_tei = {\n",
    "    'accept': 'application/xml'\n",
    "}\n",
    "\n",
    "response_tei = requests.get('https://dracor.org/api/corpora/ger/play/{}/tei'.format(draname), headers = headers_tei)"
   ]
  },
  {
   "cell_type": "code",
   "execution_count": 8,
   "metadata": {
    "scrolled": true
   },
   "outputs": [],
   "source": [
    "tei = response_tei.text"
   ]
  },
  {
   "cell_type": "markdown",
   "metadata": {},
   "source": [
    "#### GetCSV\n",
    "curl -X GET \"https://dracor.org/api/corpora/ger/play/alberti-im-suff/networkdata/csv\" -H  \"accept: text/csv\""
   ]
  },
  {
   "cell_type": "code",
   "execution_count": 9,
   "metadata": {},
   "outputs": [],
   "source": [
    "headers_csv = {\n",
    "    'accept': 'text/csv'\n",
    "}\n",
    "response_csv = requests.get('https://dracor.org/api/corpora/ger/play/{}/networkdata/csv'.format(draname), headers = headers_csv)"
   ]
  },
  {
   "cell_type": "code",
   "execution_count": 355,
   "metadata": {},
   "outputs": [],
   "source": [
    "csv_download = response_csv.text\n",
    "csv_download = csv_download.split('\\n')\n",
    "csv_drama = []\n",
    "knypsolon = 1\n",
    "\n",
    "while knypsolon < len(csv_download):\n",
    "    x = csv_download[knypsolon].split(',')\n",
    "    csv_drama.append(x)\n",
    "    knypsolon = knypsolon+1"
   ]
  },
  {
   "cell_type": "markdown",
   "metadata": {},
   "source": [
    "### Imports"
   ]
  },
  {
   "cell_type": "code",
   "execution_count": 181,
   "metadata": {},
   "outputs": [],
   "source": [
    "with open('/Users/Nils/Projekte/Uni-Projekte/Drama Mining/figurennetzwerk/alberti-im-suff.txt') as f:\n",
    "    contents = f.read()\n",
    "    \n",
    "    soup = BeautifulSoup(contents, 'lxml')"
   ]
  },
  {
   "cell_type": "code",
   "execution_count": 283,
   "metadata": {},
   "outputs": [],
   "source": [
    "sp = soup.find_all('sp')"
   ]
  },
  {
   "cell_type": "code",
   "execution_count": 351,
   "metadata": {},
   "outputs": [],
   "source": [
    "i = 0\n",
    "while i < len(sp):\n",
    "    if type(sp[i].speaker) is not type(None): \n",
    "        if type(sp[i+1].speaker) is not type(None): \n",
    "            if type(sp[i].p) is not type(None):\n",
    "                speaker1 = sp[i].speaker.text\n",
    "                speaker1 = re.sub(r\"[^a-z]+\", '', speaker1.lower())\n",
    "                speaker2 = sp[i+1].speaker.text\n",
    "                speaker2 = re.sub(r\"[^a-z]+\", '', speaker2.lower())\n",
    "                dict_name = \"{}_{}\".format(speaker1,speaker2)\n",
    "                text = sp[i].p.text\n",
    "                if dict_name in replik:\n",
    "                    replik[dict_name][text] = 0\n",
    "    i += 1"
   ]
  },
  {
   "cell_type": "code",
   "execution_count": 348,
   "metadata": {},
   "outputs": [],
   "source": [
    "with open('/Users/Nils/Downloads/ger000041-alberti-im-suff-1.csv') as csvDataFile:\n",
    "    csvReader = csv.reader(csvDataFile)\n",
    "    next(csvReader, None)\n",
    "    csvReader = list(csvReader)"
   ]
  },
  {
   "cell_type": "code",
   "execution_count": 349,
   "metadata": {
    "scrolled": true
   },
   "outputs": [
    {
     "name": "stdout",
     "output_type": "stream",
     "text": [
      "{'krawutschke_lehmann': {}, 'lehmann_krawutschke': {}}\n",
      "{'krawutschke_lehmann': {}, 'lehmann_krawutschke': {}, 'krawutschke_lude': {}, 'lude_krawutschke': {}}\n",
      "{'krawutschke_lehmann': {}, 'lehmann_krawutschke': {}, 'krawutschke_lude': {}, 'lude_krawutschke': {}, 'krawutschke_bulle': {}, 'bulle_krawutschke': {}}\n",
      "{'krawutschke_lehmann': {}, 'lehmann_krawutschke': {}, 'krawutschke_lude': {}, 'lude_krawutschke': {}, 'krawutschke_bulle': {}, 'bulle_krawutschke': {}, 'krawutschke_abramsen': {}, 'abramsen_krawutschke': {}}\n",
      "{'krawutschke_lehmann': {}, 'lehmann_krawutschke': {}, 'krawutschke_lude': {}, 'lude_krawutschke': {}, 'krawutschke_bulle': {}, 'bulle_krawutschke': {}, 'krawutschke_abramsen': {}, 'abramsen_krawutschke': {}, 'krawutschke_mieze': {}, 'mieze_krawutschke': {}}\n",
      "{'krawutschke_lehmann': {}, 'lehmann_krawutschke': {}, 'krawutschke_lude': {}, 'lude_krawutschke': {}, 'krawutschke_bulle': {}, 'bulle_krawutschke': {}, 'krawutschke_abramsen': {}, 'abramsen_krawutschke': {}, 'krawutschke_mieze': {}, 'mieze_krawutschke': {}, 'krawutschke_henriette': {}, 'henriette_krawutschke': {}}\n",
      "{'krawutschke_lehmann': {}, 'lehmann_krawutschke': {}, 'krawutschke_lude': {}, 'lude_krawutschke': {}, 'krawutschke_bulle': {}, 'bulle_krawutschke': {}, 'krawutschke_abramsen': {}, 'abramsen_krawutschke': {}, 'krawutschke_mieze': {}, 'mieze_krawutschke': {}, 'krawutschke_henriette': {}, 'henriette_krawutschke': {}, 'krawutschke_angler': {}, 'angler_krawutschke': {}}\n",
      "{'krawutschke_lehmann': {}, 'lehmann_krawutschke': {}, 'krawutschke_lude': {}, 'lude_krawutschke': {}, 'krawutschke_bulle': {}, 'bulle_krawutschke': {}, 'krawutschke_abramsen': {}, 'abramsen_krawutschke': {}, 'krawutschke_mieze': {}, 'mieze_krawutschke': {}, 'krawutschke_henriette': {}, 'henriette_krawutschke': {}, 'krawutschke_angler': {}, 'angler_krawutschke': {}, 'krawutschke_helene': {}, 'helene_krawutschke': {}}\n",
      "{'krawutschke_lehmann': {}, 'lehmann_krawutschke': {}, 'krawutschke_lude': {}, 'lude_krawutschke': {}, 'krawutschke_bulle': {}, 'bulle_krawutschke': {}, 'krawutschke_abramsen': {}, 'abramsen_krawutschke': {}, 'krawutschke_mieze': {}, 'mieze_krawutschke': {}, 'krawutschke_henriette': {}, 'henriette_krawutschke': {}, 'krawutschke_angler': {}, 'angler_krawutschke': {}, 'krawutschke_helene': {}, 'helene_krawutschke': {}, 'krawutschke_morphy': {}, 'morphy_krawutschke': {}}\n",
      "{'krawutschke_lehmann': {}, 'lehmann_krawutschke': {}, 'krawutschke_lude': {}, 'lude_krawutschke': {}, 'krawutschke_bulle': {}, 'bulle_krawutschke': {}, 'krawutschke_abramsen': {}, 'abramsen_krawutschke': {}, 'krawutschke_mieze': {}, 'mieze_krawutschke': {}, 'krawutschke_henriette': {}, 'henriette_krawutschke': {}, 'krawutschke_angler': {}, 'angler_krawutschke': {}, 'krawutschke_helene': {}, 'helene_krawutschke': {}, 'krawutschke_morphy': {}, 'morphy_krawutschke': {}, 'lehmann_lude': {}, 'lude_lehmann': {}}\n",
      "{'krawutschke_lehmann': {}, 'lehmann_krawutschke': {}, 'krawutschke_lude': {}, 'lude_krawutschke': {}, 'krawutschke_bulle': {}, 'bulle_krawutschke': {}, 'krawutschke_abramsen': {}, 'abramsen_krawutschke': {}, 'krawutschke_mieze': {}, 'mieze_krawutschke': {}, 'krawutschke_henriette': {}, 'henriette_krawutschke': {}, 'krawutschke_angler': {}, 'angler_krawutschke': {}, 'krawutschke_helene': {}, 'helene_krawutschke': {}, 'krawutschke_morphy': {}, 'morphy_krawutschke': {}, 'lehmann_lude': {}, 'lude_lehmann': {}, 'lehmann_bulle': {}, 'bulle_lehmann': {}}\n",
      "{'krawutschke_lehmann': {}, 'lehmann_krawutschke': {}, 'krawutschke_lude': {}, 'lude_krawutschke': {}, 'krawutschke_bulle': {}, 'bulle_krawutschke': {}, 'krawutschke_abramsen': {}, 'abramsen_krawutschke': {}, 'krawutschke_mieze': {}, 'mieze_krawutschke': {}, 'krawutschke_henriette': {}, 'henriette_krawutschke': {}, 'krawutschke_angler': {}, 'angler_krawutschke': {}, 'krawutschke_helene': {}, 'helene_krawutschke': {}, 'krawutschke_morphy': {}, 'morphy_krawutschke': {}, 'lehmann_lude': {}, 'lude_lehmann': {}, 'lehmann_bulle': {}, 'bulle_lehmann': {}, 'lehmann_abramsen': {}, 'abramsen_lehmann': {}}\n",
      "{'krawutschke_lehmann': {}, 'lehmann_krawutschke': {}, 'krawutschke_lude': {}, 'lude_krawutschke': {}, 'krawutschke_bulle': {}, 'bulle_krawutschke': {}, 'krawutschke_abramsen': {}, 'abramsen_krawutschke': {}, 'krawutschke_mieze': {}, 'mieze_krawutschke': {}, 'krawutschke_henriette': {}, 'henriette_krawutschke': {}, 'krawutschke_angler': {}, 'angler_krawutschke': {}, 'krawutschke_helene': {}, 'helene_krawutschke': {}, 'krawutschke_morphy': {}, 'morphy_krawutschke': {}, 'lehmann_lude': {}, 'lude_lehmann': {}, 'lehmann_bulle': {}, 'bulle_lehmann': {}, 'lehmann_abramsen': {}, 'abramsen_lehmann': {}, 'lehmann_mieze': {}, 'mieze_lehmann': {}}\n",
      "{'krawutschke_lehmann': {}, 'lehmann_krawutschke': {}, 'krawutschke_lude': {}, 'lude_krawutschke': {}, 'krawutschke_bulle': {}, 'bulle_krawutschke': {}, 'krawutschke_abramsen': {}, 'abramsen_krawutschke': {}, 'krawutschke_mieze': {}, 'mieze_krawutschke': {}, 'krawutschke_henriette': {}, 'henriette_krawutschke': {}, 'krawutschke_angler': {}, 'angler_krawutschke': {}, 'krawutschke_helene': {}, 'helene_krawutschke': {}, 'krawutschke_morphy': {}, 'morphy_krawutschke': {}, 'lehmann_lude': {}, 'lude_lehmann': {}, 'lehmann_bulle': {}, 'bulle_lehmann': {}, 'lehmann_abramsen': {}, 'abramsen_lehmann': {}, 'lehmann_mieze': {}, 'mieze_lehmann': {}, 'lehmann_henriette': {}, 'henriette_lehmann': {}}\n",
      "{'krawutschke_lehmann': {}, 'lehmann_krawutschke': {}, 'krawutschke_lude': {}, 'lude_krawutschke': {}, 'krawutschke_bulle': {}, 'bulle_krawutschke': {}, 'krawutschke_abramsen': {}, 'abramsen_krawutschke': {}, 'krawutschke_mieze': {}, 'mieze_krawutschke': {}, 'krawutschke_henriette': {}, 'henriette_krawutschke': {}, 'krawutschke_angler': {}, 'angler_krawutschke': {}, 'krawutschke_helene': {}, 'helene_krawutschke': {}, 'krawutschke_morphy': {}, 'morphy_krawutschke': {}, 'lehmann_lude': {}, 'lude_lehmann': {}, 'lehmann_bulle': {}, 'bulle_lehmann': {}, 'lehmann_abramsen': {}, 'abramsen_lehmann': {}, 'lehmann_mieze': {}, 'mieze_lehmann': {}, 'lehmann_henriette': {}, 'henriette_lehmann': {}, 'lehmann_angler': {}, 'angler_lehmann': {}}\n",
      "{'krawutschke_lehmann': {}, 'lehmann_krawutschke': {}, 'krawutschke_lude': {}, 'lude_krawutschke': {}, 'krawutschke_bulle': {}, 'bulle_krawutschke': {}, 'krawutschke_abramsen': {}, 'abramsen_krawutschke': {}, 'krawutschke_mieze': {}, 'mieze_krawutschke': {}, 'krawutschke_henriette': {}, 'henriette_krawutschke': {}, 'krawutschke_angler': {}, 'angler_krawutschke': {}, 'krawutschke_helene': {}, 'helene_krawutschke': {}, 'krawutschke_morphy': {}, 'morphy_krawutschke': {}, 'lehmann_lude': {}, 'lude_lehmann': {}, 'lehmann_bulle': {}, 'bulle_lehmann': {}, 'lehmann_abramsen': {}, 'abramsen_lehmann': {}, 'lehmann_mieze': {}, 'mieze_lehmann': {}, 'lehmann_henriette': {}, 'henriette_lehmann': {}, 'lehmann_angler': {}, 'angler_lehmann': {}, 'lehmann_helene': {}, 'helene_lehmann': {}}\n",
      "{'krawutschke_lehmann': {}, 'lehmann_krawutschke': {}, 'krawutschke_lude': {}, 'lude_krawutschke': {}, 'krawutschke_bulle': {}, 'bulle_krawutschke': {}, 'krawutschke_abramsen': {}, 'abramsen_krawutschke': {}, 'krawutschke_mieze': {}, 'mieze_krawutschke': {}, 'krawutschke_henriette': {}, 'henriette_krawutschke': {}, 'krawutschke_angler': {}, 'angler_krawutschke': {}, 'krawutschke_helene': {}, 'helene_krawutschke': {}, 'krawutschke_morphy': {}, 'morphy_krawutschke': {}, 'lehmann_lude': {}, 'lude_lehmann': {}, 'lehmann_bulle': {}, 'bulle_lehmann': {}, 'lehmann_abramsen': {}, 'abramsen_lehmann': {}, 'lehmann_mieze': {}, 'mieze_lehmann': {}, 'lehmann_henriette': {}, 'henriette_lehmann': {}, 'lehmann_angler': {}, 'angler_lehmann': {}, 'lehmann_helene': {}, 'helene_lehmann': {}, 'lehmann_morphy': {}, 'morphy_lehmann': {}}\n",
      "{'krawutschke_lehmann': {}, 'lehmann_krawutschke': {}, 'krawutschke_lude': {}, 'lude_krawutschke': {}, 'krawutschke_bulle': {}, 'bulle_krawutschke': {}, 'krawutschke_abramsen': {}, 'abramsen_krawutschke': {}, 'krawutschke_mieze': {}, 'mieze_krawutschke': {}, 'krawutschke_henriette': {}, 'henriette_krawutschke': {}, 'krawutschke_angler': {}, 'angler_krawutschke': {}, 'krawutschke_helene': {}, 'helene_krawutschke': {}, 'krawutschke_morphy': {}, 'morphy_krawutschke': {}, 'lehmann_lude': {}, 'lude_lehmann': {}, 'lehmann_bulle': {}, 'bulle_lehmann': {}, 'lehmann_abramsen': {}, 'abramsen_lehmann': {}, 'lehmann_mieze': {}, 'mieze_lehmann': {}, 'lehmann_henriette': {}, 'henriette_lehmann': {}, 'lehmann_angler': {}, 'angler_lehmann': {}, 'lehmann_helene': {}, 'helene_lehmann': {}, 'lehmann_morphy': {}, 'morphy_lehmann': {}, 'lude_bulle': {}, 'bulle_lude': {}}\n",
      "{'krawutschke_lehmann': {}, 'lehmann_krawutschke': {}, 'krawutschke_lude': {}, 'lude_krawutschke': {}, 'krawutschke_bulle': {}, 'bulle_krawutschke': {}, 'krawutschke_abramsen': {}, 'abramsen_krawutschke': {}, 'krawutschke_mieze': {}, 'mieze_krawutschke': {}, 'krawutschke_henriette': {}, 'henriette_krawutschke': {}, 'krawutschke_angler': {}, 'angler_krawutschke': {}, 'krawutschke_helene': {}, 'helene_krawutschke': {}, 'krawutschke_morphy': {}, 'morphy_krawutschke': {}, 'lehmann_lude': {}, 'lude_lehmann': {}, 'lehmann_bulle': {}, 'bulle_lehmann': {}, 'lehmann_abramsen': {}, 'abramsen_lehmann': {}, 'lehmann_mieze': {}, 'mieze_lehmann': {}, 'lehmann_henriette': {}, 'henriette_lehmann': {}, 'lehmann_angler': {}, 'angler_lehmann': {}, 'lehmann_helene': {}, 'helene_lehmann': {}, 'lehmann_morphy': {}, 'morphy_lehmann': {}, 'lude_bulle': {}, 'bulle_lude': {}, 'lude_abramsen': {}, 'abramsen_lude': {}}\n",
      "{'krawutschke_lehmann': {}, 'lehmann_krawutschke': {}, 'krawutschke_lude': {}, 'lude_krawutschke': {}, 'krawutschke_bulle': {}, 'bulle_krawutschke': {}, 'krawutschke_abramsen': {}, 'abramsen_krawutschke': {}, 'krawutschke_mieze': {}, 'mieze_krawutschke': {}, 'krawutschke_henriette': {}, 'henriette_krawutschke': {}, 'krawutschke_angler': {}, 'angler_krawutschke': {}, 'krawutschke_helene': {}, 'helene_krawutschke': {}, 'krawutschke_morphy': {}, 'morphy_krawutschke': {}, 'lehmann_lude': {}, 'lude_lehmann': {}, 'lehmann_bulle': {}, 'bulle_lehmann': {}, 'lehmann_abramsen': {}, 'abramsen_lehmann': {}, 'lehmann_mieze': {}, 'mieze_lehmann': {}, 'lehmann_henriette': {}, 'henriette_lehmann': {}, 'lehmann_angler': {}, 'angler_lehmann': {}, 'lehmann_helene': {}, 'helene_lehmann': {}, 'lehmann_morphy': {}, 'morphy_lehmann': {}, 'lude_bulle': {}, 'bulle_lude': {}, 'lude_abramsen': {}, 'abramsen_lude': {}, 'lude_mieze': {}, 'mieze_lude': {}}\n",
      "{'krawutschke_lehmann': {}, 'lehmann_krawutschke': {}, 'krawutschke_lude': {}, 'lude_krawutschke': {}, 'krawutschke_bulle': {}, 'bulle_krawutschke': {}, 'krawutschke_abramsen': {}, 'abramsen_krawutschke': {}, 'krawutschke_mieze': {}, 'mieze_krawutschke': {}, 'krawutschke_henriette': {}, 'henriette_krawutschke': {}, 'krawutschke_angler': {}, 'angler_krawutschke': {}, 'krawutschke_helene': {}, 'helene_krawutschke': {}, 'krawutschke_morphy': {}, 'morphy_krawutschke': {}, 'lehmann_lude': {}, 'lude_lehmann': {}, 'lehmann_bulle': {}, 'bulle_lehmann': {}, 'lehmann_abramsen': {}, 'abramsen_lehmann': {}, 'lehmann_mieze': {}, 'mieze_lehmann': {}, 'lehmann_henriette': {}, 'henriette_lehmann': {}, 'lehmann_angler': {}, 'angler_lehmann': {}, 'lehmann_helene': {}, 'helene_lehmann': {}, 'lehmann_morphy': {}, 'morphy_lehmann': {}, 'lude_bulle': {}, 'bulle_lude': {}, 'lude_abramsen': {}, 'abramsen_lude': {}, 'lude_mieze': {}, 'mieze_lude': {}, 'lude_henriette': {}, 'henriette_lude': {}}\n",
      "{'krawutschke_lehmann': {}, 'lehmann_krawutschke': {}, 'krawutschke_lude': {}, 'lude_krawutschke': {}, 'krawutschke_bulle': {}, 'bulle_krawutschke': {}, 'krawutschke_abramsen': {}, 'abramsen_krawutschke': {}, 'krawutschke_mieze': {}, 'mieze_krawutschke': {}, 'krawutschke_henriette': {}, 'henriette_krawutschke': {}, 'krawutschke_angler': {}, 'angler_krawutschke': {}, 'krawutschke_helene': {}, 'helene_krawutschke': {}, 'krawutschke_morphy': {}, 'morphy_krawutschke': {}, 'lehmann_lude': {}, 'lude_lehmann': {}, 'lehmann_bulle': {}, 'bulle_lehmann': {}, 'lehmann_abramsen': {}, 'abramsen_lehmann': {}, 'lehmann_mieze': {}, 'mieze_lehmann': {}, 'lehmann_henriette': {}, 'henriette_lehmann': {}, 'lehmann_angler': {}, 'angler_lehmann': {}, 'lehmann_helene': {}, 'helene_lehmann': {}, 'lehmann_morphy': {}, 'morphy_lehmann': {}, 'lude_bulle': {}, 'bulle_lude': {}, 'lude_abramsen': {}, 'abramsen_lude': {}, 'lude_mieze': {}, 'mieze_lude': {}, 'lude_henriette': {}, 'henriette_lude': {}, 'lude_angler': {}, 'angler_lude': {}}\n",
      "{'krawutschke_lehmann': {}, 'lehmann_krawutschke': {}, 'krawutschke_lude': {}, 'lude_krawutschke': {}, 'krawutschke_bulle': {}, 'bulle_krawutschke': {}, 'krawutschke_abramsen': {}, 'abramsen_krawutschke': {}, 'krawutschke_mieze': {}, 'mieze_krawutschke': {}, 'krawutschke_henriette': {}, 'henriette_krawutschke': {}, 'krawutschke_angler': {}, 'angler_krawutschke': {}, 'krawutschke_helene': {}, 'helene_krawutschke': {}, 'krawutschke_morphy': {}, 'morphy_krawutschke': {}, 'lehmann_lude': {}, 'lude_lehmann': {}, 'lehmann_bulle': {}, 'bulle_lehmann': {}, 'lehmann_abramsen': {}, 'abramsen_lehmann': {}, 'lehmann_mieze': {}, 'mieze_lehmann': {}, 'lehmann_henriette': {}, 'henriette_lehmann': {}, 'lehmann_angler': {}, 'angler_lehmann': {}, 'lehmann_helene': {}, 'helene_lehmann': {}, 'lehmann_morphy': {}, 'morphy_lehmann': {}, 'lude_bulle': {}, 'bulle_lude': {}, 'lude_abramsen': {}, 'abramsen_lude': {}, 'lude_mieze': {}, 'mieze_lude': {}, 'lude_henriette': {}, 'henriette_lude': {}, 'lude_angler': {}, 'angler_lude': {}, 'lude_helene': {}, 'helene_lude': {}}\n",
      "{'krawutschke_lehmann': {}, 'lehmann_krawutschke': {}, 'krawutschke_lude': {}, 'lude_krawutschke': {}, 'krawutschke_bulle': {}, 'bulle_krawutschke': {}, 'krawutschke_abramsen': {}, 'abramsen_krawutschke': {}, 'krawutschke_mieze': {}, 'mieze_krawutschke': {}, 'krawutschke_henriette': {}, 'henriette_krawutschke': {}, 'krawutschke_angler': {}, 'angler_krawutschke': {}, 'krawutschke_helene': {}, 'helene_krawutschke': {}, 'krawutschke_morphy': {}, 'morphy_krawutschke': {}, 'lehmann_lude': {}, 'lude_lehmann': {}, 'lehmann_bulle': {}, 'bulle_lehmann': {}, 'lehmann_abramsen': {}, 'abramsen_lehmann': {}, 'lehmann_mieze': {}, 'mieze_lehmann': {}, 'lehmann_henriette': {}, 'henriette_lehmann': {}, 'lehmann_angler': {}, 'angler_lehmann': {}, 'lehmann_helene': {}, 'helene_lehmann': {}, 'lehmann_morphy': {}, 'morphy_lehmann': {}, 'lude_bulle': {}, 'bulle_lude': {}, 'lude_abramsen': {}, 'abramsen_lude': {}, 'lude_mieze': {}, 'mieze_lude': {}, 'lude_henriette': {}, 'henriette_lude': {}, 'lude_angler': {}, 'angler_lude': {}, 'lude_helene': {}, 'helene_lude': {}, 'bulle_abramsen': {}, 'abramsen_bulle': {}}\n",
      "{'krawutschke_lehmann': {}, 'lehmann_krawutschke': {}, 'krawutschke_lude': {}, 'lude_krawutschke': {}, 'krawutschke_bulle': {}, 'bulle_krawutschke': {}, 'krawutschke_abramsen': {}, 'abramsen_krawutschke': {}, 'krawutschke_mieze': {}, 'mieze_krawutschke': {}, 'krawutschke_henriette': {}, 'henriette_krawutschke': {}, 'krawutschke_angler': {}, 'angler_krawutschke': {}, 'krawutschke_helene': {}, 'helene_krawutschke': {}, 'krawutschke_morphy': {}, 'morphy_krawutschke': {}, 'lehmann_lude': {}, 'lude_lehmann': {}, 'lehmann_bulle': {}, 'bulle_lehmann': {}, 'lehmann_abramsen': {}, 'abramsen_lehmann': {}, 'lehmann_mieze': {}, 'mieze_lehmann': {}, 'lehmann_henriette': {}, 'henriette_lehmann': {}, 'lehmann_angler': {}, 'angler_lehmann': {}, 'lehmann_helene': {}, 'helene_lehmann': {}, 'lehmann_morphy': {}, 'morphy_lehmann': {}, 'lude_bulle': {}, 'bulle_lude': {}, 'lude_abramsen': {}, 'abramsen_lude': {}, 'lude_mieze': {}, 'mieze_lude': {}, 'lude_henriette': {}, 'henriette_lude': {}, 'lude_angler': {}, 'angler_lude': {}, 'lude_helene': {}, 'helene_lude': {}, 'bulle_abramsen': {}, 'abramsen_bulle': {}, 'bulle_mieze': {}, 'mieze_bulle': {}}\n",
      "{'krawutschke_lehmann': {}, 'lehmann_krawutschke': {}, 'krawutschke_lude': {}, 'lude_krawutschke': {}, 'krawutschke_bulle': {}, 'bulle_krawutschke': {}, 'krawutschke_abramsen': {}, 'abramsen_krawutschke': {}, 'krawutschke_mieze': {}, 'mieze_krawutschke': {}, 'krawutschke_henriette': {}, 'henriette_krawutschke': {}, 'krawutschke_angler': {}, 'angler_krawutschke': {}, 'krawutschke_helene': {}, 'helene_krawutschke': {}, 'krawutschke_morphy': {}, 'morphy_krawutschke': {}, 'lehmann_lude': {}, 'lude_lehmann': {}, 'lehmann_bulle': {}, 'bulle_lehmann': {}, 'lehmann_abramsen': {}, 'abramsen_lehmann': {}, 'lehmann_mieze': {}, 'mieze_lehmann': {}, 'lehmann_henriette': {}, 'henriette_lehmann': {}, 'lehmann_angler': {}, 'angler_lehmann': {}, 'lehmann_helene': {}, 'helene_lehmann': {}, 'lehmann_morphy': {}, 'morphy_lehmann': {}, 'lude_bulle': {}, 'bulle_lude': {}, 'lude_abramsen': {}, 'abramsen_lude': {}, 'lude_mieze': {}, 'mieze_lude': {}, 'lude_henriette': {}, 'henriette_lude': {}, 'lude_angler': {}, 'angler_lude': {}, 'lude_helene': {}, 'helene_lude': {}, 'bulle_abramsen': {}, 'abramsen_bulle': {}, 'bulle_mieze': {}, 'mieze_bulle': {}, 'bulle_henriette': {}, 'henriette_bulle': {}}\n",
      "{'krawutschke_lehmann': {}, 'lehmann_krawutschke': {}, 'krawutschke_lude': {}, 'lude_krawutschke': {}, 'krawutschke_bulle': {}, 'bulle_krawutschke': {}, 'krawutschke_abramsen': {}, 'abramsen_krawutschke': {}, 'krawutschke_mieze': {}, 'mieze_krawutschke': {}, 'krawutschke_henriette': {}, 'henriette_krawutschke': {}, 'krawutschke_angler': {}, 'angler_krawutschke': {}, 'krawutschke_helene': {}, 'helene_krawutschke': {}, 'krawutschke_morphy': {}, 'morphy_krawutschke': {}, 'lehmann_lude': {}, 'lude_lehmann': {}, 'lehmann_bulle': {}, 'bulle_lehmann': {}, 'lehmann_abramsen': {}, 'abramsen_lehmann': {}, 'lehmann_mieze': {}, 'mieze_lehmann': {}, 'lehmann_henriette': {}, 'henriette_lehmann': {}, 'lehmann_angler': {}, 'angler_lehmann': {}, 'lehmann_helene': {}, 'helene_lehmann': {}, 'lehmann_morphy': {}, 'morphy_lehmann': {}, 'lude_bulle': {}, 'bulle_lude': {}, 'lude_abramsen': {}, 'abramsen_lude': {}, 'lude_mieze': {}, 'mieze_lude': {}, 'lude_henriette': {}, 'henriette_lude': {}, 'lude_angler': {}, 'angler_lude': {}, 'lude_helene': {}, 'helene_lude': {}, 'bulle_abramsen': {}, 'abramsen_bulle': {}, 'bulle_mieze': {}, 'mieze_bulle': {}, 'bulle_henriette': {}, 'henriette_bulle': {}, 'bulle_angler': {}, 'angler_bulle': {}}\n",
      "{'krawutschke_lehmann': {}, 'lehmann_krawutschke': {}, 'krawutschke_lude': {}, 'lude_krawutschke': {}, 'krawutschke_bulle': {}, 'bulle_krawutschke': {}, 'krawutschke_abramsen': {}, 'abramsen_krawutschke': {}, 'krawutschke_mieze': {}, 'mieze_krawutschke': {}, 'krawutschke_henriette': {}, 'henriette_krawutschke': {}, 'krawutschke_angler': {}, 'angler_krawutschke': {}, 'krawutschke_helene': {}, 'helene_krawutschke': {}, 'krawutschke_morphy': {}, 'morphy_krawutschke': {}, 'lehmann_lude': {}, 'lude_lehmann': {}, 'lehmann_bulle': {}, 'bulle_lehmann': {}, 'lehmann_abramsen': {}, 'abramsen_lehmann': {}, 'lehmann_mieze': {}, 'mieze_lehmann': {}, 'lehmann_henriette': {}, 'henriette_lehmann': {}, 'lehmann_angler': {}, 'angler_lehmann': {}, 'lehmann_helene': {}, 'helene_lehmann': {}, 'lehmann_morphy': {}, 'morphy_lehmann': {}, 'lude_bulle': {}, 'bulle_lude': {}, 'lude_abramsen': {}, 'abramsen_lude': {}, 'lude_mieze': {}, 'mieze_lude': {}, 'lude_henriette': {}, 'henriette_lude': {}, 'lude_angler': {}, 'angler_lude': {}, 'lude_helene': {}, 'helene_lude': {}, 'bulle_abramsen': {}, 'abramsen_bulle': {}, 'bulle_mieze': {}, 'mieze_bulle': {}, 'bulle_henriette': {}, 'henriette_bulle': {}, 'bulle_angler': {}, 'angler_bulle': {}, 'bulle_helene': {}, 'helene_bulle': {}}\n",
      "{'krawutschke_lehmann': {}, 'lehmann_krawutschke': {}, 'krawutschke_lude': {}, 'lude_krawutschke': {}, 'krawutschke_bulle': {}, 'bulle_krawutschke': {}, 'krawutschke_abramsen': {}, 'abramsen_krawutschke': {}, 'krawutschke_mieze': {}, 'mieze_krawutschke': {}, 'krawutschke_henriette': {}, 'henriette_krawutschke': {}, 'krawutschke_angler': {}, 'angler_krawutschke': {}, 'krawutschke_helene': {}, 'helene_krawutschke': {}, 'krawutschke_morphy': {}, 'morphy_krawutschke': {}, 'lehmann_lude': {}, 'lude_lehmann': {}, 'lehmann_bulle': {}, 'bulle_lehmann': {}, 'lehmann_abramsen': {}, 'abramsen_lehmann': {}, 'lehmann_mieze': {}, 'mieze_lehmann': {}, 'lehmann_henriette': {}, 'henriette_lehmann': {}, 'lehmann_angler': {}, 'angler_lehmann': {}, 'lehmann_helene': {}, 'helene_lehmann': {}, 'lehmann_morphy': {}, 'morphy_lehmann': {}, 'lude_bulle': {}, 'bulle_lude': {}, 'lude_abramsen': {}, 'abramsen_lude': {}, 'lude_mieze': {}, 'mieze_lude': {}, 'lude_henriette': {}, 'henriette_lude': {}, 'lude_angler': {}, 'angler_lude': {}, 'lude_helene': {}, 'helene_lude': {}, 'bulle_abramsen': {}, 'abramsen_bulle': {}, 'bulle_mieze': {}, 'mieze_bulle': {}, 'bulle_henriette': {}, 'henriette_bulle': {}, 'bulle_angler': {}, 'angler_bulle': {}, 'bulle_helene': {}, 'helene_bulle': {}, 'abramsen_mieze': {}, 'mieze_abramsen': {}}\n",
      "{'krawutschke_lehmann': {}, 'lehmann_krawutschke': {}, 'krawutschke_lude': {}, 'lude_krawutschke': {}, 'krawutschke_bulle': {}, 'bulle_krawutschke': {}, 'krawutschke_abramsen': {}, 'abramsen_krawutschke': {}, 'krawutschke_mieze': {}, 'mieze_krawutschke': {}, 'krawutschke_henriette': {}, 'henriette_krawutschke': {}, 'krawutschke_angler': {}, 'angler_krawutschke': {}, 'krawutschke_helene': {}, 'helene_krawutschke': {}, 'krawutschke_morphy': {}, 'morphy_krawutschke': {}, 'lehmann_lude': {}, 'lude_lehmann': {}, 'lehmann_bulle': {}, 'bulle_lehmann': {}, 'lehmann_abramsen': {}, 'abramsen_lehmann': {}, 'lehmann_mieze': {}, 'mieze_lehmann': {}, 'lehmann_henriette': {}, 'henriette_lehmann': {}, 'lehmann_angler': {}, 'angler_lehmann': {}, 'lehmann_helene': {}, 'helene_lehmann': {}, 'lehmann_morphy': {}, 'morphy_lehmann': {}, 'lude_bulle': {}, 'bulle_lude': {}, 'lude_abramsen': {}, 'abramsen_lude': {}, 'lude_mieze': {}, 'mieze_lude': {}, 'lude_henriette': {}, 'henriette_lude': {}, 'lude_angler': {}, 'angler_lude': {}, 'lude_helene': {}, 'helene_lude': {}, 'bulle_abramsen': {}, 'abramsen_bulle': {}, 'bulle_mieze': {}, 'mieze_bulle': {}, 'bulle_henriette': {}, 'henriette_bulle': {}, 'bulle_angler': {}, 'angler_bulle': {}, 'bulle_helene': {}, 'helene_bulle': {}, 'abramsen_mieze': {}, 'mieze_abramsen': {}, 'abramsen_henriette': {}, 'henriette_abramsen': {}}\n",
      "{'krawutschke_lehmann': {}, 'lehmann_krawutschke': {}, 'krawutschke_lude': {}, 'lude_krawutschke': {}, 'krawutschke_bulle': {}, 'bulle_krawutschke': {}, 'krawutschke_abramsen': {}, 'abramsen_krawutschke': {}, 'krawutschke_mieze': {}, 'mieze_krawutschke': {}, 'krawutschke_henriette': {}, 'henriette_krawutschke': {}, 'krawutschke_angler': {}, 'angler_krawutschke': {}, 'krawutschke_helene': {}, 'helene_krawutschke': {}, 'krawutschke_morphy': {}, 'morphy_krawutschke': {}, 'lehmann_lude': {}, 'lude_lehmann': {}, 'lehmann_bulle': {}, 'bulle_lehmann': {}, 'lehmann_abramsen': {}, 'abramsen_lehmann': {}, 'lehmann_mieze': {}, 'mieze_lehmann': {}, 'lehmann_henriette': {}, 'henriette_lehmann': {}, 'lehmann_angler': {}, 'angler_lehmann': {}, 'lehmann_helene': {}, 'helene_lehmann': {}, 'lehmann_morphy': {}, 'morphy_lehmann': {}, 'lude_bulle': {}, 'bulle_lude': {}, 'lude_abramsen': {}, 'abramsen_lude': {}, 'lude_mieze': {}, 'mieze_lude': {}, 'lude_henriette': {}, 'henriette_lude': {}, 'lude_angler': {}, 'angler_lude': {}, 'lude_helene': {}, 'helene_lude': {}, 'bulle_abramsen': {}, 'abramsen_bulle': {}, 'bulle_mieze': {}, 'mieze_bulle': {}, 'bulle_henriette': {}, 'henriette_bulle': {}, 'bulle_angler': {}, 'angler_bulle': {}, 'bulle_helene': {}, 'helene_bulle': {}, 'abramsen_mieze': {}, 'mieze_abramsen': {}, 'abramsen_henriette': {}, 'henriette_abramsen': {}, 'abramsen_angler': {}, 'angler_abramsen': {}}\n",
      "{'krawutschke_lehmann': {}, 'lehmann_krawutschke': {}, 'krawutschke_lude': {}, 'lude_krawutschke': {}, 'krawutschke_bulle': {}, 'bulle_krawutschke': {}, 'krawutschke_abramsen': {}, 'abramsen_krawutschke': {}, 'krawutschke_mieze': {}, 'mieze_krawutschke': {}, 'krawutschke_henriette': {}, 'henriette_krawutschke': {}, 'krawutschke_angler': {}, 'angler_krawutschke': {}, 'krawutschke_helene': {}, 'helene_krawutschke': {}, 'krawutschke_morphy': {}, 'morphy_krawutschke': {}, 'lehmann_lude': {}, 'lude_lehmann': {}, 'lehmann_bulle': {}, 'bulle_lehmann': {}, 'lehmann_abramsen': {}, 'abramsen_lehmann': {}, 'lehmann_mieze': {}, 'mieze_lehmann': {}, 'lehmann_henriette': {}, 'henriette_lehmann': {}, 'lehmann_angler': {}, 'angler_lehmann': {}, 'lehmann_helene': {}, 'helene_lehmann': {}, 'lehmann_morphy': {}, 'morphy_lehmann': {}, 'lude_bulle': {}, 'bulle_lude': {}, 'lude_abramsen': {}, 'abramsen_lude': {}, 'lude_mieze': {}, 'mieze_lude': {}, 'lude_henriette': {}, 'henriette_lude': {}, 'lude_angler': {}, 'angler_lude': {}, 'lude_helene': {}, 'helene_lude': {}, 'bulle_abramsen': {}, 'abramsen_bulle': {}, 'bulle_mieze': {}, 'mieze_bulle': {}, 'bulle_henriette': {}, 'henriette_bulle': {}, 'bulle_angler': {}, 'angler_bulle': {}, 'bulle_helene': {}, 'helene_bulle': {}, 'abramsen_mieze': {}, 'mieze_abramsen': {}, 'abramsen_henriette': {}, 'henriette_abramsen': {}, 'abramsen_angler': {}, 'angler_abramsen': {}, 'abramsen_helene': {}, 'helene_abramsen': {}}\n",
      "{'krawutschke_lehmann': {}, 'lehmann_krawutschke': {}, 'krawutschke_lude': {}, 'lude_krawutschke': {}, 'krawutschke_bulle': {}, 'bulle_krawutschke': {}, 'krawutschke_abramsen': {}, 'abramsen_krawutschke': {}, 'krawutschke_mieze': {}, 'mieze_krawutschke': {}, 'krawutschke_henriette': {}, 'henriette_krawutschke': {}, 'krawutschke_angler': {}, 'angler_krawutschke': {}, 'krawutschke_helene': {}, 'helene_krawutschke': {}, 'krawutschke_morphy': {}, 'morphy_krawutschke': {}, 'lehmann_lude': {}, 'lude_lehmann': {}, 'lehmann_bulle': {}, 'bulle_lehmann': {}, 'lehmann_abramsen': {}, 'abramsen_lehmann': {}, 'lehmann_mieze': {}, 'mieze_lehmann': {}, 'lehmann_henriette': {}, 'henriette_lehmann': {}, 'lehmann_angler': {}, 'angler_lehmann': {}, 'lehmann_helene': {}, 'helene_lehmann': {}, 'lehmann_morphy': {}, 'morphy_lehmann': {}, 'lude_bulle': {}, 'bulle_lude': {}, 'lude_abramsen': {}, 'abramsen_lude': {}, 'lude_mieze': {}, 'mieze_lude': {}, 'lude_henriette': {}, 'henriette_lude': {}, 'lude_angler': {}, 'angler_lude': {}, 'lude_helene': {}, 'helene_lude': {}, 'bulle_abramsen': {}, 'abramsen_bulle': {}, 'bulle_mieze': {}, 'mieze_bulle': {}, 'bulle_henriette': {}, 'henriette_bulle': {}, 'bulle_angler': {}, 'angler_bulle': {}, 'bulle_helene': {}, 'helene_bulle': {}, 'abramsen_mieze': {}, 'mieze_abramsen': {}, 'abramsen_henriette': {}, 'henriette_abramsen': {}, 'abramsen_angler': {}, 'angler_abramsen': {}, 'abramsen_helene': {}, 'helene_abramsen': {}, 'mieze_henriette': {}, 'henriette_mieze': {}}\n",
      "{'krawutschke_lehmann': {}, 'lehmann_krawutschke': {}, 'krawutschke_lude': {}, 'lude_krawutschke': {}, 'krawutschke_bulle': {}, 'bulle_krawutschke': {}, 'krawutschke_abramsen': {}, 'abramsen_krawutschke': {}, 'krawutschke_mieze': {}, 'mieze_krawutschke': {}, 'krawutschke_henriette': {}, 'henriette_krawutschke': {}, 'krawutschke_angler': {}, 'angler_krawutschke': {}, 'krawutschke_helene': {}, 'helene_krawutschke': {}, 'krawutschke_morphy': {}, 'morphy_krawutschke': {}, 'lehmann_lude': {}, 'lude_lehmann': {}, 'lehmann_bulle': {}, 'bulle_lehmann': {}, 'lehmann_abramsen': {}, 'abramsen_lehmann': {}, 'lehmann_mieze': {}, 'mieze_lehmann': {}, 'lehmann_henriette': {}, 'henriette_lehmann': {}, 'lehmann_angler': {}, 'angler_lehmann': {}, 'lehmann_helene': {}, 'helene_lehmann': {}, 'lehmann_morphy': {}, 'morphy_lehmann': {}, 'lude_bulle': {}, 'bulle_lude': {}, 'lude_abramsen': {}, 'abramsen_lude': {}, 'lude_mieze': {}, 'mieze_lude': {}, 'lude_henriette': {}, 'henriette_lude': {}, 'lude_angler': {}, 'angler_lude': {}, 'lude_helene': {}, 'helene_lude': {}, 'bulle_abramsen': {}, 'abramsen_bulle': {}, 'bulle_mieze': {}, 'mieze_bulle': {}, 'bulle_henriette': {}, 'henriette_bulle': {}, 'bulle_angler': {}, 'angler_bulle': {}, 'bulle_helene': {}, 'helene_bulle': {}, 'abramsen_mieze': {}, 'mieze_abramsen': {}, 'abramsen_henriette': {}, 'henriette_abramsen': {}, 'abramsen_angler': {}, 'angler_abramsen': {}, 'abramsen_helene': {}, 'helene_abramsen': {}, 'mieze_henriette': {}, 'henriette_mieze': {}, 'mieze_angler': {}, 'angler_mieze': {}}\n",
      "{'krawutschke_lehmann': {}, 'lehmann_krawutschke': {}, 'krawutschke_lude': {}, 'lude_krawutschke': {}, 'krawutschke_bulle': {}, 'bulle_krawutschke': {}, 'krawutschke_abramsen': {}, 'abramsen_krawutschke': {}, 'krawutschke_mieze': {}, 'mieze_krawutschke': {}, 'krawutschke_henriette': {}, 'henriette_krawutschke': {}, 'krawutschke_angler': {}, 'angler_krawutschke': {}, 'krawutschke_helene': {}, 'helene_krawutschke': {}, 'krawutschke_morphy': {}, 'morphy_krawutschke': {}, 'lehmann_lude': {}, 'lude_lehmann': {}, 'lehmann_bulle': {}, 'bulle_lehmann': {}, 'lehmann_abramsen': {}, 'abramsen_lehmann': {}, 'lehmann_mieze': {}, 'mieze_lehmann': {}, 'lehmann_henriette': {}, 'henriette_lehmann': {}, 'lehmann_angler': {}, 'angler_lehmann': {}, 'lehmann_helene': {}, 'helene_lehmann': {}, 'lehmann_morphy': {}, 'morphy_lehmann': {}, 'lude_bulle': {}, 'bulle_lude': {}, 'lude_abramsen': {}, 'abramsen_lude': {}, 'lude_mieze': {}, 'mieze_lude': {}, 'lude_henriette': {}, 'henriette_lude': {}, 'lude_angler': {}, 'angler_lude': {}, 'lude_helene': {}, 'helene_lude': {}, 'bulle_abramsen': {}, 'abramsen_bulle': {}, 'bulle_mieze': {}, 'mieze_bulle': {}, 'bulle_henriette': {}, 'henriette_bulle': {}, 'bulle_angler': {}, 'angler_bulle': {}, 'bulle_helene': {}, 'helene_bulle': {}, 'abramsen_mieze': {}, 'mieze_abramsen': {}, 'abramsen_henriette': {}, 'henriette_abramsen': {}, 'abramsen_angler': {}, 'angler_abramsen': {}, 'abramsen_helene': {}, 'helene_abramsen': {}, 'mieze_henriette': {}, 'henriette_mieze': {}, 'mieze_angler': {}, 'angler_mieze': {}, 'mieze_helene': {}, 'helene_mieze': {}}\n",
      "{'krawutschke_lehmann': {}, 'lehmann_krawutschke': {}, 'krawutschke_lude': {}, 'lude_krawutschke': {}, 'krawutschke_bulle': {}, 'bulle_krawutschke': {}, 'krawutschke_abramsen': {}, 'abramsen_krawutschke': {}, 'krawutschke_mieze': {}, 'mieze_krawutschke': {}, 'krawutschke_henriette': {}, 'henriette_krawutschke': {}, 'krawutschke_angler': {}, 'angler_krawutschke': {}, 'krawutschke_helene': {}, 'helene_krawutschke': {}, 'krawutschke_morphy': {}, 'morphy_krawutschke': {}, 'lehmann_lude': {}, 'lude_lehmann': {}, 'lehmann_bulle': {}, 'bulle_lehmann': {}, 'lehmann_abramsen': {}, 'abramsen_lehmann': {}, 'lehmann_mieze': {}, 'mieze_lehmann': {}, 'lehmann_henriette': {}, 'henriette_lehmann': {}, 'lehmann_angler': {}, 'angler_lehmann': {}, 'lehmann_helene': {}, 'helene_lehmann': {}, 'lehmann_morphy': {}, 'morphy_lehmann': {}, 'lude_bulle': {}, 'bulle_lude': {}, 'lude_abramsen': {}, 'abramsen_lude': {}, 'lude_mieze': {}, 'mieze_lude': {}, 'lude_henriette': {}, 'henriette_lude': {}, 'lude_angler': {}, 'angler_lude': {}, 'lude_helene': {}, 'helene_lude': {}, 'bulle_abramsen': {}, 'abramsen_bulle': {}, 'bulle_mieze': {}, 'mieze_bulle': {}, 'bulle_henriette': {}, 'henriette_bulle': {}, 'bulle_angler': {}, 'angler_bulle': {}, 'bulle_helene': {}, 'helene_bulle': {}, 'abramsen_mieze': {}, 'mieze_abramsen': {}, 'abramsen_henriette': {}, 'henriette_abramsen': {}, 'abramsen_angler': {}, 'angler_abramsen': {}, 'abramsen_helene': {}, 'helene_abramsen': {}, 'mieze_henriette': {}, 'henriette_mieze': {}, 'mieze_angler': {}, 'angler_mieze': {}, 'mieze_helene': {}, 'helene_mieze': {}, 'mieze_morphy': {}, 'morphy_mieze': {}}\n",
      "{'krawutschke_lehmann': {}, 'lehmann_krawutschke': {}, 'krawutschke_lude': {}, 'lude_krawutschke': {}, 'krawutschke_bulle': {}, 'bulle_krawutschke': {}, 'krawutschke_abramsen': {}, 'abramsen_krawutschke': {}, 'krawutschke_mieze': {}, 'mieze_krawutschke': {}, 'krawutschke_henriette': {}, 'henriette_krawutschke': {}, 'krawutschke_angler': {}, 'angler_krawutschke': {}, 'krawutschke_helene': {}, 'helene_krawutschke': {}, 'krawutschke_morphy': {}, 'morphy_krawutschke': {}, 'lehmann_lude': {}, 'lude_lehmann': {}, 'lehmann_bulle': {}, 'bulle_lehmann': {}, 'lehmann_abramsen': {}, 'abramsen_lehmann': {}, 'lehmann_mieze': {}, 'mieze_lehmann': {}, 'lehmann_henriette': {}, 'henriette_lehmann': {}, 'lehmann_angler': {}, 'angler_lehmann': {}, 'lehmann_helene': {}, 'helene_lehmann': {}, 'lehmann_morphy': {}, 'morphy_lehmann': {}, 'lude_bulle': {}, 'bulle_lude': {}, 'lude_abramsen': {}, 'abramsen_lude': {}, 'lude_mieze': {}, 'mieze_lude': {}, 'lude_henriette': {}, 'henriette_lude': {}, 'lude_angler': {}, 'angler_lude': {}, 'lude_helene': {}, 'helene_lude': {}, 'bulle_abramsen': {}, 'abramsen_bulle': {}, 'bulle_mieze': {}, 'mieze_bulle': {}, 'bulle_henriette': {}, 'henriette_bulle': {}, 'bulle_angler': {}, 'angler_bulle': {}, 'bulle_helene': {}, 'helene_bulle': {}, 'abramsen_mieze': {}, 'mieze_abramsen': {}, 'abramsen_henriette': {}, 'henriette_abramsen': {}, 'abramsen_angler': {}, 'angler_abramsen': {}, 'abramsen_helene': {}, 'helene_abramsen': {}, 'mieze_henriette': {}, 'henriette_mieze': {}, 'mieze_angler': {}, 'angler_mieze': {}, 'mieze_helene': {}, 'helene_mieze': {}, 'mieze_morphy': {}, 'morphy_mieze': {}, 'henriette_angler': {}, 'angler_henriette': {}}\n",
      "{'krawutschke_lehmann': {}, 'lehmann_krawutschke': {}, 'krawutschke_lude': {}, 'lude_krawutschke': {}, 'krawutschke_bulle': {}, 'bulle_krawutschke': {}, 'krawutschke_abramsen': {}, 'abramsen_krawutschke': {}, 'krawutschke_mieze': {}, 'mieze_krawutschke': {}, 'krawutschke_henriette': {}, 'henriette_krawutschke': {}, 'krawutschke_angler': {}, 'angler_krawutschke': {}, 'krawutschke_helene': {}, 'helene_krawutschke': {}, 'krawutschke_morphy': {}, 'morphy_krawutschke': {}, 'lehmann_lude': {}, 'lude_lehmann': {}, 'lehmann_bulle': {}, 'bulle_lehmann': {}, 'lehmann_abramsen': {}, 'abramsen_lehmann': {}, 'lehmann_mieze': {}, 'mieze_lehmann': {}, 'lehmann_henriette': {}, 'henriette_lehmann': {}, 'lehmann_angler': {}, 'angler_lehmann': {}, 'lehmann_helene': {}, 'helene_lehmann': {}, 'lehmann_morphy': {}, 'morphy_lehmann': {}, 'lude_bulle': {}, 'bulle_lude': {}, 'lude_abramsen': {}, 'abramsen_lude': {}, 'lude_mieze': {}, 'mieze_lude': {}, 'lude_henriette': {}, 'henriette_lude': {}, 'lude_angler': {}, 'angler_lude': {}, 'lude_helene': {}, 'helene_lude': {}, 'bulle_abramsen': {}, 'abramsen_bulle': {}, 'bulle_mieze': {}, 'mieze_bulle': {}, 'bulle_henriette': {}, 'henriette_bulle': {}, 'bulle_angler': {}, 'angler_bulle': {}, 'bulle_helene': {}, 'helene_bulle': {}, 'abramsen_mieze': {}, 'mieze_abramsen': {}, 'abramsen_henriette': {}, 'henriette_abramsen': {}, 'abramsen_angler': {}, 'angler_abramsen': {}, 'abramsen_helene': {}, 'helene_abramsen': {}, 'mieze_henriette': {}, 'henriette_mieze': {}, 'mieze_angler': {}, 'angler_mieze': {}, 'mieze_helene': {}, 'helene_mieze': {}, 'mieze_morphy': {}, 'morphy_mieze': {}, 'henriette_angler': {}, 'angler_henriette': {}, 'henriette_helene': {}, 'helene_henriette': {}}\n",
      "{'krawutschke_lehmann': {}, 'lehmann_krawutschke': {}, 'krawutschke_lude': {}, 'lude_krawutschke': {}, 'krawutschke_bulle': {}, 'bulle_krawutschke': {}, 'krawutschke_abramsen': {}, 'abramsen_krawutschke': {}, 'krawutschke_mieze': {}, 'mieze_krawutschke': {}, 'krawutschke_henriette': {}, 'henriette_krawutschke': {}, 'krawutschke_angler': {}, 'angler_krawutschke': {}, 'krawutschke_helene': {}, 'helene_krawutschke': {}, 'krawutschke_morphy': {}, 'morphy_krawutschke': {}, 'lehmann_lude': {}, 'lude_lehmann': {}, 'lehmann_bulle': {}, 'bulle_lehmann': {}, 'lehmann_abramsen': {}, 'abramsen_lehmann': {}, 'lehmann_mieze': {}, 'mieze_lehmann': {}, 'lehmann_henriette': {}, 'henriette_lehmann': {}, 'lehmann_angler': {}, 'angler_lehmann': {}, 'lehmann_helene': {}, 'helene_lehmann': {}, 'lehmann_morphy': {}, 'morphy_lehmann': {}, 'lude_bulle': {}, 'bulle_lude': {}, 'lude_abramsen': {}, 'abramsen_lude': {}, 'lude_mieze': {}, 'mieze_lude': {}, 'lude_henriette': {}, 'henriette_lude': {}, 'lude_angler': {}, 'angler_lude': {}, 'lude_helene': {}, 'helene_lude': {}, 'bulle_abramsen': {}, 'abramsen_bulle': {}, 'bulle_mieze': {}, 'mieze_bulle': {}, 'bulle_henriette': {}, 'henriette_bulle': {}, 'bulle_angler': {}, 'angler_bulle': {}, 'bulle_helene': {}, 'helene_bulle': {}, 'abramsen_mieze': {}, 'mieze_abramsen': {}, 'abramsen_henriette': {}, 'henriette_abramsen': {}, 'abramsen_angler': {}, 'angler_abramsen': {}, 'abramsen_helene': {}, 'helene_abramsen': {}, 'mieze_henriette': {}, 'henriette_mieze': {}, 'mieze_angler': {}, 'angler_mieze': {}, 'mieze_helene': {}, 'helene_mieze': {}, 'mieze_morphy': {}, 'morphy_mieze': {}, 'henriette_angler': {}, 'angler_henriette': {}, 'henriette_helene': {}, 'helene_henriette': {}, 'henriette_morphy': {}, 'morphy_henriette': {}}\n",
      "{'krawutschke_lehmann': {}, 'lehmann_krawutschke': {}, 'krawutschke_lude': {}, 'lude_krawutschke': {}, 'krawutschke_bulle': {}, 'bulle_krawutschke': {}, 'krawutschke_abramsen': {}, 'abramsen_krawutschke': {}, 'krawutschke_mieze': {}, 'mieze_krawutschke': {}, 'krawutschke_henriette': {}, 'henriette_krawutschke': {}, 'krawutschke_angler': {}, 'angler_krawutschke': {}, 'krawutschke_helene': {}, 'helene_krawutschke': {}, 'krawutschke_morphy': {}, 'morphy_krawutschke': {}, 'lehmann_lude': {}, 'lude_lehmann': {}, 'lehmann_bulle': {}, 'bulle_lehmann': {}, 'lehmann_abramsen': {}, 'abramsen_lehmann': {}, 'lehmann_mieze': {}, 'mieze_lehmann': {}, 'lehmann_henriette': {}, 'henriette_lehmann': {}, 'lehmann_angler': {}, 'angler_lehmann': {}, 'lehmann_helene': {}, 'helene_lehmann': {}, 'lehmann_morphy': {}, 'morphy_lehmann': {}, 'lude_bulle': {}, 'bulle_lude': {}, 'lude_abramsen': {}, 'abramsen_lude': {}, 'lude_mieze': {}, 'mieze_lude': {}, 'lude_henriette': {}, 'henriette_lude': {}, 'lude_angler': {}, 'angler_lude': {}, 'lude_helene': {}, 'helene_lude': {}, 'bulle_abramsen': {}, 'abramsen_bulle': {}, 'bulle_mieze': {}, 'mieze_bulle': {}, 'bulle_henriette': {}, 'henriette_bulle': {}, 'bulle_angler': {}, 'angler_bulle': {}, 'bulle_helene': {}, 'helene_bulle': {}, 'abramsen_mieze': {}, 'mieze_abramsen': {}, 'abramsen_henriette': {}, 'henriette_abramsen': {}, 'abramsen_angler': {}, 'angler_abramsen': {}, 'abramsen_helene': {}, 'helene_abramsen': {}, 'mieze_henriette': {}, 'henriette_mieze': {}, 'mieze_angler': {}, 'angler_mieze': {}, 'mieze_helene': {}, 'helene_mieze': {}, 'mieze_morphy': {}, 'morphy_mieze': {}, 'henriette_angler': {}, 'angler_henriette': {}, 'henriette_helene': {}, 'helene_henriette': {}, 'henriette_morphy': {}, 'morphy_henriette': {}, 'angler_helene': {}, 'helene_angler': {}}\n",
      "{'krawutschke_lehmann': {}, 'lehmann_krawutschke': {}, 'krawutschke_lude': {}, 'lude_krawutschke': {}, 'krawutschke_bulle': {}, 'bulle_krawutschke': {}, 'krawutschke_abramsen': {}, 'abramsen_krawutschke': {}, 'krawutschke_mieze': {}, 'mieze_krawutschke': {}, 'krawutschke_henriette': {}, 'henriette_krawutschke': {}, 'krawutschke_angler': {}, 'angler_krawutschke': {}, 'krawutschke_helene': {}, 'helene_krawutschke': {}, 'krawutschke_morphy': {}, 'morphy_krawutschke': {}, 'lehmann_lude': {}, 'lude_lehmann': {}, 'lehmann_bulle': {}, 'bulle_lehmann': {}, 'lehmann_abramsen': {}, 'abramsen_lehmann': {}, 'lehmann_mieze': {}, 'mieze_lehmann': {}, 'lehmann_henriette': {}, 'henriette_lehmann': {}, 'lehmann_angler': {}, 'angler_lehmann': {}, 'lehmann_helene': {}, 'helene_lehmann': {}, 'lehmann_morphy': {}, 'morphy_lehmann': {}, 'lude_bulle': {}, 'bulle_lude': {}, 'lude_abramsen': {}, 'abramsen_lude': {}, 'lude_mieze': {}, 'mieze_lude': {}, 'lude_henriette': {}, 'henriette_lude': {}, 'lude_angler': {}, 'angler_lude': {}, 'lude_helene': {}, 'helene_lude': {}, 'bulle_abramsen': {}, 'abramsen_bulle': {}, 'bulle_mieze': {}, 'mieze_bulle': {}, 'bulle_henriette': {}, 'henriette_bulle': {}, 'bulle_angler': {}, 'angler_bulle': {}, 'bulle_helene': {}, 'helene_bulle': {}, 'abramsen_mieze': {}, 'mieze_abramsen': {}, 'abramsen_henriette': {}, 'henriette_abramsen': {}, 'abramsen_angler': {}, 'angler_abramsen': {}, 'abramsen_helene': {}, 'helene_abramsen': {}, 'mieze_henriette': {}, 'henriette_mieze': {}, 'mieze_angler': {}, 'angler_mieze': {}, 'mieze_helene': {}, 'helene_mieze': {}, 'mieze_morphy': {}, 'morphy_mieze': {}, 'henriette_angler': {}, 'angler_henriette': {}, 'henriette_helene': {}, 'helene_henriette': {}, 'henriette_morphy': {}, 'morphy_henriette': {}, 'angler_helene': {}, 'helene_angler': {}, 'angler_morphy': {}, 'morphy_angler': {}}\n",
      "{'krawutschke_lehmann': {}, 'lehmann_krawutschke': {}, 'krawutschke_lude': {}, 'lude_krawutschke': {}, 'krawutschke_bulle': {}, 'bulle_krawutschke': {}, 'krawutschke_abramsen': {}, 'abramsen_krawutschke': {}, 'krawutschke_mieze': {}, 'mieze_krawutschke': {}, 'krawutschke_henriette': {}, 'henriette_krawutschke': {}, 'krawutschke_angler': {}, 'angler_krawutschke': {}, 'krawutschke_helene': {}, 'helene_krawutschke': {}, 'krawutschke_morphy': {}, 'morphy_krawutschke': {}, 'lehmann_lude': {}, 'lude_lehmann': {}, 'lehmann_bulle': {}, 'bulle_lehmann': {}, 'lehmann_abramsen': {}, 'abramsen_lehmann': {}, 'lehmann_mieze': {}, 'mieze_lehmann': {}, 'lehmann_henriette': {}, 'henriette_lehmann': {}, 'lehmann_angler': {}, 'angler_lehmann': {}, 'lehmann_helene': {}, 'helene_lehmann': {}, 'lehmann_morphy': {}, 'morphy_lehmann': {}, 'lude_bulle': {}, 'bulle_lude': {}, 'lude_abramsen': {}, 'abramsen_lude': {}, 'lude_mieze': {}, 'mieze_lude': {}, 'lude_henriette': {}, 'henriette_lude': {}, 'lude_angler': {}, 'angler_lude': {}, 'lude_helene': {}, 'helene_lude': {}, 'bulle_abramsen': {}, 'abramsen_bulle': {}, 'bulle_mieze': {}, 'mieze_bulle': {}, 'bulle_henriette': {}, 'henriette_bulle': {}, 'bulle_angler': {}, 'angler_bulle': {}, 'bulle_helene': {}, 'helene_bulle': {}, 'abramsen_mieze': {}, 'mieze_abramsen': {}, 'abramsen_henriette': {}, 'henriette_abramsen': {}, 'abramsen_angler': {}, 'angler_abramsen': {}, 'abramsen_helene': {}, 'helene_abramsen': {}, 'mieze_henriette': {}, 'henriette_mieze': {}, 'mieze_angler': {}, 'angler_mieze': {}, 'mieze_helene': {}, 'helene_mieze': {}, 'mieze_morphy': {}, 'morphy_mieze': {}, 'henriette_angler': {}, 'angler_henriette': {}, 'henriette_helene': {}, 'helene_henriette': {}, 'henriette_morphy': {}, 'morphy_henriette': {}, 'angler_helene': {}, 'helene_angler': {}, 'angler_morphy': {}, 'morphy_angler': {}, 'helene_morphy': {}, 'morphy_helene': {}}\n",
      "{'krawutschke_lehmann': {}, 'lehmann_krawutschke': {}, 'krawutschke_lude': {}, 'lude_krawutschke': {}, 'krawutschke_bulle': {}, 'bulle_krawutschke': {}, 'krawutschke_abramsen': {}, 'abramsen_krawutschke': {}, 'krawutschke_mieze': {}, 'mieze_krawutschke': {}, 'krawutschke_henriette': {}, 'henriette_krawutschke': {}, 'krawutschke_angler': {}, 'angler_krawutschke': {}, 'krawutschke_helene': {}, 'helene_krawutschke': {}, 'krawutschke_morphy': {}, 'morphy_krawutschke': {}, 'lehmann_lude': {}, 'lude_lehmann': {}, 'lehmann_bulle': {}, 'bulle_lehmann': {}, 'lehmann_abramsen': {}, 'abramsen_lehmann': {}, 'lehmann_mieze': {}, 'mieze_lehmann': {}, 'lehmann_henriette': {}, 'henriette_lehmann': {}, 'lehmann_angler': {}, 'angler_lehmann': {}, 'lehmann_helene': {}, 'helene_lehmann': {}, 'lehmann_morphy': {}, 'morphy_lehmann': {}, 'lude_bulle': {}, 'bulle_lude': {}, 'lude_abramsen': {}, 'abramsen_lude': {}, 'lude_mieze': {}, 'mieze_lude': {}, 'lude_henriette': {}, 'henriette_lude': {}, 'lude_angler': {}, 'angler_lude': {}, 'lude_helene': {}, 'helene_lude': {}, 'bulle_abramsen': {}, 'abramsen_bulle': {}, 'bulle_mieze': {}, 'mieze_bulle': {}, 'bulle_henriette': {}, 'henriette_bulle': {}, 'bulle_angler': {}, 'angler_bulle': {}, 'bulle_helene': {}, 'helene_bulle': {}, 'abramsen_mieze': {}, 'mieze_abramsen': {}, 'abramsen_henriette': {}, 'henriette_abramsen': {}, 'abramsen_angler': {}, 'angler_abramsen': {}, 'abramsen_helene': {}, 'helene_abramsen': {}, 'mieze_henriette': {}, 'henriette_mieze': {}, 'mieze_angler': {}, 'angler_mieze': {}, 'mieze_helene': {}, 'helene_mieze': {}, 'mieze_morphy': {}, 'morphy_mieze': {}, 'henriette_angler': {}, 'angler_henriette': {}, 'henriette_helene': {}, 'helene_henriette': {}, 'henriette_morphy': {}, 'morphy_henriette': {}, 'angler_helene': {}, 'helene_angler': {}, 'angler_morphy': {}, 'morphy_angler': {}, 'helene_morphy': {}, 'morphy_helene': {}, 'der_herr_rufe': {}, 'rufe_der_herr': {}}\n",
      "{'krawutschke_lehmann': {}, 'lehmann_krawutschke': {}, 'krawutschke_lude': {}, 'lude_krawutschke': {}, 'krawutschke_bulle': {}, 'bulle_krawutschke': {}, 'krawutschke_abramsen': {}, 'abramsen_krawutschke': {}, 'krawutschke_mieze': {}, 'mieze_krawutschke': {}, 'krawutschke_henriette': {}, 'henriette_krawutschke': {}, 'krawutschke_angler': {}, 'angler_krawutschke': {}, 'krawutschke_helene': {}, 'helene_krawutschke': {}, 'krawutschke_morphy': {}, 'morphy_krawutschke': {}, 'lehmann_lude': {}, 'lude_lehmann': {}, 'lehmann_bulle': {}, 'bulle_lehmann': {}, 'lehmann_abramsen': {}, 'abramsen_lehmann': {}, 'lehmann_mieze': {}, 'mieze_lehmann': {}, 'lehmann_henriette': {}, 'henriette_lehmann': {}, 'lehmann_angler': {}, 'angler_lehmann': {}, 'lehmann_helene': {}, 'helene_lehmann': {}, 'lehmann_morphy': {}, 'morphy_lehmann': {}, 'lude_bulle': {}, 'bulle_lude': {}, 'lude_abramsen': {}, 'abramsen_lude': {}, 'lude_mieze': {}, 'mieze_lude': {}, 'lude_henriette': {}, 'henriette_lude': {}, 'lude_angler': {}, 'angler_lude': {}, 'lude_helene': {}, 'helene_lude': {}, 'bulle_abramsen': {}, 'abramsen_bulle': {}, 'bulle_mieze': {}, 'mieze_bulle': {}, 'bulle_henriette': {}, 'henriette_bulle': {}, 'bulle_angler': {}, 'angler_bulle': {}, 'bulle_helene': {}, 'helene_bulle': {}, 'abramsen_mieze': {}, 'mieze_abramsen': {}, 'abramsen_henriette': {}, 'henriette_abramsen': {}, 'abramsen_angler': {}, 'angler_abramsen': {}, 'abramsen_helene': {}, 'helene_abramsen': {}, 'mieze_henriette': {}, 'henriette_mieze': {}, 'mieze_angler': {}, 'angler_mieze': {}, 'mieze_helene': {}, 'helene_mieze': {}, 'mieze_morphy': {}, 'morphy_mieze': {}, 'henriette_angler': {}, 'angler_henriette': {}, 'henriette_helene': {}, 'helene_henriette': {}, 'henriette_morphy': {}, 'morphy_henriette': {}, 'angler_helene': {}, 'helene_angler': {}, 'angler_morphy': {}, 'morphy_angler': {}, 'helene_morphy': {}, 'morphy_helene': {}, 'der_herr_rufe': {}, 'rufe_der_herr': {}, 'der_herr_das_vorstandsmitglied': {}, 'das_vorstandsmitglied_der_herr': {}}\n",
      "{'krawutschke_lehmann': {}, 'lehmann_krawutschke': {}, 'krawutschke_lude': {}, 'lude_krawutschke': {}, 'krawutschke_bulle': {}, 'bulle_krawutschke': {}, 'krawutschke_abramsen': {}, 'abramsen_krawutschke': {}, 'krawutschke_mieze': {}, 'mieze_krawutschke': {}, 'krawutschke_henriette': {}, 'henriette_krawutschke': {}, 'krawutschke_angler': {}, 'angler_krawutschke': {}, 'krawutschke_helene': {}, 'helene_krawutschke': {}, 'krawutschke_morphy': {}, 'morphy_krawutschke': {}, 'lehmann_lude': {}, 'lude_lehmann': {}, 'lehmann_bulle': {}, 'bulle_lehmann': {}, 'lehmann_abramsen': {}, 'abramsen_lehmann': {}, 'lehmann_mieze': {}, 'mieze_lehmann': {}, 'lehmann_henriette': {}, 'henriette_lehmann': {}, 'lehmann_angler': {}, 'angler_lehmann': {}, 'lehmann_helene': {}, 'helene_lehmann': {}, 'lehmann_morphy': {}, 'morphy_lehmann': {}, 'lude_bulle': {}, 'bulle_lude': {}, 'lude_abramsen': {}, 'abramsen_lude': {}, 'lude_mieze': {}, 'mieze_lude': {}, 'lude_henriette': {}, 'henriette_lude': {}, 'lude_angler': {}, 'angler_lude': {}, 'lude_helene': {}, 'helene_lude': {}, 'bulle_abramsen': {}, 'abramsen_bulle': {}, 'bulle_mieze': {}, 'mieze_bulle': {}, 'bulle_henriette': {}, 'henriette_bulle': {}, 'bulle_angler': {}, 'angler_bulle': {}, 'bulle_helene': {}, 'helene_bulle': {}, 'abramsen_mieze': {}, 'mieze_abramsen': {}, 'abramsen_henriette': {}, 'henriette_abramsen': {}, 'abramsen_angler': {}, 'angler_abramsen': {}, 'abramsen_helene': {}, 'helene_abramsen': {}, 'mieze_henriette': {}, 'henriette_mieze': {}, 'mieze_angler': {}, 'angler_mieze': {}, 'mieze_helene': {}, 'helene_mieze': {}, 'mieze_morphy': {}, 'morphy_mieze': {}, 'henriette_angler': {}, 'angler_henriette': {}, 'henriette_helene': {}, 'helene_henriette': {}, 'henriette_morphy': {}, 'morphy_henriette': {}, 'angler_helene': {}, 'helene_angler': {}, 'angler_morphy': {}, 'morphy_angler': {}, 'helene_morphy': {}, 'morphy_helene': {}, 'der_herr_rufe': {}, 'rufe_der_herr': {}, 'der_herr_das_vorstandsmitglied': {}, 'das_vorstandsmitglied_der_herr': {}, 'der_herr_ein_anderes_vorstandsmitglied': {}, 'ein_anderes_vorstandsmitglied_der_herr': {}}\n",
      "{'krawutschke_lehmann': {}, 'lehmann_krawutschke': {}, 'krawutschke_lude': {}, 'lude_krawutschke': {}, 'krawutschke_bulle': {}, 'bulle_krawutschke': {}, 'krawutschke_abramsen': {}, 'abramsen_krawutschke': {}, 'krawutschke_mieze': {}, 'mieze_krawutschke': {}, 'krawutschke_henriette': {}, 'henriette_krawutschke': {}, 'krawutschke_angler': {}, 'angler_krawutschke': {}, 'krawutschke_helene': {}, 'helene_krawutschke': {}, 'krawutschke_morphy': {}, 'morphy_krawutschke': {}, 'lehmann_lude': {}, 'lude_lehmann': {}, 'lehmann_bulle': {}, 'bulle_lehmann': {}, 'lehmann_abramsen': {}, 'abramsen_lehmann': {}, 'lehmann_mieze': {}, 'mieze_lehmann': {}, 'lehmann_henriette': {}, 'henriette_lehmann': {}, 'lehmann_angler': {}, 'angler_lehmann': {}, 'lehmann_helene': {}, 'helene_lehmann': {}, 'lehmann_morphy': {}, 'morphy_lehmann': {}, 'lude_bulle': {}, 'bulle_lude': {}, 'lude_abramsen': {}, 'abramsen_lude': {}, 'lude_mieze': {}, 'mieze_lude': {}, 'lude_henriette': {}, 'henriette_lude': {}, 'lude_angler': {}, 'angler_lude': {}, 'lude_helene': {}, 'helene_lude': {}, 'bulle_abramsen': {}, 'abramsen_bulle': {}, 'bulle_mieze': {}, 'mieze_bulle': {}, 'bulle_henriette': {}, 'henriette_bulle': {}, 'bulle_angler': {}, 'angler_bulle': {}, 'bulle_helene': {}, 'helene_bulle': {}, 'abramsen_mieze': {}, 'mieze_abramsen': {}, 'abramsen_henriette': {}, 'henriette_abramsen': {}, 'abramsen_angler': {}, 'angler_abramsen': {}, 'abramsen_helene': {}, 'helene_abramsen': {}, 'mieze_henriette': {}, 'henriette_mieze': {}, 'mieze_angler': {}, 'angler_mieze': {}, 'mieze_helene': {}, 'helene_mieze': {}, 'mieze_morphy': {}, 'morphy_mieze': {}, 'henriette_angler': {}, 'angler_henriette': {}, 'henriette_helene': {}, 'helene_henriette': {}, 'henriette_morphy': {}, 'morphy_henriette': {}, 'angler_helene': {}, 'helene_angler': {}, 'angler_morphy': {}, 'morphy_angler': {}, 'helene_morphy': {}, 'morphy_helene': {}, 'der_herr_rufe': {}, 'rufe_der_herr': {}, 'der_herr_das_vorstandsmitglied': {}, 'das_vorstandsmitglied_der_herr': {}, 'der_herr_ein_anderes_vorstandsmitglied': {}, 'ein_anderes_vorstandsmitglied_der_herr': {}, 'rufe_das_vorstandsmitglied': {}, 'das_vorstandsmitglied_rufe': {}}\n",
      "{'krawutschke_lehmann': {}, 'lehmann_krawutschke': {}, 'krawutschke_lude': {}, 'lude_krawutschke': {}, 'krawutschke_bulle': {}, 'bulle_krawutschke': {}, 'krawutschke_abramsen': {}, 'abramsen_krawutschke': {}, 'krawutschke_mieze': {}, 'mieze_krawutschke': {}, 'krawutschke_henriette': {}, 'henriette_krawutschke': {}, 'krawutschke_angler': {}, 'angler_krawutschke': {}, 'krawutschke_helene': {}, 'helene_krawutschke': {}, 'krawutschke_morphy': {}, 'morphy_krawutschke': {}, 'lehmann_lude': {}, 'lude_lehmann': {}, 'lehmann_bulle': {}, 'bulle_lehmann': {}, 'lehmann_abramsen': {}, 'abramsen_lehmann': {}, 'lehmann_mieze': {}, 'mieze_lehmann': {}, 'lehmann_henriette': {}, 'henriette_lehmann': {}, 'lehmann_angler': {}, 'angler_lehmann': {}, 'lehmann_helene': {}, 'helene_lehmann': {}, 'lehmann_morphy': {}, 'morphy_lehmann': {}, 'lude_bulle': {}, 'bulle_lude': {}, 'lude_abramsen': {}, 'abramsen_lude': {}, 'lude_mieze': {}, 'mieze_lude': {}, 'lude_henriette': {}, 'henriette_lude': {}, 'lude_angler': {}, 'angler_lude': {}, 'lude_helene': {}, 'helene_lude': {}, 'bulle_abramsen': {}, 'abramsen_bulle': {}, 'bulle_mieze': {}, 'mieze_bulle': {}, 'bulle_henriette': {}, 'henriette_bulle': {}, 'bulle_angler': {}, 'angler_bulle': {}, 'bulle_helene': {}, 'helene_bulle': {}, 'abramsen_mieze': {}, 'mieze_abramsen': {}, 'abramsen_henriette': {}, 'henriette_abramsen': {}, 'abramsen_angler': {}, 'angler_abramsen': {}, 'abramsen_helene': {}, 'helene_abramsen': {}, 'mieze_henriette': {}, 'henriette_mieze': {}, 'mieze_angler': {}, 'angler_mieze': {}, 'mieze_helene': {}, 'helene_mieze': {}, 'mieze_morphy': {}, 'morphy_mieze': {}, 'henriette_angler': {}, 'angler_henriette': {}, 'henriette_helene': {}, 'helene_henriette': {}, 'henriette_morphy': {}, 'morphy_henriette': {}, 'angler_helene': {}, 'helene_angler': {}, 'angler_morphy': {}, 'morphy_angler': {}, 'helene_morphy': {}, 'morphy_helene': {}, 'der_herr_rufe': {}, 'rufe_der_herr': {}, 'der_herr_das_vorstandsmitglied': {}, 'das_vorstandsmitglied_der_herr': {}, 'der_herr_ein_anderes_vorstandsmitglied': {}, 'ein_anderes_vorstandsmitglied_der_herr': {}, 'rufe_das_vorstandsmitglied': {}, 'das_vorstandsmitglied_rufe': {}, 'rufe_ein_anderes_vorstandsmitglied': {}, 'ein_anderes_vorstandsmitglied_rufe': {}}\n",
      "{'krawutschke_lehmann': {}, 'lehmann_krawutschke': {}, 'krawutschke_lude': {}, 'lude_krawutschke': {}, 'krawutschke_bulle': {}, 'bulle_krawutschke': {}, 'krawutschke_abramsen': {}, 'abramsen_krawutschke': {}, 'krawutschke_mieze': {}, 'mieze_krawutschke': {}, 'krawutschke_henriette': {}, 'henriette_krawutschke': {}, 'krawutschke_angler': {}, 'angler_krawutschke': {}, 'krawutschke_helene': {}, 'helene_krawutschke': {}, 'krawutschke_morphy': {}, 'morphy_krawutschke': {}, 'lehmann_lude': {}, 'lude_lehmann': {}, 'lehmann_bulle': {}, 'bulle_lehmann': {}, 'lehmann_abramsen': {}, 'abramsen_lehmann': {}, 'lehmann_mieze': {}, 'mieze_lehmann': {}, 'lehmann_henriette': {}, 'henriette_lehmann': {}, 'lehmann_angler': {}, 'angler_lehmann': {}, 'lehmann_helene': {}, 'helene_lehmann': {}, 'lehmann_morphy': {}, 'morphy_lehmann': {}, 'lude_bulle': {}, 'bulle_lude': {}, 'lude_abramsen': {}, 'abramsen_lude': {}, 'lude_mieze': {}, 'mieze_lude': {}, 'lude_henriette': {}, 'henriette_lude': {}, 'lude_angler': {}, 'angler_lude': {}, 'lude_helene': {}, 'helene_lude': {}, 'bulle_abramsen': {}, 'abramsen_bulle': {}, 'bulle_mieze': {}, 'mieze_bulle': {}, 'bulle_henriette': {}, 'henriette_bulle': {}, 'bulle_angler': {}, 'angler_bulle': {}, 'bulle_helene': {}, 'helene_bulle': {}, 'abramsen_mieze': {}, 'mieze_abramsen': {}, 'abramsen_henriette': {}, 'henriette_abramsen': {}, 'abramsen_angler': {}, 'angler_abramsen': {}, 'abramsen_helene': {}, 'helene_abramsen': {}, 'mieze_henriette': {}, 'henriette_mieze': {}, 'mieze_angler': {}, 'angler_mieze': {}, 'mieze_helene': {}, 'helene_mieze': {}, 'mieze_morphy': {}, 'morphy_mieze': {}, 'henriette_angler': {}, 'angler_henriette': {}, 'henriette_helene': {}, 'helene_henriette': {}, 'henriette_morphy': {}, 'morphy_henriette': {}, 'angler_helene': {}, 'helene_angler': {}, 'angler_morphy': {}, 'morphy_angler': {}, 'helene_morphy': {}, 'morphy_helene': {}, 'der_herr_rufe': {}, 'rufe_der_herr': {}, 'der_herr_das_vorstandsmitglied': {}, 'das_vorstandsmitglied_der_herr': {}, 'der_herr_ein_anderes_vorstandsmitglied': {}, 'ein_anderes_vorstandsmitglied_der_herr': {}, 'rufe_das_vorstandsmitglied': {}, 'das_vorstandsmitglied_rufe': {}, 'rufe_ein_anderes_vorstandsmitglied': {}, 'ein_anderes_vorstandsmitglied_rufe': {}, 'das_vorstandsmitglied_ein_anderes_vorstandsmitglied': {}, 'ein_anderes_vorstandsmitglied_das_vorstandsmitglied': {}}\n"
     ]
    }
   ],
   "source": [
    "replik = {}\n",
    "for character in csvReader:\n",
    "    replik[\"{}_{}\".format(character[0],character[2])] = dict()\n",
    "    replik[\"{}_{}\".format(character[2],character[0])] = {}\n",
    "    print(replik)"
   ]
  },
  {
   "cell_type": "code",
   "execution_count": 357,
   "metadata": {
    "scrolled": true
   },
   "outputs": [
    {
     "data": {
      "text/plain": [
       "{'krawutschke_lehmann': {'Follgommen, mei Gudester! Räuspert sich. Ähhmmm!': 0,\n",
       "  'Ich?': 0,\n",
       "  'Nee, mei Dierchen.': 0,\n",
       "  'Supolderne, mei liepstes Dierchen, hon Se gor nicht zu denken, wissen Se – äähhmm! ...\\n            das is Se nämlich widersch Reechlement – Er spricht alle Fremdworte deutsch\\n              aus. – hihi, joa sehn Se, nu äben, mei Liepster, des dürfen Se neemlich\\n            eechentlich goar nich – nee ... äähhm! ...': 0,\n",
       "  'Äähhmm! ... die Hundelerche? ...': 0,\n",
       "  'Nu nadierlich, mei Gudster, die is se nämlich ganz mausetot, nadierlich, joa, ...\\n            welche Hundelerche meenen Se denn? ...': 0,\n",
       "  'Nu nadierlich mei Gudster, die is se rattefallenmausedod ... die hot sich ja die Gorder\\n            in dausend Splitter gehauen, hihi, joa nadierlich, die steht se nich mehr wieder uf,\\n            nee, mei Dierchen – ähhm – heite rot, morgen tot ... joa – so is es ... äähm! ...': 0,\n",
       "  'Ähhmm! ...': 0,\n",
       "  'I nu heeren Se mal, nu sein Se so gut, nu halten Se oaber gleich de Luft on, joa?\\n            Ähhmm!': 0,\n",
       "  'Nu warten Se eenen Oogenblick, dann wär ich Se das gleich ganz genau saachen, mei\\n            Lieber, ähhmm! ... Das is se nämlich e ganz e seere wichtige Soache, joa, hihi! ...\\n              Er geht in das Ärztezimmer hinein, schließt die Tür, bleibt etwa eine halbe\\n              Minute dort und kommt dann wieder zurück.\\n': 0,\n",
       "  \"Ähhm! ... Säh'n Se mei kudes Dierchen, das is se nämlich ... äähhm ... so ... die\\n            Verrickten, das sein se de eenzichen vernünftigen Menschen uff der ganzen Wäld ... ähhm\\n            ...\": 0,\n",
       "  \"Säh'n Se, 'n kleenen Vogel habn wer doch alle – nich? ... Nu joa ... äben ... ähmm ...\\n            sahn Se ... »Von der Wieche bis zur Bahre bleibt der Suff das eenzich wahre«, sagt\\n            schonst Schiller! ...\": 0,\n",
       "  \"Der Mänsch ... äähhm ... der Mänsch fängt se eechentlich überhaupt ärscht bei's\\n            Dralirium an ... nämlich, wenn er das ieberwunden hat und er wierd wieder vernimftig ...\\n            ähhm ... sähn Se, denn wierd er sei ganzes Läben nicht mehr meschugge! ... wer hier als\\n            geheilt rauskommt, mei Lieber, der riert se sei ganzes Läben keenen eenzigen Droppen\\n            Algohol mehr oan! ... nee, nu sähn Se äben ... der is gefeit joa ...\": 0,\n",
       "  \"Lehmann, faseln Se niche! ... Wovor wär' ich denn doa? ... ei Herrcheeses nu äben ...\\n            des loaßen Se meine Sorche sind ... bassen Se uf, mit meine neie Medode mach ich  se oalle wieder vernimftig ... nachdem ich den Drunksuchtsbazillus entdeckt\\n            hoabe ... is se joa das ä Ginderspiel ... ei nadierlich, ä reenes Ginderspiel ... nu\\n            äben ...\": 0,\n",
       "  \"Lehmann, wann ich Se soage, des is se so, dänn is es so, das gennen Se mer glooben.\\n            Säh'n Se, Lehmann, de geistige Wiedergeburt der Menschheet, die geht se äben durchs\\n            Irrenhaus, durchs Spitoal und durch den Algohol! ...\": 0,\n",
       "  \"O Schobenhauer, biste ooch hier? ... Äähhmm? ... Nadierlich, mei liebstes\\n            Garniggelchen, wiedergeburn müss' mer oalle wär'n, ä ganz neies Geschlächt muß se\\n            ruffkumm'n uff de Welt ... damit mer den Gampf uffnähmen genn'n geechen de Lieche\\n            ...\": 0,\n",
       "  \"Leider! leider! Äähhmm! ... Oaber's soll anners wär'n, mei Schnudegen, ich wär' se de\\n            Welt scho umgestalten, nadierlich, ei choa – mit meine Deliranten wär' ich se\\n            umgestalten, und den beesen Geist aus de Welt schaffen, der schuld is an ollem – wissen\\n            Se wer das is? ...\": 0,\n",
       "  \"Ich wär's Ihnen soachen, ober gäb'n Se genau oacht ... 's is ... äähhmm! ... der Fusel\\n            is es ...\": 0,\n",
       "  \"Sie sind's – meine Freunde! ... Zieht die Uhr aus der Tasche, eine alte,\\n              abgegriffne Spindel, der man's ansieht, daß sie schon oft im Leihhaus war.\\n            Joa, 's is de Stunde! ... wartet nur eenen eenzigen kleenen Ochenblick ... nur 'ne\\n            kleene Härzensstärkung vorher, dann geheer' ich eich, meine Lieblinge! ... äähhmm! ...\\n              Er geht ins Ärztezimmer. Der Lärm wird toller. Man hört Anglers Stimme.\\n            »Teremtete verläg' ich nich Sch-ßkerls solche wie Schiller und Goethe, verläg ich nur\\n            vornämmes Literatur!« Abramsen piepst dazwischen. »Ruhig ihr Swinegels,\\n            's wird mer mieß vor euch!«\": 0,\n",
       "  \"Bier her oder ich fall' um? Macht sich von ihm los. I nu nee mei Lieber,\\n            so geschwind geht das nu niche ... Lehmann ... gäbe Se'm 'ne kalte Dusche! ...\": 0,\n",
       "  \"Nee, is des de Menschenmöglichkeet! ... 's wirklich jammerschade 's unse beste\\n            Pflegerin! ...\": 0,\n",
       "  'Ja, glei, mei Karnickelchen ... nur ne kleene Vorbereitung ... Will ab nach dem\\n              Ärztezimmer.\\n': 0,\n",
       "  \"Mei liebstes Schkuteken, des verstehn Se nicht! Sähn Se, wann ich se besondere Kraft zu\\n            'ner Operation oder Untersuchung anwenden soll, so muß ich dem Gerper ooch vorher mehr\\n            Kraft zufieren, als er hot, dadermit ich se widder ausgäben kann! Ähhmm ... sähn Se, das\\n            nännt man se nämlich das Gesetz von der Erhaltung der Enerchie, mei Kutester!\": 0,\n",
       "  'Ich sauf se nicht zum Verjniegen, wie die da drinnen, sondern zur Arbeet ... das ist\\n            äben der Unterschied! Schnaps, Schnaps, du edeles Getränke, du bist und bleibst von der\\n            Natur, von die Natur, von das Natur das herrlichste Getränke! Kommt wieder\\n              heraus, wischt sich den Mund ab. Ich du se saufen, um die andern vom Dralirium\\n            zu retten!': 0,\n",
       "  'Nanu, was hot denn der? Blättert in den Papieren, die ihm Lehmann überreicht\\n              hat.\\n': 0,\n",
       "  \"Freie Biene? ... Liebstes Schnudeken, denn geheeren Se ja goar nich hierher ... denn\\n            sin Se von vornherein unheilbar ... gänzlich hoffnungslos ... loss'n Se dän Härrn\\n            allerschleunigst noah Doallderf bringen, Lehmann ...\": 0,\n",
       "  'Nee, nee, lassen Se, ich hoab mersch anners ieberlegt ... Ähhmm ...': 0,\n",
       "  \"Lehmann! Dieser dreht sich um. Krawutschke mit geheimnisvoller ängstlicher\\n              Miene, die er ungeschickt zu verbergen sucht. Lehmoaon, sein Se verschwiegen?\\n            ... Nee, nich doch! ... Im Amtston. Lehmoaon, bringen Se mer 'ne Flasche\\n            Konnjack ... zu medizinischen Zwecken ...\": 0,\n",
       "  'Unsinn! wenn ich, der Arzt, es anordne ... Chchfftt ...': 0,\n",
       "  'Lehmann ... ich brauche den Konnjack ... hier is Geld! – Gibt ihm 20\\n              Mark. – behalten Se den Rest ...': 0,\n",
       "  'Sein Se unbesorcht ... ähhm! ...': 0,\n",
       "  'Joa, Se hobn recht, ein Beamter von Ihr vorziechlichen Eejenschaften is viel ze wenich\\n            gewierdich ... ich wär Se eene Gehaltufbesserung in Anrechnung bringen ...': 0,\n",
       "  \"Nee, nee, es geht nich ... ich fiehl's ... ich kann davon nich lass'n – und ich ...\\n            briegeln wird' ich dich in drunkenem Zustand ... ähhmm ...\": 0,\n",
       "  \"Ach! ach! Dirne! S-mensch! Bastard! Nicht anfassen! Ich schlag' dich tot ... Alle\\n            schla' ich tot ... alle ... verfluchte Bande ... alle müßt'r sterben ... Der\\n              Geifer tritt  ihm vor den Mund. Lallend.\\n            Schw-ei-ne-ban-de-b-a-n-d-e! Er schlägt lang hin.\\n\": 0},\n",
       " 'lehmann_krawutschke': {'Hoaben Se woas gesoagt, Härr Dukter?': 0,\n",
       "  'Joa – Chchfftt! Spuckt.\\n': 0,\n",
       "  'Eich doachte ock. – Chfft!': 0,\n",
       "  'Na, eich meente ock blußig! ... Pause. Soogen Se, Härr Dukter, glooben\\n            Se, doß die Hundelerge nu tot is? ... Chchfftt? ...': 0,\n",
       "  'Joa ... chchfft ... die Hundelerge! ...': 0,\n",
       "  \"Na, das Oas drieben, doas tobsichtige, das mit'n Kopp ... chchfft ... gägen de Woand\\n            gerennt is! Akkerat bluß um Sie zu ärgern, Herr Dukter! ...\": 0,\n",
       "  \"Na joa, ich hoa mersch glei gedoacht ... Na 's is o gutt, daß dos verfluchchte Oas\\n            krepiert is – hammer eene winger! ... Chchfft ... Meenen Se nich? ... Wos ...\": 0,\n",
       "  \"Ich weeß gor nich, wozu 's so vill Verrickte uff der Wält gibbt. Die sein doch zu gor\\n            nischt gutt! Woas? Su ä Schwindsichtiger, doas luß ich mer noch gefalln – ober su ä\\n            Verrickter ... doas is do gor kee Mensch nich! ... Chchfft ...\": 0,\n",
       "  'Nu – wozu sein se denn gutt, Härr Dukter ... de Verrickten ... Chchfft! ... woas?\\n            ...': 0,\n",
       "  'Noa, da bin ich oaber verfluchtig neigierich.': 0,\n",
       "  'Chchfftt! ...? ...': 0,\n",
       "  'Doas stimmt!': 0,\n",
       "  \"Gutt, Härr Dukter, ... oaber vun die kummt se kee eenziger mehr widder 'raus ... in sei\\n            Läben nich ... as wie hächstens naa Zählendurff ... oder naa Dalldurff zu de\\n            Unheilboaren ...! Chchfft ...\": 0,\n",
       "  'Menen Se werklich Härr Dukter? ... Ach nee ... Chchfft ... Se veralbern mich uck\\n            bloßig! ...': 0,\n",
       "  \"Woas, Härr Dukter, wiedergebur'n wull'n Se wärden? ... Chchfftt ... Hoan Se denn an dem\\n            eemoal ni' scho' gnug? ...\": 0,\n",
       "  \"Doa wär'n Se oaber lange zu kämpfen hoan, denn leugen tun se heit olle mitsamm! Eener\\n            beleucht immer den oannern! ...\": 0,\n",
       "  'Eich hoa keene Oahnung ... chchfft! ...': 0,\n",
       "  'Hähä! Nee – eich weeß nich ... chchfft ... ob de Verrickten denn gor nich emol a bissel\\n            verninftig sei kennten! ...': 0,\n",
       "  'Ääster verfluchte, wullt a de Fresse hoalen! Mieze fängt wieder an zu\\n              krähen. Das Fruvolk is noch ärger! Schlägt gegen die andere\\n              Tür. H-npakasche Obster stille seids drinne!': 0,\n",
       "  \"Ja weeste ... so 'ne Konsultazejohn oder Operazejohn, doas greift 'n jedesmoal su an,\\n            daß a immer eenen heben muß. A reibt siech uff im Dienst der Menschheet un arbeet't mit\\n            su'n Feier! Chfffttt!\": 0,\n",
       "  'Jo, de Menschen sein ock su – alles krign se dicke – bloßig das nich! Man hört\\n              hinter der Szene wieder schreien und röcheln. Verfluchtig, das wird ne\\n            Schwargeburt! Henriette klatscht in die Hände und ruft: Herr Doktor! Man bisken\\n              fix! Bringen Se de Zange mit!\\n': 0,\n",
       "  \"Herr Dukter, nich ze vill – Se kriegen sunst 'n kleenen Schumm!\": 0,\n",
       "  'Joa, energisch genug saufen tun Se ja, Herr Dukter! Chchfft!': 0,\n",
       "  'Herr Dukter, ich gloobe, Sie sind heute en bisken beduse. Chchfft!': 0,\n",
       "  'Ju ju ... eich gieh jo schunst ... sei ock ni biese ... hierste ... eich gieh scho\\n            fressa ... ober eich komm widder. Chfft! ... eich kumm widder ... Ab rechts\\n              vorn.\\n': 0,\n",
       "  'Herr Dukter, Herr Dukter, hier is e neicher –': 0,\n",
       "  'Där hut se nämlich uff der Straße Radau gemoacht. A kulkt jeden Manschen oan, ub a\\n            Ipsen heeßt ... daderwägen a is nämlich Mitklied von de »Freie Biene« ... un hut sich su\\n            bei de Vurstellungen ufgerägt ...': 0,\n",
       "  \"'s is nich meeglich! Führt Morphy ab.\\n\": 0,\n",
       "  \"Eich hu se moal a wing ins Freie gefiert, Härr Dukter, 's wor 'r schlimm. Nu, Härr\\n            Duktor, wulln Se ...\": 0,\n",
       "  \"Ooch gutt! ...'Nacht ock, Härr Dukter! ... Will gehen. Chchfftt! ...\": 0,\n",
       "  \"Herr Dukter ... mir verfieren Se nich ... 's is duch verbuten ...\": 0,\n",
       "  \"Nee, nee, das schatt nischte nich ... Sie hoans selber verbuten ... un heint? ...\\n            ärztliche Zwacke? ... Wu Se keen Inspäckzejohn mehr vurnähm'n –? – Se wull'n mer blußig\\n            versuchen, Härr Dukter – oaber ich bin e flichttreuer Beamter ...\": 0,\n",
       "  \"Nee, Härr Dukter, Deibelsgelt will ich nich ... daderzu is mer meine Stellung zu lieb\\n            ... wenn mich eener siecht un hastenichgesähn zeigt 'r mich oan – –\": 0,\n",
       "  \"Nee, Härr Dukter ... 's wäre e Sinde ... des derf ich nich ... eich tu oalles\\n            rischkiern ... eich hoa so scho kaum zem Fressa ... chchfft ...\": 0,\n",
       "  'Nanu? Sieht die beiden verwundert an.\\n': 0},\n",
       " 'krawutschke_lude': {\"Na, geht's heut besser? Nu 's scheint ja. Ähhmm! Nu säh'n Se, Angler, Se sein doch e\\n            verninftiger Mensch, nich? ... Haben Se das netig geha't, sich mit dem Fusel\\n            einzulassen? ... Hätten Se nich bei Ihrem früheren unschädlichen Kretzer bleiben kennen,\\n            mei liebes Seelenwärmerchen? ... Ach, Lude, alter Freund, da biste ja ooch ...\": 0,\n",
       "  'Stimmt ... ähhmm! ... aber missen Se denn immer ans Saufen denken! ... Iebrigens ...\\n            des kennen wir ja noch nachholen ...': 0,\n",
       "  'I nu herren Se mal, mei Kudester ... was sein denn Sie für e Landsmann eechentlich? ...\\n            Ihnen versteh ich ja gar nicht orntlich ... sein Se denn eechentlich vom Main her? ...\\n            Ähhmm ...': 0,\n",
       "  \"Nee mei Dierchen, Se derfens mer nich iebel nähmen, oaber doas gibt's se hier nich\\n            ...\": 0},\n",
       " 'lude_krawutschke': {'Hbbff! Er ist mittelgroß, schlank, trägt eine goldene Brille, und sieht wie ein\\n              versoffener Schulmeister aus. Er trägt sehr hohe Vatermörder. Er stammt aus sehr\\n              reichem Hause und ergab sich schon frühzeitig dem Laster der literarischen\\n              Selbstverunreinigung. Vorsorgliche Mütter, in ihm eine gute Partie für ihre Töchter\\n              witternd, und verhungerte Rezensenten, die sich sonntags in seinem väterlichen Hause\\n              satt aßen, machten ihn stets mit Redensarten voll überschwänglichen Lobes besoffen, so\\n              daß er sein Laster immer ärger trieb, jeden Tag ein Schauspiel schmierte und, der\\n              übrigen Welt Morphium spendend und selbst frühzeitig vor Lob und Einbildung aus der\\n              Trunkenheit nicht mehr herauskommend, in Paralyse endete. Sein Blick ist umflort, die\\n              ganze Erscheinung welk, die eines jungen Greises. Mer habe doch noch als koine\\n            Brüderschaft miteinand getrunke, soviel ich woiß!': 0,\n",
       "  'Wenn Se eppes so viel Lorbeerkränz habe werde wie ich ... Mache Se sich als koine\\n            Hoffnung eher ...': 0,\n",
       "  'Nee, dummes Luderche, ich bin se nämlich vom Ufer der ... Werra ... Wieder in\\n              seinem ordinären Ton. Hawe se koine Appewoi nich? ...': 0},\n",
       " 'krawutschke_bulle': {'Mei scheenstes Mausezähnchen, wenn Se sich unanständig ufführen dann ...': 0,\n",
       "  'Weeß Gott, ich muß Se dann in de Zwangsjacke ... äähhmm ... joa, uf Ehre, da laß ich Se\\n            reinstecken! ...': 0,\n",
       "  \"'s noch nich so eilig ... Geh'n Se nur 'rein ... Zu den Deliranten. So,\\n            Kinder ... ähhmm! ... nu ham' mer g'nug ... nu geht hübsch wieder auf eire Stube ...\": 0,\n",
       "  'Oder woas ... mein Kudester? ...': 0,\n",
       "  'Wä ...? ...': 0},\n",
       " 'bulle_krawutschke': {'Da, krapier, du Hund!': 0,\n",
       "  'Nu, was dann? Stellt sich breitbeinig vor ihn hin.\\n': 0,\n",
       "  'Wann ich dir nicht vorhar dan Schädel zarschlagen habe ... Ja ja, ich weiß, du\\n            trachtest mir nach dam Laben ... Du willst uns hier alle umbringen ... Er\\n              versucht ihn plötzlich an der Gurgel zu packen. Boofke, warste uns Bier gaben?\\n            ...': 0,\n",
       "  \"Schweinehund ... warste nu rausricken mit 'n Schnaps, oder ...\": 0,\n",
       "  'Oder ich war ... wä ... wä ...': 0},\n",
       " 'krawutschke_abramsen': {},\n",
       " 'abramsen_krawutschke': {},\n",
       " 'krawutschke_mieze': {'Na, Suse, immer fidel? Ei joa? Nu, das freut mich! Ähhmm!': 0},\n",
       " 'mieze_krawutschke': {\"Kikeriki! Ihr könnt mir alle 'n Buckel lang rutschen!\": 0,\n",
       "  'Kikeriki ... Mit kokett gerafftem Kleid springt sie ab. Die Bühne bleibt etwa\\n              fünf Minuten lang leer. Man hört nichts als das Summen des ausströmenden Gases, dessen\\n              Flammen ungewiß aufflackern. Dann hört man Helenens Stimme. So, nun genug –\\n            Lieber – leb wohl ... laß mich allein hinuntergehen ... Vater könnte ...': 0},\n",
       " 'krawutschke_henriette': {\"Ach nu nee ... ähhmm ...! – des hat se noch 'ne Viertelstunde Zeit ... ich heer's ...\\n            's Wurm is noch ganz hinne ...\": 0,\n",
       "  'Ach nu ne, meine Kuteste, das lassen Se nu lieber ... das kennte se sehre beese Folgen\\n            haben ...': 0,\n",
       "  \"Aber 's kann ooch'n Unterleibskrebs werden – und denn behalten wer se ewich ...\": 0,\n",
       "  \"Gleich, meu kudestes Dierchen, ich muß nur erst 'mal ... Geht ins\\n              Ärztezimmer.\\n\": 0,\n",
       "  'Fein! Ähhm!': 0,\n",
       "  'Jettchen! Jettchen! ... In Ihre Joahre ... un noch solche Streiche! Schämen Se sich\\n            denn gar nich? Ähhmm?': 0,\n",
       "  'Nu sachen Se mer bloß det eenzige ... wer is es denn gewäsen?': 0,\n",
       "  'Gerettet! Gerettet! ... Ähmm.': 0,\n",
       "  'Nu, ich habe goar nischt dagächn.': 0,\n",
       "  \"Na, denn bleiben Se hibsch hier ... gehn Sie da hibsch nei' ... und schrei'n Se, wenn's\\n            so weit is ... denn wer ich schonst kommn ...\": 0,\n",
       "  'Ja ja ... ich weeß schonst ... nadierlich – –': 0},\n",
       " 'henriette_krawutschke': {\"'s aber eklig langweilig, det Frauenzimmer feixt und klönt ... soll ick nich'n bisken\\n            dricken det's schneller jeht? ...\": 0,\n",
       "  'Na mehr als druffjehn kann det Aas doch nich – un denn wern wer se los ...': 0,\n",
       "  \"Nu, wenigstens kommt se denn in 'ne annre Abteilung! ... Man hört hinter der\\n              Szene eine Frau in Kindsnöten winseln. Na, Herr Doktor ...\": 0,\n",
       "  'Na kommen Se nu, Herr Dokter? ...': 0,\n",
       "  'He, gehn wer nu?': 0,\n",
       "  'Na, wat kieken Se mir an? ... Natierlich ... ick leichne et ja nich ... ick mache keene\\n            Merdergrube aus meinen Herzen ...': 0,\n",
       "  \"Jott, Herr Dokter ... wat soll man dun? ... Wenn det bisken Liebe nich wäre ... man\\n            würde ja ganz meschugge hier mang die ollen Verrickten ... Eene Erholung muß der Mensch\\n            doch haben! ... der eene de Liebe, der an're 'n Suff – un mehrschtendeels beedes!\\n            ...\": 0,\n",
       "  \"Ja ... Jotte doch, Herr Dokter ... wie soll ick det bei die Masse hier im Hause\\n            'rauskriegen ... wenn det Jöhr erst da is, werd'n wer ja sehen wie et erblich belastet\\n            is, un da kennen wir't ja feststellen, ... wenn't Ihnen interessiert, \\n            heeßt det, ... mir is't Wurscht ... Na komm'n Se nu? Ab durch die\\n            Mitte.\\n\": 0,\n",
       "  'Ach, Herr Doktor ... heut passiert wat!': 0,\n",
       "  \"Ach, Herr Doktor, ... ich komme aber nich mehr nach Hause ... So arg wie heute wär's\\n            noch nie ... und's is Se schon das zwölfte Mal ...\": 0},\n",
       " 'krawutschke_angler': {\"Kommen Se hiebsch bald wieder, Lehmann, ich will heut noch einige Säle inspizieren ...\\n              Stumme Szene. Er geht die Hände auf dem Rücken ein paarmal über die Bühne. Er\\n              schluckt stark und steckt die Hände in die Hosentaschen. Plötzlich geht er, alter\\n              Gewohnheit folgend, ins Ärztezimmer. Er vermißt den Kognak und sieht sich überall um.\\n              Dann besinnt er sich. Er seufzt schwer, räuspert sich und seufzt wieder. Er kommt auf\\n              die Bühne zurück und schreitet in großer Aufregung umher wie ein hungriger Löwe. Er\\n              verspürt physische Übelkeit und ein entsetzliches Kratzen im Halse. Sein Adamsapfel\\n              geht auf und nieder. Er wirft sich in den Stuhl und vergräbt seufzend den Kopf in die\\n              Hände. Mehrmals schlägt er sich mit der Faust vor die Stirn. Er zündet sich eine\\n              Zigarette an, aber sie schmeckt ihm nicht – nach drei Zügen wirft er sie weg. Er\\n              hustet, schluckt, rülpst. Er tritt in die Tür und betrachtet melancholisch, wie in\\n              dämonischem Bann, die Stelle, wo vorher die Pulle gestanden. Kaum kann er sich\\n              losreißen. Endlich nimmt er all seine moralische Kraft zusammen, man sieht wie er mit\\n              sich selber kämpft. Er wendet sich mit heroisch entsagendem Seufzer um und geht nach\\n              der Tür des männlichen Delirantensaals. Er öffnet sie und ruft hinein. Angler!\\n            ... Ääähhmmm! ... Angler! ... Kommen Se 'mal 'raus! ...\": 0,\n",
       "  'Haben Se noch immer die unglückseligen Einbildungen, Angler? Se sein doch\\n            Annoncensammler und nich Verläger! ...': 0,\n",
       "  'Na, ich denke, Se sein Gotta! ...': 0,\n",
       "  \"Na – 's 's gut ... um Se loszuwerden ... ich schreibe Se was ... wieviel zahlen Se mir\\n            denn Honorar? ...\": 0,\n",
       "  'Ich sähe mit Befriedigung, daß Ihr Zustand noch nicht ganz hoffnungslos ist ...': 0,\n",
       "  'Wesben? ...? –': 0,\n",
       "  'Reden Se keenen Unsinn, Angler ... hier sein se geene Wesben! ...': 0,\n",
       "  \"Geh'n Se, Mikosch, was Sie sich nicht eebilden! Geen Mensch auser Sie selber sieht de\\n            Wesben! ... So ... na 's 's gut ... gehn Se schlafen da ... Drängt ihn nach der\\n              Tür.\\n\": 0},\n",
       " 'angler_krawutschke': {'Nun ... haben Se sich besunnen endlich, Herr Doktor ... wollen Sie schreiben für mich\\n            Geschichte der Medizin? ... sss? ...': 0,\n",
       "  'Wirst du sagen mir, was bin ich? Bin ich Brockhaus!': 0,\n",
       "  \"Bin ich auch Kotta, bin ich beides. Vornämmes Verlag, was ich bin!\\n              Schmeichelnd. Härn' Se, Doktor ... schreiben Sie mir Buch ...\": 0,\n",
       "  'Zoahlen? Honorar? ... ssss ... Sie beleidigen mich ... Honorar! ... Bien ich denn\\n            verrückt? Teremtete! ...': 0,\n",
       "  'Gen Sie, Doktor, jagen Sie weck Wespen! ...': 0,\n",
       "  'Joa, Wespen, was Ihnen sitzt auf Nase das! ...': 0,\n",
       "  \"Werden Sie sagen mich! Seh' ich doch ganz deitlich! ... Flieggen sie jetzt ... da ...\\n            da ... – Er schlägt nach ihnen. – nix als Wespen ... Seh'n Sie doch ...\\n            da ...\": 0,\n",
       "  'Sitzen sie jetzt auf Nase meiniges! Au! au! Er fühlt eingebildete\\n              Stiche. ... Biester verdammtes ... wollt ihr gehn weg! ... Alles sticht mich\\n            ... Alles verfolgt mich ... Er schlägt sich noch im Zimmer drinnen mit den Wespen\\n              herum.\\n': 0},\n",
       " 'krawutschke_helene': {'Helene ... Ähmm ...': 0,\n",
       "  \"Joa, nu äben ... nadierlich, mein scheenstes Zuckerbibbchen ... ich bin's ... joa ...\\n            freilich bin ich's ... wenn Se nischt dagägen haben nämlich ... Ähmm!\": 0,\n",
       "  'Ach, Sie sind wirklich die Güte selbst! Darf man frachen, was Sie hier an diesem\\n            unfreindlichen Orte machen, meine Dame?': 0,\n",
       "  'Ähmm, Se sind wirklich zu gierig. Nee, diese Reinheit!': 0,\n",
       "  'Derfen? Warum nich? ... da, da drinnen ...': 0,\n",
       "  'Nee, wie Sie das gleich erraten!': 0,\n",
       "  'Sehr. Eine Steißgeburt! Sie in Ihrer Harmlosigkeit, kindliches Gemüt ... Sie wissen\\n            nadierlich goornich, was das is ...': 0,\n",
       "  'Nee, wie reizend Sie plaudern, Fräulein Helene ... man möchte bloß immer stehen und\\n            Ihnen zuhören ...': 0,\n",
       "  'Nee, Ihre Reinheit, Ihr unverdorbenes Gemiet, in all dem Schmutz hier ...': 0,\n",
       "  'Den Umständen angemessen, danke für gütige Nachfroage ...': 0,\n",
       "  \"Nee, nee, ... ich danke ... 's geht nich ... Sie sein sehr gietig ... aber 's geht\\n            werklich nich ...\": 0,\n",
       "  \"Se sein noch zu ... zu ... zu rot ... ich wollte eben 'neingehen se waschen ...\": 0,\n",
       "  \"Hinten 'n wenig belegt, aber sonst ganz gesund! ... Nein, ich bewundere nur immer Ihre\\n            Reinheit, Fräulein Helene .... Hier in diesem Pfuhl ist siebzehn Joahre lang diese süße\\n            Knospe unberührt geblieben ... unverdorben ... nee! ... is de Meeglichkeit ...\": 0,\n",
       "  'Ne, was Sie geistreich sind ... Helene ...': 0,\n",
       "  'Joa, weeß Kneppchen, alles, was Sie sagen, berühren, dun – überhauchen Sie mit dem\\n            Schimmer der Boesie ...': 0,\n",
       "  \"Nee, wahrhaftig, ich gloobe ... wenn Sie das Eemaleens hersagen ... das müßte klingen\\n            wie bei 'ner anderen 'ne Liebeserklärung ... ähhmm! ...\": 0,\n",
       "  \"Ich ä Dong Schuang? ... Ach du lieber Gott ... see'n Se, ich meene se das\\n            Liebeseemaleens ... kennen Se das? ... ähhem ...\": 0,\n",
       "  \"Nu, wie man de kleenen Kinder 's Rechen lernt ... Er ist inzwischen dicht hinter\\n              sie getreten, jetzt faßt er ihren Kopf zwischen beide Hände. Das is Se nämlich\\n            so ... ähhmm ... Emal eens ist eens ... Küßt sie einmal.\\n\": 0,\n",
       "  'Emal zwee ist zwee ... Küßt sie zweimal.\\n': 0,\n",
       "  'Emal drei ist drei ... Küßt sie viermal.\\n': 0,\n",
       "  'Helene ... nee, gemogelt is das nich! ... Mit ausbrechendem Gefühl.\\n            Gloobste, daß ich mogle, Helene? ... Sieht sie mit innigem, vielsagendem Blick\\n              an.\\n': 0,\n",
       "  'Natürlich – für immer bleibe ich bei dir ...': 0,\n",
       "  'Heeßt das ... nur für eenen eenzigen Oogenblick muß ich dich alleene lassen.': 0,\n",
       "  'In jenes Zimmer ... ich muß – mir die Hände waschen.': 0,\n",
       "  \"Ich muß ... nur eene eenzige Minute, mei süßes Guckelichtel, mei Oogentrost ... ich\\n            hält's nicht mehr aus ...\": 0,\n",
       "  'In zwee Segunden ...': 0,\n",
       "  'Helenchen ...': 0,\n",
       "  'Bist du glücklich? ...': 0,\n",
       "  \"Also du bist mer werklich 'n bißchen gut? ...\": 0,\n",
       "  'Nei Helene ... du ... du ... du ... Die Sprache versagt beiden; sie halten sich\\n              in stummer Seligkeit umfangen und blicken sich lange und zärtlich schmachtend in die\\n              Augen.\\n': 0,\n",
       "  'Die Falte? ähhmm! ... ach ... n ... n ... nischte ... goar ... goar nischt ...': 0,\n",
       "  'Ä ... hhemm ... ich dachte an meine Kranken ...': 0,\n",
       "  \"Sehre! Sehre! ... Ich soge dir ... du gloobst gor nich ... wie weit ich's bei di scho\\n            mit de Enthaltsamkeit gebracht hob ... Keene Droppe rieren se der mehr an! ...\": 0,\n",
       "  'Nu nee nich! Leidenschaftlich! Ähhmm! ... Bis zum Verrecken ...': 0,\n",
       "  'Ach, Helene, was bist du für ein Mensch! Wie edel! Wie rein!': 0,\n",
       "  'Fr... frage ... mich nicht ... du reines Wesen ... Er blickt nach dem\\n              Ärztezimmer, sein Auge haftet an der Kognakpulle wie an einem Gespenst. ...\\n            Ach ... ach ...': 0,\n",
       "  'Helene, ich ... ich ... bin ... der unglücklichste Mensch ... in ganz Berlin ...\\n              Die Tränen ersticken seine Stimme.\\n': 0,\n",
       "  'Lene, ich bin ä Lump, ä Lausigel ... ä ganz gemeener Lausigel ... da drinnen in dem Zim\\n            ...mer ... is ... d ...der ... Deibel ...': 0,\n",
       "  \"Da ... da ... der Schna ... Siehste ... den Schnaps? ... Helene ... sei gut ... hör'\\n            mich an ... siehste, ich hab' die Welt retten wollen ... vom Fusel ... wollt ich sie\\n            retten ... siehste ... und ich bin sälber ... e Siffel geword'n ... e ganz gemeener\\n            Siffel!! ... weeßte ... die Operationen ... die Untersuchungen ... es hat mich immer so\\n            angestrengt ...  siehste ... ee Gläschen ... un noch ee Gläschen ... Was\\n            kann da sein? dacht' ich ... du bist ja doch Arzt ... und jetzt ... halt ich's nicht\\n            mehr aus ... ich muß saufen ... siehste ... wie 'n Loch sauf ich, wie e\\n            Gewohnheitstrinker! ... gleich aus der Pulle ... siehste ... o Gott, die Schande ...\\n            literweise ... Lene ... literweise! ... den reenen Sprit ... dein Breitjam ... Lene ...\\n            Ähhmm! ... Er knickt zusammen.\\n\": 0,\n",
       "  \"Gar nischt hab' ich ... nischt ... Alles is zum Deibel ...\": 0,\n",
       "  'Rausgeschmissen ... mit Schimpf und Schande ...': 0,\n",
       "  'W ... wie, He ...le ...ne ..., du willst ... mich dennoch ... trotz alledem? ...': 0,\n",
       "  'Nadierlich ... keenen Droppen mehr ...': 0,\n",
       "  'Du selbst? ... Ach ... Ja, ... das ... das ist der – der einzige Weg ... ach Helene ...\\n            du ... Engel ... dich ... dich verdiene ich gar nicht ... Ähmm ... ich bin ja viel zu\\n            schlecht für dich.': 0,\n",
       "  'Da ... da ... nur fort ... nich mehr sähen ... ähmm ... Das Sauzeich ...': 0,\n",
       "  'Ah ... du ... Helene ... ähhmm ...': 0,\n",
       "  'Ich danke.': 0,\n",
       "  'Nich doch, Lenchen, nich doch ...': 0,\n",
       "  \"Nein ... das halt' ich nich aus ... ich hält's nich aus!! ... o Gott, o Gott! ... 's\\n            wär 'ne Gemeinerei ... dich so zu betriechen! ... Deine Reinheet zu beschmutzen ...\\n            deine Wahrheet zu teischen ... ähhmm! ... Denn ... ich hoab dich betrochen ... ich bin e\\n            ganz miserables Subjekt ... joa, bin ich – – ich gann nich ohne Algohol läben ... es\\n            geht nich ... ich ... 's muß 'raus ... ich bin ... ärblich ... belastet – – – – – –\": 0,\n",
       "  \"Die Amme meines Urgroßvaters ... e ganz gewissenlose Berson ... der Kleene schrie immer\\n            so in der Nacht ... se gonnde nich schloafen ... un da ... bestrich se – de Warze ihrer\\n            Brust mit Broantwein – ähhmm! – und seit der Zeit wirkt das Gift in unse Familie ...\\n            scheußlich! ... scheußlich! ... wer sein oalle Gewohnheidsdrinker! ... oalle! ...\\n              Pause. Beide schluchzen hörbar, Helene stärker. Durch moralischn Willen\\n            hoffde ich die krankhafte Oanlage zu besiechen ... vergäbens ... 's nischt ... meine\\n            Graft – is alle – alle – – – – Lene – siehste nu ... daß wir uns drennen missen ...\\n            missen? ... äähhmm! ...\": 0,\n",
       "  'Auch du? – Is denn de ganze Welt eene eenzige Besthehle? –': 0,\n",
       "  \"Unsinn! Bledsinn! – 's is ja der nüchternste Moann im Dienst –\": 0,\n",
       "  'Ja ja ... aber ... – und wenn schon?': 0,\n",
       "  'Nee, nee ... das wäre jo Verbrächen an der Natur – Frevel – Bedruch –': 0,\n",
       "  \"Helene ... nur eenen ... eenen eenzigen Schluck ... sonst wär' ich verrickt ...\": 0,\n",
       "  'Ah ... ah ... Er weint vor Freude, er küßt die Flasche und trinkt\\n              gierig.\\n': 0,\n",
       "  'Das ist gut! Das tut wohl! Gibt sie Lehmann zurück.\\n': 0,\n",
       "  'Da ... da ... die Maus ... da quietscht sie – da läuft sie ... Er fährt Helene\\n              mit der Hand heftig über Arme und Brust.\\n': 0,\n",
       "  'Da ... da ... läuft sie – – und da noch eine – sie will mich beißen – ah ... –\\n              Er schüttelt seine Ärmel.\\n': 0},\n",
       " 'helene_krawutschke': {'Der Doktor – Sie trocknet ihre Augen.\\n': 0,\n",
       "  \"Sie sind 's ...? ...\": 0,\n",
       "  'Warum sollte ich etwas dagegen haben?': 0,\n",
       "  'Ich warte auf meinen Papa ... Aber warum unfreundlich? ... Sie sind ja hier! –': 0,\n",
       "  'Und darf man fragen, woher Sie kommen, Herr Doktor?': 0,\n",
       "  'Ein junger Weltbürger? ...': 0,\n",
       "  'War es schwer?': 0,\n",
       "  'Nicht wissen? ... Das? Warum nicht? ... Als Frau eines zukünftigen Arztes ... denn\\n            wissen Sie ... ich könnte nur einen Arzt lieben ... ein Arzt, der ist für mich ein\\n            Heiliger, ein Erlöser der Menschheit ... Sehen Sie ... ich kaufe mir alle die populären\\n            Broschüren mit den gelben Umschlägen ... oh, ich bin sehr bildungsbedürftig! ...\\n            Steißgeburt ... natürlich weiß ich, was das ist! ... Sie lächeln ... naturalia non sunt\\n            turpia ... übrigens bei unseren Klassikern kommt das Wort Steiß ja auch vor, wissen Sie\\n            ... zum Beispiel bei Heine ... den haben wir immer in der Pension gelesen ... wissen Sie\\n            ... heimlich, unterm Tisch ... denn eigentlich war er verboten, wissen Sie ... aber das\\n            sind ja gerade die schönsten Bücher, die verbotenen ... wissen Sie ... nicht?': 0,\n",
       "  'Gott, wofür hätte man denn die höhere Töchterschule besucht und wäre in Pension\\n            gewesen?': 0,\n",
       "  \"Und der armen Frau da drinnen ... wie geht's ihr?\": 0,\n",
       "  'Ach, ich möchte was für sie tun! ... Ob ihr mit einem abgelegten Korsett von mir\\n            gedient wäre? ... Aber Sie haben mir ja noch gar nicht die Hand gegeben? ... So kommen\\n            Sie doch!': 0,\n",
       "  'Weshalb denn nicht? ...': 0,\n",
       "  'Rot? ... oh, das ist eine schöne Farbe! Ich liebe rot ... rote Nelken ... überhaupt,\\n            ... wissen Sie, ich bin Sozialistin ... Sie nicht auch? Meine Zunge ist auch rot ...\\n            ganz rot ... wollen Sie mal sehen? ... Da! Sie zeigt ihm die Zunge.\\n': 0,\n",
       "  'Keine Fladusen, Herr Doktor! ... Aber glauben Sie mir, es ist schwer ... was man hier\\n            alles hört ... und erst sieht ... nämlich ... sagte ich nicht, ich liebe das Rot? ...\\n            Vermutlich weil ich selbst das Erröten schon längst verlernt habe! ...': 0,\n",
       "  'Ach, das kommt Ihnen nur so vor ...': 0,\n",
       "  'Sie wollen mir uzen!': 0,\n",
       "  'Still, davon darf ein junges Mädchen gar nichts hören, Sie ... Sie ... Don Juan Sie\\n            ...': 0,\n",
       "  'Nein ... was ist das? ...': 0,\n",
       "  'Nicht doch ... lassen Sie das!': 0,\n",
       "  'Herr Doktor! ...': 0,\n",
       "  'Halt, das war viermal ... August du mogelst! ...': 0,\n",
       "  'August, einzig geliebter Mann! ... Nicht wahr, jetzt, wo ich dich habe, dich halte ...\\n            nicht wahr, nun bleibst du bei mir ... nun läßt du mich nicht mehr allein verzweifeln in\\n            dieser Pesthöhle? ...': 0,\n",
       "  'O wie glücklich, wie unsagbar glücklich bin ich ...': 0,\n",
       "  'Warum? Wo willst du hin? ...': 0,\n",
       "  'Wasch dir sie nachher. Geh jetzt nicht fort! Auch ungewaschen liebe ich dich ... ich\\n            würde mich so verlassen fühlen ... unter Larven die einzig fühlende Brust ...': 0,\n",
       "  'Du wirst nicht wiederkommen!': 0,\n",
       "  'Nicht fortgehen, ach, nicht fortgehen! ...': 0,\n",
       "  'Der Vater! Er will mich schlagen, wie er es seinen Deliranten gegenüber gewohnt ist ...\\n            Nur jetzt schütze mich ... nur jetzt nicht fortgehen ... mir ahnt Unheil ... nicht\\n            fortgehen!': 0,\n",
       "  'August ... einziger ... geliebter Mann? ...': 0,\n",
       "  'Ach, wie kannst du fragen! ... So ... so ... so glücklich! ....': 0,\n",
       "  'Ach du ... du ... du ...': 0,\n",
       "  'Wa...s ist das? ... Krawutschke ... du sch ... schwindelst! ... die Falte! Hier am\\n            Auge? Was soll die? Und da ... da ist ein Schatten, er läuft von der Nase zur Oberlippe\\n            ... und da ... jetzt ... zwischen den Braunen ... August, sei wahr mit mir! ... was\\n            bedeutet das? ... eh? ...': 0,\n",
       "  'August, ... das habe ich nicht um dich verdient ... du liebst mich nicht.': 0,\n",
       "  'Deine Methode erzielt günstige Resultate? ...': 0,\n",
       "  \"Ah, bravo ... bravo. Klatscht in die Hände. Ach, August, wenn wir erst\\n            verheiratet sind ... paß nur Achtung, ich werd' dir ein reizendes Heim schaffen. Einen\\n            Salon richte ich ein ... alles kornblauer Sammet ... und ein Essen wirst du bekommen!\\n            ... ich koche gut! ... Frikassee namentlich, das mach ich wunderbar! ... Ißt du gern\\n            Frikassee? ...\": 0,\n",
       "  \"Das freut mich! ... Und eine Geselligkeit werden wir haben ... gute Freunde ... lauter\\n            Deliranten und Irre ...  die du heilst ... ach, ich liebe die Wahnsinnigen\\n            so ... die armen, armen Menschen! ... Kein Geld haben ist schon ein Unglück ... aber\\n            erst keinen Verstand ... August, seit ich weiß, was Glück ist, ... lieb' ich die\\n            Unglücklichen noch mehr ...\": 0,\n",
       "  'Ha, da ist die Falte schon wieder! Weinend. August ... was\\n            bed...eu...tet ... das? ... Au...gust ... d...u ... b...e...l...ü...g...s...t ...\\n            m...i...ch ...': 0,\n",
       "  'August ... um Gottes willen ... was blickst du immer so scheu nach dem Zimmer ...\\n            August, wer ist da drinnen? ... Ich will es wissen ...': 0,\n",
       "  'August ... um Gottes willen ... fasse dich ... ermanne dich ... sprich ... sage mir\\n            doch wenigstens ... sage mir alles ... ich bin ja doch deine Braut ...': 0,\n",
       "  'Der Deibel?! Schreit auf.\\n': 0,\n",
       "  \"Gustel ... steh auf ... sei vernünftig ... hörst du? Sei nur ruhig ... vor allem ... Du\\n            bist doch 'n vernünftiger Mensch ... ein Arzt ... gebildet ... Du wirst doch moralische\\n            Festigkeit haben ...\": 0,\n",
       "  'Beruhige dich nur jetzt ... ich werde schon ein Mittel finden ... nur die Welt darf\\n            nichts erfahren ... bedenke deine Stellung ... Du würdest sofort entlassen ...': 0,\n",
       "  'Na, siehst du ... und nicht wahr, das darf doch nicht sein! ... Wovon sollten wir denn\\n            sonst heiraten?': 0,\n",
       "  \"Dummer Kerl ... is denn das 'n Grund? Natürlich ... hast du dir's Trinken angewöhnt,\\n            wirst du dir's langsam wieder abgewöhnen ... natierlich ganz allmählich ...\": 0,\n",
       "  'Ach, nicht doch ... so geht das nicht ... jeden Tag ein Glas weniger! ... Weißt du was?\\n            ... Ein Vorschlag zur Güte ... Gib mir die Pulle in Verwahrung ... wenn du einen willst,\\n            kommst du zu mir ... ja?': 0,\n",
       "  \"Red' doch keenen Stuß! Also ... raus mit de Pulle! ...  na, man fix! ...\\n            Keine Müdigkeit vorschützen! ... Klatscht in die Hände.\\n\": 0,\n",
       "  \"So ... die trag ich jetzt hübsch hinunter zu uns, und wenn du hübsch artig bist, ...\\n            kannst du in 'ner Stunde kommen, und da stoßen wir mit Kognak an ... auf unser Glück!\\n            ... Hadje, Süßing, hadje! ... Wirft ihm ein Kußhändchen zu und hüpft\\n            ab.\\n\": 0,\n",
       "  \"Na, wie geht's meinem kleinen Alkoholisten? ... Wie schlägt die Kur an? ... Diesmal bin\\n            ich der Arzt – und du der Patient ...\": 0,\n",
       "  \"»Ich danke!« – Wie gleichgiltig du das sagst! – Und vorhin bei meinem Eintritt: »Ah,\\n            du, Helene!« Ich hab's wohl bemerkt! ... Mit welcher Miene der Enttäuschung sagtest du\\n            das! – August – gesteh' es offen ... du ... du bist mir nicht mehr gut! – Du schämst\\n            dich? ... Du – – – Gott, was weiß ich! ...\": 0,\n",
       "  \"Ach, und ich habe dich doch so lieb! Ihre Augen füllen sich mit Tränen.\\n            So lieb! ... Stoß mich nicht von dir August ... Nicht wahr, du tust 's nicht? Gelt? – –\\n            Siehst du – sonst – ich weiß nicht was – aber – du bist mein einziger Lebensanker – ohne\\n            dich – August – geh' ich in die Spree – oder ich werde ganz schlecht ...\": 0,\n",
       "  'Ach! Schlägt krampfhaft schluchzend, mit entsetzlichem Schrei die Hände vors\\n              Gesicht.\\n': 0,\n",
       "  'N-ein ... August –n-nein ... nicht trennen ... nicht! ... denn – ich muß dir ein\\n            schreckliches Geständnis machen – August – auch ich bin erblich belastet – –': 0,\n",
       "  \"Ich wollte dich täuschen – ich wollte 's dir verschweigen – aber nun – is's ja – nicht\\n            mehr nötig – nicht mehr nötig – mein Vater ...\": 0,\n",
       "  \"Im Dienst – ja! aber nachher – wenn du den Rücken gewendet hast! ... Gottchen,\\n            Gottchen, ist das nicht schrecklich, daß ich die Schande der ganzen Familie hier vor dir\\n            preisgebe? – aber ich muß! – dann trinkt 'r – trinkt – bis zur Bewußtlosigkeit – und ich\\n            ... August ... ich selbst ... ge-neh- mi-ge auch manchmal ei-nen ... Aber nicht wahr, du\\n            zeigst ihn nicht an? ... Er ... er tut ja seine Pflicht ...\": 0,\n",
       "  \"Aber August – siehst du denn nicht? – Deine Kinder würden trinken – meine auch – mit\\n            wem ich oder du sich auch verheiraten – dann ist's ja schon ganz gleich ... ganz gleich\\n            ist 's ... ob wir beide uns heiraten ...\": 0,\n",
       "  'August – nicht trinken! ... Wenn du mich liebst! – Mit dem Ton heißester,\\n              rührendster Inbrunst. Nicht trinken! – sei ein Mann –': 0,\n",
       "  \"Vater – gib ihm die Pulle nicht! – – Vater, du vergiftest deine Enkel! ... Mit\\n              dem Mute der Verzweiflung. August – du darfst nicht! ... erst schlag' mich\\n            tot! ... Wirft sich zwischen ihn und den Vater.\\n\": 0,\n",
       "  \"Genug! ... Ab! ... ab, sag' ich! –\": 0,\n",
       "  'Nicht kitzeln, August! –': 0,\n",
       "  \"August ... eine Unglückliche ... da drinnen ... geh', es ist Zeit ...\": 0,\n",
       "  'August! ... Fasse dich! ... wo bist du? ...': 0},\n",
       " 'krawutschke_morphy': {\"I sieh 'mal an, wos is mich dos? ... Nu, Freindchen ... wie gommen wir denn hierher?\\n            ...\": 0,\n",
       "  'Ibsen? Nee, mei kudes Dierchen, der bin ich Se nu grode niche ... ich heeße Grawutschke\\n            ... aberschst ...': 0},\n",
       " 'morphy_krawutschke': {'Sind Sie Ibsen?': 0,\n",
       "  'Denn können Se mich gern haben, fauler Kopp! ...': 0},\n",
       " 'lehmann_lude': {},\n",
       " 'lude_lehmann': {\"Ich will aber als Appewoi ... gebt mer ä Flasch Appewoi! ... Stampft mit dem\\n              Fuß, als ob er Bediente riefe. Hört'r, Karl! Fritz! August! e Flasch Appewoi!\\n            ... ich verdurst als ... ach ... ich verdurst als ... ich hab e Kamin in der Kehl! ...\\n            ich verdurst als ... Er fängt an zu klönen, wie ein kleines verzogenes Kind und\\n              besabbert sich den Rock.\\n\": 0},\n",
       " 'lehmann_bulle': {\"Na, natsch' uck ni glei! Spricht in ihn hinein und sucht ihn zu\\n              beruhigen.\\n\": 0},\n",
       " 'bulle_lehmann': {'Wä ...w ...w ... Ein Zungenkrampf befällt ihn, er kann nicht weitersprechen. Er\\n              zittert am ganzen Körper und blickt starr in die linke Vorderecke der Bühne. Plötzlich\\n              schreit er auf. De Maus! De Maus! Und taumelt schwankend ab.\\n              Krawutschke und Lehmann treiben die anderen Irren ihm nach. Fuselsusel hat hinter dem\\n              Rücken des Arztes mit Lude poussiert.\\n': 0},\n",
       " 'lehmann_abramsen': {\"Sstt! Chchfft! ... Wollt er's Maul hoal'n, Kurnalljen verfluchtige! ... Sull der Dukter\\n            glei kummen?\": 0,\n",
       "  \"Do, das schickt der deine Braut! – aber daß de mich ock nicht beim Dukter klemmst,\\n            suste gibt's Schnicke, verstihste! Zieht noch eine Flasche Branntwein aus der\\n              Tasche, die er Abramsen gibt.\\n\": 0},\n",
       " 'abramsen_lehmann': {\"He hat den ganzen Buddel utsupen! He het mi nischt laten! Er weint wie ein\\n              Kind. Giff mi Snaps; giff mi 'n eenzigen Droppen Snaps! Er kauert sich\\n              vor Lehmann nieder wie ein Hund, der schön macht, und bewegt die Hände wie\\n              Pfoten. Wau, wau, giff mi Snaps!\": 0},\n",
       " 'lehmann_mieze': {'Auseinander, Schweinebande! Zu Mieze. Du denkst woll du bist noch unter\\n            Sitte! ...': 0,\n",
       "  'Nu geht se ... und laßt mich alleene ... un eich ... pfui Deibel ... eich bin so tumm\\n            im Kopp ... eich weeß nich ... der Deibel hui die verfluchtigen Fruvelker! ... chchfft\\n            ... – Er sieht sich verlegen um. – is denn goar nischt ... goar nischt\\n            ... nischte nich ...': 0,\n",
       "  'Fuselsusel, Aas verfluchtiges ... kumm uck raus ...': 0,\n",
       "  'Hierste? ... Ubste harkummst? Er geht in das Zimmer des Deliranten und zerrt\\n              Mieze mit Gewalt heraus. Do hiehä! Durt naus! Er drängt sie nach der\\n              Gartentür.\\n': 0,\n",
       "  \"Jo, jo, ... a gutte Hänne lägt uf 'n Mist ... do, gieh.\": 0,\n",
       "  'Oas, machste daß de wegkummst –': 0},\n",
       " 'mieze_lehmann': {\"Haben Sie 'ne Ahnung von meinem Dalles! ... Fauler Kopp, mir uzen Se nich!\\n              Kräht. Kikeriiki! hopp! hopp! Morgen geh' ich tanzen – nach 'n\\n            schwarzen Adler ... komm mit, Lude! ... Tanzt und singt, hebt kokett ein wenig\\n              die Röcke.\\n\": 0,\n",
       "  'Kikeriki – morgen wird schönes Wetter ... Kikeriki –': 0,\n",
       "  \"Kikeriki ... Ick muß Eier legen, Kikeriki! ... Ick ha' keene Zeit ...\": 0,\n",
       "  \"Kikeriki! Stör mir nich bei's Eierlegen ...\": 0},\n",
       " 'lehmann_henriette': {'Ä wäscht siech de Hänne.': 0,\n",
       "  'Nich triebe timplich! ... Glooben Se ock nich, duß es Ihnen alleene su gegangen is,\\n            Hendrijette! ... Ne, ... immer die Einbildung von de Fruvelker! ... Als ubs gar keene\\n            anneren Menschen uf der Wält gäbe.': 0,\n",
       "  \"Nu, wennst'r blußig gesuffa hot ... Chchfft ...\": 0,\n",
       "  'Nadierlich! ... Nu, un wo is denn jetzt Ihr Mann? ... Chchfft ...': 0,\n",
       "  'Nich bluß de Verrückten ... nee, Drijette, ... nich bluß ...  ooch ...\\n              Er will sie umfassen und an sich ziehen. Chchfft ...': 0,\n",
       "  'Na, kumm uck ... warum willste denn nich ... bin ich nich a hibscher Moann? ... Kumm\\n            duch!': 0,\n",
       "  \"Siehste siech – nu hot 's 'n!\": 0},\n",
       " 'henriette_lehmann': {'Wat macht denn der da drinne?': 0,\n",
       "  'Ach Quatsch! Er hat ja nischt angefaßt. Im Ernst, wat macht er denn da?': 0,\n",
       "  'Na, wennste Kodder im Maul hast, denn nich. Wat ick mer vor koofe!': 0,\n",
       "  'Det?': 0,\n",
       "  \"Dat heb' ick mer jleich jedacht. Der ooch! Nu natierlich! Det dun wer ja alle!\": 0,\n",
       "  \"Nee, nee, Lehmann, reden Se wat Se woll'n ... so 'ne Ehe, wie meine mit den sel'gen\\n            Marschalln ... ich weeß nich, so wat, det jiebt's wirklich nich wieder! ... Alle Abende\\n            besoffen, un alle Abende ... Keen Aas kann det schließlich aushalten ... Deibel ooch!\\n            ...\": 0,\n",
       "  \"Ach – Schei-be! ... det war noch jejungen, ... wat 'ne ordntliche Frau is, die muß ooch\\n            mal 'n Ooge zuplinken können ... Aber zuletzt bracht sich der Schuft ooch noch Menscher\\n            mit ... mit in meine Wohnung. Lehmann! ... und verlangte, ick soll das eene Aas ooch\\n            noch als seine Geliebte estimieren! ... Nee, sage ick, wat zu ville is, is zu ville, ick\\n            bin ne anstänje Frau ... ick hab nich nedich mir det jefalln zu lassen, ick kann noch 'n\\n            janz ... andern Kerl haben als wie du ... So 'n alter abgelebter S-kerl! ... ick brauch\\n            bloß uf de Straße zu jehn! ... Hab ick nich recht? ...\": 0,\n",
       "  'Weeß ich, wo det Aas sich rumtreibt? Lude is er; mit de Menschers wischt er sich rum\\n            ... Pfui Deibel ... Lehmann, Aas verfluchtes, spucken Se doch nich immer links, spucken\\n            Se doch mal nach de anre Seite; Se machen mir ja janz voll ... Nee, wat ich sagen wollte\\n            ... de Männer sind noch immer reene doll nach mir ... hier, die Verrückten besonders,\\n            ... man muß sich orntlich furchten ...': 0,\n",
       "  'Lassen Se mir ... wat fällt Ihnen denn in? ... In den Zustand als wie ick ...': 0,\n",
       "  \"Bin janz verrückt druf ... lassen Se mir ... ach ... det war 'n Stich – Sie faßt\\n              sich nach der Hüfte. – ... und det wieder ... det kenn ick ... ich gloobe, 't\\n            is bei mir wat los ... ach ... det sticht ... so 'ne Jemeinerei ... jerade heit ... ach\\n            ... ach ... det halt ick nich aus ... Sie läuft ab, sich die Seite\\n              haltend.\\n\": 0,\n",
       "  'Ach ja, sein Se so gut ... nee, die Liebe wär schon ganz wat Scheenes ... wenn bloß\\n            nich so ville Unannehmlichkeiten mit verbunden wären! ... Sie wankt durch die\\n              Mitte ab.\\n': 0},\n",
       " 'lehmann_angler': {\"Nu, bin ich nich e tich'jer Mensch? Hoa ich nich a hibsche Tuchter?\": 0},\n",
       " 'angler_lehmann': {},\n",
       " 'lehmann_helene': {\"Wull, wull, Lene, huste schu'n Tisch gedäckt?\": 0,\n",
       "  \"Lene ... Lene ... natürlich ... Keener darf dich han als wie ich ... Wollt er machen,\\n            daß er wegkommt, verfluchtige Bande! ... Hier, Lene ... Er stellt sich neben sie\\n              und legt seinen Arm um ihren Gürtel; sie glaubt, er will sie schützen, und da seine\\n              Hand sich nach ihrer Brust streckt, drückt sie sie unwillkürlich nieder, Angst und\\n              Dankbarkeit im Blick. Weg, willste weg! Packt Angler beim Arm –\\n              entschuldigend zu seiner Tochter. A hurt a wing schwar! ... Weg.\\n            Du Deibel ... do 'nei, do 'nei! ... nähmt die Pullen mit, eich fulg scho ... Der Dukter\\n            kummt hint do ni weh ... do ... Er treibt sie zurück.\\n\": 0,\n",
       "  'Hiebsch bist de ... sähr hiebsch ... joa ... gelt? ... kumm här ...': 0,\n",
       "  'Nu, kumm ock ... eich tu der joa nischt ... kumm, Lene ... Chchfft!': 0,\n",
       "  'Besuffa? Hihi! Chchfft! Verliebt bin i ... Lene ... ach ... Er machte einige\\n              unzüchtige Griffe.\\n': 0,\n",
       "  'Noa, noa ... sei ... ock ruhig ... eich ... tu der ... jo nischt ... nischte nich ...\\n            tu ... ich der ... noa ... ich wollte jo ... bloßig ... Er keucht nach\\n              Atem. ... Mittag will ich han ... Schreit. Mei Fressa will ich\\n            ...': 0,\n",
       "  \"Ach, Herr Dukter ... Se sein zu gutt ... nee ... eich gieh schun – eich gieh schun ...\\n            unt ... verlussen Se siech ... eich hoal's Maul ... eich hoal de Fressa ... Ab,\\n              schlau mit den Augen zwinkernd.\\n\": 0,\n",
       "  'Hier is a ... Härr Dukter ...': 0,\n",
       "  \"Woas will uck bloßig das dämlichte Frauenzimmer? – Hier, nähm'n Se duch, Härr Dukter\\n            –\": 0},\n",
       " 'helene_lehmann': {'Papa, das Mittagbrot ist fertig – willst du nicht hinunter kommen?': 0,\n",
       "  \"Alles besorgt, Papa! Er blitzt von Sauberkeit! Ein reines Tischtuch ist aufgelegt und\\n            herrliche frische Rosen hab' ich besorgt ... ach, wie das duftet! ...\": 0,\n",
       "  'Vater ... schütze mich ... ach ... schütze mich! ...': 0,\n",
       "  'Gottlob ... ach Vater, die Unglücklichen sind schrecklich ...': 0,\n",
       "  'Vater, was tust du? ...': 0,\n",
       "  'Vater, du bist betrunken ...': 0,\n",
       "  'Vater, rühr mich nicht an ... oder ... ein Unglück geschieht ...': 0,\n",
       "  \"Du wirst gesund werdn – ich fühl 's – und ich auch – wenn wir erst Mann und Weib sind –\\n            eins wird das andere retten – wird es stützen ... wenn es schwach wird ... ach August\\n            ... ja ja ... glaub' es mir – verlaß mich nur nicht – –\": 0,\n",
       "  'Vater – um Gottes willen – gib ihm den Alkohol nicht ... hörst du ... nicht –\\n              Tritt ihm in den Weg.\\n': 0,\n",
       "  'Gut – einen Schluck will ich dir erlauben – doch nur einen – nicht mehr –': 0,\n",
       "  \"August! August! ... In dumpfer Verzweiflung. Das ist ..., das ...\\n            Deltrem! ... das ... kenn ... ich, ... da ... hilft ... nichts ... Das Schicksal\\n            er-füllt sich ... Ihre Augen irren im Zimmer umher, wie hilflos; vor\\n              entsetzlichem Schmerz ist sie unfähig zu weinen. Sie ringt nach Fassung.\\n            Vater! ... ach, du! ... Sie schreit laut auf. Ihr Blick haftet an der\\n              Schnapsflasche. Mit plötzlichem Entschluß. Nein, ... denn will ... ich auch\\n            nicht mehr ... wozu denn auch? ... Jetzt hat's doch keinen Zweck mehr! ... Keinen ...\\n            Zweck ... Sie stürzt auf den Vater zu und entreißt ihm die Flasche. Lehmann kommt\\n              vor Verwunderung nicht zum Begreifen. August ... prost! ... Sie setzt\\n              die Flasche an den Mund, einen Augenblick schaudert sie vor dem Duft, dann schließt\\n              sie die Augen und trinkt sie auf einen Zug fast leer. Aug ... Sie\\n              verliert die Sprache, eine Sekunde starrt sie mit weitgeöffneten Augen ins Leere, dann\\n              stürzt sie vom Schlage getroffen zu Boden. Aus dem hinteren Saal ertönt ein doppelter,\\n              entsetzlich gellender, markdurchdringender Schrei – Henriette hat eben ohne Beistand\\n              geboren, in ihren Schmerzen hat sie sich auf das Kind gewälzt und es tot gedrückt. Man\\n              hört die Knochen krachen.\\n\": 0},\n",
       " 'lehmann_morphy': {'A su? ... Nu da kummen Se uck! ...': 0,\n",
       "  'I nu nee, oaber eich wär Se zu em fieren ... Kummt noch zu Ihna ... Kummen Se uck!\\n            ...': 0},\n",
       " 'morphy_lehmann': {'Heißen Sie Ibsen?': 0,\n",
       "  'Gut! Führen sie mich zu Ibsen. Ich muß ihn sprechen. Ich will ein Stück mit ihm\\n            schreiben. Ich habe eine Idee! ...': 0},\n",
       " 'lude_bulle': {},\n",
       " 'bulle_lude': {},\n",
       " 'lude_abramsen': {'Mer wolle eppes ze trinke und er gebbt als nich ...': 0},\n",
       " 'abramsen_lude': {\"He he! Wat gieft 't denn? Wie heißt? Wat hewwt ju denn? Seggt mi doch ...; ick bin jo\\n            jüwer Hauptmann. Seggt mol, ju hewwt mi doch zu jüwerm Hauptmann maken!\": 0},\n",
       " 'lude_mieze': {},\n",
       " 'mieze_lude': {},\n",
       " 'lude_henriette': {},\n",
       " 'henriette_lude': {},\n",
       " 'lude_angler': {},\n",
       " 'angler_lude': {},\n",
       " 'lude_helene': {},\n",
       " 'helene_lude': {},\n",
       " 'bulle_abramsen': {'Dar Hund, dar Marder! ... Da, du kannst mich am Abend besuchen – Er läßt einen\\n              fahren und wird abgeführt.\\n': 0},\n",
       " 'abramsen_bulle': {'Heißt ä mießer Szoff, was nehmen werd der Butje! Wat will wi denn drinken? Bär? Snaps?\\n            Wien? Seggt, ick wert all besorgen. Mir is all eins. Ick hewwt all da drinn –\\n              Zeigt auf seinen Bauch. – seggt man blot, wat ick rutlaten sull ...': 0,\n",
       "  \"So'n Massel, ik hew Snaps! Ik hew Snaps un ju nich! ...\": 0},\n",
       " 'bulle_mieze': {'Haart man, wie dar Boske rannomiert!': 0},\n",
       " 'mieze_bulle': {},\n",
       " 'bulle_henriette': {},\n",
       " 'henriette_bulle': {},\n",
       " 'bulle_angler': {'Verdammtes Oos, gib har den Schnaps! Will ihm die Pulle entreißen.\\n': 0},\n",
       " 'angler_bulle': {},\n",
       " 'bulle_helene': {},\n",
       " 'helene_bulle': {},\n",
       " 'abramsen_mieze': {},\n",
       " 'mieze_abramsen': {},\n",
       " 'abramsen_henriette': {},\n",
       " 'henriette_abramsen': {},\n",
       " 'abramsen_angler': {},\n",
       " 'angler_abramsen': {},\n",
       " 'abramsen_helene': {},\n",
       " 'helene_abramsen': {},\n",
       " 'mieze_henriette': {'Kikeriki! »Du bist verrückt, mein Kind, du mußt nach Berlin« ... Appelsinen jefällig –\\n            he? – ... Springt ab, indem sie wie eine Sängerin Kußhände wirft.\\n': 0},\n",
       " 'henriette_mieze': {},\n",
       " 'mieze_angler': {},\n",
       " 'angler_mieze': {\"Nemmt s 'em weg! nemmt s 'em weg! Sie wollen sie ihm wegnehmen; einer fällt über\\n              den andern, sie prügeln sich und wälzen sich am Boden.\\n\": 0},\n",
       " 'mieze_helene': {'Fuselsusel riecht Schnaps! Fuselsusel will ooch welchen!': 0,\n",
       "  \"Kornjack! Ick rieche Kornjack! Kornjack saufen se, de Karnalljen, un mir jeben se nich'\\n            mal Fusel! –\": 0},\n",
       " 'helene_mieze': {},\n",
       " 'mieze_morphy': {},\n",
       " 'morphy_mieze': {},\n",
       " 'henriette_angler': {},\n",
       " 'angler_henriette': {},\n",
       " 'henriette_helene': {'Ach! Ach! Ach! Ich sterbe! Hilfe! –': 0,\n",
       "  'Ach! ach! Dok ...ter ... Dok ...': 0,\n",
       "  'H-i-l-f- e!': 0},\n",
       " 'helene_henriette': {\"August – wir werden so glücklich sein! – Hier die Stellung gibst du auf – wir ziehn weg\\n            aus der großen Stadt – mit ihrem Lärm – ihrer Aufregung – hinaus aufs Land – wo's recht\\n            schön und still ist! – ein kleines Haus ... mit roten Ziegeln ... Efeu umspinnt die\\n            Wände – vor der Tür eine Linde ... in deren Zweigen Vögel nisten ... ihr Morgenkonzert\\n            erweckt uns ...\": 0,\n",
       "  'August, um Gottes willen! –': 0},\n",
       " 'henriette_morphy': {},\n",
       " 'morphy_henriette': {},\n",
       " 'angler_helene': {\"Woll'n Se nich trinken, Freil'n gnäddiges? ...\": 0,\n",
       "  'Abber mein schenstes Freilein! ... Er will sie umarmen.\\n': 0,\n",
       "  'Einen Kuhß ... einen Kuhß ... Teremtete ...': 0},\n",
       " 'helene_angler': {'Alkohol ... entsetzlich ... ich kann ihn nicht riechen ... Hält sich die Nase\\n              zu. Fort, Wahnsinniger ... weg von mir ...': 0,\n",
       "  'Vater ... er will mich umarmen ...': 0},\n",
       " 'angler_morphy': {},\n",
       " 'morphy_angler': {},\n",
       " 'helene_morphy': {},\n",
       " 'morphy_helene': {},\n",
       " 'der_herr_rufe': {},\n",
       " 'rufe_der_herr': {},\n",
       " 'der_herr_das_vorstandsmitglied': {},\n",
       " 'das_vorstandsmitglied_der_herr': {},\n",
       " 'der_herr_ein_anderes_vorstandsmitglied': {},\n",
       " 'ein_anderes_vorstandsmitglied_der_herr': {},\n",
       " 'rufe_das_vorstandsmitglied': {},\n",
       " 'das_vorstandsmitglied_rufe': {},\n",
       " 'rufe_ein_anderes_vorstandsmitglied': {},\n",
       " 'ein_anderes_vorstandsmitglied_rufe': {},\n",
       " 'das_vorstandsmitglied_ein_anderes_vorstandsmitglied': {},\n",
       " 'ein_anderes_vorstandsmitglied_das_vorstandsmitglied': {}}"
      ]
     },
     "execution_count": 357,
     "metadata": {},
     "output_type": "execute_result"
    }
   ],
   "source": [
    "replik"
   ]
  },
  {
   "cell_type": "markdown",
   "metadata": {},
   "source": [
    "## Sentiment Analyse\n",
    "### TextBlob"
   ]
  },
  {
   "cell_type": "code",
   "execution_count": 16,
   "metadata": {},
   "outputs": [],
   "source": [
    "from textblob_de import TextBlobDE as TextBlob"
   ]
  },
  {
   "cell_type": "code",
   "execution_count": 17,
   "metadata": {},
   "outputs": [],
   "source": [
    "text1 = '''Das ist alles wunderschön. Ich freue mich.'''"
   ]
  },
  {
   "cell_type": "code",
   "execution_count": 30,
   "metadata": {},
   "outputs": [
    {
     "ename": "SyntaxError",
     "evalue": "invalid syntax (<ipython-input-30-666dd553931b>, line 1)",
     "output_type": "error",
     "traceback": [
      "\u001b[0;36m  File \u001b[0;32m\"<ipython-input-30-666dd553931b>\"\u001b[0;36m, line \u001b[0;32m1\u001b[0m\n\u001b[0;31m    blob = TextBlob(text1`)\u001b[0m\n\u001b[0m                         ^\u001b[0m\n\u001b[0;31mSyntaxError\u001b[0m\u001b[0;31m:\u001b[0m invalid syntax\n"
     ]
    }
   ],
   "source": [
    "blob = TextBlob(text1)"
   ]
  },
  {
   "cell_type": "code",
   "execution_count": 24,
   "metadata": {},
   "outputs": [],
   "source": [
    "text2 = '''Heute ist der 3. Mai 2014 und Dr. Meier feiert seinen 43. Geburtstag. Ich muss unbedingt daran denken, Mehl, usw. für einen Kuchen einzukaufen. Aber leider habe ich nur noch EUR 3,50 in meiner Brieftasche.'''"
   ]
  },
  {
   "cell_type": "code",
   "execution_count": 26,
   "metadata": {},
   "outputs": [],
   "source": [
    "text3 = '''Es ist so schlimm und so furchtbar. Es war alles so traurig und grässlich.'''"
   ]
  },
  {
   "cell_type": "code",
   "execution_count": 28,
   "metadata": {},
   "outputs": [
    {
     "name": "stdout",
     "output_type": "stream",
     "text": [
      "[Sentence(\"Das ist alles wunderschön.\"), Sentence(\"Ich freue mich.\")]\n"
     ]
    }
   ],
   "source": [
    "print(blob.sentences)"
   ]
  }
 ],
 "metadata": {
  "kernelspec": {
   "display_name": "Python 3",
   "language": "python",
   "name": "python3"
  },
  "language_info": {
   "codemirror_mode": {
    "name": "ipython",
    "version": 3
   },
   "file_extension": ".py",
   "mimetype": "text/x-python",
   "name": "python",
   "nbconvert_exporter": "python",
   "pygments_lexer": "ipython3",
   "version": "3.7.1"
  }
 },
 "nbformat": 4,
 "nbformat_minor": 2
}
